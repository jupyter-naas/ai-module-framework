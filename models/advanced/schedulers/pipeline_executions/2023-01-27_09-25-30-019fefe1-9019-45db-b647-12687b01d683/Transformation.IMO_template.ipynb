{
 "cells": [
  {
   "cell_type": "markdown",
   "id": "dd66232c-09f1-44bf-8849-0cd5c52f78a6",
   "metadata": {
    "papermill": {
     "duration": 0.042214,
     "end_time": "2023-01-27T08:25:52.466091",
     "exception": false,
     "start_time": "2023-01-27T08:25:52.423877",
     "status": "completed"
    },
    "tags": []
   },
   "source": [
    "<img width=\"10%\" alt=\"Naas\" src=\"https://landen.imgix.net/jtci2pxwjczr/assets/5ice39g4.png?w=160\"/>"
   ]
  },
  {
   "cell_type": "markdown",
   "id": "633951dc-ca87-4032-ad2d-b76a909861bf",
   "metadata": {
    "papermill": {
     "duration": 0.041658,
     "end_time": "2023-01-27T08:25:52.547894",
     "exception": false,
     "start_time": "2023-01-27T08:25:52.506236",
     "status": "completed"
    },
    "tags": []
   },
   "source": [
    "# Demo"
   ]
  },
  {
   "cell_type": "markdown",
   "id": "524d5465-bce2-42f3-8d18-6f821dae07a5",
   "metadata": {
    "papermill": {
     "duration": 0.037232,
     "end_time": "2023-01-27T08:25:52.620864",
     "exception": false,
     "start_time": "2023-01-27T08:25:52.583632",
     "status": "completed"
    },
    "tags": []
   },
   "source": [
    "## Input"
   ]
  },
  {
   "cell_type": "markdown",
   "id": "918e5873-b444-43d4-aacd-852fffb5aceb",
   "metadata": {
    "papermill": {
     "duration": 0.035124,
     "end_time": "2023-01-27T08:25:52.695375",
     "exception": false,
     "start_time": "2023-01-27T08:25:52.660251",
     "status": "completed"
    },
    "tags": []
   },
   "source": [
    "### Import libraries"
   ]
  },
  {
   "cell_type": "code",
   "execution_count": 1,
   "id": "f6585d07-f50b-439a-84a9-4c0061870d29",
   "metadata": {
    "execution": {
     "iopub.execute_input": "2023-01-27T08:25:52.783533Z",
     "iopub.status.busy": "2023-01-27T08:25:52.780556Z",
     "iopub.status.idle": "2023-01-27T08:25:56.028867Z",
     "shell.execute_reply": "2023-01-27T08:25:56.029210Z",
     "shell.execute_reply.started": "2023-01-26T16:03:56.360749Z"
    },
    "papermill": {
     "duration": 3.294641,
     "end_time": "2023-01-27T08:25:56.029419",
     "exception": false,
     "start_time": "2023-01-27T08:25:52.734778",
     "status": "completed"
    },
    "tags": []
   },
   "outputs": [
    {
     "name": "stdout",
     "output_type": "stream",
     "text": [
      "✅ Demo loaded successfully.\n",
      "✅ utils file '/home/ftp/data-product-framework/utils/demo.ipynb' successfully loaded.\n"
     ]
    }
   ],
   "source": [
    "import naas_data_product #load utils notebooks\n",
    "import time"
   ]
  },
  {
   "cell_type": "markdown",
   "id": "8e659ff5-80d3-43c9-8daf-1ae7f8d2a554",
   "metadata": {
    "papermill": {
     "duration": 0.036837,
     "end_time": "2023-01-27T08:25:56.104302",
     "exception": false,
     "start_time": "2023-01-27T08:25:56.067465",
     "status": "completed"
    },
    "tags": []
   },
   "source": [
    "### Setup Variables"
   ]
  },
  {
   "cell_type": "code",
   "execution_count": 2,
   "id": "c1a6eb30-fbb2-465e-a8f9-21baf6a8b547",
   "metadata": {
    "execution": {
     "iopub.execute_input": "2023-01-27T08:25:56.185461Z",
     "iopub.status.busy": "2023-01-27T08:25:56.184790Z",
     "iopub.status.idle": "2023-01-27T08:25:56.189294Z",
     "shell.execute_reply": "2023-01-27T08:25:56.187549Z",
     "shell.execute_reply.started": "2023-01-26T16:03:57.176382Z"
    },
    "papermill": {
     "duration": 0.047658,
     "end_time": "2023-01-27T08:25:56.189481",
     "exception": false,
     "start_time": "2023-01-27T08:25:56.141823",
     "status": "completed"
    },
    "tags": [
     "parameters"
    ]
   },
   "outputs": [],
   "source": [
    "sleeping_seconds = 5"
   ]
  },
  {
   "cell_type": "code",
   "execution_count": 3,
   "id": "fd85d271",
   "metadata": {
    "execution": {
     "iopub.execute_input": "2023-01-27T08:25:56.276943Z",
     "iopub.status.busy": "2023-01-27T08:25:56.275936Z",
     "iopub.status.idle": "2023-01-27T08:25:56.278299Z",
     "shell.execute_reply": "2023-01-27T08:25:56.277878Z"
    },
    "papermill": {
     "duration": 0.044226,
     "end_time": "2023-01-27T08:25:56.278426",
     "exception": false,
     "start_time": "2023-01-27T08:25:56.234200",
     "status": "completed"
    },
    "tags": [
     "injected-parameters"
    ]
   },
   "outputs": [],
   "source": [
    "# Parameters\n",
    "sleeping_seconds = 3\n"
   ]
  },
  {
   "cell_type": "markdown",
   "id": "ea6ff4cf-cea6-420e-b190-5979156b5fed",
   "metadata": {
    "papermill": {
     "duration": 0.036626,
     "end_time": "2023-01-27T08:25:56.352132",
     "exception": false,
     "start_time": "2023-01-27T08:25:56.315506",
     "status": "completed"
    },
    "tags": []
   },
   "source": [
    "## Model"
   ]
  },
  {
   "cell_type": "markdown",
   "id": "57cc3ca7-a5a2-4ee9-bee0-61c593255eb5",
   "metadata": {
    "papermill": {
     "duration": 0.037078,
     "end_time": "2023-01-27T08:25:56.426648",
     "exception": false,
     "start_time": "2023-01-27T08:25:56.389570",
     "status": "completed"
    },
    "tags": []
   },
   "source": [
    "### Pause notebook execution"
   ]
  },
  {
   "cell_type": "code",
   "execution_count": 4,
   "id": "8bb2bcce-fae7-4095-abc3-a886c8dc24bf",
   "metadata": {
    "execution": {
     "iopub.execute_input": "2023-01-27T08:25:56.500285Z",
     "iopub.status.busy": "2023-01-27T08:25:56.499842Z",
     "iopub.status.idle": "2023-01-27T08:25:59.504971Z",
     "shell.execute_reply": "2023-01-27T08:25:59.504583Z",
     "shell.execute_reply.started": "2023-01-26T16:03:58.243268Z"
    },
    "papermill": {
     "duration": 3.043303,
     "end_time": "2023-01-27T08:25:59.505104",
     "exception": false,
     "start_time": "2023-01-27T08:25:56.461801",
     "status": "completed"
    },
    "tags": []
   },
   "outputs": [],
   "source": [
    "time.sleep(sleeping_seconds)"
   ]
  },
  {
   "cell_type": "markdown",
   "id": "d856dbf2-37a4-4e52-804a-81c3728b99a7",
   "metadata": {
    "papermill": {
     "duration": 0.037586,
     "end_time": "2023-01-27T08:25:59.580166",
     "exception": false,
     "start_time": "2023-01-27T08:25:59.542580",
     "status": "completed"
    },
    "tags": []
   },
   "source": [
    "## Output"
   ]
  },
  {
   "cell_type": "markdown",
   "id": "2c4996fc-6773-4b9b-bf78-b39bc9a88bf2",
   "metadata": {
    "papermill": {
     "duration": 0.042464,
     "end_time": "2023-01-27T08:25:59.661234",
     "exception": false,
     "start_time": "2023-01-27T08:25:59.618770",
     "status": "completed"
    },
    "tags": []
   },
   "source": [
    "### Display result"
   ]
  },
  {
   "cell_type": "code",
   "execution_count": 5,
   "id": "d26d8cee-8e57-4aab-b621-14f82e5010a5",
   "metadata": {
    "execution": {
     "iopub.execute_input": "2023-01-27T08:25:59.746060Z",
     "iopub.status.busy": "2023-01-27T08:25:59.745124Z",
     "iopub.status.idle": "2023-01-27T08:25:59.747844Z",
     "shell.execute_reply": "2023-01-27T08:25:59.747443Z",
     "shell.execute_reply.started": "2023-01-26T16:04:03.252384Z"
    },
    "papermill": {
     "duration": 0.048517,
     "end_time": "2023-01-27T08:25:59.747966",
     "exception": false,
     "start_time": "2023-01-27T08:25:59.699449",
     "status": "completed"
    },
    "tags": []
   },
   "outputs": [
    {
     "name": "stdout",
     "output_type": "stream",
     "text": [
      "Hello World!\n"
     ]
    }
   ],
   "source": [
    "print(\"Hello World!\")"
   ]
  },
  {
   "cell_type": "code",
   "execution_count": null,
   "id": "4c2c9208-8c77-4436-b73e-0af00a2e4d2c",
   "metadata": {
    "papermill": {
     "duration": 0.035314,
     "end_time": "2023-01-27T08:25:59.820159",
     "exception": false,
     "start_time": "2023-01-27T08:25:59.784845",
     "status": "completed"
    },
    "tags": []
   },
   "outputs": [],
   "source": []
  }
 ],
 "metadata": {
  "kernelspec": {
   "display_name": "Python 3",
   "language": "python",
   "name": "python3"
  },
  "language_info": {
   "codemirror_mode": {
    "name": "ipython",
    "version": 3
   },
   "file_extension": ".py",
   "mimetype": "text/x-python",
   "name": "python",
   "nbconvert_exporter": "python",
   "pygments_lexer": "ipython3",
   "version": "3.9.6"
  },
  "papermill": {
   "default_parameters": {},
   "duration": 9.74252,
   "end_time": "2023-01-27T08:26:00.385158",
   "environment_variables": {},
   "exception": null,
   "input_path": "gold/IMO_template.ipynb",
   "output_path": "pipeline_executions/2023-01-27_09-25-30-019fefe1-9019-45db-b647-12687b01d683/Transformation.IMO_template.ipynb",
   "parameters": {
    "sleeping_seconds": 3
   },
   "start_time": "2023-01-27T08:25:50.642638",
   "version": "2.3.3"
  },
  "widgets": {
   "application/vnd.jupyter.widget-state+json": {
    "state": {},
    "version_major": 2,
    "version_minor": 0
   }
  }
 },
 "nbformat": 4,
 "nbformat_minor": 5
}