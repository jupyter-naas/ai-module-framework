{
 "cells": [
  {
   "cell_type": "markdown",
   "id": "dd66232c-09f1-44bf-8849-0cd5c52f78a6",
   "metadata": {
    "papermill": {
     "duration": 0.038941,
     "end_time": "2023-01-27T08:25:44.683321",
     "exception": false,
     "start_time": "2023-01-27T08:25:44.644380",
     "status": "completed"
    },
    "tags": []
   },
   "source": [
    "<img width=\"10%\" alt=\"Naas\" src=\"https://landen.imgix.net/jtci2pxwjczr/assets/5ice39g4.png?w=160\"/>"
   ]
  },
  {
   "cell_type": "markdown",
   "id": "633951dc-ca87-4032-ad2d-b76a909861bf",
   "metadata": {
    "papermill": {
     "duration": 0.039507,
     "end_time": "2023-01-27T08:25:44.765801",
     "exception": false,
     "start_time": "2023-01-27T08:25:44.726294",
     "status": "completed"
    },
    "tags": []
   },
   "source": [
    "# Demo"
   ]
  },
  {
   "cell_type": "markdown",
   "id": "524d5465-bce2-42f3-8d18-6f821dae07a5",
   "metadata": {
    "papermill": {
     "duration": 0.043354,
     "end_time": "2023-01-27T08:25:44.862548",
     "exception": false,
     "start_time": "2023-01-27T08:25:44.819194",
     "status": "completed"
    },
    "tags": []
   },
   "source": [
    "## Input"
   ]
  },
  {
   "cell_type": "markdown",
   "id": "918e5873-b444-43d4-aacd-852fffb5aceb",
   "metadata": {
    "papermill": {
     "duration": 0.03467,
     "end_time": "2023-01-27T08:25:44.933760",
     "exception": false,
     "start_time": "2023-01-27T08:25:44.899090",
     "status": "completed"
    },
    "tags": []
   },
   "source": [
    "### Import libraries"
   ]
  },
  {
   "cell_type": "code",
   "execution_count": 1,
   "id": "f6585d07-f50b-439a-84a9-4c0061870d29",
   "metadata": {
    "execution": {
     "iopub.execute_input": "2023-01-27T08:25:45.014542Z",
     "iopub.status.busy": "2023-01-27T08:25:45.014119Z",
     "iopub.status.idle": "2023-01-27T08:25:48.208220Z",
     "shell.execute_reply": "2023-01-27T08:25:48.208544Z",
     "shell.execute_reply.started": "2023-01-26T16:03:56.360749Z"
    },
    "papermill": {
     "duration": 3.238251,
     "end_time": "2023-01-27T08:25:48.208756",
     "exception": false,
     "start_time": "2023-01-27T08:25:44.970505",
     "status": "completed"
    },
    "tags": []
   },
   "outputs": [
    {
     "name": "stdout",
     "output_type": "stream",
     "text": [
      "✅ Demo loaded successfully.\n",
      "✅ utils file '/home/ftp/data-product-framework/utils/demo.ipynb' successfully loaded.\n"
     ]
    }
   ],
   "source": [
    "import naas_data_product #load utils notebooks\n",
    "import time"
   ]
  },
  {
   "cell_type": "markdown",
   "id": "8e659ff5-80d3-43c9-8daf-1ae7f8d2a554",
   "metadata": {
    "papermill": {
     "duration": 0.035243,
     "end_time": "2023-01-27T08:25:48.282291",
     "exception": false,
     "start_time": "2023-01-27T08:25:48.247048",
     "status": "completed"
    },
    "tags": []
   },
   "source": [
    "### Setup Variables"
   ]
  },
  {
   "cell_type": "code",
   "execution_count": 2,
   "id": "c1a6eb30-fbb2-465e-a8f9-21baf6a8b547",
   "metadata": {
    "execution": {
     "iopub.execute_input": "2023-01-27T08:25:48.358578Z",
     "iopub.status.busy": "2023-01-27T08:25:48.357927Z",
     "iopub.status.idle": "2023-01-27T08:25:48.359706Z",
     "shell.execute_reply": "2023-01-27T08:25:48.360021Z",
     "shell.execute_reply.started": "2023-01-26T16:03:57.176382Z"
    },
    "papermill": {
     "duration": 0.041033,
     "end_time": "2023-01-27T08:25:48.360173",
     "exception": false,
     "start_time": "2023-01-27T08:25:48.319140",
     "status": "completed"
    },
    "tags": [
     "parameters"
    ]
   },
   "outputs": [],
   "source": [
    "sleeping_seconds = 5"
   ]
  },
  {
   "cell_type": "code",
   "execution_count": 3,
   "id": "a9b4213c",
   "metadata": {
    "execution": {
     "iopub.execute_input": "2023-01-27T08:25:48.441400Z",
     "iopub.status.busy": "2023-01-27T08:25:48.440789Z",
     "iopub.status.idle": "2023-01-27T08:25:48.442525Z",
     "shell.execute_reply": "2023-01-27T08:25:48.442856Z"
    },
    "papermill": {
     "duration": 0.045167,
     "end_time": "2023-01-27T08:25:48.443002",
     "exception": false,
     "start_time": "2023-01-27T08:25:48.397835",
     "status": "completed"
    },
    "tags": [
     "injected-parameters"
    ]
   },
   "outputs": [],
   "source": [
    "# Parameters\n",
    "sleeping_seconds = 1\n"
   ]
  },
  {
   "cell_type": "markdown",
   "id": "ea6ff4cf-cea6-420e-b190-5979156b5fed",
   "metadata": {
    "papermill": {
     "duration": 0.049113,
     "end_time": "2023-01-27T08:25:48.529975",
     "exception": false,
     "start_time": "2023-01-27T08:25:48.480862",
     "status": "completed"
    },
    "tags": []
   },
   "source": [
    "## Model"
   ]
  },
  {
   "cell_type": "markdown",
   "id": "57cc3ca7-a5a2-4ee9-bee0-61c593255eb5",
   "metadata": {
    "papermill": {
     "duration": 0.036892,
     "end_time": "2023-01-27T08:25:48.605387",
     "exception": false,
     "start_time": "2023-01-27T08:25:48.568495",
     "status": "completed"
    },
    "tags": []
   },
   "source": [
    "### Pause notebook execution"
   ]
  },
  {
   "cell_type": "code",
   "execution_count": 4,
   "id": "8bb2bcce-fae7-4095-abc3-a886c8dc24bf",
   "metadata": {
    "execution": {
     "iopub.execute_input": "2023-01-27T08:25:48.680881Z",
     "iopub.status.busy": "2023-01-27T08:25:48.680471Z",
     "iopub.status.idle": "2023-01-27T08:25:49.684528Z",
     "shell.execute_reply": "2023-01-27T08:25:49.683714Z",
     "shell.execute_reply.started": "2023-01-26T16:03:58.243268Z"
    },
    "papermill": {
     "duration": 1.042756,
     "end_time": "2023-01-27T08:25:49.684669",
     "exception": false,
     "start_time": "2023-01-27T08:25:48.641913",
     "status": "completed"
    },
    "tags": []
   },
   "outputs": [],
   "source": [
    "time.sleep(sleeping_seconds)"
   ]
  },
  {
   "cell_type": "markdown",
   "id": "d856dbf2-37a4-4e52-804a-81c3728b99a7",
   "metadata": {
    "papermill": {
     "duration": 0.03851,
     "end_time": "2023-01-27T08:25:49.760279",
     "exception": false,
     "start_time": "2023-01-27T08:25:49.721769",
     "status": "completed"
    },
    "tags": []
   },
   "source": [
    "## Output"
   ]
  },
  {
   "cell_type": "markdown",
   "id": "2c4996fc-6773-4b9b-bf78-b39bc9a88bf2",
   "metadata": {
    "papermill": {
     "duration": 0.036383,
     "end_time": "2023-01-27T08:25:49.832629",
     "exception": false,
     "start_time": "2023-01-27T08:25:49.796246",
     "status": "completed"
    },
    "tags": []
   },
   "source": [
    "### Display result"
   ]
  },
  {
   "cell_type": "code",
   "execution_count": 5,
   "id": "d26d8cee-8e57-4aab-b621-14f82e5010a5",
   "metadata": {
    "execution": {
     "iopub.execute_input": "2023-01-27T08:25:49.915397Z",
     "iopub.status.busy": "2023-01-27T08:25:49.914878Z",
     "iopub.status.idle": "2023-01-27T08:25:49.919574Z",
     "shell.execute_reply": "2023-01-27T08:25:49.920184Z",
     "shell.execute_reply.started": "2023-01-26T16:04:03.252384Z"
    },
    "papermill": {
     "duration": 0.048053,
     "end_time": "2023-01-27T08:25:49.920492",
     "exception": false,
     "start_time": "2023-01-27T08:25:49.872439",
     "status": "completed"
    },
    "tags": []
   },
   "outputs": [
    {
     "name": "stdout",
     "output_type": "stream",
     "text": [
      "Hello World!\n"
     ]
    }
   ],
   "source": [
    "print(\"Hello World!\")"
   ]
  },
  {
   "cell_type": "code",
   "execution_count": null,
   "id": "4c2c9208-8c77-4436-b73e-0af00a2e4d2c",
   "metadata": {
    "papermill": {
     "duration": 0.039722,
     "end_time": "2023-01-27T08:25:50.006751",
     "exception": false,
     "start_time": "2023-01-27T08:25:49.967029",
     "status": "completed"
    },
    "tags": []
   },
   "outputs": [],
   "source": []
  }
 ],
 "metadata": {
  "kernelspec": {
   "display_name": "Python 3",
   "language": "python",
   "name": "python3"
  },
  "language_info": {
   "codemirror_mode": {
    "name": "ipython",
    "version": 3
   },
   "file_extension": ".py",
   "mimetype": "text/x-python",
   "name": "python",
   "nbconvert_exporter": "python",
   "pygments_lexer": "ipython3",
   "version": "3.9.6"
  },
  "papermill": {
   "default_parameters": {},
   "duration": 7.545019,
   "end_time": "2023-01-27T08:25:50.551616",
   "environment_variables": {},
   "exception": null,
   "input_path": "silver/IMO_template.ipynb",
   "output_path": "pipeline_executions/2023-01-27_09-25-30-019fefe1-9019-45db-b647-12687b01d683/Cleaning.IMO_template.ipynb",
   "parameters": {
    "sleeping_seconds": 1
   },
   "start_time": "2023-01-27T08:25:43.006597",
   "version": "2.3.3"
  },
  "widgets": {
   "application/vnd.jupyter.widget-state+json": {
    "state": {},
    "version_major": 2,
    "version_minor": 0
   }
  }
 },
 "nbformat": 4,
 "nbformat_minor": 5
}