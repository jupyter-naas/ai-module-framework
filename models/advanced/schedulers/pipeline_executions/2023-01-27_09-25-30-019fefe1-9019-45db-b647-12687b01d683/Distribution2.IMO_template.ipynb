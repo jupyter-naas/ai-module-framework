{
 "cells": [
  {
   "cell_type": "markdown",
   "id": "dd66232c-09f1-44bf-8849-0cd5c52f78a6",
   "metadata": {
    "papermill": {
     "duration": 0.043264,
     "end_time": "2023-01-27T08:26:02.459244",
     "exception": false,
     "start_time": "2023-01-27T08:26:02.415980",
     "status": "completed"
    },
    "tags": []
   },
   "source": [
    "<img width=\"10%\" alt=\"Naas\" src=\"https://landen.imgix.net/jtci2pxwjczr/assets/5ice39g4.png?w=160\"/>"
   ]
  },
  {
   "cell_type": "markdown",
   "id": "633951dc-ca87-4032-ad2d-b76a909861bf",
   "metadata": {
    "papermill": {
     "duration": 0.040962,
     "end_time": "2023-01-27T08:26:02.550819",
     "exception": false,
     "start_time": "2023-01-27T08:26:02.509857",
     "status": "completed"
    },
    "tags": []
   },
   "source": [
    "# Demo"
   ]
  },
  {
   "cell_type": "markdown",
   "id": "524d5465-bce2-42f3-8d18-6f821dae07a5",
   "metadata": {
    "papermill": {
     "duration": 0.036502,
     "end_time": "2023-01-27T08:26:02.624276",
     "exception": false,
     "start_time": "2023-01-27T08:26:02.587774",
     "status": "completed"
    },
    "tags": []
   },
   "source": [
    "## Input"
   ]
  },
  {
   "cell_type": "markdown",
   "id": "918e5873-b444-43d4-aacd-852fffb5aceb",
   "metadata": {
    "papermill": {
     "duration": 0.044811,
     "end_time": "2023-01-27T08:26:02.707728",
     "exception": false,
     "start_time": "2023-01-27T08:26:02.662917",
     "status": "completed"
    },
    "tags": []
   },
   "source": [
    "### Import libraries"
   ]
  },
  {
   "cell_type": "code",
   "execution_count": 1,
   "id": "f6585d07-f50b-439a-84a9-4c0061870d29",
   "metadata": {
    "execution": {
     "iopub.execute_input": "2023-01-27T08:26:02.823097Z",
     "iopub.status.busy": "2023-01-27T08:26:02.822524Z",
     "iopub.status.idle": "2023-01-27T08:26:08.324747Z",
     "shell.execute_reply": "2023-01-27T08:26:08.324334Z",
     "shell.execute_reply.started": "2023-01-26T16:03:56.360749Z"
    },
    "papermill": {
     "duration": 5.567743,
     "end_time": "2023-01-27T08:26:08.324927",
     "exception": false,
     "start_time": "2023-01-27T08:26:02.757184",
     "status": "completed"
    },
    "tags": []
   },
   "outputs": [
    {
     "name": "stdout",
     "output_type": "stream",
     "text": [
      "✅ Demo loaded successfully.\n",
      "✅ utils file '/home/ftp/data-product-framework/utils/demo.ipynb' successfully loaded.\n"
     ]
    }
   ],
   "source": [
    "import naas_data_product #load utils notebooks\n",
    "import time"
   ]
  },
  {
   "cell_type": "markdown",
   "id": "8e659ff5-80d3-43c9-8daf-1ae7f8d2a554",
   "metadata": {
    "papermill": {
     "duration": 0.039623,
     "end_time": "2023-01-27T08:26:08.407647",
     "exception": false,
     "start_time": "2023-01-27T08:26:08.368024",
     "status": "completed"
    },
    "tags": []
   },
   "source": [
    "### Setup Variables"
   ]
  },
  {
   "cell_type": "code",
   "execution_count": 2,
   "id": "c1a6eb30-fbb2-465e-a8f9-21baf6a8b547",
   "metadata": {
    "execution": {
     "iopub.execute_input": "2023-01-27T08:26:08.486220Z",
     "iopub.status.busy": "2023-01-27T08:26:08.485816Z",
     "iopub.status.idle": "2023-01-27T08:26:08.488685Z",
     "shell.execute_reply": "2023-01-27T08:26:08.489005Z",
     "shell.execute_reply.started": "2023-01-26T16:03:57.176382Z"
    },
    "papermill": {
     "duration": 0.044324,
     "end_time": "2023-01-27T08:26:08.489148",
     "exception": false,
     "start_time": "2023-01-27T08:26:08.444824",
     "status": "completed"
    },
    "tags": [
     "parameters"
    ]
   },
   "outputs": [],
   "source": [
    "sleeping_seconds = 5"
   ]
  },
  {
   "cell_type": "code",
   "execution_count": 3,
   "id": "c37dbd7c",
   "metadata": {
    "execution": {
     "iopub.execute_input": "2023-01-27T08:26:08.580278Z",
     "iopub.status.busy": "2023-01-27T08:26:08.579689Z",
     "iopub.status.idle": "2023-01-27T08:26:08.581915Z",
     "shell.execute_reply": "2023-01-27T08:26:08.581541Z"
    },
    "papermill": {
     "duration": 0.04667,
     "end_time": "2023-01-27T08:26:08.582031",
     "exception": false,
     "start_time": "2023-01-27T08:26:08.535361",
     "status": "completed"
    },
    "tags": [
     "injected-parameters"
    ]
   },
   "outputs": [],
   "source": [
    "# Parameters\n",
    "sleeping_seconds = 1\n"
   ]
  },
  {
   "cell_type": "markdown",
   "id": "ea6ff4cf-cea6-420e-b190-5979156b5fed",
   "metadata": {
    "papermill": {
     "duration": 0.035651,
     "end_time": "2023-01-27T08:26:08.654246",
     "exception": false,
     "start_time": "2023-01-27T08:26:08.618595",
     "status": "completed"
    },
    "tags": []
   },
   "source": [
    "## Model"
   ]
  },
  {
   "cell_type": "markdown",
   "id": "57cc3ca7-a5a2-4ee9-bee0-61c593255eb5",
   "metadata": {
    "papermill": {
     "duration": 0.037405,
     "end_time": "2023-01-27T08:26:08.727855",
     "exception": false,
     "start_time": "2023-01-27T08:26:08.690450",
     "status": "completed"
    },
    "tags": []
   },
   "source": [
    "### Pause notebook execution"
   ]
  },
  {
   "cell_type": "code",
   "execution_count": 4,
   "id": "8bb2bcce-fae7-4095-abc3-a886c8dc24bf",
   "metadata": {
    "execution": {
     "iopub.execute_input": "2023-01-27T08:26:08.813492Z",
     "iopub.status.busy": "2023-01-27T08:26:08.813081Z",
     "iopub.status.idle": "2023-01-27T08:26:09.818459Z",
     "shell.execute_reply": "2023-01-27T08:26:09.817788Z",
     "shell.execute_reply.started": "2023-01-26T16:03:58.243268Z"
    },
    "papermill": {
     "duration": 1.048426,
     "end_time": "2023-01-27T08:26:09.818619",
     "exception": false,
     "start_time": "2023-01-27T08:26:08.770193",
     "status": "completed"
    },
    "tags": []
   },
   "outputs": [],
   "source": [
    "time.sleep(sleeping_seconds)"
   ]
  },
  {
   "cell_type": "markdown",
   "id": "d856dbf2-37a4-4e52-804a-81c3728b99a7",
   "metadata": {
    "papermill": {
     "duration": 0.037357,
     "end_time": "2023-01-27T08:26:09.902335",
     "exception": false,
     "start_time": "2023-01-27T08:26:09.864978",
     "status": "completed"
    },
    "tags": []
   },
   "source": [
    "## Output"
   ]
  },
  {
   "cell_type": "markdown",
   "id": "2c4996fc-6773-4b9b-bf78-b39bc9a88bf2",
   "metadata": {
    "papermill": {
     "duration": 0.047731,
     "end_time": "2023-01-27T08:26:09.985404",
     "exception": false,
     "start_time": "2023-01-27T08:26:09.937673",
     "status": "completed"
    },
    "tags": []
   },
   "source": [
    "### Display result"
   ]
  },
  {
   "cell_type": "code",
   "execution_count": 5,
   "id": "d26d8cee-8e57-4aab-b621-14f82e5010a5",
   "metadata": {
    "execution": {
     "iopub.execute_input": "2023-01-27T08:26:10.082252Z",
     "iopub.status.busy": "2023-01-27T08:26:10.081817Z",
     "iopub.status.idle": "2023-01-27T08:26:10.085320Z",
     "shell.execute_reply": "2023-01-27T08:26:10.085620Z",
     "shell.execute_reply.started": "2023-01-26T16:04:03.252384Z"
    },
    "papermill": {
     "duration": 0.049836,
     "end_time": "2023-01-27T08:26:10.085769",
     "exception": false,
     "start_time": "2023-01-27T08:26:10.035933",
     "status": "completed"
    },
    "tags": []
   },
   "outputs": [
    {
     "name": "stdout",
     "output_type": "stream",
     "text": [
      "Hello World!\n"
     ]
    }
   ],
   "source": [
    "print(\"Hello World!\")"
   ]
  },
  {
   "cell_type": "code",
   "execution_count": null,
   "id": "4c2c9208-8c77-4436-b73e-0af00a2e4d2c",
   "metadata": {
    "papermill": {
     "duration": 0.040067,
     "end_time": "2023-01-27T08:26:10.162400",
     "exception": false,
     "start_time": "2023-01-27T08:26:10.122333",
     "status": "completed"
    },
    "tags": []
   },
   "outputs": [],
   "source": []
  }
 ],
 "metadata": {
  "kernelspec": {
   "display_name": "Python 3",
   "language": "python",
   "name": "python3"
  },
  "language_info": {
   "codemirror_mode": {
    "name": "ipython",
    "version": 3
   },
   "file_extension": ".py",
   "mimetype": "text/x-python",
   "name": "python",
   "nbconvert_exporter": "python",
   "pygments_lexer": "ipython3",
   "version": "3.9.6"
  },
  "papermill": {
   "default_parameters": {},
   "duration": 11.087961,
   "end_time": "2023-01-27T08:26:11.570608",
   "environment_variables": {},
   "exception": null,
   "input_path": "insights/IMO_template.ipynb",
   "output_path": "pipeline_executions/2023-01-27_09-25-30-019fefe1-9019-45db-b647-12687b01d683/Distribution2.IMO_template.ipynb",
   "parameters": {
    "sleeping_seconds": 1
   },
   "start_time": "2023-01-27T08:26:00.482647",
   "version": "2.3.3"
  },
  "widgets": {
   "application/vnd.jupyter.widget-state+json": {
    "state": {},
    "version_major": 2,
    "version_minor": 0
   }
  }
 },
 "nbformat": 4,
 "nbformat_minor": 5
}