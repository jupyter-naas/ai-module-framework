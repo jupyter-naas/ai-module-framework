{
 "cells": [
  {
   "cell_type": "markdown",
   "id": "dd66232c-09f1-44bf-8849-0cd5c52f78a6",
   "metadata": {
    "papermill": {
     "duration": 0.036454,
     "end_time": "2023-01-27T08:26:02.517471",
     "exception": false,
     "start_time": "2023-01-27T08:26:02.481017",
     "status": "completed"
    },
    "tags": []
   },
   "source": [
    "<img width=\"10%\" alt=\"Naas\" src=\"https://landen.imgix.net/jtci2pxwjczr/assets/5ice39g4.png?w=160\"/>"
   ]
  },
  {
   "cell_type": "markdown",
   "id": "633951dc-ca87-4032-ad2d-b76a909861bf",
   "metadata": {
    "papermill": {
     "duration": 0.035808,
     "end_time": "2023-01-27T08:26:02.597126",
     "exception": false,
     "start_time": "2023-01-27T08:26:02.561318",
     "status": "completed"
    },
    "tags": []
   },
   "source": [
    "# Demo"
   ]
  },
  {
   "cell_type": "markdown",
   "id": "524d5465-bce2-42f3-8d18-6f821dae07a5",
   "metadata": {
    "papermill": {
     "duration": 0.038546,
     "end_time": "2023-01-27T08:26:02.670136",
     "exception": false,
     "start_time": "2023-01-27T08:26:02.631590",
     "status": "completed"
    },
    "tags": []
   },
   "source": [
    "## Input"
   ]
  },
  {
   "cell_type": "markdown",
   "id": "918e5873-b444-43d4-aacd-852fffb5aceb",
   "metadata": {
    "papermill": {
     "duration": 0.047338,
     "end_time": "2023-01-27T08:26:02.765586",
     "exception": false,
     "start_time": "2023-01-27T08:26:02.718248",
     "status": "completed"
    },
    "tags": []
   },
   "source": [
    "### Import libraries"
   ]
  },
  {
   "cell_type": "code",
   "execution_count": 1,
   "id": "f6585d07-f50b-439a-84a9-4c0061870d29",
   "metadata": {
    "execution": {
     "iopub.execute_input": "2023-01-27T08:26:02.862029Z",
     "iopub.status.busy": "2023-01-27T08:26:02.861595Z",
     "iopub.status.idle": "2023-01-27T08:26:08.263486Z",
     "shell.execute_reply": "2023-01-27T08:26:08.264312Z",
     "shell.execute_reply.started": "2023-01-26T16:03:56.360749Z"
    },
    "papermill": {
     "duration": 5.455083,
     "end_time": "2023-01-27T08:26:08.264598",
     "exception": false,
     "start_time": "2023-01-27T08:26:02.809515",
     "status": "completed"
    },
    "tags": []
   },
   "outputs": [
    {
     "name": "stdout",
     "output_type": "stream",
     "text": [
      "✅ Demo loaded successfully.\n",
      "✅ utils file '/home/ftp/data-product-framework/utils/demo.ipynb' successfully loaded.\n"
     ]
    }
   ],
   "source": [
    "import naas_data_product #load utils notebooks\n",
    "import time"
   ]
  },
  {
   "cell_type": "markdown",
   "id": "8e659ff5-80d3-43c9-8daf-1ae7f8d2a554",
   "metadata": {
    "papermill": {
     "duration": 0.047367,
     "end_time": "2023-01-27T08:26:08.354255",
     "exception": false,
     "start_time": "2023-01-27T08:26:08.306888",
     "status": "completed"
    },
    "tags": []
   },
   "source": [
    "### Setup Variables"
   ]
  },
  {
   "cell_type": "code",
   "execution_count": 2,
   "id": "c1a6eb30-fbb2-465e-a8f9-21baf6a8b547",
   "metadata": {
    "execution": {
     "iopub.execute_input": "2023-01-27T08:26:08.434791Z",
     "iopub.status.busy": "2023-01-27T08:26:08.433954Z",
     "iopub.status.idle": "2023-01-27T08:26:08.435915Z",
     "shell.execute_reply": "2023-01-27T08:26:08.436216Z",
     "shell.execute_reply.started": "2023-01-26T16:03:57.176382Z"
    },
    "papermill": {
     "duration": 0.044781,
     "end_time": "2023-01-27T08:26:08.436360",
     "exception": false,
     "start_time": "2023-01-27T08:26:08.391579",
     "status": "completed"
    },
    "tags": [
     "parameters"
    ]
   },
   "outputs": [],
   "source": [
    "sleeping_seconds = 5"
   ]
  },
  {
   "cell_type": "code",
   "execution_count": 3,
   "id": "ab75b0c2",
   "metadata": {
    "execution": {
     "iopub.execute_input": "2023-01-27T08:26:08.525757Z",
     "iopub.status.busy": "2023-01-27T08:26:08.525230Z",
     "iopub.status.idle": "2023-01-27T08:26:08.527143Z",
     "shell.execute_reply": "2023-01-27T08:26:08.527435Z"
    },
    "papermill": {
     "duration": 0.054922,
     "end_time": "2023-01-27T08:26:08.527604",
     "exception": false,
     "start_time": "2023-01-27T08:26:08.472682",
     "status": "completed"
    },
    "tags": [
     "injected-parameters"
    ]
   },
   "outputs": [],
   "source": [
    "# Parameters\n",
    "sleeping_seconds = 1\n"
   ]
  },
  {
   "cell_type": "markdown",
   "id": "ea6ff4cf-cea6-420e-b190-5979156b5fed",
   "metadata": {
    "papermill": {
     "duration": 0.038347,
     "end_time": "2023-01-27T08:26:08.607617",
     "exception": false,
     "start_time": "2023-01-27T08:26:08.569270",
     "status": "completed"
    },
    "tags": []
   },
   "source": [
    "## Model"
   ]
  },
  {
   "cell_type": "markdown",
   "id": "57cc3ca7-a5a2-4ee9-bee0-61c593255eb5",
   "metadata": {
    "papermill": {
     "duration": 0.035659,
     "end_time": "2023-01-27T08:26:08.678678",
     "exception": false,
     "start_time": "2023-01-27T08:26:08.643019",
     "status": "completed"
    },
    "tags": []
   },
   "source": [
    "### Pause notebook execution"
   ]
  },
  {
   "cell_type": "code",
   "execution_count": 4,
   "id": "8bb2bcce-fae7-4095-abc3-a886c8dc24bf",
   "metadata": {
    "execution": {
     "iopub.execute_input": "2023-01-27T08:26:08.760397Z",
     "iopub.status.busy": "2023-01-27T08:26:08.759880Z",
     "iopub.status.idle": "2023-01-27T08:26:09.762965Z",
     "shell.execute_reply": "2023-01-27T08:26:09.762566Z",
     "shell.execute_reply.started": "2023-01-26T16:03:58.243268Z"
    },
    "papermill": {
     "duration": 1.047664,
     "end_time": "2023-01-27T08:26:09.763091",
     "exception": false,
     "start_time": "2023-01-27T08:26:08.715427",
     "status": "completed"
    },
    "tags": []
   },
   "outputs": [],
   "source": [
    "time.sleep(sleeping_seconds)"
   ]
  },
  {
   "cell_type": "markdown",
   "id": "d856dbf2-37a4-4e52-804a-81c3728b99a7",
   "metadata": {
    "papermill": {
     "duration": 0.04778,
     "end_time": "2023-01-27T08:26:09.849079",
     "exception": false,
     "start_time": "2023-01-27T08:26:09.801299",
     "status": "completed"
    },
    "tags": []
   },
   "source": [
    "## Output"
   ]
  },
  {
   "cell_type": "markdown",
   "id": "2c4996fc-6773-4b9b-bf78-b39bc9a88bf2",
   "metadata": {
    "papermill": {
     "duration": 0.038426,
     "end_time": "2023-01-27T08:26:09.926512",
     "exception": false,
     "start_time": "2023-01-27T08:26:09.888086",
     "status": "completed"
    },
    "tags": []
   },
   "source": [
    "### Display result"
   ]
  },
  {
   "cell_type": "code",
   "execution_count": 5,
   "id": "d26d8cee-8e57-4aab-b621-14f82e5010a5",
   "metadata": {
    "execution": {
     "iopub.execute_input": "2023-01-27T08:26:10.019658Z",
     "iopub.status.busy": "2023-01-27T08:26:10.019154Z",
     "iopub.status.idle": "2023-01-27T08:26:10.023740Z",
     "shell.execute_reply": "2023-01-27T08:26:10.024504Z",
     "shell.execute_reply.started": "2023-01-26T16:04:03.252384Z"
    },
    "papermill": {
     "duration": 0.062817,
     "end_time": "2023-01-27T08:26:10.024816",
     "exception": false,
     "start_time": "2023-01-27T08:26:09.961999",
     "status": "completed"
    },
    "tags": []
   },
   "outputs": [
    {
     "name": "stdout",
     "output_type": "stream",
     "text": [
      "Hello World!\n"
     ]
    }
   ],
   "source": [
    "print(\"Hello World!\")"
   ]
  },
  {
   "cell_type": "code",
   "execution_count": null,
   "id": "4c2c9208-8c77-4436-b73e-0af00a2e4d2c",
   "metadata": {
    "papermill": {
     "duration": 0.039086,
     "end_time": "2023-01-27T08:26:10.109803",
     "exception": false,
     "start_time": "2023-01-27T08:26:10.070717",
     "status": "completed"
    },
    "tags": []
   },
   "outputs": [],
   "source": []
  }
 ],
 "metadata": {
  "kernelspec": {
   "display_name": "Python 3",
   "language": "python",
   "name": "python3"
  },
  "language_info": {
   "codemirror_mode": {
    "name": "ipython",
    "version": 3
   },
   "file_extension": ".py",
   "mimetype": "text/x-python",
   "name": "python",
   "nbconvert_exporter": "python",
   "pygments_lexer": "ipython3",
   "version": "3.9.6"
  },
  "papermill": {
   "default_parameters": {},
   "duration": 11.067526,
   "end_time": "2023-01-27T08:26:11.561393",
   "environment_variables": {},
   "exception": null,
   "input_path": "insights/IMO_template.ipynb",
   "output_path": "pipeline_executions/2023-01-27_09-25-30-019fefe1-9019-45db-b647-12687b01d683/Distribution1.IMO_template.ipynb",
   "parameters": {
    "sleeping_seconds": 1
   },
   "start_time": "2023-01-27T08:26:00.493867",
   "version": "2.3.3"
  },
  "widgets": {
   "application/vnd.jupyter.widget-state+json": {
    "state": {},
    "version_major": 2,
    "version_minor": 0
   }
  }
 },
 "nbformat": 4,
 "nbformat_minor": 5
}