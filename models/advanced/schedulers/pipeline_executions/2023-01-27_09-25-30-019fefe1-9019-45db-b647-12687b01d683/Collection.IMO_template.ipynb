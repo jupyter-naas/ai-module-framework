{
 "cells": [
  {
   "cell_type": "markdown",
   "id": "dd66232c-09f1-44bf-8849-0cd5c52f78a6",
   "metadata": {
    "papermill": {
     "duration": 0.039994,
     "end_time": "2023-01-27T08:25:32.924797",
     "exception": false,
     "start_time": "2023-01-27T08:25:32.884803",
     "status": "completed"
    },
    "tags": []
   },
   "source": [
    "<img width=\"10%\" alt=\"Naas\" src=\"https://landen.imgix.net/jtci2pxwjczr/assets/5ice39g4.png?w=160\"/>"
   ]
  },
  {
   "cell_type": "markdown",
   "id": "633951dc-ca87-4032-ad2d-b76a909861bf",
   "metadata": {
    "papermill": {
     "duration": 0.040479,
     "end_time": "2023-01-27T08:25:33.001514",
     "exception": false,
     "start_time": "2023-01-27T08:25:32.961035",
     "status": "completed"
    },
    "tags": []
   },
   "source": [
    "# Demo"
   ]
  },
  {
   "cell_type": "markdown",
   "id": "524d5465-bce2-42f3-8d18-6f821dae07a5",
   "metadata": {
    "papermill": {
     "duration": 0.038985,
     "end_time": "2023-01-27T08:25:33.090043",
     "exception": false,
     "start_time": "2023-01-27T08:25:33.051058",
     "status": "completed"
    },
    "tags": []
   },
   "source": [
    "## Input"
   ]
  },
  {
   "cell_type": "markdown",
   "id": "918e5873-b444-43d4-aacd-852fffb5aceb",
   "metadata": {
    "papermill": {
     "duration": 0.03557,
     "end_time": "2023-01-27T08:25:33.165540",
     "exception": false,
     "start_time": "2023-01-27T08:25:33.129970",
     "status": "completed"
    },
    "tags": []
   },
   "source": [
    "### Import libraries"
   ]
  },
  {
   "cell_type": "code",
   "execution_count": 1,
   "id": "f6585d07-f50b-439a-84a9-4c0061870d29",
   "metadata": {
    "execution": {
     "iopub.execute_input": "2023-01-27T08:25:33.249855Z",
     "iopub.status.busy": "2023-01-27T08:25:33.249306Z",
     "iopub.status.idle": "2023-01-27T08:25:36.544770Z",
     "shell.execute_reply": "2023-01-27T08:25:36.545272Z",
     "shell.execute_reply.started": "2023-01-26T16:03:56.360749Z"
    },
    "papermill": {
     "duration": 3.344029,
     "end_time": "2023-01-27T08:25:36.545590",
     "exception": false,
     "start_time": "2023-01-27T08:25:33.201561",
     "status": "completed"
    },
    "tags": []
   },
   "outputs": [
    {
     "name": "stdout",
     "output_type": "stream",
     "text": [
      "✅ Demo loaded successfully.\n",
      "✅ utils file '/home/ftp/data-product-framework/utils/demo.ipynb' successfully loaded.\n"
     ]
    }
   ],
   "source": [
    "import naas_data_product #load utils notebooks\n",
    "import time"
   ]
  },
  {
   "cell_type": "markdown",
   "id": "8e659ff5-80d3-43c9-8daf-1ae7f8d2a554",
   "metadata": {
    "papermill": {
     "duration": 0.054219,
     "end_time": "2023-01-27T08:25:36.642672",
     "exception": false,
     "start_time": "2023-01-27T08:25:36.588453",
     "status": "completed"
    },
    "tags": []
   },
   "source": [
    "### Setup Variables"
   ]
  },
  {
   "cell_type": "code",
   "execution_count": 2,
   "id": "c1a6eb30-fbb2-465e-a8f9-21baf6a8b547",
   "metadata": {
    "execution": {
     "iopub.execute_input": "2023-01-27T08:25:36.721113Z",
     "iopub.status.busy": "2023-01-27T08:25:36.720502Z",
     "iopub.status.idle": "2023-01-27T08:25:36.722649Z",
     "shell.execute_reply": "2023-01-27T08:25:36.722217Z",
     "shell.execute_reply.started": "2023-01-26T16:03:57.176382Z"
    },
    "papermill": {
     "duration": 0.043365,
     "end_time": "2023-01-27T08:25:36.722790",
     "exception": false,
     "start_time": "2023-01-27T08:25:36.679425",
     "status": "completed"
    },
    "tags": [
     "parameters"
    ]
   },
   "outputs": [],
   "source": [
    "sleeping_seconds = 5"
   ]
  },
  {
   "cell_type": "code",
   "execution_count": 3,
   "id": "234fae86",
   "metadata": {
    "execution": {
     "iopub.execute_input": "2023-01-27T08:25:36.803459Z",
     "iopub.status.busy": "2023-01-27T08:25:36.802854Z",
     "iopub.status.idle": "2023-01-27T08:25:36.805054Z",
     "shell.execute_reply": "2023-01-27T08:25:36.804705Z"
    },
    "papermill": {
     "duration": 0.046553,
     "end_time": "2023-01-27T08:25:36.805179",
     "exception": false,
     "start_time": "2023-01-27T08:25:36.758626",
     "status": "completed"
    },
    "tags": [
     "injected-parameters"
    ]
   },
   "outputs": [],
   "source": [
    "# Parameters\n",
    "sleeping_seconds = 5\n"
   ]
  },
  {
   "cell_type": "markdown",
   "id": "ea6ff4cf-cea6-420e-b190-5979156b5fed",
   "metadata": {
    "papermill": {
     "duration": 0.044377,
     "end_time": "2023-01-27T08:25:36.887665",
     "exception": false,
     "start_time": "2023-01-27T08:25:36.843288",
     "status": "completed"
    },
    "tags": []
   },
   "source": [
    "## Model"
   ]
  },
  {
   "cell_type": "markdown",
   "id": "57cc3ca7-a5a2-4ee9-bee0-61c593255eb5",
   "metadata": {
    "papermill": {
     "duration": 0.041147,
     "end_time": "2023-01-27T08:25:36.968375",
     "exception": false,
     "start_time": "2023-01-27T08:25:36.927228",
     "status": "completed"
    },
    "tags": []
   },
   "source": [
    "### Pause notebook execution"
   ]
  },
  {
   "cell_type": "code",
   "execution_count": 4,
   "id": "8bb2bcce-fae7-4095-abc3-a886c8dc24bf",
   "metadata": {
    "execution": {
     "iopub.execute_input": "2023-01-27T08:25:37.046749Z",
     "iopub.status.busy": "2023-01-27T08:25:37.046309Z",
     "iopub.status.idle": "2023-01-27T08:25:42.053912Z",
     "shell.execute_reply": "2023-01-27T08:25:42.053536Z",
     "shell.execute_reply.started": "2023-01-26T16:03:58.243268Z"
    },
    "papermill": {
     "duration": 5.047897,
     "end_time": "2023-01-27T08:25:42.054040",
     "exception": false,
     "start_time": "2023-01-27T08:25:37.006143",
     "status": "completed"
    },
    "tags": []
   },
   "outputs": [],
   "source": [
    "time.sleep(sleeping_seconds)"
   ]
  },
  {
   "cell_type": "markdown",
   "id": "d856dbf2-37a4-4e52-804a-81c3728b99a7",
   "metadata": {
    "papermill": {
     "duration": 0.037704,
     "end_time": "2023-01-27T08:25:42.133413",
     "exception": false,
     "start_time": "2023-01-27T08:25:42.095709",
     "status": "completed"
    },
    "tags": []
   },
   "source": [
    "## Output"
   ]
  },
  {
   "cell_type": "markdown",
   "id": "2c4996fc-6773-4b9b-bf78-b39bc9a88bf2",
   "metadata": {
    "papermill": {
     "duration": 0.037102,
     "end_time": "2023-01-27T08:25:42.206931",
     "exception": false,
     "start_time": "2023-01-27T08:25:42.169829",
     "status": "completed"
    },
    "tags": []
   },
   "source": [
    "### Display result"
   ]
  },
  {
   "cell_type": "code",
   "execution_count": 5,
   "id": "d26d8cee-8e57-4aab-b621-14f82e5010a5",
   "metadata": {
    "execution": {
     "iopub.execute_input": "2023-01-27T08:25:42.292517Z",
     "iopub.status.busy": "2023-01-27T08:25:42.291764Z",
     "iopub.status.idle": "2023-01-27T08:25:42.294516Z",
     "shell.execute_reply": "2023-01-27T08:25:42.293086Z",
     "shell.execute_reply.started": "2023-01-26T16:04:03.252384Z"
    },
    "papermill": {
     "duration": 0.049518,
     "end_time": "2023-01-27T08:25:42.294697",
     "exception": false,
     "start_time": "2023-01-27T08:25:42.245179",
     "status": "completed"
    },
    "tags": []
   },
   "outputs": [
    {
     "name": "stdout",
     "output_type": "stream",
     "text": [
      "Hello World!\n"
     ]
    }
   ],
   "source": [
    "print(\"Hello World!\")"
   ]
  },
  {
   "cell_type": "code",
   "execution_count": null,
   "id": "4c2c9208-8c77-4436-b73e-0af00a2e4d2c",
   "metadata": {
    "papermill": {
     "duration": 0.038213,
     "end_time": "2023-01-27T08:25:42.377248",
     "exception": false,
     "start_time": "2023-01-27T08:25:42.339035",
     "status": "completed"
    },
    "tags": []
   },
   "outputs": [],
   "source": []
  }
 ],
 "metadata": {
  "kernelspec": {
   "display_name": "Python 3",
   "language": "python",
   "name": "python3"
  },
  "language_info": {
   "codemirror_mode": {
    "name": "ipython",
    "version": 3
   },
   "file_extension": ".py",
   "mimetype": "text/x-python",
   "name": "python",
   "nbconvert_exporter": "python",
   "pygments_lexer": "ipython3",
   "version": "3.9.6"
  },
  "papermill": {
   "default_parameters": {},
   "duration": 11.902676,
   "end_time": "2023-01-27T08:25:42.921697",
   "environment_variables": {},
   "exception": null,
   "input_path": "bronze/IMO_template.ipynb",
   "output_path": "pipeline_executions/2023-01-27_09-25-30-019fefe1-9019-45db-b647-12687b01d683/Collection.IMO_template.ipynb",
   "parameters": {
    "sleeping_seconds": 5
   },
   "start_time": "2023-01-27T08:25:31.019021",
   "version": "2.3.3"
  },
  "widgets": {
   "application/vnd.jupyter.widget-state+json": {
    "state": {},
    "version_major": 2,
    "version_minor": 0
   }
  }
 },
 "nbformat": 4,
 "nbformat_minor": 5
}