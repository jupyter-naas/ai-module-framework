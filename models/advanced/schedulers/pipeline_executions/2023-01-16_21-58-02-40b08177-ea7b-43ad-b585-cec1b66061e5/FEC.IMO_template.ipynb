{
 "cells": [
  {
   "cell_type": "markdown",
   "id": "3e10e783",
   "metadata": {
    "tags": [
     "papermill-error-cell-tag"
    ]
   },
   "source": [
    "<span style=\"color:red; font-family:Helvetica Neue, Helvetica, Arial, sans-serif; font-size:2em;\">An Exception was encountered at '<a href=\"#papermill-error-cell\">In [4]</a>'.</span>"
   ]
  },
  {
   "cell_type": "markdown",
   "id": "dd66232c-09f1-44bf-8849-0cd5c52f78a6",
   "metadata": {
    "papermill": {
     "duration": 0.037865,
     "end_time": "2023-01-16T20:58:04.469343",
     "exception": false,
     "start_time": "2023-01-16T20:58:04.431478",
     "status": "completed"
    },
    "tags": []
   },
   "source": [
    "<img width=\"10%\" alt=\"Naas\" src=\"https://landen.imgix.net/jtci2pxwjczr/assets/5ice39g4.png?w=160\"/>"
   ]
  },
  {
   "cell_type": "markdown",
   "id": "633951dc-ca87-4032-ad2d-b76a909861bf",
   "metadata": {
    "papermill": {
     "duration": 0.03239,
     "end_time": "2023-01-16T20:58:04.534580",
     "exception": false,
     "start_time": "2023-01-16T20:58:04.502190",
     "status": "completed"
    },
    "tags": []
   },
   "source": [
    "# Demo"
   ]
  },
  {
   "cell_type": "markdown",
   "id": "524d5465-bce2-42f3-8d18-6f821dae07a5",
   "metadata": {
    "papermill": {
     "duration": 0.033262,
     "end_time": "2023-01-16T20:58:04.603177",
     "exception": false,
     "start_time": "2023-01-16T20:58:04.569915",
     "status": "completed"
    },
    "tags": []
   },
   "source": [
    "## Input"
   ]
  },
  {
   "cell_type": "markdown",
   "id": "918e5873-b444-43d4-aacd-852fffb5aceb",
   "metadata": {
    "papermill": {
     "duration": 0.034026,
     "end_time": "2023-01-16T20:58:04.669817",
     "exception": false,
     "start_time": "2023-01-16T20:58:04.635791",
     "status": "completed"
    },
    "tags": []
   },
   "source": [
    "### Import libraries"
   ]
  },
  {
   "cell_type": "code",
   "execution_count": 1,
   "id": "f6585d07-f50b-439a-84a9-4c0061870d29",
   "metadata": {
    "execution": {
     "iopub.execute_input": "2023-01-16T20:58:04.744579Z",
     "iopub.status.busy": "2023-01-16T20:58:04.744156Z",
     "iopub.status.idle": "2023-01-16T20:58:08.096830Z",
     "shell.execute_reply": "2023-01-16T20:58:08.096241Z"
    },
    "papermill": {
     "duration": 3.392278,
     "end_time": "2023-01-16T20:58:08.096977",
     "exception": false,
     "start_time": "2023-01-16T20:58:04.704699",
     "status": "completed"
    },
    "tags": []
   },
   "outputs": [
    {
     "name": "stdout",
     "output_type": "stream",
     "text": [
      "✅ Demo loaded successfully.\n",
      "✅ utils file '/home/ftp/data-product-framework/utils/demo.ipynb' successfully loaded.\n"
     ]
    }
   ],
   "source": [
    "import naas_data_product #load utils notebooks\n",
    "import time"
   ]
  },
  {
   "cell_type": "markdown",
   "id": "8e659ff5-80d3-43c9-8daf-1ae7f8d2a554",
   "metadata": {
    "papermill": {
     "duration": 0.03976,
     "end_time": "2023-01-16T20:58:08.175472",
     "exception": false,
     "start_time": "2023-01-16T20:58:08.135712",
     "status": "completed"
    },
    "tags": []
   },
   "source": [
    "### Setup Variables"
   ]
  },
  {
   "cell_type": "code",
   "execution_count": 2,
   "id": "c1a6eb30-fbb2-465e-a8f9-21baf6a8b547",
   "metadata": {
    "execution": {
     "iopub.execute_input": "2023-01-16T20:58:08.275001Z",
     "iopub.status.busy": "2023-01-16T20:58:08.274399Z",
     "iopub.status.idle": "2023-01-16T20:58:08.276410Z",
     "shell.execute_reply": "2023-01-16T20:58:08.276777Z"
    },
    "papermill": {
     "duration": 0.047548,
     "end_time": "2023-01-16T20:58:08.276964",
     "exception": false,
     "start_time": "2023-01-16T20:58:08.229416",
     "status": "completed"
    },
    "tags": [
     "parameters"
    ]
   },
   "outputs": [],
   "source": [
    "sleeping_seconds = 5"
   ]
  },
  {
   "cell_type": "markdown",
   "id": "ea6ff4cf-cea6-420e-b190-5979156b5fed",
   "metadata": {
    "papermill": {
     "duration": 0.037743,
     "end_time": "2023-01-16T20:58:08.372958",
     "exception": false,
     "start_time": "2023-01-16T20:58:08.335215",
     "status": "completed"
    },
    "tags": []
   },
   "source": [
    "## Model"
   ]
  },
  {
   "cell_type": "markdown",
   "id": "57cc3ca7-a5a2-4ee9-bee0-61c593255eb5",
   "metadata": {
    "papermill": {
     "duration": 0.043024,
     "end_time": "2023-01-16T20:58:08.470307",
     "exception": false,
     "start_time": "2023-01-16T20:58:08.427283",
     "status": "completed"
    },
    "tags": []
   },
   "source": [
    "### Pause notebook execution"
   ]
  },
  {
   "cell_type": "code",
   "execution_count": 3,
   "id": "8bb2bcce-fae7-4095-abc3-a886c8dc24bf",
   "metadata": {
    "execution": {
     "iopub.execute_input": "2023-01-16T20:58:08.546755Z",
     "iopub.status.busy": "2023-01-16T20:58:08.546271Z",
     "iopub.status.idle": "2023-01-16T20:58:13.552813Z",
     "shell.execute_reply": "2023-01-16T20:58:13.553147Z"
    },
    "papermill": {
     "duration": 5.045261,
     "end_time": "2023-01-16T20:58:13.553304",
     "exception": false,
     "start_time": "2023-01-16T20:58:08.508043",
     "status": "completed"
    },
    "tags": []
   },
   "outputs": [],
   "source": [
    "time.sleep(sleeping_seconds)"
   ]
  },
  {
   "cell_type": "markdown",
   "id": "d856dbf2-37a4-4e52-804a-81c3728b99a7",
   "metadata": {
    "papermill": {
     "duration": 0.036517,
     "end_time": "2023-01-16T20:58:13.626426",
     "exception": false,
     "start_time": "2023-01-16T20:58:13.589909",
     "status": "completed"
    },
    "tags": []
   },
   "source": [
    "## Output"
   ]
  },
  {
   "cell_type": "markdown",
   "id": "2c4996fc-6773-4b9b-bf78-b39bc9a88bf2",
   "metadata": {
    "papermill": {
     "duration": 0.03537,
     "end_time": "2023-01-16T20:58:13.702785",
     "exception": false,
     "start_time": "2023-01-16T20:58:13.667415",
     "status": "completed"
    },
    "tags": []
   },
   "source": [
    "### Display result"
   ]
  },
  {
   "cell_type": "markdown",
   "id": "06e16316",
   "metadata": {
    "tags": [
     "papermill-error-cell-tag"
    ]
   },
   "source": [
    "<span id=\"papermill-error-cell\" style=\"color:red; font-family:Helvetica Neue, Helvetica, Arial, sans-serif; font-size:2em;\">Execution using papermill encountered an exception here and stopped:</span>"
   ]
  },
  {
   "cell_type": "code",
   "execution_count": 4,
   "id": "d26d8cee-8e57-4aab-b621-14f82e5010a5",
   "metadata": {
    "execution": {
     "iopub.execute_input": "2023-01-16T20:58:13.772525Z",
     "iopub.status.busy": "2023-01-16T20:58:13.772094Z",
     "iopub.status.idle": "2023-01-16T20:58:13.779114Z",
     "shell.execute_reply": "2023-01-16T20:58:13.778361Z"
    },
    "papermill": {
     "duration": 0.042739,
     "end_time": "2023-01-16T20:58:13.779329",
     "exception": true,
     "start_time": "2023-01-16T20:58:13.736590",
     "status": "failed"
    },
    "tags": []
   },
   "outputs": [
    {
     "ename": "SyntaxError",
     "evalue": "unexpected EOF while parsing (<ipython-input-4-0219726117bb>, line 1)",
     "output_type": "error",
     "traceback": [
      "\u001b[0;36m  File \u001b[0;32m\"<ipython-input-4-0219726117bb>\"\u001b[0;36m, line \u001b[0;32m1\u001b[0m\n\u001b[0;31m    print(\"Hello World!\"\u001b[0m\n\u001b[0m                        ^\u001b[0m\n\u001b[0;31mSyntaxError\u001b[0m\u001b[0;31m:\u001b[0m unexpected EOF while parsing\n"
     ]
    }
   ],
   "source": [
    "print(\"Hello World!\""
   ]
  }
 ],
 "metadata": {
  "kernelspec": {
   "display_name": "Python 3",
   "language": "python",
   "name": "python3"
  },
  "language_info": {
   "codemirror_mode": {
    "name": "ipython",
    "version": 3
   },
   "file_extension": ".py",
   "mimetype": "text/x-python",
   "name": "python",
   "nbconvert_exporter": "python",
   "pygments_lexer": "ipython3",
   "version": "3.9.6"
  },
  "papermill": {
   "default_parameters": {},
   "duration": 11.772769,
   "end_time": "2023-01-16T20:58:14.323534",
   "environment_variables": {},
   "exception": true,
   "input_path": "IMO_template.ipynb",
   "output_path": "pipeline_executions/2023-01-16_21-58-02-40b08177-ea7b-43ad-b585-cec1b66061e5/FEC.IMO_template.ipynb",
   "parameters": {},
   "start_time": "2023-01-16T20:58:02.550765",
   "version": "2.3.3"
  },
  "widgets": {
   "application/vnd.jupyter.widget-state+json": {
    "state": {},
    "version_major": 2,
    "version_minor": 0
   }
  }
 },
 "nbformat": 4,
 "nbformat_minor": 5
}