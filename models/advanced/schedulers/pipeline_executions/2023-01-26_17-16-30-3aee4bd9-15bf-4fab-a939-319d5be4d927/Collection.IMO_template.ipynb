{
 "cells": [
  {
   "cell_type": "markdown",
   "id": "dd66232c-09f1-44bf-8849-0cd5c52f78a6",
   "metadata": {
    "papermill": {
     "duration": 0.046631,
     "end_time": "2023-01-26T16:16:32.842417",
     "exception": false,
     "start_time": "2023-01-26T16:16:32.795786",
     "status": "completed"
    },
    "tags": []
   },
   "source": [
    "<img width=\"10%\" alt=\"Naas\" src=\"https://landen.imgix.net/jtci2pxwjczr/assets/5ice39g4.png?w=160\"/>"
   ]
  },
  {
   "cell_type": "markdown",
   "id": "633951dc-ca87-4032-ad2d-b76a909861bf",
   "metadata": {
    "papermill": {
     "duration": 0.027617,
     "end_time": "2023-01-26T16:16:32.921426",
     "exception": false,
     "start_time": "2023-01-26T16:16:32.893809",
     "status": "completed"
    },
    "tags": []
   },
   "source": [
    "# Demo"
   ]
  },
  {
   "cell_type": "markdown",
   "id": "524d5465-bce2-42f3-8d18-6f821dae07a5",
   "metadata": {
    "papermill": {
     "duration": 0.032763,
     "end_time": "2023-01-26T16:16:32.989703",
     "exception": false,
     "start_time": "2023-01-26T16:16:32.956940",
     "status": "completed"
    },
    "tags": []
   },
   "source": [
    "## Input"
   ]
  },
  {
   "cell_type": "markdown",
   "id": "918e5873-b444-43d4-aacd-852fffb5aceb",
   "metadata": {
    "papermill": {
     "duration": 0.032803,
     "end_time": "2023-01-26T16:16:33.052151",
     "exception": false,
     "start_time": "2023-01-26T16:16:33.019348",
     "status": "completed"
    },
    "tags": []
   },
   "source": [
    "### Import libraries"
   ]
  },
  {
   "cell_type": "code",
   "execution_count": 1,
   "id": "f6585d07-f50b-439a-84a9-4c0061870d29",
   "metadata": {
    "execution": {
     "iopub.execute_input": "2023-01-26T16:16:33.123502Z",
     "iopub.status.busy": "2023-01-26T16:16:33.123050Z",
     "iopub.status.idle": "2023-01-26T16:16:35.669699Z",
     "shell.execute_reply": "2023-01-26T16:16:35.669276Z",
     "shell.execute_reply.started": "2023-01-26T16:03:56.360749Z"
    },
    "papermill": {
     "duration": 2.586334,
     "end_time": "2023-01-26T16:16:35.669838",
     "exception": false,
     "start_time": "2023-01-26T16:16:33.083504",
     "status": "completed"
    },
    "tags": []
   },
   "outputs": [
    {
     "name": "stdout",
     "output_type": "stream",
     "text": [
      "✅ Demo loaded successfully.\n",
      "✅ utils file '/home/ftp/data-product-framework/utils/demo.ipynb' successfully loaded.\n"
     ]
    }
   ],
   "source": [
    "import naas_data_product #load utils notebooks\n",
    "import time"
   ]
  },
  {
   "cell_type": "markdown",
   "id": "8e659ff5-80d3-43c9-8daf-1ae7f8d2a554",
   "metadata": {
    "papermill": {
     "duration": 0.033947,
     "end_time": "2023-01-26T16:16:35.738758",
     "exception": false,
     "start_time": "2023-01-26T16:16:35.704811",
     "status": "completed"
    },
    "tags": []
   },
   "source": [
    "### Setup Variables"
   ]
  },
  {
   "cell_type": "code",
   "execution_count": 2,
   "id": "c1a6eb30-fbb2-465e-a8f9-21baf6a8b547",
   "metadata": {
    "execution": {
     "iopub.execute_input": "2023-01-26T16:16:35.811051Z",
     "iopub.status.busy": "2023-01-26T16:16:35.810401Z",
     "iopub.status.idle": "2023-01-26T16:16:35.812130Z",
     "shell.execute_reply": "2023-01-26T16:16:35.812463Z",
     "shell.execute_reply.started": "2023-01-26T16:03:57.176382Z"
    },
    "papermill": {
     "duration": 0.037582,
     "end_time": "2023-01-26T16:16:35.812603",
     "exception": false,
     "start_time": "2023-01-26T16:16:35.775021",
     "status": "completed"
    },
    "tags": [
     "parameters"
    ]
   },
   "outputs": [],
   "source": [
    "sleeping_seconds = 5"
   ]
  },
  {
   "cell_type": "markdown",
   "id": "ea6ff4cf-cea6-420e-b190-5979156b5fed",
   "metadata": {
    "papermill": {
     "duration": 0.042177,
     "end_time": "2023-01-26T16:16:35.883498",
     "exception": false,
     "start_time": "2023-01-26T16:16:35.841321",
     "status": "completed"
    },
    "tags": []
   },
   "source": [
    "## Model"
   ]
  },
  {
   "cell_type": "markdown",
   "id": "57cc3ca7-a5a2-4ee9-bee0-61c593255eb5",
   "metadata": {
    "papermill": {
     "duration": 0.038107,
     "end_time": "2023-01-26T16:16:35.954473",
     "exception": false,
     "start_time": "2023-01-26T16:16:35.916366",
     "status": "completed"
    },
    "tags": []
   },
   "source": [
    "### Pause notebook execution"
   ]
  },
  {
   "cell_type": "code",
   "execution_count": 3,
   "id": "8bb2bcce-fae7-4095-abc3-a886c8dc24bf",
   "metadata": {
    "execution": {
     "iopub.execute_input": "2023-01-26T16:16:36.019587Z",
     "iopub.status.busy": "2023-01-26T16:16:36.019118Z",
     "iopub.status.idle": "2023-01-26T16:16:41.024864Z",
     "shell.execute_reply": "2023-01-26T16:16:41.025237Z",
     "shell.execute_reply.started": "2023-01-26T16:03:58.243268Z"
    },
    "papermill": {
     "duration": 5.03983,
     "end_time": "2023-01-26T16:16:41.025395",
     "exception": false,
     "start_time": "2023-01-26T16:16:35.985565",
     "status": "completed"
    },
    "tags": []
   },
   "outputs": [],
   "source": [
    "time.sleep(sleeping_seconds)"
   ]
  },
  {
   "cell_type": "markdown",
   "id": "d856dbf2-37a4-4e52-804a-81c3728b99a7",
   "metadata": {
    "papermill": {
     "duration": 0.037685,
     "end_time": "2023-01-26T16:16:41.096291",
     "exception": false,
     "start_time": "2023-01-26T16:16:41.058606",
     "status": "completed"
    },
    "tags": []
   },
   "source": [
    "## Output"
   ]
  },
  {
   "cell_type": "markdown",
   "id": "2c4996fc-6773-4b9b-bf78-b39bc9a88bf2",
   "metadata": {
    "papermill": {
     "duration": 0.030685,
     "end_time": "2023-01-26T16:16:41.162511",
     "exception": false,
     "start_time": "2023-01-26T16:16:41.131826",
     "status": "completed"
    },
    "tags": []
   },
   "source": [
    "### Display result"
   ]
  },
  {
   "cell_type": "code",
   "execution_count": 4,
   "id": "d26d8cee-8e57-4aab-b621-14f82e5010a5",
   "metadata": {
    "execution": {
     "iopub.execute_input": "2023-01-26T16:16:41.231064Z",
     "iopub.status.busy": "2023-01-26T16:16:41.230526Z",
     "iopub.status.idle": "2023-01-26T16:16:41.232590Z",
     "shell.execute_reply": "2023-01-26T16:16:41.232937Z",
     "shell.execute_reply.started": "2023-01-26T16:04:03.252384Z"
    },
    "papermill": {
     "duration": 0.035251,
     "end_time": "2023-01-26T16:16:41.233080",
     "exception": false,
     "start_time": "2023-01-26T16:16:41.197829",
     "status": "completed"
    },
    "tags": []
   },
   "outputs": [
    {
     "name": "stdout",
     "output_type": "stream",
     "text": [
      "Hello World!\n"
     ]
    }
   ],
   "source": [
    "print(\"Hello World!\")"
   ]
  },
  {
   "cell_type": "code",
   "execution_count": null,
   "id": "4c2c9208-8c77-4436-b73e-0af00a2e4d2c",
   "metadata": {
    "papermill": {
     "duration": 0.036221,
     "end_time": "2023-01-26T16:16:41.306387",
     "exception": false,
     "start_time": "2023-01-26T16:16:41.270166",
     "status": "completed"
    },
    "tags": []
   },
   "outputs": [],
   "source": []
  }
 ],
 "metadata": {
  "kernelspec": {
   "display_name": "Python 3",
   "language": "python",
   "name": "python3"
  },
  "language_info": {
   "codemirror_mode": {
    "name": "ipython",
    "version": 3
   },
   "file_extension": ".py",
   "mimetype": "text/x-python",
   "name": "python",
   "nbconvert_exporter": "python",
   "pygments_lexer": "ipython3",
   "version": "3.9.6"
  },
  "papermill": {
   "default_parameters": {},
   "duration": 12.094905,
   "end_time": "2023-01-26T16:16:42.824155",
   "environment_variables": {},
   "exception": null,
   "input_path": "bronze/IMO_template.ipynb",
   "output_path": "pipeline_executions/2023-01-26_17-16-30-3aee4bd9-15bf-4fab-a939-319d5be4d927/Collection.IMO_template.ipynb",
   "parameters": {},
   "start_time": "2023-01-26T16:16:30.729250",
   "version": "2.3.3"
  },
  "widgets": {
   "application/vnd.jupyter.widget-state+json": {
    "state": {},
    "version_major": 2,
    "version_minor": 0
   }
  }
 },
 "nbformat": 4,
 "nbformat_minor": 5
}