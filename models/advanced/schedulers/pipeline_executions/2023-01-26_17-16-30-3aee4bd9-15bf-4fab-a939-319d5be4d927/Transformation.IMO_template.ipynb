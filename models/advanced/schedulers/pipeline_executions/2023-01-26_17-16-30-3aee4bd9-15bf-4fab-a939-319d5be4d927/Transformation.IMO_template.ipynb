{
 "cells": [
  {
   "cell_type": "markdown",
   "id": "dd66232c-09f1-44bf-8849-0cd5c52f78a6",
   "metadata": {
    "papermill": {
     "duration": 0.031527,
     "end_time": "2023-01-26T16:16:55.486156",
     "exception": false,
     "start_time": "2023-01-26T16:16:55.454629",
     "status": "completed"
    },
    "tags": []
   },
   "source": [
    "<img width=\"10%\" alt=\"Naas\" src=\"https://landen.imgix.net/jtci2pxwjczr/assets/5ice39g4.png?w=160\"/>"
   ]
  },
  {
   "cell_type": "markdown",
   "id": "633951dc-ca87-4032-ad2d-b76a909861bf",
   "metadata": {
    "papermill": {
     "duration": 0.030523,
     "end_time": "2023-01-26T16:16:55.545955",
     "exception": false,
     "start_time": "2023-01-26T16:16:55.515432",
     "status": "completed"
    },
    "tags": []
   },
   "source": [
    "# Demo"
   ]
  },
  {
   "cell_type": "markdown",
   "id": "524d5465-bce2-42f3-8d18-6f821dae07a5",
   "metadata": {
    "papermill": {
     "duration": 0.035344,
     "end_time": "2023-01-26T16:16:55.612273",
     "exception": false,
     "start_time": "2023-01-26T16:16:55.576929",
     "status": "completed"
    },
    "tags": []
   },
   "source": [
    "## Input"
   ]
  },
  {
   "cell_type": "markdown",
   "id": "918e5873-b444-43d4-aacd-852fffb5aceb",
   "metadata": {
    "papermill": {
     "duration": 0.031356,
     "end_time": "2023-01-26T16:16:55.676024",
     "exception": false,
     "start_time": "2023-01-26T16:16:55.644668",
     "status": "completed"
    },
    "tags": []
   },
   "source": [
    "### Import libraries"
   ]
  },
  {
   "cell_type": "code",
   "execution_count": 1,
   "id": "f6585d07-f50b-439a-84a9-4c0061870d29",
   "metadata": {
    "execution": {
     "iopub.execute_input": "2023-01-26T16:16:55.748547Z",
     "iopub.status.busy": "2023-01-26T16:16:55.748112Z",
     "iopub.status.idle": "2023-01-26T16:16:58.183691Z",
     "shell.execute_reply": "2023-01-26T16:16:58.183226Z",
     "shell.execute_reply.started": "2023-01-26T16:03:56.360749Z"
    },
    "papermill": {
     "duration": 2.47232,
     "end_time": "2023-01-26T16:16:58.183832",
     "exception": false,
     "start_time": "2023-01-26T16:16:55.711512",
     "status": "completed"
    },
    "tags": []
   },
   "outputs": [
    {
     "name": "stdout",
     "output_type": "stream",
     "text": [
      "✅ Demo loaded successfully.\n",
      "✅ utils file '/home/ftp/data-product-framework/utils/demo.ipynb' successfully loaded.\n"
     ]
    }
   ],
   "source": [
    "import naas_data_product #load utils notebooks\n",
    "import time"
   ]
  },
  {
   "cell_type": "markdown",
   "id": "8e659ff5-80d3-43c9-8daf-1ae7f8d2a554",
   "metadata": {
    "papermill": {
     "duration": 0.030151,
     "end_time": "2023-01-26T16:16:58.247932",
     "exception": false,
     "start_time": "2023-01-26T16:16:58.217781",
     "status": "completed"
    },
    "tags": []
   },
   "source": [
    "### Setup Variables"
   ]
  },
  {
   "cell_type": "code",
   "execution_count": 2,
   "id": "c1a6eb30-fbb2-465e-a8f9-21baf6a8b547",
   "metadata": {
    "execution": {
     "iopub.execute_input": "2023-01-26T16:16:58.311105Z",
     "iopub.status.busy": "2023-01-26T16:16:58.310490Z",
     "iopub.status.idle": "2023-01-26T16:16:58.312864Z",
     "shell.execute_reply": "2023-01-26T16:16:58.312419Z",
     "shell.execute_reply.started": "2023-01-26T16:03:57.176382Z"
    },
    "papermill": {
     "duration": 0.034099,
     "end_time": "2023-01-26T16:16:58.312990",
     "exception": false,
     "start_time": "2023-01-26T16:16:58.278891",
     "status": "completed"
    },
    "tags": [
     "parameters"
    ]
   },
   "outputs": [],
   "source": [
    "sleeping_seconds = 5"
   ]
  },
  {
   "cell_type": "markdown",
   "id": "ea6ff4cf-cea6-420e-b190-5979156b5fed",
   "metadata": {
    "papermill": {
     "duration": 0.030085,
     "end_time": "2023-01-26T16:16:58.376107",
     "exception": false,
     "start_time": "2023-01-26T16:16:58.346022",
     "status": "completed"
    },
    "tags": []
   },
   "source": [
    "## Model"
   ]
  },
  {
   "cell_type": "markdown",
   "id": "57cc3ca7-a5a2-4ee9-bee0-61c593255eb5",
   "metadata": {
    "papermill": {
     "duration": 0.03388,
     "end_time": "2023-01-26T16:16:58.441719",
     "exception": false,
     "start_time": "2023-01-26T16:16:58.407839",
     "status": "completed"
    },
    "tags": []
   },
   "source": [
    "### Pause notebook execution"
   ]
  },
  {
   "cell_type": "code",
   "execution_count": 3,
   "id": "8bb2bcce-fae7-4095-abc3-a886c8dc24bf",
   "metadata": {
    "execution": {
     "iopub.execute_input": "2023-01-26T16:16:58.509255Z",
     "iopub.status.busy": "2023-01-26T16:16:58.508817Z",
     "iopub.status.idle": "2023-01-26T16:17:03.516397Z",
     "shell.execute_reply": "2023-01-26T16:17:03.515892Z",
     "shell.execute_reply.started": "2023-01-26T16:03:58.243268Z"
    },
    "papermill": {
     "duration": 5.043549,
     "end_time": "2023-01-26T16:17:03.516564",
     "exception": false,
     "start_time": "2023-01-26T16:16:58.473015",
     "status": "completed"
    },
    "tags": []
   },
   "outputs": [],
   "source": [
    "time.sleep(sleeping_seconds)"
   ]
  },
  {
   "cell_type": "markdown",
   "id": "d856dbf2-37a4-4e52-804a-81c3728b99a7",
   "metadata": {
    "papermill": {
     "duration": 0.034804,
     "end_time": "2023-01-26T16:17:03.589713",
     "exception": false,
     "start_time": "2023-01-26T16:17:03.554909",
     "status": "completed"
    },
    "tags": []
   },
   "source": [
    "## Output"
   ]
  },
  {
   "cell_type": "markdown",
   "id": "2c4996fc-6773-4b9b-bf78-b39bc9a88bf2",
   "metadata": {
    "papermill": {
     "duration": 0.031406,
     "end_time": "2023-01-26T16:17:03.652370",
     "exception": false,
     "start_time": "2023-01-26T16:17:03.620964",
     "status": "completed"
    },
    "tags": []
   },
   "source": [
    "### Display result"
   ]
  },
  {
   "cell_type": "code",
   "execution_count": 4,
   "id": "d26d8cee-8e57-4aab-b621-14f82e5010a5",
   "metadata": {
    "execution": {
     "iopub.execute_input": "2023-01-26T16:17:03.719073Z",
     "iopub.status.busy": "2023-01-26T16:17:03.718603Z",
     "iopub.status.idle": "2023-01-26T16:17:03.721097Z",
     "shell.execute_reply": "2023-01-26T16:17:03.720701Z",
     "shell.execute_reply.started": "2023-01-26T16:04:03.252384Z"
    },
    "papermill": {
     "duration": 0.037804,
     "end_time": "2023-01-26T16:17:03.721218",
     "exception": false,
     "start_time": "2023-01-26T16:17:03.683414",
     "status": "completed"
    },
    "tags": []
   },
   "outputs": [
    {
     "name": "stdout",
     "output_type": "stream",
     "text": [
      "Hello World!\n"
     ]
    }
   ],
   "source": [
    "print(\"Hello World!\")"
   ]
  },
  {
   "cell_type": "code",
   "execution_count": null,
   "id": "4c2c9208-8c77-4436-b73e-0af00a2e4d2c",
   "metadata": {
    "papermill": {
     "duration": 0.031161,
     "end_time": "2023-01-26T16:17:03.782618",
     "exception": false,
     "start_time": "2023-01-26T16:17:03.751457",
     "status": "completed"
    },
    "tags": []
   },
   "outputs": [],
   "source": []
  }
 ],
 "metadata": {
  "kernelspec": {
   "display_name": "Python 3",
   "language": "python",
   "name": "python3"
  },
  "language_info": {
   "codemirror_mode": {
    "name": "ipython",
    "version": 3
   },
   "file_extension": ".py",
   "mimetype": "text/x-python",
   "name": "python",
   "nbconvert_exporter": "python",
   "pygments_lexer": "ipython3",
   "version": "3.9.6"
  },
  "papermill": {
   "default_parameters": {},
   "duration": 11.050585,
   "end_time": "2023-01-26T16:17:05.070743",
   "environment_variables": {},
   "exception": null,
   "input_path": "gold/IMO_template.ipynb",
   "output_path": "pipeline_executions/2023-01-26_17-16-30-3aee4bd9-15bf-4fab-a939-319d5be4d927/Transformation.IMO_template.ipynb",
   "parameters": {},
   "start_time": "2023-01-26T16:16:54.020158",
   "version": "2.3.3"
  },
  "widgets": {
   "application/vnd.jupyter.widget-state+json": {
    "state": {},
    "version_major": 2,
    "version_minor": 0
   }
  }
 },
 "nbformat": 4,
 "nbformat_minor": 5
}