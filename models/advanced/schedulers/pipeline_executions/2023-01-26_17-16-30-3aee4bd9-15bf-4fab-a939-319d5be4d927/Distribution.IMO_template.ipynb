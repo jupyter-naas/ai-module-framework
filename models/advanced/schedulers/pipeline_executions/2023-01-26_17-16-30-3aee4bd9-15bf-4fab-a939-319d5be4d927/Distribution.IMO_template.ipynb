{
 "cells": [
  {
   "cell_type": "markdown",
   "id": "dd66232c-09f1-44bf-8849-0cd5c52f78a6",
   "metadata": {
    "papermill": {
     "duration": 0.035469,
     "end_time": "2023-01-26T16:17:06.661731",
     "exception": false,
     "start_time": "2023-01-26T16:17:06.626262",
     "status": "completed"
    },
    "tags": []
   },
   "source": [
    "<img width=\"10%\" alt=\"Naas\" src=\"https://landen.imgix.net/jtci2pxwjczr/assets/5ice39g4.png?w=160\"/>"
   ]
  },
  {
   "cell_type": "markdown",
   "id": "633951dc-ca87-4032-ad2d-b76a909861bf",
   "metadata": {
    "papermill": {
     "duration": 0.03306,
     "end_time": "2023-01-26T16:17:06.726487",
     "exception": false,
     "start_time": "2023-01-26T16:17:06.693427",
     "status": "completed"
    },
    "tags": []
   },
   "source": [
    "# Demo"
   ]
  },
  {
   "cell_type": "markdown",
   "id": "524d5465-bce2-42f3-8d18-6f821dae07a5",
   "metadata": {
    "papermill": {
     "duration": 0.030699,
     "end_time": "2023-01-26T16:17:06.789857",
     "exception": false,
     "start_time": "2023-01-26T16:17:06.759158",
     "status": "completed"
    },
    "tags": []
   },
   "source": [
    "## Input"
   ]
  },
  {
   "cell_type": "markdown",
   "id": "918e5873-b444-43d4-aacd-852fffb5aceb",
   "metadata": {
    "papermill": {
     "duration": 0.028567,
     "end_time": "2023-01-26T16:17:06.846825",
     "exception": false,
     "start_time": "2023-01-26T16:17:06.818258",
     "status": "completed"
    },
    "tags": []
   },
   "source": [
    "### Import libraries"
   ]
  },
  {
   "cell_type": "code",
   "execution_count": 1,
   "id": "f6585d07-f50b-439a-84a9-4c0061870d29",
   "metadata": {
    "execution": {
     "iopub.execute_input": "2023-01-26T16:17:06.909872Z",
     "iopub.status.busy": "2023-01-26T16:17:06.909232Z",
     "iopub.status.idle": "2023-01-26T16:17:09.330554Z",
     "shell.execute_reply": "2023-01-26T16:17:09.330107Z",
     "shell.execute_reply.started": "2023-01-26T16:03:56.360749Z"
    },
    "papermill": {
     "duration": 2.455044,
     "end_time": "2023-01-26T16:17:09.330691",
     "exception": false,
     "start_time": "2023-01-26T16:17:06.875647",
     "status": "completed"
    },
    "tags": []
   },
   "outputs": [
    {
     "name": "stdout",
     "output_type": "stream",
     "text": [
      "✅ Demo loaded successfully.\n",
      "✅ utils file '/home/ftp/data-product-framework/utils/demo.ipynb' successfully loaded.\n"
     ]
    }
   ],
   "source": [
    "import naas_data_product #load utils notebooks\n",
    "import time"
   ]
  },
  {
   "cell_type": "markdown",
   "id": "8e659ff5-80d3-43c9-8daf-1ae7f8d2a554",
   "metadata": {
    "papermill": {
     "duration": 0.030317,
     "end_time": "2023-01-26T16:17:09.393727",
     "exception": false,
     "start_time": "2023-01-26T16:17:09.363410",
     "status": "completed"
    },
    "tags": []
   },
   "source": [
    "### Setup Variables"
   ]
  },
  {
   "cell_type": "code",
   "execution_count": 2,
   "id": "c1a6eb30-fbb2-465e-a8f9-21baf6a8b547",
   "metadata": {
    "execution": {
     "iopub.execute_input": "2023-01-26T16:17:09.462446Z",
     "iopub.status.busy": "2023-01-26T16:17:09.461771Z",
     "iopub.status.idle": "2023-01-26T16:17:09.463445Z",
     "shell.execute_reply": "2023-01-26T16:17:09.463902Z",
     "shell.execute_reply.started": "2023-01-26T16:03:57.176382Z"
    },
    "papermill": {
     "duration": 0.039003,
     "end_time": "2023-01-26T16:17:09.464055",
     "exception": false,
     "start_time": "2023-01-26T16:17:09.425052",
     "status": "completed"
    },
    "tags": [
     "parameters"
    ]
   },
   "outputs": [],
   "source": [
    "sleeping_seconds = 5"
   ]
  },
  {
   "cell_type": "markdown",
   "id": "ea6ff4cf-cea6-420e-b190-5979156b5fed",
   "metadata": {
    "papermill": {
     "duration": 0.030931,
     "end_time": "2023-01-26T16:17:09.526701",
     "exception": false,
     "start_time": "2023-01-26T16:17:09.495770",
     "status": "completed"
    },
    "tags": []
   },
   "source": [
    "## Model"
   ]
  },
  {
   "cell_type": "markdown",
   "id": "57cc3ca7-a5a2-4ee9-bee0-61c593255eb5",
   "metadata": {
    "papermill": {
     "duration": 0.031915,
     "end_time": "2023-01-26T16:17:09.589826",
     "exception": false,
     "start_time": "2023-01-26T16:17:09.557911",
     "status": "completed"
    },
    "tags": []
   },
   "source": [
    "### Pause notebook execution"
   ]
  },
  {
   "cell_type": "code",
   "execution_count": 3,
   "id": "8bb2bcce-fae7-4095-abc3-a886c8dc24bf",
   "metadata": {
    "execution": {
     "iopub.execute_input": "2023-01-26T16:17:09.658168Z",
     "iopub.status.busy": "2023-01-26T16:17:09.657740Z",
     "iopub.status.idle": "2023-01-26T16:17:14.664615Z",
     "shell.execute_reply": "2023-01-26T16:17:14.664973Z",
     "shell.execute_reply.started": "2023-01-26T16:03:58.243268Z"
    },
    "papermill": {
     "duration": 5.043442,
     "end_time": "2023-01-26T16:17:14.665135",
     "exception": false,
     "start_time": "2023-01-26T16:17:09.621693",
     "status": "completed"
    },
    "tags": []
   },
   "outputs": [],
   "source": [
    "time.sleep(sleeping_seconds)"
   ]
  },
  {
   "cell_type": "markdown",
   "id": "d856dbf2-37a4-4e52-804a-81c3728b99a7",
   "metadata": {
    "papermill": {
     "duration": 0.032997,
     "end_time": "2023-01-26T16:17:14.732243",
     "exception": false,
     "start_time": "2023-01-26T16:17:14.699246",
     "status": "completed"
    },
    "tags": []
   },
   "source": [
    "## Output"
   ]
  },
  {
   "cell_type": "markdown",
   "id": "2c4996fc-6773-4b9b-bf78-b39bc9a88bf2",
   "metadata": {
    "papermill": {
     "duration": 0.038211,
     "end_time": "2023-01-26T16:17:14.800666",
     "exception": false,
     "start_time": "2023-01-26T16:17:14.762455",
     "status": "completed"
    },
    "tags": []
   },
   "source": [
    "### Display result"
   ]
  },
  {
   "cell_type": "code",
   "execution_count": 4,
   "id": "d26d8cee-8e57-4aab-b621-14f82e5010a5",
   "metadata": {
    "execution": {
     "iopub.execute_input": "2023-01-26T16:17:14.876648Z",
     "iopub.status.busy": "2023-01-26T16:17:14.876099Z",
     "iopub.status.idle": "2023-01-26T16:17:14.878157Z",
     "shell.execute_reply": "2023-01-26T16:17:14.878484Z",
     "shell.execute_reply.started": "2023-01-26T16:04:03.252384Z"
    },
    "papermill": {
     "duration": 0.043132,
     "end_time": "2023-01-26T16:17:14.878632",
     "exception": false,
     "start_time": "2023-01-26T16:17:14.835500",
     "status": "completed"
    },
    "tags": []
   },
   "outputs": [
    {
     "name": "stdout",
     "output_type": "stream",
     "text": [
      "Hello World!\n"
     ]
    }
   ],
   "source": [
    "print(\"Hello World!\")"
   ]
  },
  {
   "cell_type": "code",
   "execution_count": null,
   "id": "4c2c9208-8c77-4436-b73e-0af00a2e4d2c",
   "metadata": {
    "papermill": {
     "duration": 0.031371,
     "end_time": "2023-01-26T16:17:14.955681",
     "exception": false,
     "start_time": "2023-01-26T16:17:14.924310",
     "status": "completed"
    },
    "tags": []
   },
   "outputs": [],
   "source": []
  }
 ],
 "metadata": {
  "kernelspec": {
   "display_name": "Python 3",
   "language": "python",
   "name": "python3"
  },
  "language_info": {
   "codemirror_mode": {
    "name": "ipython",
    "version": 3
   },
   "file_extension": ".py",
   "mimetype": "text/x-python",
   "name": "python",
   "nbconvert_exporter": "python",
   "pygments_lexer": "ipython3",
   "version": "3.9.6"
  },
  "papermill": {
   "default_parameters": {},
   "duration": 11.052022,
   "end_time": "2023-01-26T16:17:16.199750",
   "environment_variables": {},
   "exception": null,
   "input_path": "insights/IMO_template.ipynb",
   "output_path": "pipeline_executions/2023-01-26_17-16-30-3aee4bd9-15bf-4fab-a939-319d5be4d927/Distribution.IMO_template.ipynb",
   "parameters": {},
   "start_time": "2023-01-26T16:17:05.147728",
   "version": "2.3.3"
  },
  "widgets": {
   "application/vnd.jupyter.widget-state+json": {
    "state": {},
    "version_major": 2,
    "version_minor": 0
   }
  }
 },
 "nbformat": 4,
 "nbformat_minor": 5
}