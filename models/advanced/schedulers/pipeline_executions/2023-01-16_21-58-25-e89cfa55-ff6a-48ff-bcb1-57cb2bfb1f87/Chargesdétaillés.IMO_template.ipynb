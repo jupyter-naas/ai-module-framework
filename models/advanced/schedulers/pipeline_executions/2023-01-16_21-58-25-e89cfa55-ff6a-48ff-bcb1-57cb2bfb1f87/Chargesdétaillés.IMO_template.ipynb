{
 "cells": [
  {
   "cell_type": "markdown",
   "id": "dd66232c-09f1-44bf-8849-0cd5c52f78a6",
   "metadata": {
    "papermill": {
     "duration": 0.037578,
     "end_time": "2023-01-16T20:59:05.366988",
     "exception": false,
     "start_time": "2023-01-16T20:59:05.329410",
     "status": "completed"
    },
    "tags": []
   },
   "source": [
    "<img width=\"10%\" alt=\"Naas\" src=\"https://landen.imgix.net/jtci2pxwjczr/assets/5ice39g4.png?w=160\"/>"
   ]
  },
  {
   "cell_type": "markdown",
   "id": "633951dc-ca87-4032-ad2d-b76a909861bf",
   "metadata": {
    "papermill": {
     "duration": 0.033581,
     "end_time": "2023-01-16T20:59:05.436001",
     "exception": false,
     "start_time": "2023-01-16T20:59:05.402420",
     "status": "completed"
    },
    "tags": []
   },
   "source": [
    "# Demo"
   ]
  },
  {
   "cell_type": "markdown",
   "id": "524d5465-bce2-42f3-8d18-6f821dae07a5",
   "metadata": {
    "papermill": {
     "duration": 0.034279,
     "end_time": "2023-01-16T20:59:05.505297",
     "exception": false,
     "start_time": "2023-01-16T20:59:05.471018",
     "status": "completed"
    },
    "tags": []
   },
   "source": [
    "## Input"
   ]
  },
  {
   "cell_type": "markdown",
   "id": "918e5873-b444-43d4-aacd-852fffb5aceb",
   "metadata": {
    "papermill": {
     "duration": 0.032279,
     "end_time": "2023-01-16T20:59:05.570302",
     "exception": false,
     "start_time": "2023-01-16T20:59:05.538023",
     "status": "completed"
    },
    "tags": []
   },
   "source": [
    "### Import libraries"
   ]
  },
  {
   "cell_type": "code",
   "execution_count": 1,
   "id": "f6585d07-f50b-439a-84a9-4c0061870d29",
   "metadata": {
    "execution": {
     "iopub.execute_input": "2023-01-16T20:59:05.652845Z",
     "iopub.status.busy": "2023-01-16T20:59:05.651612Z",
     "iopub.status.idle": "2023-01-16T20:59:09.060916Z",
     "shell.execute_reply": "2023-01-16T20:59:09.061267Z"
    },
    "papermill": {
     "duration": 3.454995,
     "end_time": "2023-01-16T20:59:09.061484",
     "exception": false,
     "start_time": "2023-01-16T20:59:05.606489",
     "status": "completed"
    },
    "tags": []
   },
   "outputs": [
    {
     "name": "stdout",
     "output_type": "stream",
     "text": [
      "✅ Demo loaded successfully.\n",
      "✅ utils file '/home/ftp/data-product-framework/utils/demo.ipynb' successfully loaded.\n"
     ]
    }
   ],
   "source": [
    "import naas_data_product #load utils notebooks\n",
    "import time"
   ]
  },
  {
   "cell_type": "markdown",
   "id": "8e659ff5-80d3-43c9-8daf-1ae7f8d2a554",
   "metadata": {
    "papermill": {
     "duration": 0.033974,
     "end_time": "2023-01-16T20:59:09.131326",
     "exception": false,
     "start_time": "2023-01-16T20:59:09.097352",
     "status": "completed"
    },
    "tags": []
   },
   "source": [
    "### Setup Variables"
   ]
  },
  {
   "cell_type": "code",
   "execution_count": 2,
   "id": "c1a6eb30-fbb2-465e-a8f9-21baf6a8b547",
   "metadata": {
    "execution": {
     "iopub.execute_input": "2023-01-16T20:59:09.205180Z",
     "iopub.status.busy": "2023-01-16T20:59:09.204578Z",
     "iopub.status.idle": "2023-01-16T20:59:09.206842Z",
     "shell.execute_reply": "2023-01-16T20:59:09.206458Z"
    },
    "papermill": {
     "duration": 0.041815,
     "end_time": "2023-01-16T20:59:09.206981",
     "exception": false,
     "start_time": "2023-01-16T20:59:09.165166",
     "status": "completed"
    },
    "tags": [
     "parameters"
    ]
   },
   "outputs": [],
   "source": [
    "sleeping_seconds = 5"
   ]
  },
  {
   "cell_type": "markdown",
   "id": "ea6ff4cf-cea6-420e-b190-5979156b5fed",
   "metadata": {
    "papermill": {
     "duration": 0.035581,
     "end_time": "2023-01-16T20:59:09.278647",
     "exception": false,
     "start_time": "2023-01-16T20:59:09.243066",
     "status": "completed"
    },
    "tags": []
   },
   "source": [
    "## Model"
   ]
  },
  {
   "cell_type": "markdown",
   "id": "57cc3ca7-a5a2-4ee9-bee0-61c593255eb5",
   "metadata": {
    "papermill": {
     "duration": 0.033578,
     "end_time": "2023-01-16T20:59:09.346261",
     "exception": false,
     "start_time": "2023-01-16T20:59:09.312683",
     "status": "completed"
    },
    "tags": []
   },
   "source": [
    "### Pause notebook execution"
   ]
  },
  {
   "cell_type": "code",
   "execution_count": 3,
   "id": "8bb2bcce-fae7-4095-abc3-a886c8dc24bf",
   "metadata": {
    "execution": {
     "iopub.execute_input": "2023-01-16T20:59:09.419271Z",
     "iopub.status.busy": "2023-01-16T20:59:09.418812Z",
     "iopub.status.idle": "2023-01-16T20:59:14.424292Z",
     "shell.execute_reply": "2023-01-16T20:59:14.423292Z"
    },
    "papermill": {
     "duration": 5.042277,
     "end_time": "2023-01-16T20:59:14.424484",
     "exception": false,
     "start_time": "2023-01-16T20:59:09.382207",
     "status": "completed"
    },
    "tags": []
   },
   "outputs": [],
   "source": [
    "time.sleep(sleeping_seconds)"
   ]
  },
  {
   "cell_type": "markdown",
   "id": "d856dbf2-37a4-4e52-804a-81c3728b99a7",
   "metadata": {
    "papermill": {
     "duration": 0.034129,
     "end_time": "2023-01-16T20:59:14.502616",
     "exception": false,
     "start_time": "2023-01-16T20:59:14.468487",
     "status": "completed"
    },
    "tags": []
   },
   "source": [
    "## Output"
   ]
  },
  {
   "cell_type": "markdown",
   "id": "2c4996fc-6773-4b9b-bf78-b39bc9a88bf2",
   "metadata": {
    "papermill": {
     "duration": 0.034005,
     "end_time": "2023-01-16T20:59:14.571867",
     "exception": false,
     "start_time": "2023-01-16T20:59:14.537862",
     "status": "completed"
    },
    "tags": []
   },
   "source": [
    "### Display result"
   ]
  },
  {
   "cell_type": "code",
   "execution_count": 4,
   "id": "d26d8cee-8e57-4aab-b621-14f82e5010a5",
   "metadata": {
    "execution": {
     "iopub.execute_input": "2023-01-16T20:59:14.645076Z",
     "iopub.status.busy": "2023-01-16T20:59:14.644542Z",
     "iopub.status.idle": "2023-01-16T20:59:14.646595Z",
     "shell.execute_reply": "2023-01-16T20:59:14.646920Z"
    },
    "papermill": {
     "duration": 0.041394,
     "end_time": "2023-01-16T20:59:14.647061",
     "exception": false,
     "start_time": "2023-01-16T20:59:14.605667",
     "status": "completed"
    },
    "tags": []
   },
   "outputs": [
    {
     "name": "stdout",
     "output_type": "stream",
     "text": [
      "Hello World!\n"
     ]
    }
   ],
   "source": [
    "print(\"Hello World!\")"
   ]
  }
 ],
 "metadata": {
  "kernelspec": {
   "display_name": "Python 3",
   "language": "python",
   "name": "python3"
  },
  "language_info": {
   "codemirror_mode": {
    "name": "ipython",
    "version": 3
   },
   "file_extension": ".py",
   "mimetype": "text/x-python",
   "name": "python",
   "nbconvert_exporter": "python",
   "pygments_lexer": "ipython3",
   "version": "3.9.6"
  },
  "papermill": {
   "default_parameters": {},
   "duration": 11.506646,
   "end_time": "2023-01-16T20:59:15.189609",
   "environment_variables": {},
   "exception": null,
   "input_path": "IMO_template.ipynb",
   "output_path": "pipeline_executions/2023-01-16_21-58-25-e89cfa55-ff6a-48ff-bcb1-57cb2bfb1f87/Chargesdétaillés.IMO_template.ipynb",
   "parameters": {},
   "start_time": "2023-01-16T20:59:03.682963",
   "version": "2.3.3"
  },
  "widgets": {
   "application/vnd.jupyter.widget-state+json": {
    "state": {},
    "version_major": 2,
    "version_minor": 0
   }
  }
 },
 "nbformat": 4,
 "nbformat_minor": 5
}