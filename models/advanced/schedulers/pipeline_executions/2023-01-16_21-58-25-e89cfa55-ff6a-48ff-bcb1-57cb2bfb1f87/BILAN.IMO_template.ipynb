{
 "cells": [
  {
   "cell_type": "markdown",
   "id": "dd66232c-09f1-44bf-8849-0cd5c52f78a6",
   "metadata": {
    "papermill": {
     "duration": 0.052543,
     "end_time": "2023-01-16T20:58:39.908076",
     "exception": false,
     "start_time": "2023-01-16T20:58:39.855533",
     "status": "completed"
    },
    "tags": []
   },
   "source": [
    "<img width=\"10%\" alt=\"Naas\" src=\"https://landen.imgix.net/jtci2pxwjczr/assets/5ice39g4.png?w=160\"/>"
   ]
  },
  {
   "cell_type": "markdown",
   "id": "633951dc-ca87-4032-ad2d-b76a909861bf",
   "metadata": {
    "papermill": {
     "duration": 0.044862,
     "end_time": "2023-01-16T20:58:39.993477",
     "exception": false,
     "start_time": "2023-01-16T20:58:39.948615",
     "status": "completed"
    },
    "tags": []
   },
   "source": [
    "# Demo"
   ]
  },
  {
   "cell_type": "markdown",
   "id": "524d5465-bce2-42f3-8d18-6f821dae07a5",
   "metadata": {
    "papermill": {
     "duration": 0.035977,
     "end_time": "2023-01-16T20:58:40.070585",
     "exception": false,
     "start_time": "2023-01-16T20:58:40.034608",
     "status": "completed"
    },
    "tags": []
   },
   "source": [
    "## Input"
   ]
  },
  {
   "cell_type": "markdown",
   "id": "918e5873-b444-43d4-aacd-852fffb5aceb",
   "metadata": {
    "papermill": {
     "duration": 0.03922,
     "end_time": "2023-01-16T20:58:40.152358",
     "exception": false,
     "start_time": "2023-01-16T20:58:40.113138",
     "status": "completed"
    },
    "tags": []
   },
   "source": [
    "### Import libraries"
   ]
  },
  {
   "cell_type": "code",
   "execution_count": 1,
   "id": "f6585d07-f50b-439a-84a9-4c0061870d29",
   "metadata": {
    "execution": {
     "iopub.execute_input": "2023-01-16T20:58:40.240330Z",
     "iopub.status.busy": "2023-01-16T20:58:40.239697Z",
     "iopub.status.idle": "2023-01-16T20:58:45.331797Z",
     "shell.execute_reply": "2023-01-16T20:58:45.332352Z"
    },
    "papermill": {
     "duration": 5.137912,
     "end_time": "2023-01-16T20:58:45.332558",
     "exception": false,
     "start_time": "2023-01-16T20:58:40.194646",
     "status": "completed"
    },
    "tags": []
   },
   "outputs": [
    {
     "name": "stdout",
     "output_type": "stream",
     "text": [
      "✅ Demo loaded successfully.\n",
      "✅ utils file '/home/ftp/data-product-framework/utils/demo.ipynb' successfully loaded.\n"
     ]
    }
   ],
   "source": [
    "import naas_data_product #load utils notebooks\n",
    "import time"
   ]
  },
  {
   "cell_type": "markdown",
   "id": "8e659ff5-80d3-43c9-8daf-1ae7f8d2a554",
   "metadata": {
    "papermill": {
     "duration": 0.037605,
     "end_time": "2023-01-16T20:58:45.405357",
     "exception": false,
     "start_time": "2023-01-16T20:58:45.367752",
     "status": "completed"
    },
    "tags": []
   },
   "source": [
    "### Setup Variables"
   ]
  },
  {
   "cell_type": "code",
   "execution_count": 2,
   "id": "c1a6eb30-fbb2-465e-a8f9-21baf6a8b547",
   "metadata": {
    "execution": {
     "iopub.execute_input": "2023-01-16T20:58:45.489628Z",
     "iopub.status.busy": "2023-01-16T20:58:45.489040Z",
     "iopub.status.idle": "2023-01-16T20:58:45.491213Z",
     "shell.execute_reply": "2023-01-16T20:58:45.490884Z"
    },
    "papermill": {
     "duration": 0.040736,
     "end_time": "2023-01-16T20:58:45.491332",
     "exception": false,
     "start_time": "2023-01-16T20:58:45.450596",
     "status": "completed"
    },
    "tags": [
     "parameters"
    ]
   },
   "outputs": [],
   "source": [
    "sleeping_seconds = 5"
   ]
  },
  {
   "cell_type": "markdown",
   "id": "ea6ff4cf-cea6-420e-b190-5979156b5fed",
   "metadata": {
    "papermill": {
     "duration": 0.040273,
     "end_time": "2023-01-16T20:58:45.568598",
     "exception": false,
     "start_time": "2023-01-16T20:58:45.528325",
     "status": "completed"
    },
    "tags": []
   },
   "source": [
    "## Model"
   ]
  },
  {
   "cell_type": "markdown",
   "id": "57cc3ca7-a5a2-4ee9-bee0-61c593255eb5",
   "metadata": {
    "papermill": {
     "duration": 0.043585,
     "end_time": "2023-01-16T20:58:45.659261",
     "exception": false,
     "start_time": "2023-01-16T20:58:45.615676",
     "status": "completed"
    },
    "tags": []
   },
   "source": [
    "### Pause notebook execution"
   ]
  },
  {
   "cell_type": "code",
   "execution_count": 3,
   "id": "8bb2bcce-fae7-4095-abc3-a886c8dc24bf",
   "metadata": {
    "execution": {
     "iopub.execute_input": "2023-01-16T20:58:45.743824Z",
     "iopub.status.busy": "2023-01-16T20:58:45.743219Z",
     "iopub.status.idle": "2023-01-16T20:58:50.749299Z",
     "shell.execute_reply": "2023-01-16T20:58:50.748926Z"
    },
    "papermill": {
     "duration": 5.052231,
     "end_time": "2023-01-16T20:58:50.749432",
     "exception": false,
     "start_time": "2023-01-16T20:58:45.697201",
     "status": "completed"
    },
    "tags": []
   },
   "outputs": [],
   "source": [
    "time.sleep(sleeping_seconds)"
   ]
  },
  {
   "cell_type": "markdown",
   "id": "d856dbf2-37a4-4e52-804a-81c3728b99a7",
   "metadata": {
    "papermill": {
     "duration": 0.049796,
     "end_time": "2023-01-16T20:58:50.838589",
     "exception": false,
     "start_time": "2023-01-16T20:58:50.788793",
     "status": "completed"
    },
    "tags": []
   },
   "source": [
    "## Output"
   ]
  },
  {
   "cell_type": "markdown",
   "id": "2c4996fc-6773-4b9b-bf78-b39bc9a88bf2",
   "metadata": {
    "papermill": {
     "duration": 0.033902,
     "end_time": "2023-01-16T20:58:50.916153",
     "exception": false,
     "start_time": "2023-01-16T20:58:50.882251",
     "status": "completed"
    },
    "tags": []
   },
   "source": [
    "### Display result"
   ]
  },
  {
   "cell_type": "code",
   "execution_count": 4,
   "id": "d26d8cee-8e57-4aab-b621-14f82e5010a5",
   "metadata": {
    "execution": {
     "iopub.execute_input": "2023-01-16T20:58:51.024130Z",
     "iopub.status.busy": "2023-01-16T20:58:51.023680Z",
     "iopub.status.idle": "2023-01-16T20:58:51.026179Z",
     "shell.execute_reply": "2023-01-16T20:58:51.025737Z"
    },
    "papermill": {
     "duration": 0.063145,
     "end_time": "2023-01-16T20:58:51.026297",
     "exception": false,
     "start_time": "2023-01-16T20:58:50.963152",
     "status": "completed"
    },
    "tags": []
   },
   "outputs": [
    {
     "name": "stdout",
     "output_type": "stream",
     "text": [
      "Hello World!\n"
     ]
    }
   ],
   "source": [
    "print(\"Hello World!\")"
   ]
  }
 ],
 "metadata": {
  "kernelspec": {
   "display_name": "Python 3",
   "language": "python",
   "name": "python3"
  },
  "language_info": {
   "codemirror_mode": {
    "name": "ipython",
    "version": 3
   },
   "file_extension": ".py",
   "mimetype": "text/x-python",
   "name": "python",
   "nbconvert_exporter": "python",
   "pygments_lexer": "ipython3",
   "version": "3.9.6"
  },
  "papermill": {
   "default_parameters": {},
   "duration": 15.101757,
   "end_time": "2023-01-16T20:58:52.599338",
   "environment_variables": {},
   "exception": null,
   "input_path": "IMO_template.ipynb",
   "output_path": "pipeline_executions/2023-01-16_21-58-25-e89cfa55-ff6a-48ff-bcb1-57cb2bfb1f87/BILAN.IMO_template.ipynb",
   "parameters": {},
   "start_time": "2023-01-16T20:58:37.497581",
   "version": "2.3.3"
  },
  "widgets": {
   "application/vnd.jupyter.widget-state+json": {
    "state": {},
    "version_major": 2,
    "version_minor": 0
   }
  }
 },
 "nbformat": 4,
 "nbformat_minor": 5
}