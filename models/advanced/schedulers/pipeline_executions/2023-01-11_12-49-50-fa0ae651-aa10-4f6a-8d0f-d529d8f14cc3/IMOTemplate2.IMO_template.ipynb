{
 "cells": [
  {
   "cell_type": "markdown",
   "id": "dd66232c-09f1-44bf-8849-0cd5c52f78a6",
   "metadata": {
    "papermill": {
     "duration": 0.04073,
     "end_time": "2023-01-11T11:49:53.355687",
     "exception": false,
     "start_time": "2023-01-11T11:49:53.314957",
     "status": "completed"
    },
    "tags": []
   },
   "source": [
    "<img width=\"10%\" alt=\"Naas\" src=\"https://landen.imgix.net/jtci2pxwjczr/assets/5ice39g4.png?w=160\"/>"
   ]
  },
  {
   "cell_type": "markdown",
   "id": "633951dc-ca87-4032-ad2d-b76a909861bf",
   "metadata": {
    "papermill": {
     "duration": 0.038318,
     "end_time": "2023-01-11T11:49:53.428075",
     "exception": false,
     "start_time": "2023-01-11T11:49:53.389757",
     "status": "completed"
    },
    "tags": []
   },
   "source": [
    "# Demo"
   ]
  },
  {
   "cell_type": "markdown",
   "id": "524d5465-bce2-42f3-8d18-6f821dae07a5",
   "metadata": {
    "papermill": {
     "duration": 0.038787,
     "end_time": "2023-01-11T11:49:53.501916",
     "exception": false,
     "start_time": "2023-01-11T11:49:53.463129",
     "status": "completed"
    },
    "tags": []
   },
   "source": [
    "## Input"
   ]
  },
  {
   "cell_type": "markdown",
   "id": "918e5873-b444-43d4-aacd-852fffb5aceb",
   "metadata": {
    "papermill": {
     "duration": 0.039747,
     "end_time": "2023-01-11T11:49:53.587464",
     "exception": false,
     "start_time": "2023-01-11T11:49:53.547717",
     "status": "completed"
    },
    "tags": []
   },
   "source": [
    "### Import libraries"
   ]
  },
  {
   "cell_type": "code",
   "execution_count": 1,
   "id": "f6585d07-f50b-439a-84a9-4c0061870d29",
   "metadata": {
    "execution": {
     "iopub.execute_input": "2023-01-11T11:49:53.688969Z",
     "iopub.status.busy": "2023-01-11T11:49:53.686959Z",
     "iopub.status.idle": "2023-01-11T11:49:58.397091Z",
     "shell.execute_reply": "2023-01-11T11:49:58.397726Z"
    },
    "papermill": {
     "duration": 4.771956,
     "end_time": "2023-01-11T11:49:58.398065",
     "exception": false,
     "start_time": "2023-01-11T11:49:53.626109",
     "status": "completed"
    },
    "tags": []
   },
   "outputs": [
    {
     "name": "stdout",
     "output_type": "stream",
     "text": [
      "✅ Demo loaded successfully.\n",
      "✅ utils file '/home/ftp/data-product-framework/utils/demo.ipynb' successfully loaded.\n"
     ]
    }
   ],
   "source": [
    "import naas_data_product #load utils notebooks\n",
    "import time"
   ]
  },
  {
   "cell_type": "markdown",
   "id": "8e659ff5-80d3-43c9-8daf-1ae7f8d2a554",
   "metadata": {
    "papermill": {
     "duration": 0.03865,
     "end_time": "2023-01-11T11:49:58.487780",
     "exception": false,
     "start_time": "2023-01-11T11:49:58.449130",
     "status": "completed"
    },
    "tags": []
   },
   "source": [
    "### Setup Variables"
   ]
  },
  {
   "cell_type": "code",
   "execution_count": 2,
   "id": "c1a6eb30-fbb2-465e-a8f9-21baf6a8b547",
   "metadata": {
    "execution": {
     "iopub.execute_input": "2023-01-11T11:49:58.572801Z",
     "iopub.status.busy": "2023-01-11T11:49:58.572116Z",
     "iopub.status.idle": "2023-01-11T11:49:58.576583Z",
     "shell.execute_reply": "2023-01-11T11:49:58.576214Z"
    },
    "papermill": {
     "duration": 0.046409,
     "end_time": "2023-01-11T11:49:58.576708",
     "exception": false,
     "start_time": "2023-01-11T11:49:58.530299",
     "status": "completed"
    },
    "tags": [
     "parameters"
    ]
   },
   "outputs": [],
   "source": [
    "sleeping_seconds = 5"
   ]
  },
  {
   "cell_type": "markdown",
   "id": "ea6ff4cf-cea6-420e-b190-5979156b5fed",
   "metadata": {
    "papermill": {
     "duration": 0.039789,
     "end_time": "2023-01-11T11:49:58.653941",
     "exception": false,
     "start_time": "2023-01-11T11:49:58.614152",
     "status": "completed"
    },
    "tags": []
   },
   "source": [
    "## Model"
   ]
  },
  {
   "cell_type": "markdown",
   "id": "57cc3ca7-a5a2-4ee9-bee0-61c593255eb5",
   "metadata": {
    "papermill": {
     "duration": 0.041643,
     "end_time": "2023-01-11T11:49:58.737749",
     "exception": false,
     "start_time": "2023-01-11T11:49:58.696106",
     "status": "completed"
    },
    "tags": []
   },
   "source": [
    "### Pause notebook execution"
   ]
  },
  {
   "cell_type": "code",
   "execution_count": 3,
   "id": "8bb2bcce-fae7-4095-abc3-a886c8dc24bf",
   "metadata": {
    "execution": {
     "iopub.execute_input": "2023-01-11T11:49:58.813514Z",
     "iopub.status.busy": "2023-01-11T11:49:58.813100Z",
     "iopub.status.idle": "2023-01-11T11:50:03.819559Z",
     "shell.execute_reply": "2023-01-11T11:50:03.819161Z"
    },
    "papermill": {
     "duration": 5.047686,
     "end_time": "2023-01-11T11:50:03.819693",
     "exception": false,
     "start_time": "2023-01-11T11:49:58.772007",
     "status": "completed"
    },
    "tags": []
   },
   "outputs": [],
   "source": [
    "time.sleep(sleeping_seconds)"
   ]
  },
  {
   "cell_type": "markdown",
   "id": "d856dbf2-37a4-4e52-804a-81c3728b99a7",
   "metadata": {
    "papermill": {
     "duration": 0.040295,
     "end_time": "2023-01-11T11:50:03.895628",
     "exception": false,
     "start_time": "2023-01-11T11:50:03.855333",
     "status": "completed"
    },
    "tags": []
   },
   "source": [
    "## Output"
   ]
  },
  {
   "cell_type": "markdown",
   "id": "2c4996fc-6773-4b9b-bf78-b39bc9a88bf2",
   "metadata": {
    "papermill": {
     "duration": 0.036012,
     "end_time": "2023-01-11T11:50:03.972116",
     "exception": false,
     "start_time": "2023-01-11T11:50:03.936104",
     "status": "completed"
    },
    "tags": []
   },
   "source": [
    "### Display result"
   ]
  },
  {
   "cell_type": "code",
   "execution_count": 4,
   "id": "d26d8cee-8e57-4aab-b621-14f82e5010a5",
   "metadata": {
    "execution": {
     "iopub.execute_input": "2023-01-11T11:50:04.051260Z",
     "iopub.status.busy": "2023-01-11T11:50:04.050725Z",
     "iopub.status.idle": "2023-01-11T11:50:04.052824Z",
     "shell.execute_reply": "2023-01-11T11:50:04.053238Z"
    },
    "papermill": {
     "duration": 0.043008,
     "end_time": "2023-01-11T11:50:04.053388",
     "exception": false,
     "start_time": "2023-01-11T11:50:04.010380",
     "status": "completed"
    },
    "tags": []
   },
   "outputs": [
    {
     "name": "stdout",
     "output_type": "stream",
     "text": [
      "Hello World!\n"
     ]
    }
   ],
   "source": [
    "print(\"Hello World!\")"
   ]
  }
 ],
 "metadata": {
  "kernelspec": {
   "display_name": "Python 3",
   "language": "python",
   "name": "python3"
  },
  "language_info": {
   "codemirror_mode": {
    "name": "ipython",
    "version": 3
   },
   "file_extension": ".py",
   "mimetype": "text/x-python",
   "name": "python",
   "nbconvert_exporter": "python",
   "pygments_lexer": "ipython3",
   "version": "3.9.6"
  },
  "papermill": {
   "default_parameters": {},
   "duration": 15.127464,
   "end_time": "2023-01-11T11:50:05.787705",
   "environment_variables": {},
   "exception": null,
   "input_path": "IMO_template.ipynb",
   "output_path": "pipeline_executions/2023-01-11_12-49-50-fa0ae651-aa10-4f6a-8d0f-d529d8f14cc3/IMOTemplate2.IMO_template.ipynb",
   "parameters": {},
   "start_time": "2023-01-11T11:49:50.660241",
   "version": "2.3.3"
  },
  "widgets": {
   "application/vnd.jupyter.widget-state+json": {
    "state": {},
    "version_major": 2,
    "version_minor": 0
   }
  }
 },
 "nbformat": 4,
 "nbformat_minor": 5
}