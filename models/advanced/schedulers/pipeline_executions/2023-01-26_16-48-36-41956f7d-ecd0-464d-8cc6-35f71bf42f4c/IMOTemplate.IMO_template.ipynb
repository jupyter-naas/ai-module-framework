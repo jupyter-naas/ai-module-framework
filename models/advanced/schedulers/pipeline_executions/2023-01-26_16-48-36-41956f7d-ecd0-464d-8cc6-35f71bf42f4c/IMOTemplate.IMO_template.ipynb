{
 "cells": [
  {
   "cell_type": "markdown",
   "id": "dd66232c-09f1-44bf-8849-0cd5c52f78a6",
   "metadata": {
    "papermill": {
     "duration": 0.029113,
     "end_time": "2023-01-26T15:48:37.660803",
     "exception": false,
     "start_time": "2023-01-26T15:48:37.631690",
     "status": "completed"
    },
    "tags": []
   },
   "source": [
    "<img width=\"10%\" alt=\"Naas\" src=\"https://landen.imgix.net/jtci2pxwjczr/assets/5ice39g4.png?w=160\"/>"
   ]
  },
  {
   "cell_type": "markdown",
   "id": "633951dc-ca87-4032-ad2d-b76a909861bf",
   "metadata": {
    "papermill": {
     "duration": 0.029529,
     "end_time": "2023-01-26T15:48:37.717354",
     "exception": false,
     "start_time": "2023-01-26T15:48:37.687825",
     "status": "completed"
    },
    "tags": []
   },
   "source": [
    "# Demo"
   ]
  },
  {
   "cell_type": "markdown",
   "id": "524d5465-bce2-42f3-8d18-6f821dae07a5",
   "metadata": {
    "papermill": {
     "duration": 0.028252,
     "end_time": "2023-01-26T15:48:37.774786",
     "exception": false,
     "start_time": "2023-01-26T15:48:37.746534",
     "status": "completed"
    },
    "tags": []
   },
   "source": [
    "## Input"
   ]
  },
  {
   "cell_type": "markdown",
   "id": "918e5873-b444-43d4-aacd-852fffb5aceb",
   "metadata": {
    "papermill": {
     "duration": 0.028438,
     "end_time": "2023-01-26T15:48:37.834285",
     "exception": false,
     "start_time": "2023-01-26T15:48:37.805847",
     "status": "completed"
    },
    "tags": []
   },
   "source": [
    "### Import libraries"
   ]
  },
  {
   "cell_type": "code",
   "execution_count": 1,
   "id": "f6585d07-f50b-439a-84a9-4c0061870d29",
   "metadata": {
    "execution": {
     "iopub.execute_input": "2023-01-26T15:48:37.903617Z",
     "iopub.status.busy": "2023-01-26T15:48:37.903114Z",
     "iopub.status.idle": "2023-01-26T15:48:40.313600Z",
     "shell.execute_reply": "2023-01-26T15:48:40.313158Z"
    },
    "papermill": {
     "duration": 2.446002,
     "end_time": "2023-01-26T15:48:40.313741",
     "exception": false,
     "start_time": "2023-01-26T15:48:37.867739",
     "status": "completed"
    },
    "tags": []
   },
   "outputs": [
    {
     "name": "stdout",
     "output_type": "stream",
     "text": [
      "✅ Demo loaded successfully.\n",
      "✅ utils file '/home/ftp/data-product-framework/utils/demo.ipynb' successfully loaded.\n"
     ]
    }
   ],
   "source": [
    "import naas_data_product #load utils notebooks\n",
    "import time"
   ]
  },
  {
   "cell_type": "markdown",
   "id": "8e659ff5-80d3-43c9-8daf-1ae7f8d2a554",
   "metadata": {
    "papermill": {
     "duration": 0.029788,
     "end_time": "2023-01-26T15:48:40.374436",
     "exception": false,
     "start_time": "2023-01-26T15:48:40.344648",
     "status": "completed"
    },
    "tags": []
   },
   "source": [
    "### Setup Variables"
   ]
  },
  {
   "cell_type": "code",
   "execution_count": 2,
   "id": "c1a6eb30-fbb2-465e-a8f9-21baf6a8b547",
   "metadata": {
    "execution": {
     "iopub.execute_input": "2023-01-26T15:48:40.434437Z",
     "iopub.status.busy": "2023-01-26T15:48:40.433878Z",
     "iopub.status.idle": "2023-01-26T15:48:40.436229Z",
     "shell.execute_reply": "2023-01-26T15:48:40.435811Z"
    },
    "papermill": {
     "duration": 0.032769,
     "end_time": "2023-01-26T15:48:40.436358",
     "exception": false,
     "start_time": "2023-01-26T15:48:40.403589",
     "status": "completed"
    },
    "tags": [
     "parameters"
    ]
   },
   "outputs": [],
   "source": [
    "sleeping_seconds = 5"
   ]
  },
  {
   "cell_type": "markdown",
   "id": "ea6ff4cf-cea6-420e-b190-5979156b5fed",
   "metadata": {
    "papermill": {
     "duration": 0.030229,
     "end_time": "2023-01-26T15:48:40.494861",
     "exception": false,
     "start_time": "2023-01-26T15:48:40.464632",
     "status": "completed"
    },
    "tags": []
   },
   "source": [
    "## Model"
   ]
  },
  {
   "cell_type": "markdown",
   "id": "57cc3ca7-a5a2-4ee9-bee0-61c593255eb5",
   "metadata": {
    "papermill": {
     "duration": 0.034281,
     "end_time": "2023-01-26T15:48:40.564182",
     "exception": false,
     "start_time": "2023-01-26T15:48:40.529901",
     "status": "completed"
    },
    "tags": []
   },
   "source": [
    "### Pause notebook execution"
   ]
  },
  {
   "cell_type": "code",
   "execution_count": 3,
   "id": "8bb2bcce-fae7-4095-abc3-a886c8dc24bf",
   "metadata": {
    "execution": {
     "iopub.execute_input": "2023-01-26T15:48:40.634985Z",
     "iopub.status.busy": "2023-01-26T15:48:40.634550Z",
     "iopub.status.idle": "2023-01-26T15:48:45.641320Z",
     "shell.execute_reply": "2023-01-26T15:48:45.641656Z"
    },
    "papermill": {
     "duration": 5.038208,
     "end_time": "2023-01-26T15:48:45.641817",
     "exception": false,
     "start_time": "2023-01-26T15:48:40.603609",
     "status": "completed"
    },
    "tags": []
   },
   "outputs": [],
   "source": [
    "time.sleep(sleeping_seconds)"
   ]
  },
  {
   "cell_type": "markdown",
   "id": "d856dbf2-37a4-4e52-804a-81c3728b99a7",
   "metadata": {
    "papermill": {
     "duration": 0.033831,
     "end_time": "2023-01-26T15:48:45.707945",
     "exception": false,
     "start_time": "2023-01-26T15:48:45.674114",
     "status": "completed"
    },
    "tags": []
   },
   "source": [
    "## Output"
   ]
  },
  {
   "cell_type": "markdown",
   "id": "2c4996fc-6773-4b9b-bf78-b39bc9a88bf2",
   "metadata": {
    "papermill": {
     "duration": 0.031339,
     "end_time": "2023-01-26T15:48:45.774491",
     "exception": false,
     "start_time": "2023-01-26T15:48:45.743152",
     "status": "completed"
    },
    "tags": []
   },
   "source": [
    "### Display result"
   ]
  },
  {
   "cell_type": "code",
   "execution_count": 4,
   "id": "d26d8cee-8e57-4aab-b621-14f82e5010a5",
   "metadata": {
    "execution": {
     "iopub.execute_input": "2023-01-26T15:48:45.838556Z",
     "iopub.status.busy": "2023-01-26T15:48:45.838098Z",
     "iopub.status.idle": "2023-01-26T15:48:45.840965Z",
     "shell.execute_reply": "2023-01-26T15:48:45.840278Z"
    },
    "papermill": {
     "duration": 0.035969,
     "end_time": "2023-01-26T15:48:45.841161",
     "exception": false,
     "start_time": "2023-01-26T15:48:45.805192",
     "status": "completed"
    },
    "tags": []
   },
   "outputs": [
    {
     "name": "stdout",
     "output_type": "stream",
     "text": [
      "Hello World!\n"
     ]
    }
   ],
   "source": [
    "print(\"Hello World!\")"
   ]
  }
 ],
 "metadata": {
  "kernelspec": {
   "display_name": "Python 3",
   "language": "python",
   "name": "python3"
  },
  "language_info": {
   "codemirror_mode": {
    "name": "ipython",
    "version": 3
   },
   "file_extension": ".py",
   "mimetype": "text/x-python",
   "name": "python",
   "nbconvert_exporter": "python",
   "pygments_lexer": "ipython3",
   "version": "3.9.6"
  },
  "papermill": {
   "default_parameters": {},
   "duration": 11.067887,
   "end_time": "2023-01-26T15:48:47.224176",
   "environment_variables": {},
   "exception": null,
   "input_path": "IMO_template.ipynb",
   "output_path": "pipeline_executions/2023-01-26_16-48-36-41956f7d-ecd0-464d-8cc6-35f71bf42f4c/IMOTemplate.IMO_template.ipynb",
   "parameters": {},
   "start_time": "2023-01-26T15:48:36.156289",
   "version": "2.3.3"
  },
  "widgets": {
   "application/vnd.jupyter.widget-state+json": {
    "state": {},
    "version_major": 2,
    "version_minor": 0
   }
  }
 },
 "nbformat": 4,
 "nbformat_minor": 5
}