{
 "cells": [
  {
   "cell_type": "markdown",
   "id": "dd66232c-09f1-44bf-8849-0cd5c52f78a6",
   "metadata": {
    "papermill": {
     "duration": 0.036867,
     "end_time": "2023-01-27T08:21:11.698613",
     "exception": false,
     "start_time": "2023-01-27T08:21:11.661746",
     "status": "completed"
    },
    "tags": []
   },
   "source": [
    "<img width=\"10%\" alt=\"Naas\" src=\"https://landen.imgix.net/jtci2pxwjczr/assets/5ice39g4.png?w=160\"/>"
   ]
  },
  {
   "cell_type": "markdown",
   "id": "633951dc-ca87-4032-ad2d-b76a909861bf",
   "metadata": {
    "papermill": {
     "duration": 0.035976,
     "end_time": "2023-01-27T08:21:11.771331",
     "exception": false,
     "start_time": "2023-01-27T08:21:11.735355",
     "status": "completed"
    },
    "tags": []
   },
   "source": [
    "# Demo"
   ]
  },
  {
   "cell_type": "markdown",
   "id": "524d5465-bce2-42f3-8d18-6f821dae07a5",
   "metadata": {
    "papermill": {
     "duration": 0.04047,
     "end_time": "2023-01-27T08:21:11.850888",
     "exception": false,
     "start_time": "2023-01-27T08:21:11.810418",
     "status": "completed"
    },
    "tags": []
   },
   "source": [
    "## Input"
   ]
  },
  {
   "cell_type": "markdown",
   "id": "918e5873-b444-43d4-aacd-852fffb5aceb",
   "metadata": {
    "papermill": {
     "duration": 0.0377,
     "end_time": "2023-01-27T08:21:11.933305",
     "exception": false,
     "start_time": "2023-01-27T08:21:11.895605",
     "status": "completed"
    },
    "tags": []
   },
   "source": [
    "### Import libraries"
   ]
  },
  {
   "cell_type": "code",
   "execution_count": 1,
   "id": "f6585d07-f50b-439a-84a9-4c0061870d29",
   "metadata": {
    "execution": {
     "iopub.execute_input": "2023-01-27T08:21:12.020716Z",
     "iopub.status.busy": "2023-01-27T08:21:12.020007Z",
     "iopub.status.idle": "2023-01-27T08:21:15.271987Z",
     "shell.execute_reply": "2023-01-27T08:21:15.272409Z",
     "shell.execute_reply.started": "2023-01-26T16:03:56.360749Z"
    },
    "papermill": {
     "duration": 3.301171,
     "end_time": "2023-01-27T08:21:15.272622",
     "exception": false,
     "start_time": "2023-01-27T08:21:11.971451",
     "status": "completed"
    },
    "tags": []
   },
   "outputs": [
    {
     "name": "stdout",
     "output_type": "stream",
     "text": [
      "✅ Demo loaded successfully.\n",
      "✅ utils file '/home/ftp/data-product-framework/utils/demo.ipynb' successfully loaded.\n"
     ]
    }
   ],
   "source": [
    "import naas_data_product #load utils notebooks\n",
    "import time"
   ]
  },
  {
   "cell_type": "markdown",
   "id": "8e659ff5-80d3-43c9-8daf-1ae7f8d2a554",
   "metadata": {
    "papermill": {
     "duration": 0.039712,
     "end_time": "2023-01-27T08:21:15.363449",
     "exception": false,
     "start_time": "2023-01-27T08:21:15.323737",
     "status": "completed"
    },
    "tags": []
   },
   "source": [
    "### Setup Variables"
   ]
  },
  {
   "cell_type": "code",
   "execution_count": 2,
   "id": "c1a6eb30-fbb2-465e-a8f9-21baf6a8b547",
   "metadata": {
    "execution": {
     "iopub.execute_input": "2023-01-27T08:21:15.440615Z",
     "iopub.status.busy": "2023-01-27T08:21:15.439919Z",
     "iopub.status.idle": "2023-01-27T08:21:15.441768Z",
     "shell.execute_reply": "2023-01-27T08:21:15.442128Z",
     "shell.execute_reply.started": "2023-01-26T16:03:57.176382Z"
    },
    "papermill": {
     "duration": 0.042235,
     "end_time": "2023-01-27T08:21:15.442287",
     "exception": false,
     "start_time": "2023-01-27T08:21:15.400052",
     "status": "completed"
    },
    "tags": [
     "parameters"
    ]
   },
   "outputs": [],
   "source": [
    "sleeping_seconds = 5"
   ]
  },
  {
   "cell_type": "markdown",
   "id": "ea6ff4cf-cea6-420e-b190-5979156b5fed",
   "metadata": {
    "papermill": {
     "duration": 0.035384,
     "end_time": "2023-01-27T08:21:15.514114",
     "exception": false,
     "start_time": "2023-01-27T08:21:15.478730",
     "status": "completed"
    },
    "tags": []
   },
   "source": [
    "## Model"
   ]
  },
  {
   "cell_type": "markdown",
   "id": "57cc3ca7-a5a2-4ee9-bee0-61c593255eb5",
   "metadata": {
    "papermill": {
     "duration": 0.03579,
     "end_time": "2023-01-27T08:21:15.586109",
     "exception": false,
     "start_time": "2023-01-27T08:21:15.550319",
     "status": "completed"
    },
    "tags": []
   },
   "source": [
    "### Pause notebook execution"
   ]
  },
  {
   "cell_type": "code",
   "execution_count": 3,
   "id": "8bb2bcce-fae7-4095-abc3-a886c8dc24bf",
   "metadata": {
    "execution": {
     "iopub.execute_input": "2023-01-27T08:21:15.661160Z",
     "iopub.status.busy": "2023-01-27T08:21:15.660437Z",
     "iopub.status.idle": "2023-01-26T16:04:03.250994Z",
     "shell.execute_reply": "2023-01-26T16:04:03.250384Z",
     "shell.execute_reply.started": "2023-01-26T16:03:58.243268Z"
    },
    "papermill": {
     "duration": 0.230558,
     "end_time": "2023-01-27T08:21:15.849742",
     "exception": false,
     "start_time": "2023-01-27T08:21:15.619184",
     "status": "completed"
    },
    "tags": []
   },
   "outputs": [],
   "source": [
    "time.sleep(sleeping_seconds)"
   ]
  },
  {
   "cell_type": "markdown",
   "id": "d856dbf2-37a4-4e52-804a-81c3728b99a7",
   "metadata": {
    "papermill": {
     "duration": null,
     "end_time": null,
     "exception": null,
     "start_time": null,
     "status": "completed"
    },
    "tags": []
   },
   "source": [
    "## Output"
   ]
  },
  {
   "cell_type": "markdown",
   "id": "2c4996fc-6773-4b9b-bf78-b39bc9a88bf2",
   "metadata": {
    "papermill": {
     "duration": null,
     "end_time": null,
     "exception": null,
     "start_time": null,
     "status": "completed"
    },
    "tags": []
   },
   "source": [
    "### Display result"
   ]
  },
  {
   "cell_type": "code",
   "execution_count": null,
   "id": "d26d8cee-8e57-4aab-b621-14f82e5010a5",
   "metadata": {
    "execution": {
     "iopub.execute_input": "2023-01-26T16:04:03.252414Z",
     "iopub.status.busy": "2023-01-26T16:04:03.252175Z",
     "iopub.status.idle": "2023-01-26T16:04:03.255989Z",
     "shell.execute_reply": "2023-01-26T16:04:03.255377Z",
     "shell.execute_reply.started": "2023-01-26T16:04:03.252384Z"
    },
    "papermill": {
     "duration": null,
     "end_time": null,
     "exception": null,
     "start_time": null,
     "status": "completed"
    },
    "tags": []
   },
   "outputs": [],
   "source": [
    "print(\"Hello World!\")"
   ]
  },
  {
   "cell_type": "code",
   "execution_count": null,
   "id": "4c2c9208-8c77-4436-b73e-0af00a2e4d2c",
   "metadata": {
    "papermill": {
     "duration": null,
     "end_time": null,
     "exception": null,
     "start_time": null,
     "status": "completed"
    },
    "tags": []
   },
   "outputs": [],
   "source": []
  }
 ],
 "metadata": {
  "kernelspec": {
   "display_name": "Python 3",
   "language": "python",
   "name": "python3"
  },
  "language_info": {
   "codemirror_mode": {
    "name": "ipython",
    "version": 3
   },
   "file_extension": ".py",
   "mimetype": "text/x-python",
   "name": "python",
   "nbconvert_exporter": "python",
   "pygments_lexer": "ipython3",
   "version": "3.9.6"
  },
  "papermill": {
   "default_parameters": {},
   "duration": 5.969141,
   "end_time": "2023-01-27T08:21:16.022318",
   "environment_variables": {},
   "exception": null,
   "input_path": "silver/IMO_template.ipynb",
   "output_path": "pipeline_executions/2023-01-27_09-20-58-4025743e-42c2-49aa-a75c-ebc96750341e/Cleaning.IMO_template.ipynb",
   "parameters": {},
   "start_time": "2023-01-27T08:21:10.053177",
   "version": "2.3.3"
  },
  "widgets": {
   "application/vnd.jupyter.widget-state+json": {
    "state": {},
    "version_major": 2,
    "version_minor": 0
   }
  }
 },
 "nbformat": 4,
 "nbformat_minor": 5
}