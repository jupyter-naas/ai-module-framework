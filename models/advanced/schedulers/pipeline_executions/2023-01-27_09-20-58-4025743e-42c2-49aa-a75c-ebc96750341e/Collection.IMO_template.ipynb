{
 "cells": [
  {
   "cell_type": "markdown",
   "id": "dd66232c-09f1-44bf-8849-0cd5c52f78a6",
   "metadata": {
    "papermill": {
     "duration": 0.040354,
     "end_time": "2023-01-27T08:20:59.950875",
     "exception": false,
     "start_time": "2023-01-27T08:20:59.910521",
     "status": "completed"
    },
    "tags": []
   },
   "source": [
    "<img width=\"10%\" alt=\"Naas\" src=\"https://landen.imgix.net/jtci2pxwjczr/assets/5ice39g4.png?w=160\"/>"
   ]
  },
  {
   "cell_type": "markdown",
   "id": "633951dc-ca87-4032-ad2d-b76a909861bf",
   "metadata": {
    "papermill": {
     "duration": 0.040558,
     "end_time": "2023-01-27T08:21:00.043857",
     "exception": false,
     "start_time": "2023-01-27T08:21:00.003299",
     "status": "completed"
    },
    "tags": []
   },
   "source": [
    "# Demo"
   ]
  },
  {
   "cell_type": "markdown",
   "id": "524d5465-bce2-42f3-8d18-6f821dae07a5",
   "metadata": {
    "papermill": {
     "duration": 0.037959,
     "end_time": "2023-01-27T08:21:00.118809",
     "exception": false,
     "start_time": "2023-01-27T08:21:00.080850",
     "status": "completed"
    },
    "tags": []
   },
   "source": [
    "## Input"
   ]
  },
  {
   "cell_type": "markdown",
   "id": "918e5873-b444-43d4-aacd-852fffb5aceb",
   "metadata": {
    "papermill": {
     "duration": 0.037855,
     "end_time": "2023-01-27T08:21:00.193584",
     "exception": false,
     "start_time": "2023-01-27T08:21:00.155729",
     "status": "completed"
    },
    "tags": []
   },
   "source": [
    "### Import libraries"
   ]
  },
  {
   "cell_type": "code",
   "execution_count": 1,
   "id": "f6585d07-f50b-439a-84a9-4c0061870d29",
   "metadata": {
    "execution": {
     "iopub.execute_input": "2023-01-27T08:21:00.277892Z",
     "iopub.status.busy": "2023-01-27T08:21:00.277464Z",
     "iopub.status.idle": "2023-01-27T08:21:03.601285Z",
     "shell.execute_reply": "2023-01-27T08:21:03.601953Z",
     "shell.execute_reply.started": "2023-01-26T16:03:56.360749Z"
    },
    "papermill": {
     "duration": 3.370998,
     "end_time": "2023-01-27T08:21:03.602217",
     "exception": false,
     "start_time": "2023-01-27T08:21:00.231219",
     "status": "completed"
    },
    "tags": []
   },
   "outputs": [
    {
     "name": "stdout",
     "output_type": "stream",
     "text": [
      "✅ Demo loaded successfully.\n",
      "✅ utils file '/home/ftp/data-product-framework/utils/demo.ipynb' successfully loaded.\n"
     ]
    }
   ],
   "source": [
    "import naas_data_product #load utils notebooks\n",
    "import time"
   ]
  },
  {
   "cell_type": "markdown",
   "id": "8e659ff5-80d3-43c9-8daf-1ae7f8d2a554",
   "metadata": {
    "papermill": {
     "duration": 0.043657,
     "end_time": "2023-01-27T08:21:03.687609",
     "exception": false,
     "start_time": "2023-01-27T08:21:03.643952",
     "status": "completed"
    },
    "tags": []
   },
   "source": [
    "### Setup Variables"
   ]
  },
  {
   "cell_type": "code",
   "execution_count": 2,
   "id": "c1a6eb30-fbb2-465e-a8f9-21baf6a8b547",
   "metadata": {
    "execution": {
     "iopub.execute_input": "2023-01-27T08:21:03.774829Z",
     "iopub.status.busy": "2023-01-27T08:21:03.774176Z",
     "iopub.status.idle": "2023-01-27T08:21:03.776379Z",
     "shell.execute_reply": "2023-01-27T08:21:03.776030Z",
     "shell.execute_reply.started": "2023-01-26T16:03:57.176382Z"
    },
    "papermill": {
     "duration": 0.040269,
     "end_time": "2023-01-27T08:21:03.776507",
     "exception": false,
     "start_time": "2023-01-27T08:21:03.736238",
     "status": "completed"
    },
    "tags": [
     "parameters"
    ]
   },
   "outputs": [],
   "source": [
    "sleeping_seconds = 5"
   ]
  },
  {
   "cell_type": "code",
   "execution_count": 3,
   "id": "d563a21f",
   "metadata": {
    "execution": {
     "iopub.execute_input": "2023-01-27T08:21:03.857036Z",
     "iopub.status.busy": "2023-01-27T08:21:03.856343Z",
     "iopub.status.idle": "2023-01-27T08:21:03.858798Z",
     "shell.execute_reply": "2023-01-27T08:21:03.858275Z"
    },
    "papermill": {
     "duration": 0.044225,
     "end_time": "2023-01-27T08:21:03.858970",
     "exception": false,
     "start_time": "2023-01-27T08:21:03.814745",
     "status": "completed"
    },
    "tags": [
     "injected-parameters"
    ]
   },
   "outputs": [],
   "source": [
    "# Parameters\n",
    "x = \"x\"\n"
   ]
  },
  {
   "cell_type": "markdown",
   "id": "ea6ff4cf-cea6-420e-b190-5979156b5fed",
   "metadata": {
    "papermill": {
     "duration": 0.038047,
     "end_time": "2023-01-27T08:21:03.937578",
     "exception": false,
     "start_time": "2023-01-27T08:21:03.899531",
     "status": "completed"
    },
    "tags": []
   },
   "source": [
    "## Model"
   ]
  },
  {
   "cell_type": "markdown",
   "id": "57cc3ca7-a5a2-4ee9-bee0-61c593255eb5",
   "metadata": {
    "papermill": {
     "duration": 0.03733,
     "end_time": "2023-01-27T08:21:04.011153",
     "exception": false,
     "start_time": "2023-01-27T08:21:03.973823",
     "status": "completed"
    },
    "tags": []
   },
   "source": [
    "### Pause notebook execution"
   ]
  },
  {
   "cell_type": "code",
   "execution_count": 4,
   "id": "8bb2bcce-fae7-4095-abc3-a886c8dc24bf",
   "metadata": {
    "execution": {
     "iopub.execute_input": "2023-01-27T08:21:04.087992Z",
     "iopub.status.busy": "2023-01-27T08:21:04.087309Z",
     "iopub.status.idle": "2023-01-27T08:21:09.094410Z",
     "shell.execute_reply": "2023-01-27T08:21:09.093619Z",
     "shell.execute_reply.started": "2023-01-26T16:03:58.243268Z"
    },
    "papermill": {
     "duration": 5.047505,
     "end_time": "2023-01-27T08:21:09.094618",
     "exception": false,
     "start_time": "2023-01-27T08:21:04.047113",
     "status": "completed"
    },
    "tags": []
   },
   "outputs": [],
   "source": [
    "time.sleep(sleeping_seconds)"
   ]
  },
  {
   "cell_type": "markdown",
   "id": "d856dbf2-37a4-4e52-804a-81c3728b99a7",
   "metadata": {
    "papermill": {
     "duration": 0.040217,
     "end_time": "2023-01-27T08:21:09.182767",
     "exception": false,
     "start_time": "2023-01-27T08:21:09.142550",
     "status": "completed"
    },
    "tags": []
   },
   "source": [
    "## Output"
   ]
  },
  {
   "cell_type": "markdown",
   "id": "2c4996fc-6773-4b9b-bf78-b39bc9a88bf2",
   "metadata": {
    "papermill": {
     "duration": 0.037229,
     "end_time": "2023-01-27T08:21:09.257094",
     "exception": false,
     "start_time": "2023-01-27T08:21:09.219865",
     "status": "completed"
    },
    "tags": []
   },
   "source": [
    "### Display result"
   ]
  },
  {
   "cell_type": "code",
   "execution_count": 5,
   "id": "d26d8cee-8e57-4aab-b621-14f82e5010a5",
   "metadata": {
    "execution": {
     "iopub.execute_input": "2023-01-27T08:21:09.335486Z",
     "iopub.status.busy": "2023-01-27T08:21:09.334911Z",
     "iopub.status.idle": "2023-01-27T08:21:09.336981Z",
     "shell.execute_reply": "2023-01-27T08:21:09.337305Z",
     "shell.execute_reply.started": "2023-01-26T16:04:03.252384Z"
    },
    "papermill": {
     "duration": 0.043273,
     "end_time": "2023-01-27T08:21:09.337449",
     "exception": false,
     "start_time": "2023-01-27T08:21:09.294176",
     "status": "completed"
    },
    "tags": []
   },
   "outputs": [
    {
     "name": "stdout",
     "output_type": "stream",
     "text": [
      "Hello World!\n"
     ]
    }
   ],
   "source": [
    "print(\"Hello World!\")"
   ]
  },
  {
   "cell_type": "code",
   "execution_count": null,
   "id": "4c2c9208-8c77-4436-b73e-0af00a2e4d2c",
   "metadata": {
    "papermill": {
     "duration": 0.038039,
     "end_time": "2023-01-27T08:21:09.413824",
     "exception": false,
     "start_time": "2023-01-27T08:21:09.375785",
     "status": "completed"
    },
    "tags": []
   },
   "outputs": [],
   "source": []
  }
 ],
 "metadata": {
  "kernelspec": {
   "display_name": "Python 3",
   "language": "python",
   "name": "python3"
  },
  "language_info": {
   "codemirror_mode": {
    "name": "ipython",
    "version": 3
   },
   "file_extension": ".py",
   "mimetype": "text/x-python",
   "name": "python",
   "nbconvert_exporter": "python",
   "pygments_lexer": "ipython3",
   "version": "3.9.6"
  },
  "papermill": {
   "default_parameters": {},
   "duration": 11.757331,
   "end_time": "2023-01-27T08:21:09.965176",
   "environment_variables": {},
   "exception": null,
   "input_path": "bronze/IMO_template.ipynb",
   "output_path": "pipeline_executions/2023-01-27_09-20-58-4025743e-42c2-49aa-a75c-ebc96750341e/Collection.IMO_template.ipynb",
   "parameters": {
    "x": "x"
   },
   "start_time": "2023-01-27T08:20:58.207845",
   "version": "2.3.3"
  },
  "widgets": {
   "application/vnd.jupyter.widget-state+json": {
    "state": {},
    "version_major": 2,
    "version_minor": 0
   }
  }
 },
 "nbformat": 4,
 "nbformat_minor": 5
}