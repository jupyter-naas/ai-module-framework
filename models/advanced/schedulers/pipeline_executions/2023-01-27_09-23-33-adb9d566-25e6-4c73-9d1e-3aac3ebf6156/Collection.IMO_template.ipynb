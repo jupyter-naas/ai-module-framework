{
 "cells": [
  {
   "cell_type": "markdown",
   "id": "dd66232c-09f1-44bf-8849-0cd5c52f78a6",
   "metadata": {
    "papermill": {
     "duration": 0.041126,
     "end_time": "2023-01-27T08:23:35.128650",
     "exception": false,
     "start_time": "2023-01-27T08:23:35.087524",
     "status": "completed"
    },
    "tags": []
   },
   "source": [
    "<img width=\"10%\" alt=\"Naas\" src=\"https://landen.imgix.net/jtci2pxwjczr/assets/5ice39g4.png?w=160\"/>"
   ]
  },
  {
   "cell_type": "markdown",
   "id": "633951dc-ca87-4032-ad2d-b76a909861bf",
   "metadata": {
    "papermill": {
     "duration": 0.04098,
     "end_time": "2023-01-27T08:23:35.208327",
     "exception": false,
     "start_time": "2023-01-27T08:23:35.167347",
     "status": "completed"
    },
    "tags": []
   },
   "source": [
    "# Demo"
   ]
  },
  {
   "cell_type": "markdown",
   "id": "524d5465-bce2-42f3-8d18-6f821dae07a5",
   "metadata": {
    "papermill": {
     "duration": 0.036219,
     "end_time": "2023-01-27T08:23:35.282392",
     "exception": false,
     "start_time": "2023-01-27T08:23:35.246173",
     "status": "completed"
    },
    "tags": []
   },
   "source": [
    "## Input"
   ]
  },
  {
   "cell_type": "markdown",
   "id": "918e5873-b444-43d4-aacd-852fffb5aceb",
   "metadata": {
    "papermill": {
     "duration": 0.036514,
     "end_time": "2023-01-27T08:23:35.357319",
     "exception": false,
     "start_time": "2023-01-27T08:23:35.320805",
     "status": "completed"
    },
    "tags": []
   },
   "source": [
    "### Import libraries"
   ]
  },
  {
   "cell_type": "code",
   "execution_count": 1,
   "id": "f6585d07-f50b-439a-84a9-4c0061870d29",
   "metadata": {
    "execution": {
     "iopub.execute_input": "2023-01-27T08:23:35.437314Z",
     "iopub.status.busy": "2023-01-27T08:23:35.436879Z",
     "iopub.status.idle": "2023-01-27T08:23:38.861051Z",
     "shell.execute_reply": "2023-01-27T08:23:38.861378Z",
     "shell.execute_reply.started": "2023-01-26T16:03:56.360749Z"
    },
    "papermill": {
     "duration": 3.467823,
     "end_time": "2023-01-27T08:23:38.861641",
     "exception": false,
     "start_time": "2023-01-27T08:23:35.393818",
     "status": "completed"
    },
    "tags": []
   },
   "outputs": [
    {
     "name": "stdout",
     "output_type": "stream",
     "text": [
      "✅ Demo loaded successfully.\n",
      "✅ utils file '/home/ftp/data-product-framework/utils/demo.ipynb' successfully loaded.\n"
     ]
    }
   ],
   "source": [
    "import naas_data_product #load utils notebooks\n",
    "import time"
   ]
  },
  {
   "cell_type": "markdown",
   "id": "8e659ff5-80d3-43c9-8daf-1ae7f8d2a554",
   "metadata": {
    "papermill": {
     "duration": 0.037831,
     "end_time": "2023-01-27T08:23:38.939283",
     "exception": false,
     "start_time": "2023-01-27T08:23:38.901452",
     "status": "completed"
    },
    "tags": []
   },
   "source": [
    "### Setup Variables"
   ]
  },
  {
   "cell_type": "code",
   "execution_count": 2,
   "id": "c1a6eb30-fbb2-465e-a8f9-21baf6a8b547",
   "metadata": {
    "execution": {
     "iopub.execute_input": "2023-01-27T08:23:39.024486Z",
     "iopub.status.busy": "2023-01-27T08:23:39.023616Z",
     "iopub.status.idle": "2023-01-27T08:23:39.025813Z",
     "shell.execute_reply": "2023-01-27T08:23:39.026221Z",
     "shell.execute_reply.started": "2023-01-26T16:03:57.176382Z"
    },
    "papermill": {
     "duration": 0.047753,
     "end_time": "2023-01-27T08:23:39.026432",
     "exception": false,
     "start_time": "2023-01-27T08:23:38.978679",
     "status": "completed"
    },
    "tags": [
     "parameters"
    ]
   },
   "outputs": [],
   "source": [
    "sleeping_seconds = 5"
   ]
  },
  {
   "cell_type": "code",
   "execution_count": 3,
   "id": "d8d23935",
   "metadata": {
    "execution": {
     "iopub.execute_input": "2023-01-27T08:23:39.113484Z",
     "iopub.status.busy": "2023-01-27T08:23:39.112813Z",
     "iopub.status.idle": "2023-01-27T08:23:39.115000Z",
     "shell.execute_reply": "2023-01-27T08:23:39.114660Z"
    },
    "papermill": {
     "duration": 0.052862,
     "end_time": "2023-01-27T08:23:39.115121",
     "exception": false,
     "start_time": "2023-01-27T08:23:39.062259",
     "status": "completed"
    },
    "tags": [
     "injected-parameters"
    ]
   },
   "outputs": [],
   "source": [
    "# Parameters\n",
    "x = 5\n"
   ]
  },
  {
   "cell_type": "markdown",
   "id": "ea6ff4cf-cea6-420e-b190-5979156b5fed",
   "metadata": {
    "papermill": {
     "duration": 0.036949,
     "end_time": "2023-01-27T08:23:39.188457",
     "exception": false,
     "start_time": "2023-01-27T08:23:39.151508",
     "status": "completed"
    },
    "tags": []
   },
   "source": [
    "## Model"
   ]
  },
  {
   "cell_type": "markdown",
   "id": "57cc3ca7-a5a2-4ee9-bee0-61c593255eb5",
   "metadata": {
    "papermill": {
     "duration": 0.038457,
     "end_time": "2023-01-27T08:23:39.262149",
     "exception": false,
     "start_time": "2023-01-27T08:23:39.223692",
     "status": "completed"
    },
    "tags": []
   },
   "source": [
    "### Pause notebook execution"
   ]
  },
  {
   "cell_type": "code",
   "execution_count": 4,
   "id": "8bb2bcce-fae7-4095-abc3-a886c8dc24bf",
   "metadata": {
    "execution": {
     "iopub.execute_input": "2023-01-27T08:23:39.348057Z",
     "iopub.status.busy": "2023-01-27T08:23:39.347627Z",
     "iopub.status.idle": "2023-01-27T08:23:44.355294Z",
     "shell.execute_reply": "2023-01-27T08:23:44.354833Z",
     "shell.execute_reply.started": "2023-01-26T16:03:58.243268Z"
    },
    "papermill": {
     "duration": 5.050056,
     "end_time": "2023-01-27T08:23:44.355448",
     "exception": false,
     "start_time": "2023-01-27T08:23:39.305392",
     "status": "completed"
    },
    "tags": []
   },
   "outputs": [],
   "source": [
    "time.sleep(sleeping_seconds)"
   ]
  },
  {
   "cell_type": "markdown",
   "id": "d856dbf2-37a4-4e52-804a-81c3728b99a7",
   "metadata": {
    "papermill": {
     "duration": 0.043279,
     "end_time": "2023-01-27T08:23:44.435479",
     "exception": false,
     "start_time": "2023-01-27T08:23:44.392200",
     "status": "completed"
    },
    "tags": []
   },
   "source": [
    "## Output"
   ]
  },
  {
   "cell_type": "markdown",
   "id": "2c4996fc-6773-4b9b-bf78-b39bc9a88bf2",
   "metadata": {
    "papermill": {
     "duration": 0.035611,
     "end_time": "2023-01-27T08:23:44.509175",
     "exception": false,
     "start_time": "2023-01-27T08:23:44.473564",
     "status": "completed"
    },
    "tags": []
   },
   "source": [
    "### Display result"
   ]
  },
  {
   "cell_type": "code",
   "execution_count": 5,
   "id": "d26d8cee-8e57-4aab-b621-14f82e5010a5",
   "metadata": {
    "execution": {
     "iopub.execute_input": "2023-01-27T08:23:44.598426Z",
     "iopub.status.busy": "2023-01-27T08:23:44.597876Z",
     "iopub.status.idle": "2023-01-27T08:23:44.599972Z",
     "shell.execute_reply": "2023-01-27T08:23:44.600293Z",
     "shell.execute_reply.started": "2023-01-26T16:04:03.252384Z"
    },
    "papermill": {
     "duration": 0.048917,
     "end_time": "2023-01-27T08:23:44.600432",
     "exception": false,
     "start_time": "2023-01-27T08:23:44.551515",
     "status": "completed"
    },
    "tags": []
   },
   "outputs": [
    {
     "name": "stdout",
     "output_type": "stream",
     "text": [
      "Hello World!\n"
     ]
    }
   ],
   "source": [
    "print(\"Hello World!\")"
   ]
  },
  {
   "cell_type": "code",
   "execution_count": null,
   "id": "4c2c9208-8c77-4436-b73e-0af00a2e4d2c",
   "metadata": {
    "papermill": {
     "duration": 0.039519,
     "end_time": "2023-01-27T08:23:44.675923",
     "exception": false,
     "start_time": "2023-01-27T08:23:44.636404",
     "status": "completed"
    },
    "tags": []
   },
   "outputs": [],
   "source": []
  }
 ],
 "metadata": {
  "kernelspec": {
   "display_name": "Python 3",
   "language": "python",
   "name": "python3"
  },
  "language_info": {
   "codemirror_mode": {
    "name": "ipython",
    "version": 3
   },
   "file_extension": ".py",
   "mimetype": "text/x-python",
   "name": "python",
   "nbconvert_exporter": "python",
   "pygments_lexer": "ipython3",
   "version": "3.9.6"
  },
  "papermill": {
   "default_parameters": {},
   "duration": 11.997487,
   "end_time": "2023-01-27T08:23:45.220409",
   "environment_variables": {},
   "exception": null,
   "input_path": "bronze/IMO_template.ipynb",
   "output_path": "pipeline_executions/2023-01-27_09-23-33-adb9d566-25e6-4c73-9d1e-3aac3ebf6156/Collection.IMO_template.ipynb",
   "parameters": {
    "x": 5
   },
   "start_time": "2023-01-27T08:23:33.222922",
   "version": "2.3.3"
  },
  "widgets": {
   "application/vnd.jupyter.widget-state+json": {
    "state": {},
    "version_major": 2,
    "version_minor": 0
   }
  }
 },
 "nbformat": 4,
 "nbformat_minor": 5
}