{
 "cells": [
  {
   "cell_type": "markdown",
   "id": "b5f79b10",
   "metadata": {
    "tags": [
     "papermill-error-cell-tag"
    ]
   },
   "source": [
    "<span style=\"color:red; font-family:Helvetica Neue, Helvetica, Arial, sans-serif; font-size:2em;\">An Exception was encountered at '<a href=\"#papermill-error-cell\">In [4]</a>'.</span>"
   ]
  },
  {
   "cell_type": "markdown",
   "id": "dd66232c-09f1-44bf-8849-0cd5c52f78a6",
   "metadata": {
    "papermill": {
     "duration": 0.040769,
     "end_time": "2023-01-11T11:55:39.779192",
     "exception": false,
     "start_time": "2023-01-11T11:55:39.738423",
     "status": "completed"
    },
    "tags": []
   },
   "source": [
    "<img width=\"10%\" alt=\"Naas\" src=\"https://landen.imgix.net/jtci2pxwjczr/assets/5ice39g4.png?w=160\"/>"
   ]
  },
  {
   "cell_type": "markdown",
   "id": "633951dc-ca87-4032-ad2d-b76a909861bf",
   "metadata": {
    "papermill": {
     "duration": 0.045748,
     "end_time": "2023-01-11T11:55:39.865768",
     "exception": false,
     "start_time": "2023-01-11T11:55:39.820020",
     "status": "completed"
    },
    "tags": []
   },
   "source": [
    "# Demo"
   ]
  },
  {
   "cell_type": "markdown",
   "id": "524d5465-bce2-42f3-8d18-6f821dae07a5",
   "metadata": {
    "papermill": {
     "duration": 0.034117,
     "end_time": "2023-01-11T11:55:39.934638",
     "exception": false,
     "start_time": "2023-01-11T11:55:39.900521",
     "status": "completed"
    },
    "tags": []
   },
   "source": [
    "## Input"
   ]
  },
  {
   "cell_type": "markdown",
   "id": "918e5873-b444-43d4-aacd-852fffb5aceb",
   "metadata": {
    "papermill": {
     "duration": 0.034357,
     "end_time": "2023-01-11T11:55:40.006151",
     "exception": false,
     "start_time": "2023-01-11T11:55:39.971794",
     "status": "completed"
    },
    "tags": []
   },
   "source": [
    "### Import libraries"
   ]
  },
  {
   "cell_type": "code",
   "execution_count": 1,
   "id": "f6585d07-f50b-439a-84a9-4c0061870d29",
   "metadata": {
    "execution": {
     "iopub.execute_input": "2023-01-11T11:55:40.082348Z",
     "iopub.status.busy": "2023-01-11T11:55:40.081914Z",
     "iopub.status.idle": "2023-01-11T11:55:43.720742Z",
     "shell.execute_reply": "2023-01-11T11:55:43.721381Z"
    },
    "papermill": {
     "duration": 3.680802,
     "end_time": "2023-01-11T11:55:43.721643",
     "exception": false,
     "start_time": "2023-01-11T11:55:40.040841",
     "status": "completed"
    },
    "tags": []
   },
   "outputs": [
    {
     "name": "stdout",
     "output_type": "stream",
     "text": [
      "✅ Demo loaded successfully.\n",
      "✅ utils file '/home/ftp/data-product-framework/utils/demo.ipynb' successfully loaded.\n"
     ]
    }
   ],
   "source": [
    "import naas_data_product #load utils notebooks\n",
    "import time"
   ]
  },
  {
   "cell_type": "markdown",
   "id": "8e659ff5-80d3-43c9-8daf-1ae7f8d2a554",
   "metadata": {
    "papermill": {
     "duration": 0.039199,
     "end_time": "2023-01-11T11:55:43.798265",
     "exception": false,
     "start_time": "2023-01-11T11:55:43.759066",
     "status": "completed"
    },
    "tags": []
   },
   "source": [
    "### Setup Variables"
   ]
  },
  {
   "cell_type": "code",
   "execution_count": 2,
   "id": "c1a6eb30-fbb2-465e-a8f9-21baf6a8b547",
   "metadata": {
    "execution": {
     "iopub.execute_input": "2023-01-11T11:55:43.880715Z",
     "iopub.status.busy": "2023-01-11T11:55:43.879965Z",
     "iopub.status.idle": "2023-01-11T11:55:43.881904Z",
     "shell.execute_reply": "2023-01-11T11:55:43.881330Z"
    },
    "papermill": {
     "duration": 0.049207,
     "end_time": "2023-01-11T11:55:43.882081",
     "exception": false,
     "start_time": "2023-01-11T11:55:43.832874",
     "status": "completed"
    },
    "tags": [
     "parameters"
    ]
   },
   "outputs": [],
   "source": [
    "sleeping_seconds = 5"
   ]
  },
  {
   "cell_type": "markdown",
   "id": "ea6ff4cf-cea6-420e-b190-5979156b5fed",
   "metadata": {
    "papermill": {
     "duration": 0.035653,
     "end_time": "2023-01-11T11:55:43.957325",
     "exception": false,
     "start_time": "2023-01-11T11:55:43.921672",
     "status": "completed"
    },
    "tags": []
   },
   "source": [
    "## Model"
   ]
  },
  {
   "cell_type": "markdown",
   "id": "57cc3ca7-a5a2-4ee9-bee0-61c593255eb5",
   "metadata": {
    "papermill": {
     "duration": 0.033769,
     "end_time": "2023-01-11T11:55:44.030091",
     "exception": false,
     "start_time": "2023-01-11T11:55:43.996322",
     "status": "completed"
    },
    "tags": []
   },
   "source": [
    "### Pause notebook execution"
   ]
  },
  {
   "cell_type": "code",
   "execution_count": 3,
   "id": "8bb2bcce-fae7-4095-abc3-a886c8dc24bf",
   "metadata": {
    "execution": {
     "iopub.execute_input": "2023-01-11T11:55:44.102483Z",
     "iopub.status.busy": "2023-01-11T11:55:44.102026Z",
     "iopub.status.idle": "2023-01-11T11:55:49.109441Z",
     "shell.execute_reply": "2023-01-11T11:55:49.109037Z"
    },
    "papermill": {
     "duration": 5.045642,
     "end_time": "2023-01-11T11:55:49.109577",
     "exception": false,
     "start_time": "2023-01-11T11:55:44.063935",
     "status": "completed"
    },
    "tags": []
   },
   "outputs": [],
   "source": [
    "time.sleep(sleeping_seconds)"
   ]
  },
  {
   "cell_type": "markdown",
   "id": "d856dbf2-37a4-4e52-804a-81c3728b99a7",
   "metadata": {
    "papermill": {
     "duration": 0.036488,
     "end_time": "2023-01-11T11:55:49.182975",
     "exception": false,
     "start_time": "2023-01-11T11:55:49.146487",
     "status": "completed"
    },
    "tags": []
   },
   "source": [
    "## Output"
   ]
  },
  {
   "cell_type": "markdown",
   "id": "2c4996fc-6773-4b9b-bf78-b39bc9a88bf2",
   "metadata": {
    "papermill": {
     "duration": 0.038554,
     "end_time": "2023-01-11T11:55:49.257154",
     "exception": false,
     "start_time": "2023-01-11T11:55:49.218600",
     "status": "completed"
    },
    "tags": []
   },
   "source": [
    "### Display result"
   ]
  },
  {
   "cell_type": "markdown",
   "id": "e4aaeef7",
   "metadata": {
    "tags": [
     "papermill-error-cell-tag"
    ]
   },
   "source": [
    "<span id=\"papermill-error-cell\" style=\"color:red; font-family:Helvetica Neue, Helvetica, Arial, sans-serif; font-size:2em;\">Execution using papermill encountered an exception here and stopped:</span>"
   ]
  },
  {
   "cell_type": "code",
   "execution_count": 4,
   "id": "d26d8cee-8e57-4aab-b621-14f82e5010a5",
   "metadata": {
    "execution": {
     "iopub.execute_input": "2023-01-11T11:55:49.346926Z",
     "iopub.status.busy": "2023-01-11T11:55:49.346436Z",
     "iopub.status.idle": "2023-01-11T11:55:49.353661Z",
     "shell.execute_reply": "2023-01-11T11:55:49.352992Z"
    },
    "papermill": {
     "duration": 0.061121,
     "end_time": "2023-01-11T11:55:49.353892",
     "exception": true,
     "start_time": "2023-01-11T11:55:49.292771",
     "status": "failed"
    },
    "tags": []
   },
   "outputs": [
    {
     "ename": "SyntaxError",
     "evalue": "unexpected EOF while parsing (<ipython-input-4-0219726117bb>, line 1)",
     "output_type": "error",
     "traceback": [
      "\u001b[0;36m  File \u001b[0;32m\"<ipython-input-4-0219726117bb>\"\u001b[0;36m, line \u001b[0;32m1\u001b[0m\n\u001b[0;31m    print(\"Hello World!\"\u001b[0m\n\u001b[0m                        ^\u001b[0m\n\u001b[0;31mSyntaxError\u001b[0m\u001b[0;31m:\u001b[0m unexpected EOF while parsing\n"
     ]
    }
   ],
   "source": [
    "print(\"Hello World!\""
   ]
  }
 ],
 "metadata": {
  "kernelspec": {
   "display_name": "Python 3",
   "language": "python",
   "name": "python3"
  },
  "language_info": {
   "codemirror_mode": {
    "name": "ipython",
    "version": 3
   },
   "file_extension": ".py",
   "mimetype": "text/x-python",
   "name": "python",
   "nbconvert_exporter": "python",
   "pygments_lexer": "ipython3",
   "version": "3.9.6"
  },
  "papermill": {
   "default_parameters": {},
   "duration": 12.036542,
   "end_time": "2023-01-11T11:55:49.904983",
   "environment_variables": {},
   "exception": true,
   "input_path": "IMO_template.ipynb",
   "output_path": "pipeline_executions/2023-01-11_12-55-37-4b319614-52db-478f-a2fc-98ced5cdda48/FEC.IMO_template.ipynb",
   "parameters": {},
   "start_time": "2023-01-11T11:55:37.868441",
   "version": "2.3.3"
  },
  "widgets": {
   "application/vnd.jupyter.widget-state+json": {
    "state": {},
    "version_major": 2,
    "version_minor": 0
   }
  }
 },
 "nbformat": 4,
 "nbformat_minor": 5
}