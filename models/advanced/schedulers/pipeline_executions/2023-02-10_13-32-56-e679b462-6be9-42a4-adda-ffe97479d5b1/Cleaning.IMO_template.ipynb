{
 "cells": [
  {
   "cell_type": "markdown",
   "id": "dd66232c-09f1-44bf-8849-0cd5c52f78a6",
   "metadata": {
    "papermill": {
     "duration": 0.047588,
     "end_time": "2023-02-10T12:33:07.197428",
     "exception": false,
     "start_time": "2023-02-10T12:33:07.149840",
     "status": "completed"
    },
    "tags": []
   },
   "source": [
    "<img width=\"10%\" alt=\"Naas\" src=\"https://landen.imgix.net/jtci2pxwjczr/assets/5ice39g4.png?w=160\"/>"
   ]
  },
  {
   "cell_type": "markdown",
   "id": "633951dc-ca87-4032-ad2d-b76a909861bf",
   "metadata": {
    "papermill": {
     "duration": 0.032307,
     "end_time": "2023-02-10T12:33:07.265389",
     "exception": false,
     "start_time": "2023-02-10T12:33:07.233082",
     "status": "completed"
    },
    "tags": []
   },
   "source": [
    "# Demo"
   ]
  },
  {
   "cell_type": "markdown",
   "id": "524d5465-bce2-42f3-8d18-6f821dae07a5",
   "metadata": {
    "papermill": {
     "duration": 0.035251,
     "end_time": "2023-02-10T12:33:07.355274",
     "exception": false,
     "start_time": "2023-02-10T12:33:07.320023",
     "status": "completed"
    },
    "tags": []
   },
   "source": [
    "## Input"
   ]
  },
  {
   "cell_type": "markdown",
   "id": "918e5873-b444-43d4-aacd-852fffb5aceb",
   "metadata": {
    "papermill": {
     "duration": 0.040912,
     "end_time": "2023-02-10T12:33:07.443077",
     "exception": false,
     "start_time": "2023-02-10T12:33:07.402165",
     "status": "completed"
    },
    "tags": []
   },
   "source": [
    "### Import libraries"
   ]
  },
  {
   "cell_type": "code",
   "execution_count": 1,
   "id": "f6585d07-f50b-439a-84a9-4c0061870d29",
   "metadata": {
    "execution": {
     "iopub.execute_input": "2023-02-10T12:33:07.529206Z",
     "iopub.status.busy": "2023-02-10T12:33:07.528711Z",
     "iopub.status.idle": "2023-02-10T12:33:10.697953Z",
     "shell.execute_reply": "2023-02-10T12:33:10.698482Z",
     "shell.execute_reply.started": "2023-01-26T16:03:56.360749Z"
    },
    "papermill": {
     "duration": 3.212339,
     "end_time": "2023-02-10T12:33:10.698718",
     "exception": false,
     "start_time": "2023-02-10T12:33:07.486379",
     "status": "completed"
    },
    "tags": []
   },
   "outputs": [
    {
     "name": "stdout",
     "output_type": "stream",
     "text": [
      "✅ Demo loaded successfully.\n",
      "✅ utils file '/home/ftp/data-product-framework/utils/demo.ipynb' successfully loaded.\n"
     ]
    }
   ],
   "source": [
    "import naas_data_product #load utils notebooks\n",
    "import time"
   ]
  },
  {
   "cell_type": "markdown",
   "id": "8e659ff5-80d3-43c9-8daf-1ae7f8d2a554",
   "metadata": {
    "papermill": {
     "duration": 0.038882,
     "end_time": "2023-02-10T12:33:10.772915",
     "exception": false,
     "start_time": "2023-02-10T12:33:10.734033",
     "status": "completed"
    },
    "tags": []
   },
   "source": [
    "### Setup Variables"
   ]
  },
  {
   "cell_type": "code",
   "execution_count": 2,
   "id": "c1a6eb30-fbb2-465e-a8f9-21baf6a8b547",
   "metadata": {
    "execution": {
     "iopub.execute_input": "2023-02-10T12:33:10.844742Z",
     "iopub.status.busy": "2023-02-10T12:33:10.844299Z",
     "iopub.status.idle": "2023-02-10T12:33:10.847040Z",
     "shell.execute_reply": "2023-02-10T12:33:10.847364Z",
     "shell.execute_reply.started": "2023-01-26T16:03:57.176382Z"
    },
    "papermill": {
     "duration": 0.041329,
     "end_time": "2023-02-10T12:33:10.847506",
     "exception": false,
     "start_time": "2023-02-10T12:33:10.806177",
     "status": "completed"
    },
    "tags": [
     "parameters"
    ]
   },
   "outputs": [],
   "source": [
    "sleeping_seconds = 5"
   ]
  },
  {
   "cell_type": "code",
   "execution_count": 3,
   "id": "c779a815",
   "metadata": {
    "execution": {
     "iopub.execute_input": "2023-02-10T12:33:10.927416Z",
     "iopub.status.busy": "2023-02-10T12:33:10.926988Z",
     "iopub.status.idle": "2023-02-10T12:33:10.930081Z",
     "shell.execute_reply": "2023-02-10T12:33:10.929722Z"
    },
    "papermill": {
     "duration": 0.04489,
     "end_time": "2023-02-10T12:33:10.930194",
     "exception": false,
     "start_time": "2023-02-10T12:33:10.885304",
     "status": "completed"
    },
    "tags": [
     "injected-parameters"
    ]
   },
   "outputs": [],
   "source": [
    "# Parameters\n",
    "sleeping_seconds = 1\n"
   ]
  },
  {
   "cell_type": "markdown",
   "id": "ea6ff4cf-cea6-420e-b190-5979156b5fed",
   "metadata": {
    "papermill": {
     "duration": 0.034644,
     "end_time": "2023-02-10T12:33:11.001864",
     "exception": false,
     "start_time": "2023-02-10T12:33:10.967220",
     "status": "completed"
    },
    "tags": []
   },
   "source": [
    "## Model"
   ]
  },
  {
   "cell_type": "markdown",
   "id": "57cc3ca7-a5a2-4ee9-bee0-61c593255eb5",
   "metadata": {
    "papermill": {
     "duration": 0.035188,
     "end_time": "2023-02-10T12:33:11.072824",
     "exception": false,
     "start_time": "2023-02-10T12:33:11.037636",
     "status": "completed"
    },
    "tags": []
   },
   "source": [
    "### Pause notebook execution"
   ]
  },
  {
   "cell_type": "code",
   "execution_count": 4,
   "id": "8bb2bcce-fae7-4095-abc3-a886c8dc24bf",
   "metadata": {
    "execution": {
     "iopub.execute_input": "2023-02-10T12:33:11.147005Z",
     "iopub.status.busy": "2023-02-10T12:33:11.146492Z",
     "iopub.status.idle": "2023-02-10T12:33:12.149919Z",
     "shell.execute_reply": "2023-02-10T12:33:12.150258Z",
     "shell.execute_reply.started": "2023-01-26T16:03:58.243268Z"
    },
    "papermill": {
     "duration": 1.040452,
     "end_time": "2023-02-10T12:33:12.150420",
     "exception": false,
     "start_time": "2023-02-10T12:33:11.109968",
     "status": "completed"
    },
    "tags": []
   },
   "outputs": [],
   "source": [
    "time.sleep(sleeping_seconds)"
   ]
  },
  {
   "cell_type": "markdown",
   "id": "d856dbf2-37a4-4e52-804a-81c3728b99a7",
   "metadata": {
    "papermill": {
     "duration": 0.034083,
     "end_time": "2023-02-10T12:33:12.220569",
     "exception": false,
     "start_time": "2023-02-10T12:33:12.186486",
     "status": "completed"
    },
    "tags": []
   },
   "source": [
    "## Output"
   ]
  },
  {
   "cell_type": "markdown",
   "id": "2c4996fc-6773-4b9b-bf78-b39bc9a88bf2",
   "metadata": {
    "papermill": {
     "duration": 0.035397,
     "end_time": "2023-02-10T12:33:12.289426",
     "exception": false,
     "start_time": "2023-02-10T12:33:12.254029",
     "status": "completed"
    },
    "tags": []
   },
   "source": [
    "### Display result"
   ]
  },
  {
   "cell_type": "code",
   "execution_count": 5,
   "id": "d26d8cee-8e57-4aab-b621-14f82e5010a5",
   "metadata": {
    "execution": {
     "iopub.execute_input": "2023-02-10T12:33:12.365329Z",
     "iopub.status.busy": "2023-02-10T12:33:12.364816Z",
     "iopub.status.idle": "2023-02-10T12:33:12.367187Z",
     "shell.execute_reply": "2023-02-10T12:33:12.366776Z",
     "shell.execute_reply.started": "2023-01-26T16:04:03.252384Z"
    },
    "papermill": {
     "duration": 0.0425,
     "end_time": "2023-02-10T12:33:12.367298",
     "exception": false,
     "start_time": "2023-02-10T12:33:12.324798",
     "status": "completed"
    },
    "tags": []
   },
   "outputs": [
    {
     "name": "stdout",
     "output_type": "stream",
     "text": [
      "Hello World!\n"
     ]
    }
   ],
   "source": [
    "print(\"Hello World!\")"
   ]
  },
  {
   "cell_type": "code",
   "execution_count": null,
   "id": "4c2c9208-8c77-4436-b73e-0af00a2e4d2c",
   "metadata": {
    "papermill": {
     "duration": 0.033312,
     "end_time": "2023-02-10T12:33:12.433850",
     "exception": false,
     "start_time": "2023-02-10T12:33:12.400538",
     "status": "completed"
    },
    "tags": []
   },
   "outputs": [],
   "source": []
  }
 ],
 "metadata": {
  "kernelspec": {
   "display_name": "Python 3",
   "language": "python",
   "name": "python3"
  },
  "language_info": {
   "codemirror_mode": {
    "name": "ipython",
    "version": 3
   },
   "file_extension": ".py",
   "mimetype": "text/x-python",
   "name": "python",
   "nbconvert_exporter": "python",
   "pygments_lexer": "ipython3",
   "version": "3.9.6"
  },
  "papermill": {
   "default_parameters": {},
   "duration": 6.447506,
   "end_time": "2023-02-10T12:33:12.872719",
   "environment_variables": {},
   "exception": null,
   "input_path": "l2_silver/IMO_template.ipynb",
   "output_path": "pipeline_executions/2023-02-10_13-32-56-e679b462-6be9-42a4-adda-ffe97479d5b1/Cleaning.IMO_template.ipynb",
   "parameters": {
    "sleeping_seconds": 1
   },
   "start_time": "2023-02-10T12:33:06.425213",
   "version": "2.3.3"
  },
  "widgets": {
   "application/vnd.jupyter.widget-state+json": {
    "state": {},
    "version_major": 2,
    "version_minor": 0
   }
  }
 },
 "nbformat": 4,
 "nbformat_minor": 5
}