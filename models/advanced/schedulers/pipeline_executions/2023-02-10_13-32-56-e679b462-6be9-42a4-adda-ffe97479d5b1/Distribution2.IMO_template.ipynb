{
 "cells": [
  {
   "cell_type": "markdown",
   "id": "dd66232c-09f1-44bf-8849-0cd5c52f78a6",
   "metadata": {
    "papermill": {
     "duration": 0.036354,
     "end_time": "2023-02-10T12:33:21.709552",
     "exception": false,
     "start_time": "2023-02-10T12:33:21.673198",
     "status": "completed"
    },
    "tags": []
   },
   "source": [
    "<img width=\"10%\" alt=\"Naas\" src=\"https://landen.imgix.net/jtci2pxwjczr/assets/5ice39g4.png?w=160\"/>"
   ]
  },
  {
   "cell_type": "markdown",
   "id": "633951dc-ca87-4032-ad2d-b76a909861bf",
   "metadata": {
    "papermill": {
     "duration": 0.033965,
     "end_time": "2023-02-10T12:33:21.780120",
     "exception": false,
     "start_time": "2023-02-10T12:33:21.746155",
     "status": "completed"
    },
    "tags": []
   },
   "source": [
    "# Demo"
   ]
  },
  {
   "cell_type": "markdown",
   "id": "524d5465-bce2-42f3-8d18-6f821dae07a5",
   "metadata": {
    "papermill": {
     "duration": 0.041647,
     "end_time": "2023-02-10T12:33:21.857378",
     "exception": false,
     "start_time": "2023-02-10T12:33:21.815731",
     "status": "completed"
    },
    "tags": []
   },
   "source": [
    "## Input"
   ]
  },
  {
   "cell_type": "markdown",
   "id": "918e5873-b444-43d4-aacd-852fffb5aceb",
   "metadata": {
    "papermill": {
     "duration": 0.038074,
     "end_time": "2023-02-10T12:33:21.928375",
     "exception": false,
     "start_time": "2023-02-10T12:33:21.890301",
     "status": "completed"
    },
    "tags": []
   },
   "source": [
    "### Import libraries"
   ]
  },
  {
   "cell_type": "code",
   "execution_count": 1,
   "id": "f6585d07-f50b-439a-84a9-4c0061870d29",
   "metadata": {
    "execution": {
     "iopub.execute_input": "2023-02-10T12:33:22.002978Z",
     "iopub.status.busy": "2023-02-10T12:33:22.002434Z",
     "iopub.status.idle": "2023-02-10T12:33:25.272267Z",
     "shell.execute_reply": "2023-02-10T12:33:25.276324Z",
     "shell.execute_reply.started": "2023-01-26T16:03:56.360749Z"
    },
    "papermill": {
     "duration": 3.313368,
     "end_time": "2023-02-10T12:33:25.276630",
     "exception": false,
     "start_time": "2023-02-10T12:33:21.963262",
     "status": "completed"
    },
    "tags": []
   },
   "outputs": [
    {
     "name": "stdout",
     "output_type": "stream",
     "text": [
      "✅ Demo loaded successfully.\n",
      "✅ utils file '/home/ftp/data-product-framework/utils/demo.ipynb' successfully loaded.\n"
     ]
    }
   ],
   "source": [
    "import naas_data_product #load utils notebooks\n",
    "import time"
   ]
  },
  {
   "cell_type": "markdown",
   "id": "8e659ff5-80d3-43c9-8daf-1ae7f8d2a554",
   "metadata": {
    "papermill": {
     "duration": 0.037861,
     "end_time": "2023-02-10T12:33:25.348675",
     "exception": false,
     "start_time": "2023-02-10T12:33:25.310814",
     "status": "completed"
    },
    "tags": []
   },
   "source": [
    "### Setup Variables"
   ]
  },
  {
   "cell_type": "code",
   "execution_count": 2,
   "id": "c1a6eb30-fbb2-465e-a8f9-21baf6a8b547",
   "metadata": {
    "execution": {
     "iopub.execute_input": "2023-02-10T12:33:25.434099Z",
     "iopub.status.busy": "2023-02-10T12:33:25.433586Z",
     "iopub.status.idle": "2023-02-10T12:33:25.436017Z",
     "shell.execute_reply": "2023-02-10T12:33:25.435526Z",
     "shell.execute_reply.started": "2023-01-26T16:03:57.176382Z"
    },
    "papermill": {
     "duration": 0.046091,
     "end_time": "2023-02-10T12:33:25.436166",
     "exception": false,
     "start_time": "2023-02-10T12:33:25.390075",
     "status": "completed"
    },
    "tags": [
     "parameters"
    ]
   },
   "outputs": [],
   "source": [
    "sleeping_seconds = 5"
   ]
  },
  {
   "cell_type": "code",
   "execution_count": 3,
   "id": "ac1f34e2",
   "metadata": {
    "execution": {
     "iopub.execute_input": "2023-02-10T12:33:25.548814Z",
     "iopub.status.busy": "2023-02-10T12:33:25.547779Z",
     "iopub.status.idle": "2023-02-10T12:33:25.549567Z",
     "shell.execute_reply": "2023-02-10T12:33:25.549929Z"
    },
    "papermill": {
     "duration": 0.053111,
     "end_time": "2023-02-10T12:33:25.550066",
     "exception": false,
     "start_time": "2023-02-10T12:33:25.496955",
     "status": "completed"
    },
    "tags": [
     "injected-parameters"
    ]
   },
   "outputs": [],
   "source": [
    "# Parameters\n",
    "sleeping_seconds = 1\n"
   ]
  },
  {
   "cell_type": "markdown",
   "id": "ea6ff4cf-cea6-420e-b190-5979156b5fed",
   "metadata": {
    "papermill": {
     "duration": 0.04322,
     "end_time": "2023-02-10T12:33:25.629637",
     "exception": false,
     "start_time": "2023-02-10T12:33:25.586417",
     "status": "completed"
    },
    "tags": []
   },
   "source": [
    "## Model"
   ]
  },
  {
   "cell_type": "markdown",
   "id": "57cc3ca7-a5a2-4ee9-bee0-61c593255eb5",
   "metadata": {
    "papermill": {
     "duration": 0.043717,
     "end_time": "2023-02-10T12:33:25.716501",
     "exception": false,
     "start_time": "2023-02-10T12:33:25.672784",
     "status": "completed"
    },
    "tags": []
   },
   "source": [
    "### Pause notebook execution"
   ]
  },
  {
   "cell_type": "code",
   "execution_count": 4,
   "id": "8bb2bcce-fae7-4095-abc3-a886c8dc24bf",
   "metadata": {
    "execution": {
     "iopub.execute_input": "2023-02-10T12:33:25.804482Z",
     "iopub.status.busy": "2023-02-10T12:33:25.804004Z",
     "iopub.status.idle": "2023-02-10T12:33:26.806739Z",
     "shell.execute_reply": "2023-02-10T12:33:26.807127Z",
     "shell.execute_reply.started": "2023-01-26T16:03:58.243268Z"
    },
    "papermill": {
     "duration": 1.052699,
     "end_time": "2023-02-10T12:33:26.807286",
     "exception": false,
     "start_time": "2023-02-10T12:33:25.754587",
     "status": "completed"
    },
    "tags": []
   },
   "outputs": [],
   "source": [
    "time.sleep(sleeping_seconds)"
   ]
  },
  {
   "cell_type": "markdown",
   "id": "d856dbf2-37a4-4e52-804a-81c3728b99a7",
   "metadata": {
    "papermill": {
     "duration": 0.032833,
     "end_time": "2023-02-10T12:33:26.876373",
     "exception": false,
     "start_time": "2023-02-10T12:33:26.843540",
     "status": "completed"
    },
    "tags": []
   },
   "source": [
    "## Output"
   ]
  },
  {
   "cell_type": "markdown",
   "id": "2c4996fc-6773-4b9b-bf78-b39bc9a88bf2",
   "metadata": {
    "papermill": {
     "duration": 0.040555,
     "end_time": "2023-02-10T12:33:26.957875",
     "exception": false,
     "start_time": "2023-02-10T12:33:26.917320",
     "status": "completed"
    },
    "tags": []
   },
   "source": [
    "### Display result"
   ]
  },
  {
   "cell_type": "code",
   "execution_count": 5,
   "id": "d26d8cee-8e57-4aab-b621-14f82e5010a5",
   "metadata": {
    "execution": {
     "iopub.execute_input": "2023-02-10T12:33:27.042336Z",
     "iopub.status.busy": "2023-02-10T12:33:27.041886Z",
     "iopub.status.idle": "2023-02-10T12:33:27.045576Z",
     "shell.execute_reply": "2023-02-10T12:33:27.045256Z",
     "shell.execute_reply.started": "2023-01-26T16:04:03.252384Z"
    },
    "papermill": {
     "duration": 0.050024,
     "end_time": "2023-02-10T12:33:27.045692",
     "exception": false,
     "start_time": "2023-02-10T12:33:26.995668",
     "status": "completed"
    },
    "tags": []
   },
   "outputs": [
    {
     "name": "stdout",
     "output_type": "stream",
     "text": [
      "Hello World!\n"
     ]
    }
   ],
   "source": [
    "print(\"Hello World!\")"
   ]
  },
  {
   "cell_type": "code",
   "execution_count": null,
   "id": "4c2c9208-8c77-4436-b73e-0af00a2e4d2c",
   "metadata": {
    "papermill": {
     "duration": 0.036733,
     "end_time": "2023-02-10T12:33:27.118925",
     "exception": false,
     "start_time": "2023-02-10T12:33:27.082192",
     "status": "completed"
    },
    "tags": []
   },
   "outputs": [],
   "source": []
  }
 ],
 "metadata": {
  "kernelspec": {
   "display_name": "Python 3",
   "language": "python",
   "name": "python3"
  },
  "language_info": {
   "codemirror_mode": {
    "name": "ipython",
    "version": 3
   },
   "file_extension": ".py",
   "mimetype": "text/x-python",
   "name": "python",
   "nbconvert_exporter": "python",
   "pygments_lexer": "ipython3",
   "version": "3.9.6"
  },
  "papermill": {
   "default_parameters": {},
   "duration": 6.966393,
   "end_time": "2023-02-10T12:33:27.660282",
   "environment_variables": {},
   "exception": null,
   "input_path": "l4_insights/IMO_template.ipynb",
   "output_path": "pipeline_executions/2023-02-10_13-32-56-e679b462-6be9-42a4-adda-ffe97479d5b1/Distribution2.IMO_template.ipynb",
   "parameters": {
    "sleeping_seconds": 1
   },
   "start_time": "2023-02-10T12:33:20.693889",
   "version": "2.3.3"
  },
  "widgets": {
   "application/vnd.jupyter.widget-state+json": {
    "state": {},
    "version_major": 2,
    "version_minor": 0
   }
  }
 },
 "nbformat": 4,
 "nbformat_minor": 5
}