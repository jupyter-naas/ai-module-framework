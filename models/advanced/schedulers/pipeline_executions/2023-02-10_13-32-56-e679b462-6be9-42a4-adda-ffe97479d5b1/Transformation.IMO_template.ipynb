{
 "cells": [
  {
   "cell_type": "markdown",
   "id": "dd66232c-09f1-44bf-8849-0cd5c52f78a6",
   "metadata": {
    "papermill": {
     "duration": 0.036158,
     "end_time": "2023-02-10T12:33:13.906193",
     "exception": false,
     "start_time": "2023-02-10T12:33:13.870035",
     "status": "completed"
    },
    "tags": []
   },
   "source": [
    "<img width=\"10%\" alt=\"Naas\" src=\"https://landen.imgix.net/jtci2pxwjczr/assets/5ice39g4.png?w=160\"/>"
   ]
  },
  {
   "cell_type": "markdown",
   "id": "633951dc-ca87-4032-ad2d-b76a909861bf",
   "metadata": {
    "papermill": {
     "duration": 0.033718,
     "end_time": "2023-02-10T12:33:13.978279",
     "exception": false,
     "start_time": "2023-02-10T12:33:13.944561",
     "status": "completed"
    },
    "tags": []
   },
   "source": [
    "# Demo"
   ]
  },
  {
   "cell_type": "markdown",
   "id": "524d5465-bce2-42f3-8d18-6f821dae07a5",
   "metadata": {
    "papermill": {
     "duration": 0.03301,
     "end_time": "2023-02-10T12:33:14.046436",
     "exception": false,
     "start_time": "2023-02-10T12:33:14.013426",
     "status": "completed"
    },
    "tags": []
   },
   "source": [
    "## Input"
   ]
  },
  {
   "cell_type": "markdown",
   "id": "918e5873-b444-43d4-aacd-852fffb5aceb",
   "metadata": {
    "papermill": {
     "duration": 0.034564,
     "end_time": "2023-02-10T12:33:14.115992",
     "exception": false,
     "start_time": "2023-02-10T12:33:14.081428",
     "status": "completed"
    },
    "tags": []
   },
   "source": [
    "### Import libraries"
   ]
  },
  {
   "cell_type": "code",
   "execution_count": 1,
   "id": "f6585d07-f50b-439a-84a9-4c0061870d29",
   "metadata": {
    "execution": {
     "iopub.execute_input": "2023-02-10T12:33:14.195123Z",
     "iopub.status.busy": "2023-02-10T12:33:14.194693Z",
     "iopub.status.idle": "2023-02-10T12:33:16.404119Z",
     "shell.execute_reply": "2023-02-10T12:33:16.403521Z",
     "shell.execute_reply.started": "2023-01-26T16:03:56.360749Z"
    },
    "papermill": {
     "duration": 2.252124,
     "end_time": "2023-02-10T12:33:16.404266",
     "exception": false,
     "start_time": "2023-02-10T12:33:14.152142",
     "status": "completed"
    },
    "tags": []
   },
   "outputs": [
    {
     "name": "stdout",
     "output_type": "stream",
     "text": [
      "✅ Demo loaded successfully.\n",
      "✅ utils file '/home/ftp/data-product-framework/utils/demo.ipynb' successfully loaded.\n"
     ]
    }
   ],
   "source": [
    "import naas_data_product #load utils notebooks\n",
    "import time"
   ]
  },
  {
   "cell_type": "markdown",
   "id": "8e659ff5-80d3-43c9-8daf-1ae7f8d2a554",
   "metadata": {
    "papermill": {
     "duration": 0.033822,
     "end_time": "2023-02-10T12:33:16.472382",
     "exception": false,
     "start_time": "2023-02-10T12:33:16.438560",
     "status": "completed"
    },
    "tags": []
   },
   "source": [
    "### Setup Variables"
   ]
  },
  {
   "cell_type": "code",
   "execution_count": 2,
   "id": "c1a6eb30-fbb2-465e-a8f9-21baf6a8b547",
   "metadata": {
    "execution": {
     "iopub.execute_input": "2023-02-10T12:33:16.544692Z",
     "iopub.status.busy": "2023-02-10T12:33:16.544264Z",
     "iopub.status.idle": "2023-02-10T12:33:16.547388Z",
     "shell.execute_reply": "2023-02-10T12:33:16.547052Z",
     "shell.execute_reply.started": "2023-01-26T16:03:57.176382Z"
    },
    "papermill": {
     "duration": 0.039676,
     "end_time": "2023-02-10T12:33:16.547504",
     "exception": false,
     "start_time": "2023-02-10T12:33:16.507828",
     "status": "completed"
    },
    "tags": [
     "parameters"
    ]
   },
   "outputs": [],
   "source": [
    "sleeping_seconds = 5"
   ]
  },
  {
   "cell_type": "code",
   "execution_count": 3,
   "id": "3169b764",
   "metadata": {
    "execution": {
     "iopub.execute_input": "2023-02-10T12:33:16.634522Z",
     "iopub.status.busy": "2023-02-10T12:33:16.634109Z",
     "iopub.status.idle": "2023-02-10T12:33:16.637239Z",
     "shell.execute_reply": "2023-02-10T12:33:16.636904Z"
    },
    "papermill": {
     "duration": 0.055626,
     "end_time": "2023-02-10T12:33:16.637353",
     "exception": false,
     "start_time": "2023-02-10T12:33:16.581727",
     "status": "completed"
    },
    "tags": [
     "injected-parameters"
    ]
   },
   "outputs": [],
   "source": [
    "# Parameters\n",
    "sleeping_seconds = 3\n"
   ]
  },
  {
   "cell_type": "markdown",
   "id": "ea6ff4cf-cea6-420e-b190-5979156b5fed",
   "metadata": {
    "papermill": {
     "duration": 0.035447,
     "end_time": "2023-02-10T12:33:16.708054",
     "exception": false,
     "start_time": "2023-02-10T12:33:16.672607",
     "status": "completed"
    },
    "tags": []
   },
   "source": [
    "## Model"
   ]
  },
  {
   "cell_type": "markdown",
   "id": "57cc3ca7-a5a2-4ee9-bee0-61c593255eb5",
   "metadata": {
    "papermill": {
     "duration": 0.034411,
     "end_time": "2023-02-10T12:33:16.778192",
     "exception": false,
     "start_time": "2023-02-10T12:33:16.743781",
     "status": "completed"
    },
    "tags": []
   },
   "source": [
    "### Pause notebook execution"
   ]
  },
  {
   "cell_type": "code",
   "execution_count": 4,
   "id": "8bb2bcce-fae7-4095-abc3-a886c8dc24bf",
   "metadata": {
    "execution": {
     "iopub.execute_input": "2023-02-10T12:33:16.856334Z",
     "iopub.status.busy": "2023-02-10T12:33:16.855898Z",
     "iopub.status.idle": "2023-02-10T12:33:19.860909Z",
     "shell.execute_reply": "2023-02-10T12:33:19.861261Z",
     "shell.execute_reply.started": "2023-01-26T16:03:58.243268Z"
    },
    "papermill": {
     "duration": 3.045186,
     "end_time": "2023-02-10T12:33:19.861426",
     "exception": false,
     "start_time": "2023-02-10T12:33:16.816240",
     "status": "completed"
    },
    "tags": []
   },
   "outputs": [],
   "source": [
    "time.sleep(sleeping_seconds)"
   ]
  },
  {
   "cell_type": "markdown",
   "id": "d856dbf2-37a4-4e52-804a-81c3728b99a7",
   "metadata": {
    "papermill": {
     "duration": 0.035234,
     "end_time": "2023-02-10T12:33:19.930255",
     "exception": false,
     "start_time": "2023-02-10T12:33:19.895021",
     "status": "completed"
    },
    "tags": []
   },
   "source": [
    "## Output"
   ]
  },
  {
   "cell_type": "markdown",
   "id": "2c4996fc-6773-4b9b-bf78-b39bc9a88bf2",
   "metadata": {
    "papermill": {
     "duration": 0.040451,
     "end_time": "2023-02-10T12:33:20.011232",
     "exception": false,
     "start_time": "2023-02-10T12:33:19.970781",
     "status": "completed"
    },
    "tags": []
   },
   "source": [
    "### Display result"
   ]
  },
  {
   "cell_type": "code",
   "execution_count": 5,
   "id": "d26d8cee-8e57-4aab-b621-14f82e5010a5",
   "metadata": {
    "execution": {
     "iopub.execute_input": "2023-02-10T12:33:20.093969Z",
     "iopub.status.busy": "2023-02-10T12:33:20.093311Z",
     "iopub.status.idle": "2023-02-10T12:33:20.096328Z",
     "shell.execute_reply": "2023-02-10T12:33:20.095852Z",
     "shell.execute_reply.started": "2023-01-26T16:04:03.252384Z"
    },
    "papermill": {
     "duration": 0.045643,
     "end_time": "2023-02-10T12:33:20.096464",
     "exception": false,
     "start_time": "2023-02-10T12:33:20.050821",
     "status": "completed"
    },
    "tags": []
   },
   "outputs": [
    {
     "name": "stdout",
     "output_type": "stream",
     "text": [
      "Hello World!\n"
     ]
    }
   ],
   "source": [
    "print(\"Hello World!\")"
   ]
  },
  {
   "cell_type": "code",
   "execution_count": null,
   "id": "4c2c9208-8c77-4436-b73e-0af00a2e4d2c",
   "metadata": {
    "papermill": {
     "duration": 0.035833,
     "end_time": "2023-02-10T12:33:20.171584",
     "exception": false,
     "start_time": "2023-02-10T12:33:20.135751",
     "status": "completed"
    },
    "tags": []
   },
   "outputs": [],
   "source": []
  }
 ],
 "metadata": {
  "kernelspec": {
   "display_name": "Python 3",
   "language": "python",
   "name": "python3"
  },
  "language_info": {
   "codemirror_mode": {
    "name": "ipython",
    "version": 3
   },
   "file_extension": ".py",
   "mimetype": "text/x-python",
   "name": "python",
   "nbconvert_exporter": "python",
   "pygments_lexer": "ipython3",
   "version": "3.9.6"
  },
  "papermill": {
   "default_parameters": {},
   "duration": 7.658825,
   "end_time": "2023-02-10T12:33:20.613669",
   "environment_variables": {},
   "exception": null,
   "input_path": "l3_gold/IMO_template.ipynb",
   "output_path": "pipeline_executions/2023-02-10_13-32-56-e679b462-6be9-42a4-adda-ffe97479d5b1/Transformation.IMO_template.ipynb",
   "parameters": {
    "sleeping_seconds": 3
   },
   "start_time": "2023-02-10T12:33:12.954844",
   "version": "2.3.3"
  },
  "widgets": {
   "application/vnd.jupyter.widget-state+json": {
    "state": {},
    "version_major": 2,
    "version_minor": 0
   }
  }
 },
 "nbformat": 4,
 "nbformat_minor": 5
}