{
 "cells": [
  {
   "cell_type": "markdown",
   "id": "dd66232c-09f1-44bf-8849-0cd5c52f78a6",
   "metadata": {
    "papermill": {
     "duration": 0.034238,
     "end_time": "2023-02-10T12:33:21.806790",
     "exception": false,
     "start_time": "2023-02-10T12:33:21.772552",
     "status": "completed"
    },
    "tags": []
   },
   "source": [
    "<img width=\"10%\" alt=\"Naas\" src=\"https://landen.imgix.net/jtci2pxwjczr/assets/5ice39g4.png?w=160\"/>"
   ]
  },
  {
   "cell_type": "markdown",
   "id": "633951dc-ca87-4032-ad2d-b76a909861bf",
   "metadata": {
    "papermill": {
     "duration": 0.038879,
     "end_time": "2023-02-10T12:33:21.878953",
     "exception": false,
     "start_time": "2023-02-10T12:33:21.840074",
     "status": "completed"
    },
    "tags": []
   },
   "source": [
    "# Demo"
   ]
  },
  {
   "cell_type": "markdown",
   "id": "524d5465-bce2-42f3-8d18-6f821dae07a5",
   "metadata": {
    "papermill": {
     "duration": 0.044219,
     "end_time": "2023-02-10T12:33:21.956375",
     "exception": false,
     "start_time": "2023-02-10T12:33:21.912156",
     "status": "completed"
    },
    "tags": []
   },
   "source": [
    "## Input"
   ]
  },
  {
   "cell_type": "markdown",
   "id": "918e5873-b444-43d4-aacd-852fffb5aceb",
   "metadata": {
    "papermill": {
     "duration": 0.032114,
     "end_time": "2023-02-10T12:33:22.022284",
     "exception": false,
     "start_time": "2023-02-10T12:33:21.990170",
     "status": "completed"
    },
    "tags": []
   },
   "source": [
    "### Import libraries"
   ]
  },
  {
   "cell_type": "code",
   "execution_count": 1,
   "id": "f6585d07-f50b-439a-84a9-4c0061870d29",
   "metadata": {
    "execution": {
     "iopub.execute_input": "2023-02-10T12:33:22.121790Z",
     "iopub.status.busy": "2023-02-10T12:33:22.121091Z",
     "iopub.status.idle": "2023-02-10T12:33:25.405665Z",
     "shell.execute_reply": "2023-02-10T12:33:25.405281Z",
     "shell.execute_reply.started": "2023-01-26T16:03:56.360749Z"
    },
    "papermill": {
     "duration": 3.341568,
     "end_time": "2023-02-10T12:33:25.405788",
     "exception": false,
     "start_time": "2023-02-10T12:33:22.064220",
     "status": "completed"
    },
    "tags": []
   },
   "outputs": [
    {
     "name": "stdout",
     "output_type": "stream",
     "text": [
      "✅ Demo loaded successfully.\n",
      "✅ utils file '/home/ftp/data-product-framework/utils/demo.ipynb' successfully loaded.\n"
     ]
    }
   ],
   "source": [
    "import naas_data_product #load utils notebooks\n",
    "import time"
   ]
  },
  {
   "cell_type": "markdown",
   "id": "8e659ff5-80d3-43c9-8daf-1ae7f8d2a554",
   "metadata": {
    "papermill": {
     "duration": 0.056002,
     "end_time": "2023-02-10T12:33:25.502843",
     "exception": false,
     "start_time": "2023-02-10T12:33:25.446841",
     "status": "completed"
    },
    "tags": []
   },
   "source": [
    "### Setup Variables"
   ]
  },
  {
   "cell_type": "code",
   "execution_count": 2,
   "id": "c1a6eb30-fbb2-465e-a8f9-21baf6a8b547",
   "metadata": {
    "execution": {
     "iopub.execute_input": "2023-02-10T12:33:25.578682Z",
     "iopub.status.busy": "2023-02-10T12:33:25.578192Z",
     "iopub.status.idle": "2023-02-10T12:33:25.580190Z",
     "shell.execute_reply": "2023-02-10T12:33:25.580485Z",
     "shell.execute_reply.started": "2023-01-26T16:03:57.176382Z"
    },
    "papermill": {
     "duration": 0.04111,
     "end_time": "2023-02-10T12:33:25.580614",
     "exception": false,
     "start_time": "2023-02-10T12:33:25.539504",
     "status": "completed"
    },
    "tags": [
     "parameters"
    ]
   },
   "outputs": [],
   "source": [
    "sleeping_seconds = 5"
   ]
  },
  {
   "cell_type": "code",
   "execution_count": 3,
   "id": "7a357752",
   "metadata": {
    "execution": {
     "iopub.execute_input": "2023-02-10T12:33:25.678247Z",
     "iopub.status.busy": "2023-02-10T12:33:25.672515Z",
     "iopub.status.idle": "2023-02-10T12:33:25.686165Z",
     "shell.execute_reply": "2023-02-10T12:33:25.686624Z"
    },
    "papermill": {
     "duration": 0.065732,
     "end_time": "2023-02-10T12:33:25.686787",
     "exception": false,
     "start_time": "2023-02-10T12:33:25.621055",
     "status": "completed"
    },
    "tags": [
     "injected-parameters"
    ]
   },
   "outputs": [],
   "source": [
    "# Parameters\n",
    "sleeping_seconds = 1\n"
   ]
  },
  {
   "cell_type": "markdown",
   "id": "ea6ff4cf-cea6-420e-b190-5979156b5fed",
   "metadata": {
    "papermill": {
     "duration": 0.035164,
     "end_time": "2023-02-10T12:33:25.760136",
     "exception": false,
     "start_time": "2023-02-10T12:33:25.724972",
     "status": "completed"
    },
    "tags": []
   },
   "source": [
    "## Model"
   ]
  },
  {
   "cell_type": "markdown",
   "id": "57cc3ca7-a5a2-4ee9-bee0-61c593255eb5",
   "metadata": {
    "papermill": {
     "duration": 0.036706,
     "end_time": "2023-02-10T12:33:25.832461",
     "exception": false,
     "start_time": "2023-02-10T12:33:25.795755",
     "status": "completed"
    },
    "tags": []
   },
   "source": [
    "### Pause notebook execution"
   ]
  },
  {
   "cell_type": "code",
   "execution_count": 4,
   "id": "8bb2bcce-fae7-4095-abc3-a886c8dc24bf",
   "metadata": {
    "execution": {
     "iopub.execute_input": "2023-02-10T12:33:25.908586Z",
     "iopub.status.busy": "2023-02-10T12:33:25.908165Z",
     "iopub.status.idle": "2023-02-10T12:33:26.911372Z",
     "shell.execute_reply": "2023-02-10T12:33:26.910724Z",
     "shell.execute_reply.started": "2023-01-26T16:03:58.243268Z"
    },
    "papermill": {
     "duration": 1.04281,
     "end_time": "2023-02-10T12:33:26.911524",
     "exception": false,
     "start_time": "2023-02-10T12:33:25.868714",
     "status": "completed"
    },
    "tags": []
   },
   "outputs": [],
   "source": [
    "time.sleep(sleeping_seconds)"
   ]
  },
  {
   "cell_type": "markdown",
   "id": "d856dbf2-37a4-4e52-804a-81c3728b99a7",
   "metadata": {
    "papermill": {
     "duration": 0.033899,
     "end_time": "2023-02-10T12:33:26.984287",
     "exception": false,
     "start_time": "2023-02-10T12:33:26.950388",
     "status": "completed"
    },
    "tags": []
   },
   "source": [
    "## Output"
   ]
  },
  {
   "cell_type": "markdown",
   "id": "2c4996fc-6773-4b9b-bf78-b39bc9a88bf2",
   "metadata": {
    "papermill": {
     "duration": 0.033567,
     "end_time": "2023-02-10T12:33:27.066709",
     "exception": false,
     "start_time": "2023-02-10T12:33:27.033142",
     "status": "completed"
    },
    "tags": []
   },
   "source": [
    "### Display result"
   ]
  },
  {
   "cell_type": "code",
   "execution_count": 5,
   "id": "d26d8cee-8e57-4aab-b621-14f82e5010a5",
   "metadata": {
    "execution": {
     "iopub.execute_input": "2023-02-10T12:33:27.144653Z",
     "iopub.status.busy": "2023-02-10T12:33:27.143921Z",
     "iopub.status.idle": "2023-02-10T12:33:27.146143Z",
     "shell.execute_reply": "2023-02-10T12:33:27.146456Z",
     "shell.execute_reply.started": "2023-01-26T16:04:03.252384Z"
    },
    "papermill": {
     "duration": 0.041595,
     "end_time": "2023-02-10T12:33:27.146583",
     "exception": false,
     "start_time": "2023-02-10T12:33:27.104988",
     "status": "completed"
    },
    "tags": []
   },
   "outputs": [
    {
     "name": "stdout",
     "output_type": "stream",
     "text": [
      "Hello World!\n"
     ]
    }
   ],
   "source": [
    "print(\"Hello World!\")"
   ]
  },
  {
   "cell_type": "code",
   "execution_count": null,
   "id": "4c2c9208-8c77-4436-b73e-0af00a2e4d2c",
   "metadata": {
    "papermill": {
     "duration": 0.038824,
     "end_time": "2023-02-10T12:33:27.223168",
     "exception": false,
     "start_time": "2023-02-10T12:33:27.184344",
     "status": "completed"
    },
    "tags": []
   },
   "outputs": [],
   "source": []
  }
 ],
 "metadata": {
  "kernelspec": {
   "display_name": "Python 3",
   "language": "python",
   "name": "python3"
  },
  "language_info": {
   "codemirror_mode": {
    "name": "ipython",
    "version": 3
   },
   "file_extension": ".py",
   "mimetype": "text/x-python",
   "name": "python",
   "nbconvert_exporter": "python",
   "pygments_lexer": "ipython3",
   "version": "3.9.6"
  },
  "papermill": {
   "default_parameters": {},
   "duration": 8.063406,
   "end_time": "2023-02-10T12:33:28.766929",
   "environment_variables": {},
   "exception": null,
   "input_path": "l4_insights/IMO_template.ipynb",
   "output_path": "pipeline_executions/2023-02-10_13-32-56-e679b462-6be9-42a4-adda-ffe97479d5b1/Distribution1.IMO_template.ipynb",
   "parameters": {
    "sleeping_seconds": 1
   },
   "start_time": "2023-02-10T12:33:20.703523",
   "version": "2.3.3"
  },
  "widgets": {
   "application/vnd.jupyter.widget-state+json": {
    "state": {},
    "version_major": 2,
    "version_minor": 0
   }
  }
 },
 "nbformat": 4,
 "nbformat_minor": 5
}