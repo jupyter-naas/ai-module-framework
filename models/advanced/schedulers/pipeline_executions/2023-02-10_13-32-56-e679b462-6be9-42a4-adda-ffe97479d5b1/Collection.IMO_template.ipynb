{
 "cells": [
  {
   "cell_type": "markdown",
   "id": "dd66232c-09f1-44bf-8849-0cd5c52f78a6",
   "metadata": {
    "papermill": {
     "duration": 0.040796,
     "end_time": "2023-02-10T12:32:57.703202",
     "exception": false,
     "start_time": "2023-02-10T12:32:57.662406",
     "status": "completed"
    },
    "tags": []
   },
   "source": [
    "<img width=\"10%\" alt=\"Naas\" src=\"https://landen.imgix.net/jtci2pxwjczr/assets/5ice39g4.png?w=160\"/>"
   ]
  },
  {
   "cell_type": "markdown",
   "id": "633951dc-ca87-4032-ad2d-b76a909861bf",
   "metadata": {
    "papermill": {
     "duration": 0.035573,
     "end_time": "2023-02-10T12:32:57.774642",
     "exception": false,
     "start_time": "2023-02-10T12:32:57.739069",
     "status": "completed"
    },
    "tags": []
   },
   "source": [
    "# Demo"
   ]
  },
  {
   "cell_type": "markdown",
   "id": "524d5465-bce2-42f3-8d18-6f821dae07a5",
   "metadata": {
    "papermill": {
     "duration": 0.034899,
     "end_time": "2023-02-10T12:32:57.846606",
     "exception": false,
     "start_time": "2023-02-10T12:32:57.811707",
     "status": "completed"
    },
    "tags": []
   },
   "source": [
    "## Input"
   ]
  },
  {
   "cell_type": "markdown",
   "id": "918e5873-b444-43d4-aacd-852fffb5aceb",
   "metadata": {
    "papermill": {
     "duration": 0.044966,
     "end_time": "2023-02-10T12:32:57.926430",
     "exception": false,
     "start_time": "2023-02-10T12:32:57.881464",
     "status": "completed"
    },
    "tags": []
   },
   "source": [
    "### Import libraries"
   ]
  },
  {
   "cell_type": "code",
   "execution_count": 1,
   "id": "f6585d07-f50b-439a-84a9-4c0061870d29",
   "metadata": {
    "execution": {
     "iopub.execute_input": "2023-02-10T12:32:58.007358Z",
     "iopub.status.busy": "2023-02-10T12:32:58.006773Z",
     "iopub.status.idle": "2023-02-10T12:33:00.093672Z",
     "shell.execute_reply": "2023-02-10T12:33:00.092425Z",
     "shell.execute_reply.started": "2023-01-26T16:03:56.360749Z"
    },
    "papermill": {
     "duration": 2.133015,
     "end_time": "2023-02-10T12:33:00.093846",
     "exception": false,
     "start_time": "2023-02-10T12:32:57.960831",
     "status": "completed"
    },
    "tags": []
   },
   "outputs": [
    {
     "name": "stdout",
     "output_type": "stream",
     "text": [
      "✅ Demo loaded successfully.\n",
      "✅ utils file '/home/ftp/data-product-framework/utils/demo.ipynb' successfully loaded.\n"
     ]
    }
   ],
   "source": [
    "import naas_data_product #load utils notebooks\n",
    "import time"
   ]
  },
  {
   "cell_type": "markdown",
   "id": "8e659ff5-80d3-43c9-8daf-1ae7f8d2a554",
   "metadata": {
    "papermill": {
     "duration": 0.040481,
     "end_time": "2023-02-10T12:33:00.173462",
     "exception": false,
     "start_time": "2023-02-10T12:33:00.132981",
     "status": "completed"
    },
    "tags": []
   },
   "source": [
    "### Setup Variables"
   ]
  },
  {
   "cell_type": "code",
   "execution_count": 2,
   "id": "c1a6eb30-fbb2-465e-a8f9-21baf6a8b547",
   "metadata": {
    "execution": {
     "iopub.execute_input": "2023-02-10T12:33:00.265556Z",
     "iopub.status.busy": "2023-02-10T12:33:00.264918Z",
     "iopub.status.idle": "2023-02-10T12:33:00.267058Z",
     "shell.execute_reply": "2023-02-10T12:33:00.266639Z",
     "shell.execute_reply.started": "2023-01-26T16:03:57.176382Z"
    },
    "papermill": {
     "duration": 0.04345,
     "end_time": "2023-02-10T12:33:00.267208",
     "exception": false,
     "start_time": "2023-02-10T12:33:00.223758",
     "status": "completed"
    },
    "tags": [
     "parameters"
    ]
   },
   "outputs": [],
   "source": [
    "sleeping_seconds = 5"
   ]
  },
  {
   "cell_type": "code",
   "execution_count": 3,
   "id": "f9d2b942",
   "metadata": {
    "execution": {
     "iopub.execute_input": "2023-02-10T12:33:00.342042Z",
     "iopub.status.busy": "2023-02-10T12:33:00.341507Z",
     "iopub.status.idle": "2023-02-10T12:33:00.344377Z",
     "shell.execute_reply": "2023-02-10T12:33:00.344720Z"
    },
    "papermill": {
     "duration": 0.04173,
     "end_time": "2023-02-10T12:33:00.344855",
     "exception": false,
     "start_time": "2023-02-10T12:33:00.303125",
     "status": "completed"
    },
    "tags": [
     "injected-parameters"
    ]
   },
   "outputs": [],
   "source": [
    "# Parameters\n",
    "sleeping_seconds = 5\n"
   ]
  },
  {
   "cell_type": "markdown",
   "id": "ea6ff4cf-cea6-420e-b190-5979156b5fed",
   "metadata": {
    "papermill": {
     "duration": 0.033955,
     "end_time": "2023-02-10T12:33:00.420037",
     "exception": false,
     "start_time": "2023-02-10T12:33:00.386082",
     "status": "completed"
    },
    "tags": []
   },
   "source": [
    "## Model"
   ]
  },
  {
   "cell_type": "markdown",
   "id": "57cc3ca7-a5a2-4ee9-bee0-61c593255eb5",
   "metadata": {
    "papermill": {
     "duration": 0.034734,
     "end_time": "2023-02-10T12:33:00.495303",
     "exception": false,
     "start_time": "2023-02-10T12:33:00.460569",
     "status": "completed"
    },
    "tags": []
   },
   "source": [
    "### Pause notebook execution"
   ]
  },
  {
   "cell_type": "code",
   "execution_count": 4,
   "id": "8bb2bcce-fae7-4095-abc3-a886c8dc24bf",
   "metadata": {
    "execution": {
     "iopub.execute_input": "2023-02-10T12:33:00.577266Z",
     "iopub.status.busy": "2023-02-10T12:33:00.576813Z",
     "iopub.status.idle": "2023-02-10T12:33:05.584744Z",
     "shell.execute_reply": "2023-02-10T12:33:05.584347Z",
     "shell.execute_reply.started": "2023-01-26T16:03:58.243268Z"
    },
    "papermill": {
     "duration": 5.050365,
     "end_time": "2023-02-10T12:33:05.584890",
     "exception": false,
     "start_time": "2023-02-10T12:33:00.534525",
     "status": "completed"
    },
    "tags": []
   },
   "outputs": [],
   "source": [
    "time.sleep(sleeping_seconds)"
   ]
  },
  {
   "cell_type": "markdown",
   "id": "d856dbf2-37a4-4e52-804a-81c3728b99a7",
   "metadata": {
    "papermill": {
     "duration": 0.041531,
     "end_time": "2023-02-10T12:33:05.662222",
     "exception": false,
     "start_time": "2023-02-10T12:33:05.620691",
     "status": "completed"
    },
    "tags": []
   },
   "source": [
    "## Output"
   ]
  },
  {
   "cell_type": "markdown",
   "id": "2c4996fc-6773-4b9b-bf78-b39bc9a88bf2",
   "metadata": {
    "papermill": {
     "duration": 0.039423,
     "end_time": "2023-02-10T12:33:05.742702",
     "exception": false,
     "start_time": "2023-02-10T12:33:05.703279",
     "status": "completed"
    },
    "tags": []
   },
   "source": [
    "### Display result"
   ]
  },
  {
   "cell_type": "code",
   "execution_count": 5,
   "id": "d26d8cee-8e57-4aab-b621-14f82e5010a5",
   "metadata": {
    "execution": {
     "iopub.execute_input": "2023-02-10T12:33:05.815375Z",
     "iopub.status.busy": "2023-02-10T12:33:05.814852Z",
     "iopub.status.idle": "2023-02-10T12:33:05.816906Z",
     "shell.execute_reply": "2023-02-10T12:33:05.817236Z",
     "shell.execute_reply.started": "2023-01-26T16:04:03.252384Z"
    },
    "papermill": {
     "duration": 0.041049,
     "end_time": "2023-02-10T12:33:05.817379",
     "exception": false,
     "start_time": "2023-02-10T12:33:05.776330",
     "status": "completed"
    },
    "tags": []
   },
   "outputs": [
    {
     "name": "stdout",
     "output_type": "stream",
     "text": [
      "Hello World!\n"
     ]
    }
   ],
   "source": [
    "print(\"Hello World!\")"
   ]
  },
  {
   "cell_type": "code",
   "execution_count": null,
   "id": "4c2c9208-8c77-4436-b73e-0af00a2e4d2c",
   "metadata": {
    "papermill": {
     "duration": 0.035645,
     "end_time": "2023-02-10T12:33:05.893169",
     "exception": false,
     "start_time": "2023-02-10T12:33:05.857524",
     "status": "completed"
    },
    "tags": []
   },
   "outputs": [],
   "source": []
  }
 ],
 "metadata": {
  "kernelspec": {
   "display_name": "Python 3",
   "language": "python",
   "name": "python3"
  },
  "language_info": {
   "codemirror_mode": {
    "name": "ipython",
    "version": 3
   },
   "file_extension": ".py",
   "mimetype": "text/x-python",
   "name": "python",
   "nbconvert_exporter": "python",
   "pygments_lexer": "ipython3",
   "version": "3.9.6"
  },
  "papermill": {
   "default_parameters": {},
   "duration": 9.536558,
   "end_time": "2023-02-10T12:33:06.338591",
   "environment_variables": {},
   "exception": null,
   "input_path": "l1_bronze/IMO_template.ipynb",
   "output_path": "pipeline_executions/2023-02-10_13-32-56-e679b462-6be9-42a4-adda-ffe97479d5b1/Collection.IMO_template.ipynb",
   "parameters": {
    "sleeping_seconds": 5
   },
   "start_time": "2023-02-10T12:32:56.802033",
   "version": "2.3.3"
  },
  "widgets": {
   "application/vnd.jupyter.widget-state+json": {
    "state": {},
    "version_major": 2,
    "version_minor": 0
   }
  }
 },
 "nbformat": 4,
 "nbformat_minor": 5
}