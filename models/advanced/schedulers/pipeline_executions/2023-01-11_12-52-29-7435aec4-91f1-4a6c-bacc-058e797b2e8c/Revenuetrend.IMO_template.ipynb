{
 "cells": [
  {
   "cell_type": "markdown",
   "id": "dd66232c-09f1-44bf-8849-0cd5c52f78a6",
   "metadata": {
    "papermill": {
     "duration": 0.039452,
     "end_time": "2023-01-11T11:53:03.814522",
     "exception": false,
     "start_time": "2023-01-11T11:53:03.775070",
     "status": "completed"
    },
    "tags": []
   },
   "source": [
    "<img width=\"10%\" alt=\"Naas\" src=\"https://landen.imgix.net/jtci2pxwjczr/assets/5ice39g4.png?w=160\"/>"
   ]
  },
  {
   "cell_type": "markdown",
   "id": "633951dc-ca87-4032-ad2d-b76a909861bf",
   "metadata": {
    "papermill": {
     "duration": 0.038691,
     "end_time": "2023-01-11T11:53:03.901579",
     "exception": false,
     "start_time": "2023-01-11T11:53:03.862888",
     "status": "completed"
    },
    "tags": []
   },
   "source": [
    "# Demo"
   ]
  },
  {
   "cell_type": "markdown",
   "id": "524d5465-bce2-42f3-8d18-6f821dae07a5",
   "metadata": {
    "papermill": {
     "duration": 0.041908,
     "end_time": "2023-01-11T11:53:03.980579",
     "exception": false,
     "start_time": "2023-01-11T11:53:03.938671",
     "status": "completed"
    },
    "tags": []
   },
   "source": [
    "## Input"
   ]
  },
  {
   "cell_type": "markdown",
   "id": "918e5873-b444-43d4-aacd-852fffb5aceb",
   "metadata": {
    "papermill": {
     "duration": 0.034917,
     "end_time": "2023-01-11T11:53:04.052121",
     "exception": false,
     "start_time": "2023-01-11T11:53:04.017204",
     "status": "completed"
    },
    "tags": []
   },
   "source": [
    "### Import libraries"
   ]
  },
  {
   "cell_type": "code",
   "execution_count": 1,
   "id": "f6585d07-f50b-439a-84a9-4c0061870d29",
   "metadata": {
    "execution": {
     "iopub.execute_input": "2023-01-11T11:53:04.131071Z",
     "iopub.status.busy": "2023-01-11T11:53:04.130390Z",
     "iopub.status.idle": "2023-01-11T11:53:07.507786Z",
     "shell.execute_reply": "2023-01-11T11:53:07.507132Z"
    },
    "papermill": {
     "duration": 3.414983,
     "end_time": "2023-01-11T11:53:07.507927",
     "exception": false,
     "start_time": "2023-01-11T11:53:04.092944",
     "status": "completed"
    },
    "tags": []
   },
   "outputs": [
    {
     "name": "stdout",
     "output_type": "stream",
     "text": [
      "✅ Demo loaded successfully.\n",
      "✅ utils file '/home/ftp/data-product-framework/utils/demo.ipynb' successfully loaded.\n"
     ]
    }
   ],
   "source": [
    "import naas_data_product #load utils notebooks\n",
    "import time"
   ]
  },
  {
   "cell_type": "markdown",
   "id": "8e659ff5-80d3-43c9-8daf-1ae7f8d2a554",
   "metadata": {
    "papermill": {
     "duration": 0.034221,
     "end_time": "2023-01-11T11:53:07.575551",
     "exception": false,
     "start_time": "2023-01-11T11:53:07.541330",
     "status": "completed"
    },
    "tags": []
   },
   "source": [
    "### Setup Variables"
   ]
  },
  {
   "cell_type": "code",
   "execution_count": 2,
   "id": "c1a6eb30-fbb2-465e-a8f9-21baf6a8b547",
   "metadata": {
    "execution": {
     "iopub.execute_input": "2023-01-11T11:53:07.652989Z",
     "iopub.status.busy": "2023-01-11T11:53:07.652398Z",
     "iopub.status.idle": "2023-01-11T11:53:07.654175Z",
     "shell.execute_reply": "2023-01-11T11:53:07.654480Z"
    },
    "papermill": {
     "duration": 0.041853,
     "end_time": "2023-01-11T11:53:07.654626",
     "exception": false,
     "start_time": "2023-01-11T11:53:07.612773",
     "status": "completed"
    },
    "tags": [
     "parameters"
    ]
   },
   "outputs": [],
   "source": [
    "sleeping_seconds = 5"
   ]
  },
  {
   "cell_type": "markdown",
   "id": "ea6ff4cf-cea6-420e-b190-5979156b5fed",
   "metadata": {
    "papermill": {
     "duration": 0.038856,
     "end_time": "2023-01-11T11:53:07.728897",
     "exception": false,
     "start_time": "2023-01-11T11:53:07.690041",
     "status": "completed"
    },
    "tags": []
   },
   "source": [
    "## Model"
   ]
  },
  {
   "cell_type": "markdown",
   "id": "57cc3ca7-a5a2-4ee9-bee0-61c593255eb5",
   "metadata": {
    "papermill": {
     "duration": 0.03766,
     "end_time": "2023-01-11T11:53:07.802857",
     "exception": false,
     "start_time": "2023-01-11T11:53:07.765197",
     "status": "completed"
    },
    "tags": []
   },
   "source": [
    "### Pause notebook execution"
   ]
  },
  {
   "cell_type": "code",
   "execution_count": 3,
   "id": "8bb2bcce-fae7-4095-abc3-a886c8dc24bf",
   "metadata": {
    "execution": {
     "iopub.execute_input": "2023-01-11T11:53:07.895475Z",
     "iopub.status.busy": "2023-01-11T11:53:07.895024Z",
     "iopub.status.idle": "2023-01-11T11:53:12.899118Z",
     "shell.execute_reply": "2023-01-11T11:53:12.899469Z"
    },
    "papermill": {
     "duration": 5.050945,
     "end_time": "2023-01-11T11:53:12.899650",
     "exception": false,
     "start_time": "2023-01-11T11:53:07.848705",
     "status": "completed"
    },
    "tags": []
   },
   "outputs": [],
   "source": [
    "time.sleep(sleeping_seconds)"
   ]
  },
  {
   "cell_type": "markdown",
   "id": "d856dbf2-37a4-4e52-804a-81c3728b99a7",
   "metadata": {
    "papermill": {
     "duration": 0.052079,
     "end_time": "2023-01-11T11:53:12.991639",
     "exception": false,
     "start_time": "2023-01-11T11:53:12.939560",
     "status": "completed"
    },
    "tags": []
   },
   "source": [
    "## Output"
   ]
  },
  {
   "cell_type": "markdown",
   "id": "2c4996fc-6773-4b9b-bf78-b39bc9a88bf2",
   "metadata": {
    "papermill": {
     "duration": 0.050549,
     "end_time": "2023-01-11T11:53:13.081520",
     "exception": false,
     "start_time": "2023-01-11T11:53:13.030971",
     "status": "completed"
    },
    "tags": []
   },
   "source": [
    "### Display result"
   ]
  },
  {
   "cell_type": "code",
   "execution_count": 4,
   "id": "d26d8cee-8e57-4aab-b621-14f82e5010a5",
   "metadata": {
    "execution": {
     "iopub.execute_input": "2023-01-11T11:53:13.171899Z",
     "iopub.status.busy": "2023-01-11T11:53:13.171290Z",
     "iopub.status.idle": "2023-01-11T11:53:13.173840Z",
     "shell.execute_reply": "2023-01-11T11:53:13.173491Z"
    },
    "papermill": {
     "duration": 0.042891,
     "end_time": "2023-01-11T11:53:13.173960",
     "exception": false,
     "start_time": "2023-01-11T11:53:13.131069",
     "status": "completed"
    },
    "tags": []
   },
   "outputs": [
    {
     "name": "stdout",
     "output_type": "stream",
     "text": [
      "Hello World!\n"
     ]
    }
   ],
   "source": [
    "print(\"Hello World!\")"
   ]
  }
 ],
 "metadata": {
  "kernelspec": {
   "display_name": "Python 3",
   "language": "python",
   "name": "python3"
  },
  "language_info": {
   "codemirror_mode": {
    "name": "ipython",
    "version": 3
   },
   "file_extension": ".py",
   "mimetype": "text/x-python",
   "name": "python",
   "nbconvert_exporter": "python",
   "pygments_lexer": "ipython3",
   "version": "3.9.6"
  },
  "papermill": {
   "default_parameters": {},
   "duration": 13.198012,
   "end_time": "2023-01-11T11:53:14.516692",
   "environment_variables": {},
   "exception": null,
   "input_path": "IMO_template.ipynb",
   "output_path": "pipeline_executions/2023-01-11_12-52-29-7435aec4-91f1-4a6c-bacc-058e797b2e8c/Revenuetrend.IMO_template.ipynb",
   "parameters": {},
   "start_time": "2023-01-11T11:53:01.318680",
   "version": "2.3.3"
  },
  "widgets": {
   "application/vnd.jupyter.widget-state+json": {
    "state": {},
    "version_major": 2,
    "version_minor": 0
   }
  }
 },
 "nbformat": 4,
 "nbformat_minor": 5
}