{
 "cells": [
  {
   "cell_type": "markdown",
   "id": "dd66232c-09f1-44bf-8849-0cd5c52f78a6",
   "metadata": {
    "papermill": {
     "duration": 0.037219,
     "end_time": "2023-01-11T11:52:31.217695",
     "exception": false,
     "start_time": "2023-01-11T11:52:31.180476",
     "status": "completed"
    },
    "tags": []
   },
   "source": [
    "<img width=\"10%\" alt=\"Naas\" src=\"https://landen.imgix.net/jtci2pxwjczr/assets/5ice39g4.png?w=160\"/>"
   ]
  },
  {
   "cell_type": "markdown",
   "id": "633951dc-ca87-4032-ad2d-b76a909861bf",
   "metadata": {
    "papermill": {
     "duration": 0.040737,
     "end_time": "2023-01-11T11:52:31.292565",
     "exception": false,
     "start_time": "2023-01-11T11:52:31.251828",
     "status": "completed"
    },
    "tags": []
   },
   "source": [
    "# Demo"
   ]
  },
  {
   "cell_type": "markdown",
   "id": "524d5465-bce2-42f3-8d18-6f821dae07a5",
   "metadata": {
    "papermill": {
     "duration": 0.036811,
     "end_time": "2023-01-11T11:52:31.366590",
     "exception": false,
     "start_time": "2023-01-11T11:52:31.329779",
     "status": "completed"
    },
    "tags": []
   },
   "source": [
    "## Input"
   ]
  },
  {
   "cell_type": "markdown",
   "id": "918e5873-b444-43d4-aacd-852fffb5aceb",
   "metadata": {
    "papermill": {
     "duration": 0.036345,
     "end_time": "2023-01-11T11:52:31.439351",
     "exception": false,
     "start_time": "2023-01-11T11:52:31.403006",
     "status": "completed"
    },
    "tags": []
   },
   "source": [
    "### Import libraries"
   ]
  },
  {
   "cell_type": "code",
   "execution_count": 1,
   "id": "f6585d07-f50b-439a-84a9-4c0061870d29",
   "metadata": {
    "execution": {
     "iopub.execute_input": "2023-01-11T11:52:31.518097Z",
     "iopub.status.busy": "2023-01-11T11:52:31.517420Z",
     "iopub.status.idle": "2023-01-11T11:52:35.291186Z",
     "shell.execute_reply": "2023-01-11T11:52:35.291555Z"
    },
    "papermill": {
     "duration": 3.811965,
     "end_time": "2023-01-11T11:52:35.291767",
     "exception": false,
     "start_time": "2023-01-11T11:52:31.479802",
     "status": "completed"
    },
    "tags": []
   },
   "outputs": [
    {
     "name": "stdout",
     "output_type": "stream",
     "text": [
      "✅ Demo loaded successfully.\n",
      "✅ utils file '/home/ftp/data-product-framework/utils/demo.ipynb' successfully loaded.\n"
     ]
    }
   ],
   "source": [
    "import naas_data_product #load utils notebooks\n",
    "import time"
   ]
  },
  {
   "cell_type": "markdown",
   "id": "8e659ff5-80d3-43c9-8daf-1ae7f8d2a554",
   "metadata": {
    "papermill": {
     "duration": 0.039063,
     "end_time": "2023-01-11T11:52:35.365556",
     "exception": false,
     "start_time": "2023-01-11T11:52:35.326493",
     "status": "completed"
    },
    "tags": []
   },
   "source": [
    "### Setup Variables"
   ]
  },
  {
   "cell_type": "code",
   "execution_count": 2,
   "id": "c1a6eb30-fbb2-465e-a8f9-21baf6a8b547",
   "metadata": {
    "execution": {
     "iopub.execute_input": "2023-01-11T11:52:35.435435Z",
     "iopub.status.busy": "2023-01-11T11:52:35.434983Z",
     "iopub.status.idle": "2023-01-11T11:52:35.437900Z",
     "shell.execute_reply": "2023-01-11T11:52:35.438211Z"
    },
    "papermill": {
     "duration": 0.039538,
     "end_time": "2023-01-11T11:52:35.438365",
     "exception": false,
     "start_time": "2023-01-11T11:52:35.398827",
     "status": "completed"
    },
    "tags": [
     "parameters"
    ]
   },
   "outputs": [],
   "source": [
    "sleeping_seconds = 5"
   ]
  },
  {
   "cell_type": "markdown",
   "id": "ea6ff4cf-cea6-420e-b190-5979156b5fed",
   "metadata": {
    "papermill": {
     "duration": 0.034959,
     "end_time": "2023-01-11T11:52:35.508665",
     "exception": false,
     "start_time": "2023-01-11T11:52:35.473706",
     "status": "completed"
    },
    "tags": []
   },
   "source": [
    "## Model"
   ]
  },
  {
   "cell_type": "markdown",
   "id": "57cc3ca7-a5a2-4ee9-bee0-61c593255eb5",
   "metadata": {
    "papermill": {
     "duration": 0.034721,
     "end_time": "2023-01-11T11:52:35.579051",
     "exception": false,
     "start_time": "2023-01-11T11:52:35.544330",
     "status": "completed"
    },
    "tags": []
   },
   "source": [
    "### Pause notebook execution"
   ]
  },
  {
   "cell_type": "code",
   "execution_count": 3,
   "id": "8bb2bcce-fae7-4095-abc3-a886c8dc24bf",
   "metadata": {
    "execution": {
     "iopub.execute_input": "2023-01-11T11:52:35.655203Z",
     "iopub.status.busy": "2023-01-11T11:52:35.654515Z",
     "iopub.status.idle": "2023-01-11T11:52:40.659446Z",
     "shell.execute_reply": "2023-01-11T11:52:40.659829Z"
    },
    "papermill": {
     "duration": 5.044771,
     "end_time": "2023-01-11T11:52:40.659993",
     "exception": false,
     "start_time": "2023-01-11T11:52:35.615222",
     "status": "completed"
    },
    "tags": []
   },
   "outputs": [],
   "source": [
    "time.sleep(sleeping_seconds)"
   ]
  },
  {
   "cell_type": "markdown",
   "id": "d856dbf2-37a4-4e52-804a-81c3728b99a7",
   "metadata": {
    "papermill": {
     "duration": 0.040343,
     "end_time": "2023-01-11T11:52:40.749907",
     "exception": false,
     "start_time": "2023-01-11T11:52:40.709564",
     "status": "completed"
    },
    "tags": []
   },
   "source": [
    "## Output"
   ]
  },
  {
   "cell_type": "markdown",
   "id": "2c4996fc-6773-4b9b-bf78-b39bc9a88bf2",
   "metadata": {
    "papermill": {
     "duration": 0.037302,
     "end_time": "2023-01-11T11:52:40.822023",
     "exception": false,
     "start_time": "2023-01-11T11:52:40.784721",
     "status": "completed"
    },
    "tags": []
   },
   "source": [
    "### Display result"
   ]
  },
  {
   "cell_type": "code",
   "execution_count": 4,
   "id": "d26d8cee-8e57-4aab-b621-14f82e5010a5",
   "metadata": {
    "execution": {
     "iopub.execute_input": "2023-01-11T11:52:40.901664Z",
     "iopub.status.busy": "2023-01-11T11:52:40.901158Z",
     "iopub.status.idle": "2023-01-11T11:52:40.903293Z",
     "shell.execute_reply": "2023-01-11T11:52:40.903756Z"
    },
    "papermill": {
     "duration": 0.041578,
     "end_time": "2023-01-11T11:52:40.903953",
     "exception": false,
     "start_time": "2023-01-11T11:52:40.862375",
     "status": "completed"
    },
    "tags": []
   },
   "outputs": [
    {
     "name": "stdout",
     "output_type": "stream",
     "text": [
      "Hello World!\n"
     ]
    }
   ],
   "source": [
    "print(\"Hello World!\")"
   ]
  }
 ],
 "metadata": {
  "kernelspec": {
   "display_name": "Python 3",
   "language": "python",
   "name": "python3"
  },
  "language_info": {
   "codemirror_mode": {
    "name": "ipython",
    "version": 3
   },
   "file_extension": ".py",
   "mimetype": "text/x-python",
   "name": "python",
   "nbconvert_exporter": "python",
   "pygments_lexer": "ipython3",
   "version": "3.9.6"
  },
  "papermill": {
   "default_parameters": {},
   "duration": 13.077967,
   "end_time": "2023-01-11T11:52:42.210749",
   "environment_variables": {},
   "exception": null,
   "input_path": "IMO_template.ipynb",
   "output_path": "pipeline_executions/2023-01-11_12-52-29-7435aec4-91f1-4a6c-bacc-058e797b2e8c/FEC.IMO_template.ipynb",
   "parameters": {},
   "start_time": "2023-01-11T11:52:29.132782",
   "version": "2.3.3"
  },
  "widgets": {
   "application/vnd.jupyter.widget-state+json": {
    "state": {},
    "version_major": 2,
    "version_minor": 0
   }
  }
 },
 "nbformat": 4,
 "nbformat_minor": 5
}