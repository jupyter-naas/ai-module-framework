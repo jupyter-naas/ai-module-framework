{
 "cells": [
  {
   "cell_type": "markdown",
   "id": "dd66232c-09f1-44bf-8849-0cd5c52f78a6",
   "metadata": {
    "papermill": {
     "duration": 0.037489,
     "end_time": "2023-01-11T11:53:16.555708",
     "exception": false,
     "start_time": "2023-01-11T11:53:16.518219",
     "status": "completed"
    },
    "tags": []
   },
   "source": [
    "<img width=\"10%\" alt=\"Naas\" src=\"https://landen.imgix.net/jtci2pxwjczr/assets/5ice39g4.png?w=160\"/>"
   ]
  },
  {
   "cell_type": "markdown",
   "id": "633951dc-ca87-4032-ad2d-b76a909861bf",
   "metadata": {
    "papermill": {
     "duration": 0.034533,
     "end_time": "2023-01-11T11:53:16.624932",
     "exception": false,
     "start_time": "2023-01-11T11:53:16.590399",
     "status": "completed"
    },
    "tags": []
   },
   "source": [
    "# Demo"
   ]
  },
  {
   "cell_type": "markdown",
   "id": "524d5465-bce2-42f3-8d18-6f821dae07a5",
   "metadata": {
    "papermill": {
     "duration": 0.03481,
     "end_time": "2023-01-11T11:53:16.694042",
     "exception": false,
     "start_time": "2023-01-11T11:53:16.659232",
     "status": "completed"
    },
    "tags": []
   },
   "source": [
    "## Input"
   ]
  },
  {
   "cell_type": "markdown",
   "id": "918e5873-b444-43d4-aacd-852fffb5aceb",
   "metadata": {
    "papermill": {
     "duration": 0.034325,
     "end_time": "2023-01-11T11:53:16.760935",
     "exception": false,
     "start_time": "2023-01-11T11:53:16.726610",
     "status": "completed"
    },
    "tags": []
   },
   "source": [
    "### Import libraries"
   ]
  },
  {
   "cell_type": "code",
   "execution_count": 1,
   "id": "f6585d07-f50b-439a-84a9-4c0061870d29",
   "metadata": {
    "execution": {
     "iopub.execute_input": "2023-01-11T11:53:16.838731Z",
     "iopub.status.busy": "2023-01-11T11:53:16.838313Z",
     "iopub.status.idle": "2023-01-11T11:53:20.498188Z",
     "shell.execute_reply": "2023-01-11T11:53:20.499052Z"
    },
    "papermill": {
     "duration": 3.700259,
     "end_time": "2023-01-11T11:53:20.499356",
     "exception": false,
     "start_time": "2023-01-11T11:53:16.799097",
     "status": "completed"
    },
    "tags": []
   },
   "outputs": [
    {
     "name": "stdout",
     "output_type": "stream",
     "text": [
      "✅ Demo loaded successfully.\n",
      "✅ utils file '/home/ftp/data-product-framework/utils/demo.ipynb' successfully loaded.\n"
     ]
    }
   ],
   "source": [
    "import naas_data_product #load utils notebooks\n",
    "import time"
   ]
  },
  {
   "cell_type": "markdown",
   "id": "8e659ff5-80d3-43c9-8daf-1ae7f8d2a554",
   "metadata": {
    "papermill": {
     "duration": 0.033321,
     "end_time": "2023-01-11T11:53:20.572056",
     "exception": false,
     "start_time": "2023-01-11T11:53:20.538735",
     "status": "completed"
    },
    "tags": []
   },
   "source": [
    "### Setup Variables"
   ]
  },
  {
   "cell_type": "code",
   "execution_count": 2,
   "id": "c1a6eb30-fbb2-465e-a8f9-21baf6a8b547",
   "metadata": {
    "execution": {
     "iopub.execute_input": "2023-01-11T11:53:20.648955Z",
     "iopub.status.busy": "2023-01-11T11:53:20.647260Z",
     "iopub.status.idle": "2023-01-11T11:53:20.649732Z",
     "shell.execute_reply": "2023-01-11T11:53:20.650312Z"
    },
    "papermill": {
     "duration": 0.040371,
     "end_time": "2023-01-11T11:53:20.650545",
     "exception": false,
     "start_time": "2023-01-11T11:53:20.610174",
     "status": "completed"
    },
    "tags": [
     "parameters"
    ]
   },
   "outputs": [],
   "source": [
    "sleeping_seconds = 5"
   ]
  },
  {
   "cell_type": "markdown",
   "id": "ea6ff4cf-cea6-420e-b190-5979156b5fed",
   "metadata": {
    "papermill": {
     "duration": 0.038349,
     "end_time": "2023-01-11T11:53:20.724838",
     "exception": false,
     "start_time": "2023-01-11T11:53:20.686489",
     "status": "completed"
    },
    "tags": []
   },
   "source": [
    "## Model"
   ]
  },
  {
   "cell_type": "markdown",
   "id": "57cc3ca7-a5a2-4ee9-bee0-61c593255eb5",
   "metadata": {
    "papermill": {
     "duration": 0.03592,
     "end_time": "2023-01-11T11:53:20.803376",
     "exception": false,
     "start_time": "2023-01-11T11:53:20.767456",
     "status": "completed"
    },
    "tags": []
   },
   "source": [
    "### Pause notebook execution"
   ]
  },
  {
   "cell_type": "code",
   "execution_count": 3,
   "id": "8bb2bcce-fae7-4095-abc3-a886c8dc24bf",
   "metadata": {
    "execution": {
     "iopub.execute_input": "2023-01-11T11:53:20.877713Z",
     "iopub.status.busy": "2023-01-11T11:53:20.877270Z",
     "iopub.status.idle": "2023-01-11T11:53:25.883142Z",
     "shell.execute_reply": "2023-01-11T11:53:25.883493Z"
    },
    "papermill": {
     "duration": 5.04496,
     "end_time": "2023-01-11T11:53:25.883659",
     "exception": false,
     "start_time": "2023-01-11T11:53:20.838699",
     "status": "completed"
    },
    "tags": []
   },
   "outputs": [],
   "source": [
    "time.sleep(sleeping_seconds)"
   ]
  },
  {
   "cell_type": "markdown",
   "id": "d856dbf2-37a4-4e52-804a-81c3728b99a7",
   "metadata": {
    "papermill": {
     "duration": 0.039801,
     "end_time": "2023-01-11T11:53:25.956623",
     "exception": false,
     "start_time": "2023-01-11T11:53:25.916822",
     "status": "completed"
    },
    "tags": []
   },
   "source": [
    "## Output"
   ]
  },
  {
   "cell_type": "markdown",
   "id": "2c4996fc-6773-4b9b-bf78-b39bc9a88bf2",
   "metadata": {
    "papermill": {
     "duration": 0.03542,
     "end_time": "2023-01-11T11:53:26.027805",
     "exception": false,
     "start_time": "2023-01-11T11:53:25.992385",
     "status": "completed"
    },
    "tags": []
   },
   "source": [
    "### Display result"
   ]
  },
  {
   "cell_type": "code",
   "execution_count": 4,
   "id": "d26d8cee-8e57-4aab-b621-14f82e5010a5",
   "metadata": {
    "execution": {
     "iopub.execute_input": "2023-01-11T11:53:26.106141Z",
     "iopub.status.busy": "2023-01-11T11:53:26.105381Z",
     "iopub.status.idle": "2023-01-11T11:53:26.108170Z",
     "shell.execute_reply": "2023-01-11T11:53:26.106713Z"
    },
    "papermill": {
     "duration": 0.046312,
     "end_time": "2023-01-11T11:53:26.108340",
     "exception": false,
     "start_time": "2023-01-11T11:53:26.062028",
     "status": "completed"
    },
    "tags": []
   },
   "outputs": [
    {
     "name": "stdout",
     "output_type": "stream",
     "text": [
      "Hello World!\n"
     ]
    }
   ],
   "source": [
    "print(\"Hello World!\")"
   ]
  }
 ],
 "metadata": {
  "kernelspec": {
   "display_name": "Python 3",
   "language": "python",
   "name": "python3"
  },
  "language_info": {
   "codemirror_mode": {
    "name": "ipython",
    "version": 3
   },
   "file_extension": ".py",
   "mimetype": "text/x-python",
   "name": "python",
   "nbconvert_exporter": "python",
   "pygments_lexer": "ipython3",
   "version": "3.9.6"
  },
  "papermill": {
   "default_parameters": {},
   "duration": 13.046778,
   "end_time": "2023-01-11T11:53:27.649151",
   "environment_variables": {},
   "exception": null,
   "input_path": "IMO_template.ipynb",
   "output_path": "pipeline_executions/2023-01-11_12-52-29-7435aec4-91f1-4a6c-bacc-058e797b2e8c/Chargesdétaillés.IMO_template.ipynb",
   "parameters": {},
   "start_time": "2023-01-11T11:53:14.602373",
   "version": "2.3.3"
  },
  "widgets": {
   "application/vnd.jupyter.widget-state+json": {
    "state": {},
    "version_major": 2,
    "version_minor": 0
   }
  }
 },
 "nbformat": 4,
 "nbformat_minor": 5
}