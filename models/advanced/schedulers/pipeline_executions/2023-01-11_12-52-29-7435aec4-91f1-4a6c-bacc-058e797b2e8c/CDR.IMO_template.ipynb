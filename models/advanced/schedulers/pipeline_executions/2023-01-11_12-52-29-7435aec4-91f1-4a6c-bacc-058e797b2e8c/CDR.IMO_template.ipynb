{
 "cells": [
  {
   "cell_type": "markdown",
   "id": "dd66232c-09f1-44bf-8849-0cd5c52f78a6",
   "metadata": {
    "papermill": {
     "duration": 0.118846,
     "end_time": "2023-01-11T11:52:46.030785",
     "exception": false,
     "start_time": "2023-01-11T11:52:45.911939",
     "status": "completed"
    },
    "tags": []
   },
   "source": [
    "<img width=\"10%\" alt=\"Naas\" src=\"https://landen.imgix.net/jtci2pxwjczr/assets/5ice39g4.png?w=160\"/>"
   ]
  },
  {
   "cell_type": "markdown",
   "id": "633951dc-ca87-4032-ad2d-b76a909861bf",
   "metadata": {
    "papermill": {
     "duration": 0.097643,
     "end_time": "2023-01-11T11:52:46.235403",
     "exception": false,
     "start_time": "2023-01-11T11:52:46.137760",
     "status": "completed"
    },
    "tags": []
   },
   "source": [
    "# Demo"
   ]
  },
  {
   "cell_type": "markdown",
   "id": "524d5465-bce2-42f3-8d18-6f821dae07a5",
   "metadata": {
    "papermill": {
     "duration": 0.105262,
     "end_time": "2023-01-11T11:52:46.444681",
     "exception": false,
     "start_time": "2023-01-11T11:52:46.339419",
     "status": "completed"
    },
    "tags": []
   },
   "source": [
    "## Input"
   ]
  },
  {
   "cell_type": "markdown",
   "id": "918e5873-b444-43d4-aacd-852fffb5aceb",
   "metadata": {
    "papermill": {
     "duration": 0.054821,
     "end_time": "2023-01-11T11:52:46.547603",
     "exception": false,
     "start_time": "2023-01-11T11:52:46.492782",
     "status": "completed"
    },
    "tags": []
   },
   "source": [
    "### Import libraries"
   ]
  },
  {
   "cell_type": "code",
   "execution_count": 1,
   "id": "f6585d07-f50b-439a-84a9-4c0061870d29",
   "metadata": {
    "execution": {
     "iopub.execute_input": "2023-01-11T11:52:46.692166Z",
     "iopub.status.busy": "2023-01-11T11:52:46.691510Z",
     "iopub.status.idle": "2023-01-11T11:52:54.530445Z",
     "shell.execute_reply": "2023-01-11T11:52:54.531341Z"
    },
    "papermill": {
     "duration": 7.9381,
     "end_time": "2023-01-11T11:52:54.531636",
     "exception": false,
     "start_time": "2023-01-11T11:52:46.593536",
     "status": "completed"
    },
    "tags": []
   },
   "outputs": [
    {
     "name": "stdout",
     "output_type": "stream",
     "text": [
      "✅ Demo loaded successfully.\n",
      "✅ utils file '/home/ftp/data-product-framework/utils/demo.ipynb' successfully loaded.\n"
     ]
    }
   ],
   "source": [
    "import naas_data_product #load utils notebooks\n",
    "import time"
   ]
  },
  {
   "cell_type": "markdown",
   "id": "8e659ff5-80d3-43c9-8daf-1ae7f8d2a554",
   "metadata": {
    "papermill": {
     "duration": 0.035963,
     "end_time": "2023-01-11T11:52:54.618885",
     "exception": false,
     "start_time": "2023-01-11T11:52:54.582922",
     "status": "completed"
    },
    "tags": []
   },
   "source": [
    "### Setup Variables"
   ]
  },
  {
   "cell_type": "code",
   "execution_count": 2,
   "id": "c1a6eb30-fbb2-465e-a8f9-21baf6a8b547",
   "metadata": {
    "execution": {
     "iopub.execute_input": "2023-01-11T11:52:54.703805Z",
     "iopub.status.busy": "2023-01-11T11:52:54.703401Z",
     "iopub.status.idle": "2023-01-11T11:52:54.707833Z",
     "shell.execute_reply": "2023-01-11T11:52:54.707479Z"
    },
    "papermill": {
     "duration": 0.052895,
     "end_time": "2023-01-11T11:52:54.707945",
     "exception": false,
     "start_time": "2023-01-11T11:52:54.655050",
     "status": "completed"
    },
    "tags": [
     "parameters"
    ]
   },
   "outputs": [],
   "source": [
    "sleeping_seconds = 5"
   ]
  },
  {
   "cell_type": "markdown",
   "id": "ea6ff4cf-cea6-420e-b190-5979156b5fed",
   "metadata": {
    "papermill": {
     "duration": 0.040806,
     "end_time": "2023-01-11T11:52:54.786620",
     "exception": false,
     "start_time": "2023-01-11T11:52:54.745814",
     "status": "completed"
    },
    "tags": []
   },
   "source": [
    "## Model"
   ]
  },
  {
   "cell_type": "markdown",
   "id": "57cc3ca7-a5a2-4ee9-bee0-61c593255eb5",
   "metadata": {
    "papermill": {
     "duration": 0.037748,
     "end_time": "2023-01-11T11:52:54.869732",
     "exception": false,
     "start_time": "2023-01-11T11:52:54.831984",
     "status": "completed"
    },
    "tags": []
   },
   "source": [
    "### Pause notebook execution"
   ]
  },
  {
   "cell_type": "code",
   "execution_count": 3,
   "id": "8bb2bcce-fae7-4095-abc3-a886c8dc24bf",
   "metadata": {
    "execution": {
     "iopub.execute_input": "2023-01-11T11:52:54.952561Z",
     "iopub.status.busy": "2023-01-11T11:52:54.952150Z",
     "iopub.status.idle": "2023-01-11T11:52:59.960082Z",
     "shell.execute_reply": "2023-01-11T11:52:59.960458Z"
    },
    "papermill": {
     "duration": 5.047843,
     "end_time": "2023-01-11T11:52:59.960641",
     "exception": false,
     "start_time": "2023-01-11T11:52:54.912798",
     "status": "completed"
    },
    "tags": []
   },
   "outputs": [],
   "source": [
    "time.sleep(sleeping_seconds)"
   ]
  },
  {
   "cell_type": "markdown",
   "id": "d856dbf2-37a4-4e52-804a-81c3728b99a7",
   "metadata": {
    "papermill": {
     "duration": 0.03933,
     "end_time": "2023-01-11T11:53:00.039610",
     "exception": false,
     "start_time": "2023-01-11T11:53:00.000280",
     "status": "completed"
    },
    "tags": []
   },
   "source": [
    "## Output"
   ]
  },
  {
   "cell_type": "markdown",
   "id": "2c4996fc-6773-4b9b-bf78-b39bc9a88bf2",
   "metadata": {
    "papermill": {
     "duration": 0.034515,
     "end_time": "2023-01-11T11:53:00.109044",
     "exception": false,
     "start_time": "2023-01-11T11:53:00.074529",
     "status": "completed"
    },
    "tags": []
   },
   "source": [
    "### Display result"
   ]
  },
  {
   "cell_type": "code",
   "execution_count": 4,
   "id": "d26d8cee-8e57-4aab-b621-14f82e5010a5",
   "metadata": {
    "execution": {
     "iopub.execute_input": "2023-01-11T11:53:00.184446Z",
     "iopub.status.busy": "2023-01-11T11:53:00.183978Z",
     "iopub.status.idle": "2023-01-11T11:53:00.186531Z",
     "shell.execute_reply": "2023-01-11T11:53:00.186109Z"
    },
    "papermill": {
     "duration": 0.043099,
     "end_time": "2023-01-11T11:53:00.186653",
     "exception": false,
     "start_time": "2023-01-11T11:53:00.143554",
     "status": "completed"
    },
    "tags": []
   },
   "outputs": [
    {
     "name": "stdout",
     "output_type": "stream",
     "text": [
      "Hello World!\n"
     ]
    }
   ],
   "source": [
    "print(\"Hello World!\")"
   ]
  }
 ],
 "metadata": {
  "kernelspec": {
   "display_name": "Python 3",
   "language": "python",
   "name": "python3"
  },
  "language_info": {
   "codemirror_mode": {
    "name": "ipython",
    "version": 3
   },
   "file_extension": ".py",
   "mimetype": "text/x-python",
   "name": "python",
   "nbconvert_exporter": "python",
   "pygments_lexer": "ipython3",
   "version": "3.9.6"
  },
  "papermill": {
   "default_parameters": {},
   "duration": 18.766679,
   "end_time": "2023-01-11T11:53:01.089670",
   "environment_variables": {},
   "exception": null,
   "input_path": "IMO_template.ipynb",
   "output_path": "pipeline_executions/2023-01-11_12-52-29-7435aec4-91f1-4a6c-bacc-058e797b2e8c/CDR.IMO_template.ipynb",
   "parameters": {},
   "start_time": "2023-01-11T11:52:42.322991",
   "version": "2.3.3"
  },
  "widgets": {
   "application/vnd.jupyter.widget-state+json": {
    "state": {},
    "version_major": 2,
    "version_minor": 0
   }
  }
 },
 "nbformat": 4,
 "nbformat_minor": 5
}