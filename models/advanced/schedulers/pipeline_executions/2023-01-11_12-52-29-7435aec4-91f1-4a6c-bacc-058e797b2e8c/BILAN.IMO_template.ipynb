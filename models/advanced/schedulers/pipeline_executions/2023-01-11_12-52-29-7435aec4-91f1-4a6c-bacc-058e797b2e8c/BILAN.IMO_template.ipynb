{
 "cells": [
  {
   "cell_type": "markdown",
   "id": "dd66232c-09f1-44bf-8849-0cd5c52f78a6",
   "metadata": {
    "papermill": {
     "duration": 0.116753,
     "end_time": "2023-01-11T11:52:46.043726",
     "exception": false,
     "start_time": "2023-01-11T11:52:45.926973",
     "status": "completed"
    },
    "tags": []
   },
   "source": [
    "<img width=\"10%\" alt=\"Naas\" src=\"https://landen.imgix.net/jtci2pxwjczr/assets/5ice39g4.png?w=160\"/>"
   ]
  },
  {
   "cell_type": "markdown",
   "id": "633951dc-ca87-4032-ad2d-b76a909861bf",
   "metadata": {
    "papermill": {
     "duration": 0.067865,
     "end_time": "2023-01-11T11:52:46.254806",
     "exception": false,
     "start_time": "2023-01-11T11:52:46.186941",
     "status": "completed"
    },
    "tags": []
   },
   "source": [
    "# Demo"
   ]
  },
  {
   "cell_type": "markdown",
   "id": "524d5465-bce2-42f3-8d18-6f821dae07a5",
   "metadata": {
    "papermill": {
     "duration": 0.065182,
     "end_time": "2023-01-11T11:52:46.452153",
     "exception": false,
     "start_time": "2023-01-11T11:52:46.386971",
     "status": "completed"
    },
    "tags": []
   },
   "source": [
    "## Input"
   ]
  },
  {
   "cell_type": "markdown",
   "id": "918e5873-b444-43d4-aacd-852fffb5aceb",
   "metadata": {
    "papermill": {
     "duration": 0.044554,
     "end_time": "2023-01-11T11:52:46.542412",
     "exception": false,
     "start_time": "2023-01-11T11:52:46.497858",
     "status": "completed"
    },
    "tags": []
   },
   "source": [
    "### Import libraries"
   ]
  },
  {
   "cell_type": "code",
   "execution_count": 1,
   "id": "f6585d07-f50b-439a-84a9-4c0061870d29",
   "metadata": {
    "execution": {
     "iopub.execute_input": "2023-01-11T11:52:46.697170Z",
     "iopub.status.busy": "2023-01-11T11:52:46.696551Z",
     "iopub.status.idle": "2023-01-11T11:52:54.691883Z",
     "shell.execute_reply": "2023-01-11T11:52:54.692616Z"
    },
    "papermill": {
     "duration": 8.089982,
     "end_time": "2023-01-11T11:52:54.692896",
     "exception": false,
     "start_time": "2023-01-11T11:52:46.602914",
     "status": "completed"
    },
    "tags": []
   },
   "outputs": [
    {
     "name": "stdout",
     "output_type": "stream",
     "text": [
      "✅ Demo loaded successfully.\n",
      "✅ utils file '/home/ftp/data-product-framework/utils/demo.ipynb' successfully loaded.\n"
     ]
    }
   ],
   "source": [
    "import naas_data_product #load utils notebooks\n",
    "import time"
   ]
  },
  {
   "cell_type": "markdown",
   "id": "8e659ff5-80d3-43c9-8daf-1ae7f8d2a554",
   "metadata": {
    "papermill": {
     "duration": 0.044046,
     "end_time": "2023-01-11T11:52:54.779499",
     "exception": false,
     "start_time": "2023-01-11T11:52:54.735453",
     "status": "completed"
    },
    "tags": []
   },
   "source": [
    "### Setup Variables"
   ]
  },
  {
   "cell_type": "code",
   "execution_count": 2,
   "id": "c1a6eb30-fbb2-465e-a8f9-21baf6a8b547",
   "metadata": {
    "execution": {
     "iopub.execute_input": "2023-01-11T11:52:54.880202Z",
     "iopub.status.busy": "2023-01-11T11:52:54.879672Z",
     "iopub.status.idle": "2023-01-11T11:52:54.881967Z",
     "shell.execute_reply": "2023-01-11T11:52:54.881587Z"
    },
    "papermill": {
     "duration": 0.043562,
     "end_time": "2023-01-11T11:52:54.882081",
     "exception": false,
     "start_time": "2023-01-11T11:52:54.838519",
     "status": "completed"
    },
    "tags": [
     "parameters"
    ]
   },
   "outputs": [],
   "source": [
    "sleeping_seconds = 5"
   ]
  },
  {
   "cell_type": "markdown",
   "id": "ea6ff4cf-cea6-420e-b190-5979156b5fed",
   "metadata": {
    "papermill": {
     "duration": 0.034359,
     "end_time": "2023-01-11T11:52:54.964225",
     "exception": false,
     "start_time": "2023-01-11T11:52:54.929866",
     "status": "completed"
    },
    "tags": []
   },
   "source": [
    "## Model"
   ]
  },
  {
   "cell_type": "markdown",
   "id": "57cc3ca7-a5a2-4ee9-bee0-61c593255eb5",
   "metadata": {
    "papermill": {
     "duration": 0.033307,
     "end_time": "2023-01-11T11:52:55.034744",
     "exception": false,
     "start_time": "2023-01-11T11:52:55.001437",
     "status": "completed"
    },
    "tags": []
   },
   "source": [
    "### Pause notebook execution"
   ]
  },
  {
   "cell_type": "code",
   "execution_count": 3,
   "id": "8bb2bcce-fae7-4095-abc3-a886c8dc24bf",
   "metadata": {
    "execution": {
     "iopub.execute_input": "2023-01-11T11:52:55.154954Z",
     "iopub.status.busy": "2023-01-11T11:52:55.154272Z",
     "iopub.status.idle": "2023-01-11T11:53:00.154354Z",
     "shell.execute_reply": "2023-01-11T11:53:00.153991Z"
    },
    "papermill": {
     "duration": 5.058206,
     "end_time": "2023-01-11T11:53:00.154485",
     "exception": false,
     "start_time": "2023-01-11T11:52:55.096279",
     "status": "completed"
    },
    "tags": []
   },
   "outputs": [],
   "source": [
    "time.sleep(sleeping_seconds)"
   ]
  },
  {
   "cell_type": "markdown",
   "id": "d856dbf2-37a4-4e52-804a-81c3728b99a7",
   "metadata": {
    "papermill": {
     "duration": 0.045778,
     "end_time": "2023-01-11T11:53:00.239328",
     "exception": false,
     "start_time": "2023-01-11T11:53:00.193550",
     "status": "completed"
    },
    "tags": []
   },
   "source": [
    "## Output"
   ]
  },
  {
   "cell_type": "markdown",
   "id": "2c4996fc-6773-4b9b-bf78-b39bc9a88bf2",
   "metadata": {
    "papermill": {
     "duration": 0.052516,
     "end_time": "2023-01-11T11:53:00.341476",
     "exception": false,
     "start_time": "2023-01-11T11:53:00.288960",
     "status": "completed"
    },
    "tags": []
   },
   "source": [
    "### Display result"
   ]
  },
  {
   "cell_type": "code",
   "execution_count": 4,
   "id": "d26d8cee-8e57-4aab-b621-14f82e5010a5",
   "metadata": {
    "execution": {
     "iopub.execute_input": "2023-01-11T11:53:00.458394Z",
     "iopub.status.busy": "2023-01-11T11:53:00.455713Z",
     "iopub.status.idle": "2023-01-11T11:53:00.471641Z",
     "shell.execute_reply": "2023-01-11T11:53:00.457141Z"
    },
    "papermill": {
     "duration": 0.077561,
     "end_time": "2023-01-11T11:53:00.471840",
     "exception": false,
     "start_time": "2023-01-11T11:53:00.394279",
     "status": "completed"
    },
    "tags": []
   },
   "outputs": [
    {
     "name": "stdout",
     "output_type": "stream",
     "text": [
      "Hello World!\n"
     ]
    }
   ],
   "source": [
    "print(\"Hello World!\")"
   ]
  }
 ],
 "metadata": {
  "kernelspec": {
   "display_name": "Python 3",
   "language": "python",
   "name": "python3"
  },
  "language_info": {
   "codemirror_mode": {
    "name": "ipython",
    "version": 3
   },
   "file_extension": ".py",
   "mimetype": "text/x-python",
   "name": "python",
   "nbconvert_exporter": "python",
   "pygments_lexer": "ipython3",
   "version": "3.9.6"
  },
  "papermill": {
   "default_parameters": {},
   "duration": 20.201066,
   "end_time": "2023-01-11T11:53:02.516808",
   "environment_variables": {},
   "exception": null,
   "input_path": "IMO_template.ipynb",
   "output_path": "pipeline_executions/2023-01-11_12-52-29-7435aec4-91f1-4a6c-bacc-058e797b2e8c/BILAN.IMO_template.ipynb",
   "parameters": {},
   "start_time": "2023-01-11T11:52:42.315742",
   "version": "2.3.3"
  },
  "widgets": {
   "application/vnd.jupyter.widget-state+json": {
    "state": {},
    "version_major": 2,
    "version_minor": 0
   }
  }
 },
 "nbformat": 4,
 "nbformat_minor": 5
}