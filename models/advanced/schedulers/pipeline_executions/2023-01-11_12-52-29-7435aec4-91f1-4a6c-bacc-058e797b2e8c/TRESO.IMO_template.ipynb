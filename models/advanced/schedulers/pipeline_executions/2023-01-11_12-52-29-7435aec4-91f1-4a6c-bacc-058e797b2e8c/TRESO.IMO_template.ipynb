{
 "cells": [
  {
   "cell_type": "markdown",
   "id": "dd66232c-09f1-44bf-8849-0cd5c52f78a6",
   "metadata": {
    "papermill": {
     "duration": 0.084926,
     "end_time": "2023-01-11T11:52:45.891337",
     "exception": false,
     "start_time": "2023-01-11T11:52:45.806411",
     "status": "completed"
    },
    "tags": []
   },
   "source": [
    "<img width=\"10%\" alt=\"Naas\" src=\"https://landen.imgix.net/jtci2pxwjczr/assets/5ice39g4.png?w=160\"/>"
   ]
  },
  {
   "cell_type": "markdown",
   "id": "633951dc-ca87-4032-ad2d-b76a909861bf",
   "metadata": {
    "papermill": {
     "duration": 0.104557,
     "end_time": "2023-01-11T11:52:46.128884",
     "exception": false,
     "start_time": "2023-01-11T11:52:46.024327",
     "status": "completed"
    },
    "tags": []
   },
   "source": [
    "# Demo"
   ]
  },
  {
   "cell_type": "markdown",
   "id": "524d5465-bce2-42f3-8d18-6f821dae07a5",
   "metadata": {
    "papermill": {
     "duration": 0.097857,
     "end_time": "2023-01-11T11:52:46.395314",
     "exception": false,
     "start_time": "2023-01-11T11:52:46.297457",
     "status": "completed"
    },
    "tags": []
   },
   "source": [
    "## Input"
   ]
  },
  {
   "cell_type": "markdown",
   "id": "918e5873-b444-43d4-aacd-852fffb5aceb",
   "metadata": {
    "papermill": {
     "duration": 0.046587,
     "end_time": "2023-01-11T11:52:46.486056",
     "exception": false,
     "start_time": "2023-01-11T11:52:46.439469",
     "status": "completed"
    },
    "tags": []
   },
   "source": [
    "### Import libraries"
   ]
  },
  {
   "cell_type": "code",
   "execution_count": 1,
   "id": "f6585d07-f50b-439a-84a9-4c0061870d29",
   "metadata": {
    "execution": {
     "iopub.execute_input": "2023-01-11T11:52:46.614554Z",
     "iopub.status.busy": "2023-01-11T11:52:46.613859Z",
     "iopub.status.idle": "2023-01-11T11:52:54.807695Z",
     "shell.execute_reply": "2023-01-11T11:52:54.808485Z"
    },
    "papermill": {
     "duration": 8.256071,
     "end_time": "2023-01-11T11:52:54.808741",
     "exception": false,
     "start_time": "2023-01-11T11:52:46.552670",
     "status": "completed"
    },
    "tags": []
   },
   "outputs": [
    {
     "name": "stdout",
     "output_type": "stream",
     "text": [
      "✅ Demo loaded successfully.\n",
      "✅ utils file '/home/ftp/data-product-framework/utils/demo.ipynb' successfully loaded.\n"
     ]
    }
   ],
   "source": [
    "import naas_data_product #load utils notebooks\n",
    "import time"
   ]
  },
  {
   "cell_type": "markdown",
   "id": "8e659ff5-80d3-43c9-8daf-1ae7f8d2a554",
   "metadata": {
    "papermill": {
     "duration": 0.040853,
     "end_time": "2023-01-11T11:52:54.888323",
     "exception": false,
     "start_time": "2023-01-11T11:52:54.847470",
     "status": "completed"
    },
    "tags": []
   },
   "source": [
    "### Setup Variables"
   ]
  },
  {
   "cell_type": "code",
   "execution_count": 2,
   "id": "c1a6eb30-fbb2-465e-a8f9-21baf6a8b547",
   "metadata": {
    "execution": {
     "iopub.execute_input": "2023-01-11T11:52:54.973756Z",
     "iopub.status.busy": "2023-01-11T11:52:54.973007Z",
     "iopub.status.idle": "2023-01-11T11:52:54.974132Z",
     "shell.execute_reply": "2023-01-11T11:52:54.973398Z"
    },
    "papermill": {
     "duration": 0.05032,
     "end_time": "2023-01-11T11:52:54.974244",
     "exception": false,
     "start_time": "2023-01-11T11:52:54.923924",
     "status": "completed"
    },
    "tags": [
     "parameters"
    ]
   },
   "outputs": [],
   "source": [
    "sleeping_seconds = 5"
   ]
  },
  {
   "cell_type": "markdown",
   "id": "ea6ff4cf-cea6-420e-b190-5979156b5fed",
   "metadata": {
    "papermill": {
     "duration": 0.045109,
     "end_time": "2023-01-11T11:52:55.055106",
     "exception": false,
     "start_time": "2023-01-11T11:52:55.009997",
     "status": "completed"
    },
    "tags": []
   },
   "source": [
    "## Model"
   ]
  },
  {
   "cell_type": "markdown",
   "id": "57cc3ca7-a5a2-4ee9-bee0-61c593255eb5",
   "metadata": {
    "papermill": {
     "duration": 0.04166,
     "end_time": "2023-01-11T11:52:55.146398",
     "exception": false,
     "start_time": "2023-01-11T11:52:55.104738",
     "status": "completed"
    },
    "tags": []
   },
   "source": [
    "### Pause notebook execution"
   ]
  },
  {
   "cell_type": "code",
   "execution_count": 3,
   "id": "8bb2bcce-fae7-4095-abc3-a886c8dc24bf",
   "metadata": {
    "execution": {
     "iopub.execute_input": "2023-01-11T11:52:55.223200Z",
     "iopub.status.busy": "2023-01-11T11:52:55.222732Z",
     "iopub.status.idle": "2023-01-11T11:53:00.230256Z",
     "shell.execute_reply": "2023-01-11T11:53:00.230890Z"
    },
    "papermill": {
     "duration": 5.045433,
     "end_time": "2023-01-11T11:53:00.231119",
     "exception": false,
     "start_time": "2023-01-11T11:52:55.185686",
     "status": "completed"
    },
    "tags": []
   },
   "outputs": [],
   "source": [
    "time.sleep(sleeping_seconds)"
   ]
  },
  {
   "cell_type": "markdown",
   "id": "d856dbf2-37a4-4e52-804a-81c3728b99a7",
   "metadata": {
    "papermill": {
     "duration": 0.053164,
     "end_time": "2023-01-11T11:53:00.347845",
     "exception": false,
     "start_time": "2023-01-11T11:53:00.294681",
     "status": "completed"
    },
    "tags": []
   },
   "source": [
    "## Output"
   ]
  },
  {
   "cell_type": "markdown",
   "id": "2c4996fc-6773-4b9b-bf78-b39bc9a88bf2",
   "metadata": {
    "papermill": {
     "duration": 0.062132,
     "end_time": "2023-01-11T11:53:00.446873",
     "exception": false,
     "start_time": "2023-01-11T11:53:00.384741",
     "status": "completed"
    },
    "tags": []
   },
   "source": [
    "### Display result"
   ]
  },
  {
   "cell_type": "code",
   "execution_count": 4,
   "id": "d26d8cee-8e57-4aab-b621-14f82e5010a5",
   "metadata": {
    "execution": {
     "iopub.execute_input": "2023-01-11T11:53:00.588564Z",
     "iopub.status.busy": "2023-01-11T11:53:00.588066Z",
     "iopub.status.idle": "2023-01-11T11:53:00.595540Z",
     "shell.execute_reply": "2023-01-11T11:53:00.596052Z"
    },
    "papermill": {
     "duration": 0.075357,
     "end_time": "2023-01-11T11:53:00.596282",
     "exception": false,
     "start_time": "2023-01-11T11:53:00.520925",
     "status": "completed"
    },
    "tags": []
   },
   "outputs": [
    {
     "name": "stdout",
     "output_type": "stream",
     "text": [
      "Hello World!\n"
     ]
    }
   ],
   "source": [
    "print(\"Hello World!\")"
   ]
  }
 ],
 "metadata": {
  "kernelspec": {
   "display_name": "Python 3",
   "language": "python",
   "name": "python3"
  },
  "language_info": {
   "codemirror_mode": {
    "name": "ipython",
    "version": 3
   },
   "file_extension": ".py",
   "mimetype": "text/x-python",
   "name": "python",
   "nbconvert_exporter": "python",
   "pygments_lexer": "ipython3",
   "version": "3.9.6"
  },
  "papermill": {
   "default_parameters": {},
   "duration": 20.104747,
   "end_time": "2023-01-11T11:53:02.415821",
   "environment_variables": {},
   "exception": null,
   "input_path": "IMO_template.ipynb",
   "output_path": "pipeline_executions/2023-01-11_12-52-29-7435aec4-91f1-4a6c-bacc-058e797b2e8c/TRESO.IMO_template.ipynb",
   "parameters": {},
   "start_time": "2023-01-11T11:52:42.311074",
   "version": "2.3.3"
  },
  "widgets": {
   "application/vnd.jupyter.widget-state+json": {
    "state": {},
    "version_major": 2,
    "version_minor": 0
   }
  }
 },
 "nbformat": 4,
 "nbformat_minor": 5
}