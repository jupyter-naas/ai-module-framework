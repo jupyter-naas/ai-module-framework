{
 "cells": [
  {
   "cell_type": "markdown",
   "id": "dd66232c-09f1-44bf-8849-0cd5c52f78a6",
   "metadata": {
    "papermill": {
     "duration": 0.035259,
     "end_time": "2023-01-26T16:12:33.771385",
     "exception": false,
     "start_time": "2023-01-26T16:12:33.736126",
     "status": "completed"
    },
    "tags": []
   },
   "source": [
    "<img width=\"10%\" alt=\"Naas\" src=\"https://landen.imgix.net/jtci2pxwjczr/assets/5ice39g4.png?w=160\"/>"
   ]
  },
  {
   "cell_type": "markdown",
   "id": "633951dc-ca87-4032-ad2d-b76a909861bf",
   "metadata": {
    "papermill": {
     "duration": 0.03007,
     "end_time": "2023-01-26T16:12:33.831180",
     "exception": false,
     "start_time": "2023-01-26T16:12:33.801110",
     "status": "completed"
    },
    "tags": []
   },
   "source": [
    "# Demo"
   ]
  },
  {
   "cell_type": "markdown",
   "id": "524d5465-bce2-42f3-8d18-6f821dae07a5",
   "metadata": {
    "papermill": {
     "duration": 0.032228,
     "end_time": "2023-01-26T16:12:33.894336",
     "exception": false,
     "start_time": "2023-01-26T16:12:33.862108",
     "status": "completed"
    },
    "tags": []
   },
   "source": [
    "## Input"
   ]
  },
  {
   "cell_type": "markdown",
   "id": "918e5873-b444-43d4-aacd-852fffb5aceb",
   "metadata": {
    "papermill": {
     "duration": 0.03323,
     "end_time": "2023-01-26T16:12:33.956953",
     "exception": false,
     "start_time": "2023-01-26T16:12:33.923723",
     "status": "completed"
    },
    "tags": []
   },
   "source": [
    "### Import libraries"
   ]
  },
  {
   "cell_type": "code",
   "execution_count": 1,
   "id": "f6585d07-f50b-439a-84a9-4c0061870d29",
   "metadata": {
    "execution": {
     "iopub.execute_input": "2023-01-26T16:12:34.025936Z",
     "iopub.status.busy": "2023-01-26T16:12:34.025508Z",
     "iopub.status.idle": "2023-01-26T16:12:36.616657Z",
     "shell.execute_reply": "2023-01-26T16:12:36.616204Z",
     "shell.execute_reply.started": "2023-01-26T16:03:56.360749Z"
    },
    "papermill": {
     "duration": 2.629095,
     "end_time": "2023-01-26T16:12:36.616811",
     "exception": false,
     "start_time": "2023-01-26T16:12:33.987716",
     "status": "completed"
    },
    "tags": []
   },
   "outputs": [
    {
     "name": "stdout",
     "output_type": "stream",
     "text": [
      "✅ Demo loaded successfully.\n",
      "✅ utils file '/home/ftp/data-product-framework/utils/demo.ipynb' successfully loaded.\n"
     ]
    }
   ],
   "source": [
    "import naas_data_product #load utils notebooks\n",
    "import time"
   ]
  },
  {
   "cell_type": "markdown",
   "id": "8e659ff5-80d3-43c9-8daf-1ae7f8d2a554",
   "metadata": {
    "papermill": {
     "duration": 0.029662,
     "end_time": "2023-01-26T16:12:36.677406",
     "exception": false,
     "start_time": "2023-01-26T16:12:36.647744",
     "status": "completed"
    },
    "tags": []
   },
   "source": [
    "### Setup Variables"
   ]
  },
  {
   "cell_type": "code",
   "execution_count": 2,
   "id": "c1a6eb30-fbb2-465e-a8f9-21baf6a8b547",
   "metadata": {
    "execution": {
     "iopub.execute_input": "2023-01-26T16:12:36.748141Z",
     "iopub.status.busy": "2023-01-26T16:12:36.747467Z",
     "iopub.status.idle": "2023-01-26T16:12:36.749552Z",
     "shell.execute_reply": "2023-01-26T16:12:36.749196Z",
     "shell.execute_reply.started": "2023-01-26T16:03:57.176382Z"
    },
    "papermill": {
     "duration": 0.042324,
     "end_time": "2023-01-26T16:12:36.749671",
     "exception": false,
     "start_time": "2023-01-26T16:12:36.707347",
     "status": "completed"
    },
    "tags": [
     "parameters"
    ]
   },
   "outputs": [],
   "source": [
    "sleeping_seconds = 5"
   ]
  },
  {
   "cell_type": "markdown",
   "id": "ea6ff4cf-cea6-420e-b190-5979156b5fed",
   "metadata": {
    "papermill": {
     "duration": 0.035606,
     "end_time": "2023-01-26T16:12:36.814346",
     "exception": false,
     "start_time": "2023-01-26T16:12:36.778740",
     "status": "completed"
    },
    "tags": []
   },
   "source": [
    "## Model"
   ]
  },
  {
   "cell_type": "markdown",
   "id": "57cc3ca7-a5a2-4ee9-bee0-61c593255eb5",
   "metadata": {
    "papermill": {
     "duration": 0.030666,
     "end_time": "2023-01-26T16:12:36.877132",
     "exception": false,
     "start_time": "2023-01-26T16:12:36.846466",
     "status": "completed"
    },
    "tags": []
   },
   "source": [
    "### Pause notebook execution"
   ]
  },
  {
   "cell_type": "code",
   "execution_count": 3,
   "id": "8bb2bcce-fae7-4095-abc3-a886c8dc24bf",
   "metadata": {
    "execution": {
     "iopub.execute_input": "2023-01-26T16:12:36.947363Z",
     "iopub.status.busy": "2023-01-26T16:12:36.946935Z",
     "iopub.status.idle": "2023-01-26T16:12:41.951100Z",
     "shell.execute_reply": "2023-01-26T16:12:41.950709Z",
     "shell.execute_reply.started": "2023-01-26T16:03:58.243268Z"
    },
    "papermill": {
     "duration": 5.041462,
     "end_time": "2023-01-26T16:12:41.951246",
     "exception": false,
     "start_time": "2023-01-26T16:12:36.909784",
     "status": "completed"
    },
    "tags": []
   },
   "outputs": [],
   "source": [
    "time.sleep(sleeping_seconds)"
   ]
  },
  {
   "cell_type": "markdown",
   "id": "d856dbf2-37a4-4e52-804a-81c3728b99a7",
   "metadata": {
    "papermill": {
     "duration": 0.033412,
     "end_time": "2023-01-26T16:12:42.020095",
     "exception": false,
     "start_time": "2023-01-26T16:12:41.986683",
     "status": "completed"
    },
    "tags": []
   },
   "source": [
    "## Output"
   ]
  },
  {
   "cell_type": "markdown",
   "id": "2c4996fc-6773-4b9b-bf78-b39bc9a88bf2",
   "metadata": {
    "papermill": {
     "duration": 0.033609,
     "end_time": "2023-01-26T16:12:42.086854",
     "exception": false,
     "start_time": "2023-01-26T16:12:42.053245",
     "status": "completed"
    },
    "tags": []
   },
   "source": [
    "### Display result"
   ]
  },
  {
   "cell_type": "code",
   "execution_count": 4,
   "id": "d26d8cee-8e57-4aab-b621-14f82e5010a5",
   "metadata": {
    "execution": {
     "iopub.execute_input": "2023-01-26T16:12:42.157383Z",
     "iopub.status.busy": "2023-01-26T16:12:42.156928Z",
     "iopub.status.idle": "2023-01-26T16:12:42.159332Z",
     "shell.execute_reply": "2023-01-26T16:12:42.158949Z",
     "shell.execute_reply.started": "2023-01-26T16:04:03.252384Z"
    },
    "papermill": {
     "duration": 0.038423,
     "end_time": "2023-01-26T16:12:42.159452",
     "exception": false,
     "start_time": "2023-01-26T16:12:42.121029",
     "status": "completed"
    },
    "tags": []
   },
   "outputs": [
    {
     "name": "stdout",
     "output_type": "stream",
     "text": [
      "Hello World!\n"
     ]
    }
   ],
   "source": [
    "print(\"Hello World!\")"
   ]
  },
  {
   "cell_type": "code",
   "execution_count": null,
   "id": "4c2c9208-8c77-4436-b73e-0af00a2e4d2c",
   "metadata": {
    "papermill": {
     "duration": 0.033389,
     "end_time": "2023-01-26T16:12:42.223462",
     "exception": false,
     "start_time": "2023-01-26T16:12:42.190073",
     "status": "completed"
    },
    "tags": []
   },
   "outputs": [],
   "source": []
  }
 ],
 "metadata": {
  "kernelspec": {
   "display_name": "Python 3",
   "language": "python",
   "name": "python3"
  },
  "language_info": {
   "codemirror_mode": {
    "name": "ipython",
    "version": 3
   },
   "file_extension": ".py",
   "mimetype": "text/x-python",
   "name": "python",
   "nbconvert_exporter": "python",
   "pygments_lexer": "ipython3",
   "version": "3.9.6"
  },
  "papermill": {
   "default_parameters": {},
   "duration": 10.618563,
   "end_time": "2023-01-26T16:12:42.865313",
   "environment_variables": {},
   "exception": null,
   "input_path": "bronze/IMO_template.ipynb",
   "output_path": "pipeline_executions/2023-01-26_17-12-32-a2dc7f6f-69f2-4325-8df8-be9e4016c1ad/Extractdata.IMO_template.ipynb",
   "parameters": {},
   "start_time": "2023-01-26T16:12:32.246750",
   "version": "2.3.3"
  },
  "widgets": {
   "application/vnd.jupyter.widget-state+json": {
    "state": {},
    "version_major": 2,
    "version_minor": 0
   }
  }
 },
 "nbformat": 4,
 "nbformat_minor": 5
}