{
 "cells": [
  {
   "cell_type": "markdown",
   "id": "dd66232c-09f1-44bf-8849-0cd5c52f78a6",
   "metadata": {
    "papermill": {
     "duration": 0.036982,
     "end_time": "2023-01-26T16:25:24.045667",
     "exception": false,
     "start_time": "2023-01-26T16:25:24.008685",
     "status": "completed"
    },
    "tags": []
   },
   "source": [
    "<img width=\"10%\" alt=\"Naas\" src=\"https://landen.imgix.net/jtci2pxwjczr/assets/5ice39g4.png?w=160\"/>"
   ]
  },
  {
   "cell_type": "markdown",
   "id": "633951dc-ca87-4032-ad2d-b76a909861bf",
   "metadata": {
    "papermill": {
     "duration": 0.030028,
     "end_time": "2023-01-26T16:25:24.105805",
     "exception": false,
     "start_time": "2023-01-26T16:25:24.075777",
     "status": "completed"
    },
    "tags": []
   },
   "source": [
    "# Demo"
   ]
  },
  {
   "cell_type": "markdown",
   "id": "524d5465-bce2-42f3-8d18-6f821dae07a5",
   "metadata": {
    "papermill": {
     "duration": 0.031414,
     "end_time": "2023-01-26T16:25:24.171994",
     "exception": false,
     "start_time": "2023-01-26T16:25:24.140580",
     "status": "completed"
    },
    "tags": []
   },
   "source": [
    "## Input"
   ]
  },
  {
   "cell_type": "markdown",
   "id": "918e5873-b444-43d4-aacd-852fffb5aceb",
   "metadata": {
    "papermill": {
     "duration": 0.028436,
     "end_time": "2023-01-26T16:25:24.230174",
     "exception": false,
     "start_time": "2023-01-26T16:25:24.201738",
     "status": "completed"
    },
    "tags": []
   },
   "source": [
    "### Import libraries"
   ]
  },
  {
   "cell_type": "code",
   "execution_count": 1,
   "id": "f6585d07-f50b-439a-84a9-4c0061870d29",
   "metadata": {
    "execution": {
     "iopub.execute_input": "2023-01-26T16:25:24.299586Z",
     "iopub.status.busy": "2023-01-26T16:25:24.299128Z",
     "iopub.status.idle": "2023-01-26T16:25:26.745848Z",
     "shell.execute_reply": "2023-01-26T16:25:26.745387Z",
     "shell.execute_reply.started": "2023-01-26T16:03:56.360749Z"
    },
    "papermill": {
     "duration": 2.483948,
     "end_time": "2023-01-26T16:25:26.745989",
     "exception": false,
     "start_time": "2023-01-26T16:25:24.262041",
     "status": "completed"
    },
    "tags": []
   },
   "outputs": [
    {
     "name": "stdout",
     "output_type": "stream",
     "text": [
      "✅ Demo loaded successfully.\n",
      "✅ utils file '/home/ftp/data-product-framework/utils/demo.ipynb' successfully loaded.\n"
     ]
    }
   ],
   "source": [
    "import naas_data_product #load utils notebooks\n",
    "import time"
   ]
  },
  {
   "cell_type": "markdown",
   "id": "8e659ff5-80d3-43c9-8daf-1ae7f8d2a554",
   "metadata": {
    "papermill": {
     "duration": 0.030888,
     "end_time": "2023-01-26T16:25:26.808311",
     "exception": false,
     "start_time": "2023-01-26T16:25:26.777423",
     "status": "completed"
    },
    "tags": []
   },
   "source": [
    "### Setup Variables"
   ]
  },
  {
   "cell_type": "code",
   "execution_count": 2,
   "id": "c1a6eb30-fbb2-465e-a8f9-21baf6a8b547",
   "metadata": {
    "execution": {
     "iopub.execute_input": "2023-01-26T16:25:26.875803Z",
     "iopub.status.busy": "2023-01-26T16:25:26.875164Z",
     "iopub.status.idle": "2023-01-26T16:25:26.877418Z",
     "shell.execute_reply": "2023-01-26T16:25:26.877042Z",
     "shell.execute_reply.started": "2023-01-26T16:03:57.176382Z"
    },
    "papermill": {
     "duration": 0.037417,
     "end_time": "2023-01-26T16:25:26.877535",
     "exception": false,
     "start_time": "2023-01-26T16:25:26.840118",
     "status": "completed"
    },
    "tags": [
     "parameters"
    ]
   },
   "outputs": [],
   "source": [
    "sleeping_seconds = 5"
   ]
  },
  {
   "cell_type": "markdown",
   "id": "ea6ff4cf-cea6-420e-b190-5979156b5fed",
   "metadata": {
    "papermill": {
     "duration": 0.030593,
     "end_time": "2023-01-26T16:25:26.939338",
     "exception": false,
     "start_time": "2023-01-26T16:25:26.908745",
     "status": "completed"
    },
    "tags": []
   },
   "source": [
    "## Model"
   ]
  },
  {
   "cell_type": "markdown",
   "id": "57cc3ca7-a5a2-4ee9-bee0-61c593255eb5",
   "metadata": {
    "papermill": {
     "duration": 0.029864,
     "end_time": "2023-01-26T16:25:26.998691",
     "exception": false,
     "start_time": "2023-01-26T16:25:26.968827",
     "status": "completed"
    },
    "tags": []
   },
   "source": [
    "### Pause notebook execution"
   ]
  },
  {
   "cell_type": "code",
   "execution_count": 3,
   "id": "8bb2bcce-fae7-4095-abc3-a886c8dc24bf",
   "metadata": {
    "execution": {
     "iopub.execute_input": "2023-01-26T16:25:27.063230Z",
     "iopub.status.busy": "2023-01-26T16:25:27.062795Z",
     "iopub.status.idle": "2023-01-26T16:25:32.071027Z",
     "shell.execute_reply": "2023-01-26T16:25:32.070032Z",
     "shell.execute_reply.started": "2023-01-26T16:03:58.243268Z"
    },
    "papermill": {
     "duration": 5.042332,
     "end_time": "2023-01-26T16:25:32.071225",
     "exception": false,
     "start_time": "2023-01-26T16:25:27.028893",
     "status": "completed"
    },
    "tags": []
   },
   "outputs": [],
   "source": [
    "time.sleep(sleeping_seconds)"
   ]
  },
  {
   "cell_type": "markdown",
   "id": "d856dbf2-37a4-4e52-804a-81c3728b99a7",
   "metadata": {
    "papermill": {
     "duration": 0.035926,
     "end_time": "2023-01-26T16:25:32.144241",
     "exception": false,
     "start_time": "2023-01-26T16:25:32.108315",
     "status": "completed"
    },
    "tags": []
   },
   "source": [
    "## Output"
   ]
  },
  {
   "cell_type": "markdown",
   "id": "2c4996fc-6773-4b9b-bf78-b39bc9a88bf2",
   "metadata": {
    "papermill": {
     "duration": 0.044336,
     "end_time": "2023-01-26T16:25:32.227709",
     "exception": false,
     "start_time": "2023-01-26T16:25:32.183373",
     "status": "completed"
    },
    "tags": []
   },
   "source": [
    "### Display result"
   ]
  },
  {
   "cell_type": "code",
   "execution_count": 4,
   "id": "d26d8cee-8e57-4aab-b621-14f82e5010a5",
   "metadata": {
    "execution": {
     "iopub.execute_input": "2023-01-26T16:25:32.312379Z",
     "iopub.status.busy": "2023-01-26T16:25:32.311856Z",
     "iopub.status.idle": "2023-01-26T16:25:32.314006Z",
     "shell.execute_reply": "2023-01-26T16:25:32.314328Z",
     "shell.execute_reply.started": "2023-01-26T16:04:03.252384Z"
    },
    "papermill": {
     "duration": 0.041868,
     "end_time": "2023-01-26T16:25:32.314470",
     "exception": false,
     "start_time": "2023-01-26T16:25:32.272602",
     "status": "completed"
    },
    "tags": []
   },
   "outputs": [
    {
     "name": "stdout",
     "output_type": "stream",
     "text": [
      "Hello World!\n"
     ]
    }
   ],
   "source": [
    "print(\"Hello World!\")"
   ]
  },
  {
   "cell_type": "code",
   "execution_count": null,
   "id": "4c2c9208-8c77-4436-b73e-0af00a2e4d2c",
   "metadata": {
    "papermill": {
     "duration": 0.037235,
     "end_time": "2023-01-26T16:25:32.389900",
     "exception": false,
     "start_time": "2023-01-26T16:25:32.352665",
     "status": "completed"
    },
    "tags": []
   },
   "outputs": [],
   "source": []
  }
 ],
 "metadata": {
  "kernelspec": {
   "display_name": "Python 3",
   "language": "python",
   "name": "python3"
  },
  "language_info": {
   "codemirror_mode": {
    "name": "ipython",
    "version": 3
   },
   "file_extension": ".py",
   "mimetype": "text/x-python",
   "name": "python",
   "nbconvert_exporter": "python",
   "pygments_lexer": "ipython3",
   "version": "3.9.6"
  },
  "papermill": {
   "default_parameters": {},
   "duration": 11.065411,
   "end_time": "2023-01-26T16:25:33.609257",
   "environment_variables": {},
   "exception": null,
   "input_path": "bronze/IMO_template.ipynb",
   "output_path": "pipeline_executions/2023-01-26_17-25-22-0c661165-1572-4315-8c42-29d88dac5f26/Collection.IMO_template.ipynb",
   "parameters": {},
   "start_time": "2023-01-26T16:25:22.543846",
   "version": "2.3.3"
  },
  "widgets": {
   "application/vnd.jupyter.widget-state+json": {
    "state": {},
    "version_major": 2,
    "version_minor": 0
   }
  }
 },
 "nbformat": 4,
 "nbformat_minor": 5
}