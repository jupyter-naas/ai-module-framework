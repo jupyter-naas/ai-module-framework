{
 "cells": [
  {
   "cell_type": "markdown",
   "id": "dd66232c-09f1-44bf-8849-0cd5c52f78a6",
   "metadata": {
    "papermill": {
     "duration": 0.033078,
     "end_time": "2023-01-26T16:25:46.352155",
     "exception": false,
     "start_time": "2023-01-26T16:25:46.319077",
     "status": "completed"
    },
    "tags": []
   },
   "source": [
    "<img width=\"10%\" alt=\"Naas\" src=\"https://landen.imgix.net/jtci2pxwjczr/assets/5ice39g4.png?w=160\"/>"
   ]
  },
  {
   "cell_type": "markdown",
   "id": "633951dc-ca87-4032-ad2d-b76a909861bf",
   "metadata": {
    "papermill": {
     "duration": 0.031381,
     "end_time": "2023-01-26T16:25:46.415762",
     "exception": false,
     "start_time": "2023-01-26T16:25:46.384381",
     "status": "completed"
    },
    "tags": []
   },
   "source": [
    "# Demo"
   ]
  },
  {
   "cell_type": "markdown",
   "id": "524d5465-bce2-42f3-8d18-6f821dae07a5",
   "metadata": {
    "papermill": {
     "duration": 0.038234,
     "end_time": "2023-01-26T16:25:46.491543",
     "exception": false,
     "start_time": "2023-01-26T16:25:46.453309",
     "status": "completed"
    },
    "tags": []
   },
   "source": [
    "## Input"
   ]
  },
  {
   "cell_type": "markdown",
   "id": "918e5873-b444-43d4-aacd-852fffb5aceb",
   "metadata": {
    "papermill": {
     "duration": 0.037448,
     "end_time": "2023-01-26T16:25:46.561653",
     "exception": false,
     "start_time": "2023-01-26T16:25:46.524205",
     "status": "completed"
    },
    "tags": []
   },
   "source": [
    "### Import libraries"
   ]
  },
  {
   "cell_type": "code",
   "execution_count": 1,
   "id": "f6585d07-f50b-439a-84a9-4c0061870d29",
   "metadata": {
    "execution": {
     "iopub.execute_input": "2023-01-26T16:25:46.634128Z",
     "iopub.status.busy": "2023-01-26T16:25:46.633673Z",
     "iopub.status.idle": "2023-01-26T16:25:49.042611Z",
     "shell.execute_reply": "2023-01-26T16:25:49.042953Z",
     "shell.execute_reply.started": "2023-01-26T16:03:56.360749Z"
    },
    "papermill": {
     "duration": 2.450222,
     "end_time": "2023-01-26T16:25:49.043159",
     "exception": false,
     "start_time": "2023-01-26T16:25:46.592937",
     "status": "completed"
    },
    "tags": []
   },
   "outputs": [
    {
     "name": "stdout",
     "output_type": "stream",
     "text": [
      "✅ Demo loaded successfully.\n",
      "✅ utils file '/home/ftp/data-product-framework/utils/demo.ipynb' successfully loaded.\n"
     ]
    }
   ],
   "source": [
    "import naas_data_product #load utils notebooks\n",
    "import time"
   ]
  },
  {
   "cell_type": "markdown",
   "id": "8e659ff5-80d3-43c9-8daf-1ae7f8d2a554",
   "metadata": {
    "papermill": {
     "duration": 0.030663,
     "end_time": "2023-01-26T16:25:49.107487",
     "exception": false,
     "start_time": "2023-01-26T16:25:49.076824",
     "status": "completed"
    },
    "tags": []
   },
   "source": [
    "### Setup Variables"
   ]
  },
  {
   "cell_type": "code",
   "execution_count": 2,
   "id": "c1a6eb30-fbb2-465e-a8f9-21baf6a8b547",
   "metadata": {
    "execution": {
     "iopub.execute_input": "2023-01-26T16:25:49.179822Z",
     "iopub.status.busy": "2023-01-26T16:25:49.179215Z",
     "iopub.status.idle": "2023-01-26T16:25:49.181385Z",
     "shell.execute_reply": "2023-01-26T16:25:49.181048Z",
     "shell.execute_reply.started": "2023-01-26T16:03:57.176382Z"
    },
    "papermill": {
     "duration": 0.041152,
     "end_time": "2023-01-26T16:25:49.181539",
     "exception": false,
     "start_time": "2023-01-26T16:25:49.140387",
     "status": "completed"
    },
    "tags": [
     "parameters"
    ]
   },
   "outputs": [],
   "source": [
    "sleeping_seconds = 5"
   ]
  },
  {
   "cell_type": "markdown",
   "id": "ea6ff4cf-cea6-420e-b190-5979156b5fed",
   "metadata": {
    "papermill": {
     "duration": 0.033145,
     "end_time": "2023-01-26T16:25:49.246771",
     "exception": false,
     "start_time": "2023-01-26T16:25:49.213626",
     "status": "completed"
    },
    "tags": []
   },
   "source": [
    "## Model"
   ]
  },
  {
   "cell_type": "markdown",
   "id": "57cc3ca7-a5a2-4ee9-bee0-61c593255eb5",
   "metadata": {
    "papermill": {
     "duration": 0.029298,
     "end_time": "2023-01-26T16:25:49.306447",
     "exception": false,
     "start_time": "2023-01-26T16:25:49.277149",
     "status": "completed"
    },
    "tags": []
   },
   "source": [
    "### Pause notebook execution"
   ]
  },
  {
   "cell_type": "code",
   "execution_count": 3,
   "id": "8bb2bcce-fae7-4095-abc3-a886c8dc24bf",
   "metadata": {
    "execution": {
     "iopub.execute_input": "2023-01-26T16:25:49.372408Z",
     "iopub.status.busy": "2023-01-26T16:25:49.371979Z",
     "iopub.status.idle": "2023-01-26T16:25:54.379272Z",
     "shell.execute_reply": "2023-01-26T16:25:54.379655Z",
     "shell.execute_reply.started": "2023-01-26T16:03:58.243268Z"
    },
    "papermill": {
     "duration": 5.042306,
     "end_time": "2023-01-26T16:25:54.379832",
     "exception": false,
     "start_time": "2023-01-26T16:25:49.337526",
     "status": "completed"
    },
    "tags": []
   },
   "outputs": [],
   "source": [
    "time.sleep(sleeping_seconds)"
   ]
  },
  {
   "cell_type": "markdown",
   "id": "d856dbf2-37a4-4e52-804a-81c3728b99a7",
   "metadata": {
    "papermill": {
     "duration": 0.030303,
     "end_time": "2023-01-26T16:25:54.443103",
     "exception": false,
     "start_time": "2023-01-26T16:25:54.412800",
     "status": "completed"
    },
    "tags": []
   },
   "source": [
    "## Output"
   ]
  },
  {
   "cell_type": "markdown",
   "id": "2c4996fc-6773-4b9b-bf78-b39bc9a88bf2",
   "metadata": {
    "papermill": {
     "duration": 0.03643,
     "end_time": "2023-01-26T16:25:54.511642",
     "exception": false,
     "start_time": "2023-01-26T16:25:54.475212",
     "status": "completed"
    },
    "tags": []
   },
   "source": [
    "### Display result"
   ]
  },
  {
   "cell_type": "code",
   "execution_count": 4,
   "id": "d26d8cee-8e57-4aab-b621-14f82e5010a5",
   "metadata": {
    "execution": {
     "iopub.execute_input": "2023-01-26T16:25:54.575322Z",
     "iopub.status.busy": "2023-01-26T16:25:54.574749Z",
     "iopub.status.idle": "2023-01-26T16:25:54.577358Z",
     "shell.execute_reply": "2023-01-26T16:25:54.577748Z",
     "shell.execute_reply.started": "2023-01-26T16:04:03.252384Z"
    },
    "papermill": {
     "duration": 0.035972,
     "end_time": "2023-01-26T16:25:54.577900",
     "exception": false,
     "start_time": "2023-01-26T16:25:54.541928",
     "status": "completed"
    },
    "tags": []
   },
   "outputs": [
    {
     "name": "stdout",
     "output_type": "stream",
     "text": [
      "Hello World!\n"
     ]
    }
   ],
   "source": [
    "print(\"Hello World!\")"
   ]
  },
  {
   "cell_type": "code",
   "execution_count": null,
   "id": "4c2c9208-8c77-4436-b73e-0af00a2e4d2c",
   "metadata": {
    "papermill": {
     "duration": 0.036154,
     "end_time": "2023-01-26T16:25:54.644847",
     "exception": false,
     "start_time": "2023-01-26T16:25:54.608693",
     "status": "completed"
    },
    "tags": []
   },
   "outputs": [],
   "source": []
  }
 ],
 "metadata": {
  "kernelspec": {
   "display_name": "Python 3",
   "language": "python",
   "name": "python3"
  },
  "language_info": {
   "codemirror_mode": {
    "name": "ipython",
    "version": 3
   },
   "file_extension": ".py",
   "mimetype": "text/x-python",
   "name": "python",
   "nbconvert_exporter": "python",
   "pygments_lexer": "ipython3",
   "version": "3.9.6"
  },
  "papermill": {
   "default_parameters": {},
   "duration": 11.060021,
   "end_time": "2023-01-26T16:25:55.881618",
   "environment_variables": {},
   "exception": null,
   "input_path": "gold/IMO_template.ipynb",
   "output_path": "pipeline_executions/2023-01-26_17-25-22-0c661165-1572-4315-8c42-29d88dac5f26/Transformation.IMO_template.ipynb",
   "parameters": {},
   "start_time": "2023-01-26T16:25:44.821597",
   "version": "2.3.3"
  },
  "widgets": {
   "application/vnd.jupyter.widget-state+json": {
    "state": {},
    "version_major": 2,
    "version_minor": 0
   }
  }
 },
 "nbformat": 4,
 "nbformat_minor": 5
}