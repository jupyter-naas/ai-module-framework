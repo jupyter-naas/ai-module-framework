{
 "cells": [
  {
   "cell_type": "markdown",
   "id": "dd66232c-09f1-44bf-8849-0cd5c52f78a6",
   "metadata": {
    "papermill": {
     "duration": 0.032236,
     "end_time": "2023-01-26T16:25:34.938882",
     "exception": false,
     "start_time": "2023-01-26T16:25:34.906646",
     "status": "completed"
    },
    "tags": []
   },
   "source": [
    "<img width=\"10%\" alt=\"Naas\" src=\"https://landen.imgix.net/jtci2pxwjczr/assets/5ice39g4.png?w=160\"/>"
   ]
  },
  {
   "cell_type": "markdown",
   "id": "633951dc-ca87-4032-ad2d-b76a909861bf",
   "metadata": {
    "papermill": {
     "duration": 0.032152,
     "end_time": "2023-01-26T16:25:35.012570",
     "exception": false,
     "start_time": "2023-01-26T16:25:34.980418",
     "status": "completed"
    },
    "tags": []
   },
   "source": [
    "# Demo"
   ]
  },
  {
   "cell_type": "markdown",
   "id": "524d5465-bce2-42f3-8d18-6f821dae07a5",
   "metadata": {
    "papermill": {
     "duration": 0.028686,
     "end_time": "2023-01-26T16:25:35.073832",
     "exception": false,
     "start_time": "2023-01-26T16:25:35.045146",
     "status": "completed"
    },
    "tags": []
   },
   "source": [
    "## Input"
   ]
  },
  {
   "cell_type": "markdown",
   "id": "918e5873-b444-43d4-aacd-852fffb5aceb",
   "metadata": {
    "papermill": {
     "duration": 0.030708,
     "end_time": "2023-01-26T16:25:35.133718",
     "exception": false,
     "start_time": "2023-01-26T16:25:35.103010",
     "status": "completed"
    },
    "tags": []
   },
   "source": [
    "### Import libraries"
   ]
  },
  {
   "cell_type": "code",
   "execution_count": 1,
   "id": "f6585d07-f50b-439a-84a9-4c0061870d29",
   "metadata": {
    "execution": {
     "iopub.execute_input": "2023-01-26T16:25:35.200230Z",
     "iopub.status.busy": "2023-01-26T16:25:35.199734Z",
     "iopub.status.idle": "2023-01-26T16:25:37.637304Z",
     "shell.execute_reply": "2023-01-26T16:25:37.636881Z",
     "shell.execute_reply.started": "2023-01-26T16:03:56.360749Z"
    },
    "papermill": {
     "duration": 2.474601,
     "end_time": "2023-01-26T16:25:37.637440",
     "exception": false,
     "start_time": "2023-01-26T16:25:35.162839",
     "status": "completed"
    },
    "tags": []
   },
   "outputs": [
    {
     "name": "stdout",
     "output_type": "stream",
     "text": [
      "✅ Demo loaded successfully.\n",
      "✅ utils file '/home/ftp/data-product-framework/utils/demo.ipynb' successfully loaded.\n"
     ]
    }
   ],
   "source": [
    "import naas_data_product #load utils notebooks\n",
    "import time"
   ]
  },
  {
   "cell_type": "markdown",
   "id": "8e659ff5-80d3-43c9-8daf-1ae7f8d2a554",
   "metadata": {
    "papermill": {
     "duration": 0.032722,
     "end_time": "2023-01-26T16:25:37.702288",
     "exception": false,
     "start_time": "2023-01-26T16:25:37.669566",
     "status": "completed"
    },
    "tags": []
   },
   "source": [
    "### Setup Variables"
   ]
  },
  {
   "cell_type": "code",
   "execution_count": 2,
   "id": "c1a6eb30-fbb2-465e-a8f9-21baf6a8b547",
   "metadata": {
    "execution": {
     "iopub.execute_input": "2023-01-26T16:25:37.779866Z",
     "iopub.status.busy": "2023-01-26T16:25:37.777003Z",
     "iopub.status.idle": "2023-01-26T16:25:37.780760Z",
     "shell.execute_reply": "2023-01-26T16:25:37.780320Z",
     "shell.execute_reply.started": "2023-01-26T16:03:57.176382Z"
    },
    "papermill": {
     "duration": 0.047734,
     "end_time": "2023-01-26T16:25:37.780905",
     "exception": false,
     "start_time": "2023-01-26T16:25:37.733171",
     "status": "completed"
    },
    "tags": [
     "parameters"
    ]
   },
   "outputs": [],
   "source": [
    "sleeping_seconds = 5"
   ]
  },
  {
   "cell_type": "markdown",
   "id": "ea6ff4cf-cea6-420e-b190-5979156b5fed",
   "metadata": {
    "papermill": {
     "duration": 0.031,
     "end_time": "2023-01-26T16:25:37.845989",
     "exception": false,
     "start_time": "2023-01-26T16:25:37.814989",
     "status": "completed"
    },
    "tags": []
   },
   "source": [
    "## Model"
   ]
  },
  {
   "cell_type": "markdown",
   "id": "57cc3ca7-a5a2-4ee9-bee0-61c593255eb5",
   "metadata": {
    "papermill": {
     "duration": 0.029427,
     "end_time": "2023-01-26T16:25:37.906735",
     "exception": false,
     "start_time": "2023-01-26T16:25:37.877308",
     "status": "completed"
    },
    "tags": []
   },
   "source": [
    "### Pause notebook execution"
   ]
  },
  {
   "cell_type": "code",
   "execution_count": 3,
   "id": "8bb2bcce-fae7-4095-abc3-a886c8dc24bf",
   "metadata": {
    "execution": {
     "iopub.execute_input": "2023-01-26T16:25:37.970454Z",
     "iopub.status.busy": "2023-01-26T16:25:37.970029Z",
     "iopub.status.idle": "2023-01-26T16:25:42.975010Z",
     "shell.execute_reply": "2023-01-26T16:25:42.974637Z",
     "shell.execute_reply.started": "2023-01-26T16:03:58.243268Z"
    },
    "papermill": {
     "duration": 5.037474,
     "end_time": "2023-01-26T16:25:42.975142",
     "exception": false,
     "start_time": "2023-01-26T16:25:37.937668",
     "status": "completed"
    },
    "tags": []
   },
   "outputs": [],
   "source": [
    "time.sleep(sleeping_seconds)"
   ]
  },
  {
   "cell_type": "markdown",
   "id": "d856dbf2-37a4-4e52-804a-81c3728b99a7",
   "metadata": {
    "papermill": {
     "duration": 0.031647,
     "end_time": "2023-01-26T16:25:43.037439",
     "exception": false,
     "start_time": "2023-01-26T16:25:43.005792",
     "status": "completed"
    },
    "tags": []
   },
   "source": [
    "## Output"
   ]
  },
  {
   "cell_type": "markdown",
   "id": "2c4996fc-6773-4b9b-bf78-b39bc9a88bf2",
   "metadata": {
    "papermill": {
     "duration": 0.033167,
     "end_time": "2023-01-26T16:25:43.100482",
     "exception": false,
     "start_time": "2023-01-26T16:25:43.067315",
     "status": "completed"
    },
    "tags": []
   },
   "source": [
    "### Display result"
   ]
  },
  {
   "cell_type": "code",
   "execution_count": 4,
   "id": "d26d8cee-8e57-4aab-b621-14f82e5010a5",
   "metadata": {
    "execution": {
     "iopub.execute_input": "2023-01-26T16:25:43.168233Z",
     "iopub.status.busy": "2023-01-26T16:25:43.167385Z",
     "iopub.status.idle": "2023-01-26T16:25:43.169623Z",
     "shell.execute_reply": "2023-01-26T16:25:43.168656Z",
     "shell.execute_reply.started": "2023-01-26T16:04:03.252384Z"
    },
    "papermill": {
     "duration": 0.041049,
     "end_time": "2023-01-26T16:25:43.169744",
     "exception": false,
     "start_time": "2023-01-26T16:25:43.128695",
     "status": "completed"
    },
    "tags": []
   },
   "outputs": [
    {
     "name": "stdout",
     "output_type": "stream",
     "text": [
      "Hello World!\n"
     ]
    }
   ],
   "source": [
    "print(\"Hello World!\")"
   ]
  },
  {
   "cell_type": "code",
   "execution_count": null,
   "id": "4c2c9208-8c77-4436-b73e-0af00a2e4d2c",
   "metadata": {
    "papermill": {
     "duration": 0.031685,
     "end_time": "2023-01-26T16:25:43.233861",
     "exception": false,
     "start_time": "2023-01-26T16:25:43.202176",
     "status": "completed"
    },
    "tags": []
   },
   "outputs": [],
   "source": []
  }
 ],
 "metadata": {
  "kernelspec": {
   "display_name": "Python 3",
   "language": "python",
   "name": "python3"
  },
  "language_info": {
   "codemirror_mode": {
    "name": "ipython",
    "version": 3
   },
   "file_extension": ".py",
   "mimetype": "text/x-python",
   "name": "python",
   "nbconvert_exporter": "python",
   "pygments_lexer": "ipython3",
   "version": "3.9.6"
  },
  "papermill": {
   "default_parameters": {},
   "duration": 11.04589,
   "end_time": "2023-01-26T16:25:44.728419",
   "environment_variables": {},
   "exception": null,
   "input_path": "silver/IMO_template.ipynb",
   "output_path": "pipeline_executions/2023-01-26_17-25-22-0c661165-1572-4315-8c42-29d88dac5f26/Cleaning.IMO_template.ipynb",
   "parameters": {},
   "start_time": "2023-01-26T16:25:33.682529",
   "version": "2.3.3"
  },
  "widgets": {
   "application/vnd.jupyter.widget-state+json": {
    "state": {},
    "version_major": 2,
    "version_minor": 0
   }
  }
 },
 "nbformat": 4,
 "nbformat_minor": 5
}