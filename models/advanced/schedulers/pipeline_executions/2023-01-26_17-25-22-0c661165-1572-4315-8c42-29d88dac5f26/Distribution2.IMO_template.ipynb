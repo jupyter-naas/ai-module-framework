{
 "cells": [
  {
   "cell_type": "markdown",
   "id": "dd66232c-09f1-44bf-8849-0cd5c52f78a6",
   "metadata": {
    "papermill": {
     "duration": 0.035313,
     "end_time": "2023-01-26T16:25:57.788406",
     "exception": false,
     "start_time": "2023-01-26T16:25:57.753093",
     "status": "completed"
    },
    "tags": []
   },
   "source": [
    "<img width=\"10%\" alt=\"Naas\" src=\"https://landen.imgix.net/jtci2pxwjczr/assets/5ice39g4.png?w=160\"/>"
   ]
  },
  {
   "cell_type": "markdown",
   "id": "633951dc-ca87-4032-ad2d-b76a909861bf",
   "metadata": {
    "papermill": {
     "duration": 0.0386,
     "end_time": "2023-01-26T16:25:57.860581",
     "exception": false,
     "start_time": "2023-01-26T16:25:57.821981",
     "status": "completed"
    },
    "tags": []
   },
   "source": [
    "# Demo"
   ]
  },
  {
   "cell_type": "markdown",
   "id": "524d5465-bce2-42f3-8d18-6f821dae07a5",
   "metadata": {
    "papermill": {
     "duration": 0.033829,
     "end_time": "2023-01-26T16:25:57.931078",
     "exception": false,
     "start_time": "2023-01-26T16:25:57.897249",
     "status": "completed"
    },
    "tags": []
   },
   "source": [
    "## Input"
   ]
  },
  {
   "cell_type": "markdown",
   "id": "918e5873-b444-43d4-aacd-852fffb5aceb",
   "metadata": {
    "papermill": {
     "duration": 0.041184,
     "end_time": "2023-01-26T16:25:58.006696",
     "exception": false,
     "start_time": "2023-01-26T16:25:57.965512",
     "status": "completed"
    },
    "tags": []
   },
   "source": [
    "### Import libraries"
   ]
  },
  {
   "cell_type": "code",
   "execution_count": 1,
   "id": "f6585d07-f50b-439a-84a9-4c0061870d29",
   "metadata": {
    "execution": {
     "iopub.execute_input": "2023-01-26T16:25:58.090174Z",
     "iopub.status.busy": "2023-01-26T16:25:58.089676Z",
     "iopub.status.idle": "2023-01-26T16:26:01.265942Z",
     "shell.execute_reply": "2023-01-26T16:26:01.266765Z",
     "shell.execute_reply.started": "2023-01-26T16:03:56.360749Z"
    },
    "papermill": {
     "duration": 3.213986,
     "end_time": "2023-01-26T16:26:01.267055",
     "exception": false,
     "start_time": "2023-01-26T16:25:58.053069",
     "status": "completed"
    },
    "tags": []
   },
   "outputs": [
    {
     "name": "stdout",
     "output_type": "stream",
     "text": [
      "✅ Demo loaded successfully.\n",
      "✅ utils file '/home/ftp/data-product-framework/utils/demo.ipynb' successfully loaded.\n"
     ]
    }
   ],
   "source": [
    "import naas_data_product #load utils notebooks\n",
    "import time"
   ]
  },
  {
   "cell_type": "markdown",
   "id": "8e659ff5-80d3-43c9-8daf-1ae7f8d2a554",
   "metadata": {
    "papermill": {
     "duration": 0.035396,
     "end_time": "2023-01-26T16:26:01.338651",
     "exception": false,
     "start_time": "2023-01-26T16:26:01.303255",
     "status": "completed"
    },
    "tags": []
   },
   "source": [
    "### Setup Variables"
   ]
  },
  {
   "cell_type": "code",
   "execution_count": 2,
   "id": "c1a6eb30-fbb2-465e-a8f9-21baf6a8b547",
   "metadata": {
    "execution": {
     "iopub.execute_input": "2023-01-26T16:26:01.417205Z",
     "iopub.status.busy": "2023-01-26T16:26:01.416589Z",
     "iopub.status.idle": "2023-01-26T16:26:01.418371Z",
     "shell.execute_reply": "2023-01-26T16:26:01.418671Z",
     "shell.execute_reply.started": "2023-01-26T16:03:57.176382Z"
    },
    "papermill": {
     "duration": 0.04254,
     "end_time": "2023-01-26T16:26:01.418816",
     "exception": false,
     "start_time": "2023-01-26T16:26:01.376276",
     "status": "completed"
    },
    "tags": [
     "parameters"
    ]
   },
   "outputs": [],
   "source": [
    "sleeping_seconds = 5"
   ]
  },
  {
   "cell_type": "markdown",
   "id": "ea6ff4cf-cea6-420e-b190-5979156b5fed",
   "metadata": {
    "papermill": {
     "duration": 0.050626,
     "end_time": "2023-01-26T16:26:01.508780",
     "exception": false,
     "start_time": "2023-01-26T16:26:01.458154",
     "status": "completed"
    },
    "tags": []
   },
   "source": [
    "## Model"
   ]
  },
  {
   "cell_type": "markdown",
   "id": "57cc3ca7-a5a2-4ee9-bee0-61c593255eb5",
   "metadata": {
    "papermill": {
     "duration": 0.033906,
     "end_time": "2023-01-26T16:26:01.582102",
     "exception": false,
     "start_time": "2023-01-26T16:26:01.548196",
     "status": "completed"
    },
    "tags": []
   },
   "source": [
    "### Pause notebook execution"
   ]
  },
  {
   "cell_type": "code",
   "execution_count": 3,
   "id": "8bb2bcce-fae7-4095-abc3-a886c8dc24bf",
   "metadata": {
    "execution": {
     "iopub.execute_input": "2023-01-26T16:26:01.652625Z",
     "iopub.status.busy": "2023-01-26T16:26:01.652206Z",
     "iopub.status.idle": "2023-01-26T16:26:06.659051Z",
     "shell.execute_reply": "2023-01-26T16:26:06.658651Z",
     "shell.execute_reply.started": "2023-01-26T16:03:58.243268Z"
    },
    "papermill": {
     "duration": 5.039749,
     "end_time": "2023-01-26T16:26:06.659178",
     "exception": false,
     "start_time": "2023-01-26T16:26:01.619429",
     "status": "completed"
    },
    "tags": []
   },
   "outputs": [],
   "source": [
    "time.sleep(sleeping_seconds)"
   ]
  },
  {
   "cell_type": "markdown",
   "id": "d856dbf2-37a4-4e52-804a-81c3728b99a7",
   "metadata": {
    "papermill": {
     "duration": 0.03113,
     "end_time": "2023-01-26T16:26:06.722815",
     "exception": false,
     "start_time": "2023-01-26T16:26:06.691685",
     "status": "completed"
    },
    "tags": []
   },
   "source": [
    "## Output"
   ]
  },
  {
   "cell_type": "markdown",
   "id": "2c4996fc-6773-4b9b-bf78-b39bc9a88bf2",
   "metadata": {
    "papermill": {
     "duration": 0.032472,
     "end_time": "2023-01-26T16:26:06.785253",
     "exception": false,
     "start_time": "2023-01-26T16:26:06.752781",
     "status": "completed"
    },
    "tags": []
   },
   "source": [
    "### Display result"
   ]
  },
  {
   "cell_type": "code",
   "execution_count": 4,
   "id": "d26d8cee-8e57-4aab-b621-14f82e5010a5",
   "metadata": {
    "execution": {
     "iopub.execute_input": "2023-01-26T16:26:06.865730Z",
     "iopub.status.busy": "2023-01-26T16:26:06.864838Z",
     "iopub.status.idle": "2023-01-26T16:26:06.866693Z",
     "shell.execute_reply": "2023-01-26T16:26:06.865349Z",
     "shell.execute_reply.started": "2023-01-26T16:04:03.252384Z"
    },
    "papermill": {
     "duration": 0.049159,
     "end_time": "2023-01-26T16:26:06.866814",
     "exception": false,
     "start_time": "2023-01-26T16:26:06.817655",
     "status": "completed"
    },
    "tags": []
   },
   "outputs": [
    {
     "name": "stdout",
     "output_type": "stream",
     "text": [
      "Hello World!\n"
     ]
    }
   ],
   "source": [
    "print(\"Hello World!\")"
   ]
  },
  {
   "cell_type": "code",
   "execution_count": null,
   "id": "4c2c9208-8c77-4436-b73e-0af00a2e4d2c",
   "metadata": {
    "papermill": {
     "duration": 0.030987,
     "end_time": "2023-01-26T16:26:06.931827",
     "exception": false,
     "start_time": "2023-01-26T16:26:06.900840",
     "status": "completed"
    },
    "tags": []
   },
   "outputs": [],
   "source": []
  }
 ],
 "metadata": {
  "kernelspec": {
   "display_name": "Python 3",
   "language": "python",
   "name": "python3"
  },
  "language_info": {
   "codemirror_mode": {
    "name": "ipython",
    "version": 3
   },
   "file_extension": ".py",
   "mimetype": "text/x-python",
   "name": "python",
   "nbconvert_exporter": "python",
   "pygments_lexer": "ipython3",
   "version": "3.9.6"
  },
  "papermill": {
   "default_parameters": {},
   "duration": 11.617482,
   "end_time": "2023-01-26T16:26:07.574360",
   "environment_variables": {},
   "exception": null,
   "input_path": "insights/IMO_template.ipynb",
   "output_path": "pipeline_executions/2023-01-26_17-25-22-0c661165-1572-4315-8c42-29d88dac5f26/Distribution2.IMO_template.ipynb",
   "parameters": {},
   "start_time": "2023-01-26T16:25:55.956878",
   "version": "2.3.3"
  },
  "widgets": {
   "application/vnd.jupyter.widget-state+json": {
    "state": {},
    "version_major": 2,
    "version_minor": 0
   }
  }
 },
 "nbformat": 4,
 "nbformat_minor": 5
}