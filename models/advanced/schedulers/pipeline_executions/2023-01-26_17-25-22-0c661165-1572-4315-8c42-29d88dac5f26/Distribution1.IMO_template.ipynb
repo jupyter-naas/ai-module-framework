{
 "cells": [
  {
   "cell_type": "markdown",
   "id": "dd66232c-09f1-44bf-8849-0cd5c52f78a6",
   "metadata": {
    "papermill": {
     "duration": 0.031718,
     "end_time": "2023-01-26T16:25:57.799747",
     "exception": false,
     "start_time": "2023-01-26T16:25:57.768029",
     "status": "completed"
    },
    "tags": []
   },
   "source": [
    "<img width=\"10%\" alt=\"Naas\" src=\"https://landen.imgix.net/jtci2pxwjczr/assets/5ice39g4.png?w=160\"/>"
   ]
  },
  {
   "cell_type": "markdown",
   "id": "633951dc-ca87-4032-ad2d-b76a909861bf",
   "metadata": {
    "papermill": {
     "duration": 0.039111,
     "end_time": "2023-01-26T16:25:57.874415",
     "exception": false,
     "start_time": "2023-01-26T16:25:57.835304",
     "status": "completed"
    },
    "tags": []
   },
   "source": [
    "# Demo"
   ]
  },
  {
   "cell_type": "markdown",
   "id": "524d5465-bce2-42f3-8d18-6f821dae07a5",
   "metadata": {
    "papermill": {
     "duration": 0.030428,
     "end_time": "2023-01-26T16:25:57.939226",
     "exception": false,
     "start_time": "2023-01-26T16:25:57.908798",
     "status": "completed"
    },
    "tags": []
   },
   "source": [
    "## Input"
   ]
  },
  {
   "cell_type": "markdown",
   "id": "918e5873-b444-43d4-aacd-852fffb5aceb",
   "metadata": {
    "papermill": {
     "duration": 0.041565,
     "end_time": "2023-01-26T16:25:58.013491",
     "exception": false,
     "start_time": "2023-01-26T16:25:57.971926",
     "status": "completed"
    },
    "tags": []
   },
   "source": [
    "### Import libraries"
   ]
  },
  {
   "cell_type": "code",
   "execution_count": 1,
   "id": "f6585d07-f50b-439a-84a9-4c0061870d29",
   "metadata": {
    "execution": {
     "iopub.execute_input": "2023-01-26T16:25:58.081717Z",
     "iopub.status.busy": "2023-01-26T16:25:58.081132Z",
     "iopub.status.idle": "2023-01-26T16:26:01.392141Z",
     "shell.execute_reply": "2023-01-26T16:26:01.391658Z",
     "shell.execute_reply.started": "2023-01-26T16:03:56.360749Z"
    },
    "papermill": {
     "duration": 3.347135,
     "end_time": "2023-01-26T16:26:01.392274",
     "exception": false,
     "start_time": "2023-01-26T16:25:58.045139",
     "status": "completed"
    },
    "tags": []
   },
   "outputs": [
    {
     "name": "stdout",
     "output_type": "stream",
     "text": [
      "✅ Demo loaded successfully.\n",
      "✅ utils file '/home/ftp/data-product-framework/utils/demo.ipynb' successfully loaded.\n"
     ]
    }
   ],
   "source": [
    "import naas_data_product #load utils notebooks\n",
    "import time"
   ]
  },
  {
   "cell_type": "markdown",
   "id": "8e659ff5-80d3-43c9-8daf-1ae7f8d2a554",
   "metadata": {
    "papermill": {
     "duration": 0.041797,
     "end_time": "2023-01-26T16:26:01.470023",
     "exception": false,
     "start_time": "2023-01-26T16:26:01.428226",
     "status": "completed"
    },
    "tags": []
   },
   "source": [
    "### Setup Variables"
   ]
  },
  {
   "cell_type": "code",
   "execution_count": 2,
   "id": "c1a6eb30-fbb2-465e-a8f9-21baf6a8b547",
   "metadata": {
    "execution": {
     "iopub.execute_input": "2023-01-26T16:26:01.558881Z",
     "iopub.status.busy": "2023-01-26T16:26:01.558246Z",
     "iopub.status.idle": "2023-01-26T16:26:01.559998Z",
     "shell.execute_reply": "2023-01-26T16:26:01.560323Z",
     "shell.execute_reply.started": "2023-01-26T16:03:57.176382Z"
    },
    "papermill": {
     "duration": 0.044433,
     "end_time": "2023-01-26T16:26:01.560467",
     "exception": false,
     "start_time": "2023-01-26T16:26:01.516034",
     "status": "completed"
    },
    "tags": [
     "parameters"
    ]
   },
   "outputs": [],
   "source": [
    "sleeping_seconds = 5"
   ]
  },
  {
   "cell_type": "markdown",
   "id": "ea6ff4cf-cea6-420e-b190-5979156b5fed",
   "metadata": {
    "papermill": {
     "duration": 0.034569,
     "end_time": "2023-01-26T16:26:01.626554",
     "exception": false,
     "start_time": "2023-01-26T16:26:01.591985",
     "status": "completed"
    },
    "tags": []
   },
   "source": [
    "## Model"
   ]
  },
  {
   "cell_type": "markdown",
   "id": "57cc3ca7-a5a2-4ee9-bee0-61c593255eb5",
   "metadata": {
    "papermill": {
     "duration": 0.030314,
     "end_time": "2023-01-26T16:26:01.688040",
     "exception": false,
     "start_time": "2023-01-26T16:26:01.657726",
     "status": "completed"
    },
    "tags": []
   },
   "source": [
    "### Pause notebook execution"
   ]
  },
  {
   "cell_type": "code",
   "execution_count": 3,
   "id": "8bb2bcce-fae7-4095-abc3-a886c8dc24bf",
   "metadata": {
    "execution": {
     "iopub.execute_input": "2023-01-26T16:26:01.754627Z",
     "iopub.status.busy": "2023-01-26T16:26:01.754208Z",
     "iopub.status.idle": "2023-01-26T16:26:06.761838Z",
     "shell.execute_reply": "2023-01-26T16:26:06.762241Z",
     "shell.execute_reply.started": "2023-01-26T16:03:58.243268Z"
    },
    "papermill": {
     "duration": 5.04129,
     "end_time": "2023-01-26T16:26:06.762403",
     "exception": false,
     "start_time": "2023-01-26T16:26:01.721113",
     "status": "completed"
    },
    "tags": []
   },
   "outputs": [],
   "source": [
    "time.sleep(sleeping_seconds)"
   ]
  },
  {
   "cell_type": "markdown",
   "id": "d856dbf2-37a4-4e52-804a-81c3728b99a7",
   "metadata": {
    "papermill": {
     "duration": 0.031585,
     "end_time": "2023-01-26T16:26:06.824697",
     "exception": false,
     "start_time": "2023-01-26T16:26:06.793112",
     "status": "completed"
    },
    "tags": []
   },
   "source": [
    "## Output"
   ]
  },
  {
   "cell_type": "markdown",
   "id": "2c4996fc-6773-4b9b-bf78-b39bc9a88bf2",
   "metadata": {
    "papermill": {
     "duration": 0.035752,
     "end_time": "2023-01-26T16:26:06.891057",
     "exception": false,
     "start_time": "2023-01-26T16:26:06.855305",
     "status": "completed"
    },
    "tags": []
   },
   "source": [
    "### Display result"
   ]
  },
  {
   "cell_type": "code",
   "execution_count": 4,
   "id": "d26d8cee-8e57-4aab-b621-14f82e5010a5",
   "metadata": {
    "execution": {
     "iopub.execute_input": "2023-01-26T16:26:06.957100Z",
     "iopub.status.busy": "2023-01-26T16:26:06.955874Z",
     "iopub.status.idle": "2023-01-26T16:26:06.958587Z",
     "shell.execute_reply": "2023-01-26T16:26:06.958242Z",
     "shell.execute_reply.started": "2023-01-26T16:04:03.252384Z"
    },
    "papermill": {
     "duration": 0.037273,
     "end_time": "2023-01-26T16:26:06.958703",
     "exception": false,
     "start_time": "2023-01-26T16:26:06.921430",
     "status": "completed"
    },
    "tags": []
   },
   "outputs": [
    {
     "name": "stdout",
     "output_type": "stream",
     "text": [
      "Hello World!\n"
     ]
    }
   ],
   "source": [
    "print(\"Hello World!\")"
   ]
  },
  {
   "cell_type": "code",
   "execution_count": null,
   "id": "4c2c9208-8c77-4436-b73e-0af00a2e4d2c",
   "metadata": {
    "papermill": {
     "duration": 0.035316,
     "end_time": "2023-01-26T16:26:07.025734",
     "exception": false,
     "start_time": "2023-01-26T16:26:06.990418",
     "status": "completed"
    },
    "tags": []
   },
   "outputs": [],
   "source": []
  }
 ],
 "metadata": {
  "kernelspec": {
   "display_name": "Python 3",
   "language": "python",
   "name": "python3"
  },
  "language_info": {
   "codemirror_mode": {
    "name": "ipython",
    "version": 3
   },
   "file_extension": ".py",
   "mimetype": "text/x-python",
   "name": "python",
   "nbconvert_exporter": "python",
   "pygments_lexer": "ipython3",
   "version": "3.9.6"
  },
  "papermill": {
   "default_parameters": {},
   "duration": 11.793584,
   "end_time": "2023-01-26T16:26:07.764981",
   "environment_variables": {},
   "exception": null,
   "input_path": "insights/IMO_template.ipynb",
   "output_path": "pipeline_executions/2023-01-26_17-25-22-0c661165-1572-4315-8c42-29d88dac5f26/Distribution1.IMO_template.ipynb",
   "parameters": {},
   "start_time": "2023-01-26T16:25:55.971397",
   "version": "2.3.3"
  },
  "widgets": {
   "application/vnd.jupyter.widget-state+json": {
    "state": {},
    "version_major": 2,
    "version_minor": 0
   }
  }
 },
 "nbformat": 4,
 "nbformat_minor": 5
}