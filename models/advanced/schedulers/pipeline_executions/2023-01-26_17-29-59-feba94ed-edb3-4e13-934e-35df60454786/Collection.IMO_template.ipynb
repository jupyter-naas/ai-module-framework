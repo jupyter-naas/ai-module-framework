{
 "cells": [
  {
   "cell_type": "markdown",
   "id": "dd66232c-09f1-44bf-8849-0cd5c52f78a6",
   "metadata": {
    "papermill": {
     "duration": 0.031955,
     "end_time": "2023-01-26T16:30:00.840889",
     "exception": false,
     "start_time": "2023-01-26T16:30:00.808934",
     "status": "completed"
    },
    "tags": []
   },
   "source": [
    "<img width=\"10%\" alt=\"Naas\" src=\"https://landen.imgix.net/jtci2pxwjczr/assets/5ice39g4.png?w=160\"/>"
   ]
  },
  {
   "cell_type": "markdown",
   "id": "633951dc-ca87-4032-ad2d-b76a909861bf",
   "metadata": {
    "papermill": {
     "duration": 0.033728,
     "end_time": "2023-01-26T16:30:00.906190",
     "exception": false,
     "start_time": "2023-01-26T16:30:00.872462",
     "status": "completed"
    },
    "tags": []
   },
   "source": [
    "# Demo"
   ]
  },
  {
   "cell_type": "markdown",
   "id": "524d5465-bce2-42f3-8d18-6f821dae07a5",
   "metadata": {
    "papermill": {
     "duration": 0.029455,
     "end_time": "2023-01-26T16:30:00.969512",
     "exception": false,
     "start_time": "2023-01-26T16:30:00.940057",
     "status": "completed"
    },
    "tags": []
   },
   "source": [
    "## Input"
   ]
  },
  {
   "cell_type": "markdown",
   "id": "918e5873-b444-43d4-aacd-852fffb5aceb",
   "metadata": {
    "papermill": {
     "duration": 0.029898,
     "end_time": "2023-01-26T16:30:01.030458",
     "exception": false,
     "start_time": "2023-01-26T16:30:01.000560",
     "status": "completed"
    },
    "tags": []
   },
   "source": [
    "### Import libraries"
   ]
  },
  {
   "cell_type": "code",
   "execution_count": 1,
   "id": "f6585d07-f50b-439a-84a9-4c0061870d29",
   "metadata": {
    "execution": {
     "iopub.execute_input": "2023-01-26T16:30:01.101349Z",
     "iopub.status.busy": "2023-01-26T16:30:01.100917Z",
     "iopub.status.idle": "2023-01-26T16:30:03.547601Z",
     "shell.execute_reply": "2023-01-26T16:30:03.548065Z",
     "shell.execute_reply.started": "2023-01-26T16:03:56.360749Z"
    },
    "papermill": {
     "duration": 2.487344,
     "end_time": "2023-01-26T16:30:03.548312",
     "exception": false,
     "start_time": "2023-01-26T16:30:01.060968",
     "status": "completed"
    },
    "tags": []
   },
   "outputs": [
    {
     "name": "stdout",
     "output_type": "stream",
     "text": [
      "✅ Demo loaded successfully.\n",
      "✅ utils file '/home/ftp/data-product-framework/utils/demo.ipynb' successfully loaded.\n"
     ]
    }
   ],
   "source": [
    "import naas_data_product #load utils notebooks\n",
    "import time"
   ]
  },
  {
   "cell_type": "markdown",
   "id": "8e659ff5-80d3-43c9-8daf-1ae7f8d2a554",
   "metadata": {
    "papermill": {
     "duration": 0.037792,
     "end_time": "2023-01-26T16:30:03.618052",
     "exception": false,
     "start_time": "2023-01-26T16:30:03.580260",
     "status": "completed"
    },
    "tags": []
   },
   "source": [
    "### Setup Variables"
   ]
  },
  {
   "cell_type": "code",
   "execution_count": 2,
   "id": "c1a6eb30-fbb2-465e-a8f9-21baf6a8b547",
   "metadata": {
    "execution": {
     "iopub.execute_input": "2023-01-26T16:30:03.689759Z",
     "iopub.status.busy": "2023-01-26T16:30:03.689089Z",
     "iopub.status.idle": "2023-01-26T16:30:03.691301Z",
     "shell.execute_reply": "2023-01-26T16:30:03.690939Z",
     "shell.execute_reply.started": "2023-01-26T16:03:57.176382Z"
    },
    "papermill": {
     "duration": 0.041671,
     "end_time": "2023-01-26T16:30:03.691425",
     "exception": false,
     "start_time": "2023-01-26T16:30:03.649754",
     "status": "completed"
    },
    "tags": [
     "parameters"
    ]
   },
   "outputs": [],
   "source": [
    "sleeping_seconds = 5"
   ]
  },
  {
   "cell_type": "markdown",
   "id": "ea6ff4cf-cea6-420e-b190-5979156b5fed",
   "metadata": {
    "papermill": {
     "duration": 0.028412,
     "end_time": "2023-01-26T16:30:03.749769",
     "exception": false,
     "start_time": "2023-01-26T16:30:03.721357",
     "status": "completed"
    },
    "tags": []
   },
   "source": [
    "## Model"
   ]
  },
  {
   "cell_type": "markdown",
   "id": "57cc3ca7-a5a2-4ee9-bee0-61c593255eb5",
   "metadata": {
    "papermill": {
     "duration": 0.039566,
     "end_time": "2023-01-26T16:30:03.819709",
     "exception": false,
     "start_time": "2023-01-26T16:30:03.780143",
     "status": "completed"
    },
    "tags": []
   },
   "source": [
    "### Pause notebook execution"
   ]
  },
  {
   "cell_type": "code",
   "execution_count": 3,
   "id": "8bb2bcce-fae7-4095-abc3-a886c8dc24bf",
   "metadata": {
    "execution": {
     "iopub.execute_input": "2023-01-26T16:30:03.896022Z",
     "iopub.status.busy": "2023-01-26T16:30:03.895484Z",
     "iopub.status.idle": "2023-01-26T16:30:08.902734Z",
     "shell.execute_reply": "2023-01-26T16:30:08.903097Z",
     "shell.execute_reply.started": "2023-01-26T16:03:58.243268Z"
    },
    "papermill": {
     "duration": 5.047892,
     "end_time": "2023-01-26T16:30:08.903252",
     "exception": false,
     "start_time": "2023-01-26T16:30:03.855360",
     "status": "completed"
    },
    "tags": []
   },
   "outputs": [],
   "source": [
    "time.sleep(sleeping_seconds)"
   ]
  },
  {
   "cell_type": "markdown",
   "id": "d856dbf2-37a4-4e52-804a-81c3728b99a7",
   "metadata": {
    "papermill": {
     "duration": 0.031016,
     "end_time": "2023-01-26T16:30:08.965883",
     "exception": false,
     "start_time": "2023-01-26T16:30:08.934867",
     "status": "completed"
    },
    "tags": []
   },
   "source": [
    "## Output"
   ]
  },
  {
   "cell_type": "markdown",
   "id": "2c4996fc-6773-4b9b-bf78-b39bc9a88bf2",
   "metadata": {
    "papermill": {
     "duration": 0.039058,
     "end_time": "2023-01-26T16:30:09.035904",
     "exception": false,
     "start_time": "2023-01-26T16:30:08.996846",
     "status": "completed"
    },
    "tags": []
   },
   "source": [
    "### Display result"
   ]
  },
  {
   "cell_type": "code",
   "execution_count": 4,
   "id": "d26d8cee-8e57-4aab-b621-14f82e5010a5",
   "metadata": {
    "execution": {
     "iopub.execute_input": "2023-01-26T16:30:09.101710Z",
     "iopub.status.busy": "2023-01-26T16:30:09.101157Z",
     "iopub.status.idle": "2023-01-26T16:30:09.103245Z",
     "shell.execute_reply": "2023-01-26T16:30:09.103613Z",
     "shell.execute_reply.started": "2023-01-26T16:04:03.252384Z"
    },
    "papermill": {
     "duration": 0.036541,
     "end_time": "2023-01-26T16:30:09.103795",
     "exception": false,
     "start_time": "2023-01-26T16:30:09.067254",
     "status": "completed"
    },
    "tags": []
   },
   "outputs": [
    {
     "name": "stdout",
     "output_type": "stream",
     "text": [
      "Hello World!\n"
     ]
    }
   ],
   "source": [
    "print(\"Hello World!\")"
   ]
  },
  {
   "cell_type": "code",
   "execution_count": null,
   "id": "4c2c9208-8c77-4436-b73e-0af00a2e4d2c",
   "metadata": {
    "papermill": {
     "duration": 0.029516,
     "end_time": "2023-01-26T16:30:09.161913",
     "exception": false,
     "start_time": "2023-01-26T16:30:09.132397",
     "status": "completed"
    },
    "tags": []
   },
   "outputs": [],
   "source": []
  }
 ],
 "metadata": {
  "kernelspec": {
   "display_name": "Python 3",
   "language": "python",
   "name": "python3"
  },
  "language_info": {
   "codemirror_mode": {
    "name": "ipython",
    "version": 3
   },
   "file_extension": ".py",
   "mimetype": "text/x-python",
   "name": "python",
   "nbconvert_exporter": "python",
   "pygments_lexer": "ipython3",
   "version": "3.9.6"
  },
  "papermill": {
   "default_parameters": {},
   "duration": 11.06603,
   "end_time": "2023-01-26T16:30:10.405191",
   "environment_variables": {},
   "exception": null,
   "input_path": "bronze/IMO_template.ipynb",
   "output_path": "pipeline_executions/2023-01-26_17-29-59-feba94ed-edb3-4e13-934e-35df60454786/Collection.IMO_template.ipynb",
   "parameters": {},
   "start_time": "2023-01-26T16:29:59.339161",
   "version": "2.3.3"
  },
  "widgets": {
   "application/vnd.jupyter.widget-state+json": {
    "state": {},
    "version_major": 2,
    "version_minor": 0
   }
  }
 },
 "nbformat": 4,
 "nbformat_minor": 5
}