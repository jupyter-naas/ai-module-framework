{
 "cells": [
  {
   "cell_type": "markdown",
   "id": "dd66232c-09f1-44bf-8849-0cd5c52f78a6",
   "metadata": {
    "papermill": {
     "duration": 0.033047,
     "end_time": "2023-01-26T16:30:34.703760",
     "exception": false,
     "start_time": "2023-01-26T16:30:34.670713",
     "status": "completed"
    },
    "tags": []
   },
   "source": [
    "<img width=\"10%\" alt=\"Naas\" src=\"https://landen.imgix.net/jtci2pxwjczr/assets/5ice39g4.png?w=160\"/>"
   ]
  },
  {
   "cell_type": "markdown",
   "id": "633951dc-ca87-4032-ad2d-b76a909861bf",
   "metadata": {
    "papermill": {
     "duration": 0.037404,
     "end_time": "2023-01-26T16:30:34.773896",
     "exception": false,
     "start_time": "2023-01-26T16:30:34.736492",
     "status": "completed"
    },
    "tags": []
   },
   "source": [
    "# Demo"
   ]
  },
  {
   "cell_type": "markdown",
   "id": "524d5465-bce2-42f3-8d18-6f821dae07a5",
   "metadata": {
    "papermill": {
     "duration": 0.034293,
     "end_time": "2023-01-26T16:30:34.843796",
     "exception": false,
     "start_time": "2023-01-26T16:30:34.809503",
     "status": "completed"
    },
    "tags": []
   },
   "source": [
    "## Input"
   ]
  },
  {
   "cell_type": "markdown",
   "id": "918e5873-b444-43d4-aacd-852fffb5aceb",
   "metadata": {
    "papermill": {
     "duration": 0.032024,
     "end_time": "2023-01-26T16:30:34.914818",
     "exception": false,
     "start_time": "2023-01-26T16:30:34.882794",
     "status": "completed"
    },
    "tags": []
   },
   "source": [
    "### Import libraries"
   ]
  },
  {
   "cell_type": "code",
   "execution_count": 1,
   "id": "f6585d07-f50b-439a-84a9-4c0061870d29",
   "metadata": {
    "execution": {
     "iopub.execute_input": "2023-01-26T16:30:34.984861Z",
     "iopub.status.busy": "2023-01-26T16:30:34.984338Z",
     "iopub.status.idle": "2023-01-26T16:30:38.150552Z",
     "shell.execute_reply": "2023-01-26T16:30:38.150950Z",
     "shell.execute_reply.started": "2023-01-26T16:03:56.360749Z"
    },
    "papermill": {
     "duration": 3.204058,
     "end_time": "2023-01-26T16:30:38.151186",
     "exception": false,
     "start_time": "2023-01-26T16:30:34.947128",
     "status": "completed"
    },
    "tags": []
   },
   "outputs": [
    {
     "name": "stdout",
     "output_type": "stream",
     "text": [
      "✅ Demo loaded successfully.\n",
      "✅ utils file '/home/ftp/data-product-framework/utils/demo.ipynb' successfully loaded.\n"
     ]
    }
   ],
   "source": [
    "import naas_data_product #load utils notebooks\n",
    "import time"
   ]
  },
  {
   "cell_type": "markdown",
   "id": "8e659ff5-80d3-43c9-8daf-1ae7f8d2a554",
   "metadata": {
    "papermill": {
     "duration": 0.031983,
     "end_time": "2023-01-26T16:30:38.219947",
     "exception": false,
     "start_time": "2023-01-26T16:30:38.187964",
     "status": "completed"
    },
    "tags": []
   },
   "source": [
    "### Setup Variables"
   ]
  },
  {
   "cell_type": "code",
   "execution_count": 2,
   "id": "c1a6eb30-fbb2-465e-a8f9-21baf6a8b547",
   "metadata": {
    "execution": {
     "iopub.execute_input": "2023-01-26T16:30:38.290343Z",
     "iopub.status.busy": "2023-01-26T16:30:38.289657Z",
     "iopub.status.idle": "2023-01-26T16:30:38.291817Z",
     "shell.execute_reply": "2023-01-26T16:30:38.291239Z",
     "shell.execute_reply.started": "2023-01-26T16:03:57.176382Z"
    },
    "papermill": {
     "duration": 0.037123,
     "end_time": "2023-01-26T16:30:38.291989",
     "exception": false,
     "start_time": "2023-01-26T16:30:38.254866",
     "status": "completed"
    },
    "tags": [
     "parameters"
    ]
   },
   "outputs": [],
   "source": [
    "sleeping_seconds = 5"
   ]
  },
  {
   "cell_type": "markdown",
   "id": "ea6ff4cf-cea6-420e-b190-5979156b5fed",
   "metadata": {
    "papermill": {
     "duration": 0.034689,
     "end_time": "2023-01-26T16:30:38.361452",
     "exception": false,
     "start_time": "2023-01-26T16:30:38.326763",
     "status": "completed"
    },
    "tags": []
   },
   "source": [
    "## Model"
   ]
  },
  {
   "cell_type": "markdown",
   "id": "57cc3ca7-a5a2-4ee9-bee0-61c593255eb5",
   "metadata": {
    "papermill": {
     "duration": 0.039504,
     "end_time": "2023-01-26T16:30:38.444722",
     "exception": false,
     "start_time": "2023-01-26T16:30:38.405218",
     "status": "completed"
    },
    "tags": []
   },
   "source": [
    "### Pause notebook execution"
   ]
  },
  {
   "cell_type": "code",
   "execution_count": 3,
   "id": "8bb2bcce-fae7-4095-abc3-a886c8dc24bf",
   "metadata": {
    "execution": {
     "iopub.execute_input": "2023-01-26T16:30:38.515674Z",
     "iopub.status.busy": "2023-01-26T16:30:38.515204Z",
     "iopub.status.idle": "2023-01-26T16:30:43.518680Z",
     "shell.execute_reply": "2023-01-26T16:30:43.519012Z",
     "shell.execute_reply.started": "2023-01-26T16:03:58.243268Z"
    },
    "papermill": {
     "duration": 5.04018,
     "end_time": "2023-01-26T16:30:43.519170",
     "exception": false,
     "start_time": "2023-01-26T16:30:38.478990",
     "status": "completed"
    },
    "tags": []
   },
   "outputs": [],
   "source": [
    "time.sleep(sleeping_seconds)"
   ]
  },
  {
   "cell_type": "markdown",
   "id": "d856dbf2-37a4-4e52-804a-81c3728b99a7",
   "metadata": {
    "papermill": {
     "duration": 0.033127,
     "end_time": "2023-01-26T16:30:43.583149",
     "exception": false,
     "start_time": "2023-01-26T16:30:43.550022",
     "status": "completed"
    },
    "tags": []
   },
   "source": [
    "## Output"
   ]
  },
  {
   "cell_type": "markdown",
   "id": "2c4996fc-6773-4b9b-bf78-b39bc9a88bf2",
   "metadata": {
    "papermill": {
     "duration": 0.032878,
     "end_time": "2023-01-26T16:30:43.648970",
     "exception": false,
     "start_time": "2023-01-26T16:30:43.616092",
     "status": "completed"
    },
    "tags": []
   },
   "source": [
    "### Display result"
   ]
  },
  {
   "cell_type": "code",
   "execution_count": 4,
   "id": "d26d8cee-8e57-4aab-b621-14f82e5010a5",
   "metadata": {
    "execution": {
     "iopub.execute_input": "2023-01-26T16:30:43.720774Z",
     "iopub.status.busy": "2023-01-26T16:30:43.720291Z",
     "iopub.status.idle": "2023-01-26T16:30:43.722330Z",
     "shell.execute_reply": "2023-01-26T16:30:43.722652Z",
     "shell.execute_reply.started": "2023-01-26T16:04:03.252384Z"
    },
    "papermill": {
     "duration": 0.038738,
     "end_time": "2023-01-26T16:30:43.722795",
     "exception": false,
     "start_time": "2023-01-26T16:30:43.684057",
     "status": "completed"
    },
    "tags": []
   },
   "outputs": [
    {
     "name": "stdout",
     "output_type": "stream",
     "text": [
      "Hello World!\n"
     ]
    }
   ],
   "source": [
    "print(\"Hello World!\")"
   ]
  },
  {
   "cell_type": "code",
   "execution_count": null,
   "id": "4c2c9208-8c77-4436-b73e-0af00a2e4d2c",
   "metadata": {
    "papermill": {
     "duration": 0.035922,
     "end_time": "2023-01-26T16:30:43.791833",
     "exception": false,
     "start_time": "2023-01-26T16:30:43.755911",
     "status": "completed"
    },
    "tags": []
   },
   "outputs": [],
   "source": []
  }
 ],
 "metadata": {
  "kernelspec": {
   "display_name": "Python 3",
   "language": "python",
   "name": "python3"
  },
  "language_info": {
   "codemirror_mode": {
    "name": "ipython",
    "version": 3
   },
   "file_extension": ".py",
   "mimetype": "text/x-python",
   "name": "python",
   "nbconvert_exporter": "python",
   "pygments_lexer": "ipython3",
   "version": "3.9.6"
  },
  "papermill": {
   "default_parameters": {},
   "duration": 11.620471,
   "end_time": "2023-01-26T16:30:44.347179",
   "environment_variables": {},
   "exception": null,
   "input_path": "insights/IMO_template.ipynb",
   "output_path": "pipeline_executions/2023-01-26_17-29-59-feba94ed-edb3-4e13-934e-35df60454786/Distribution1.IMO_template.ipynb",
   "parameters": {},
   "start_time": "2023-01-26T16:30:32.726708",
   "version": "2.3.3"
  },
  "widgets": {
   "application/vnd.jupyter.widget-state+json": {
    "state": {},
    "version_major": 2,
    "version_minor": 0
   }
  }
 },
 "nbformat": 4,
 "nbformat_minor": 5
}