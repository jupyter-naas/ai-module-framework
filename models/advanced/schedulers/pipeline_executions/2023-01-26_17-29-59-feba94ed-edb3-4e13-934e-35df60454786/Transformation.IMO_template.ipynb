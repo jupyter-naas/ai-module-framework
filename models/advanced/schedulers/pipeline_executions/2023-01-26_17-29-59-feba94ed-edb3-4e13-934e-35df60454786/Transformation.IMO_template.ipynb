{
 "cells": [
  {
   "cell_type": "markdown",
   "id": "dd66232c-09f1-44bf-8849-0cd5c52f78a6",
   "metadata": {
    "papermill": {
     "duration": 0.032235,
     "end_time": "2023-01-26T16:30:22.913785",
     "exception": false,
     "start_time": "2023-01-26T16:30:22.881550",
     "status": "completed"
    },
    "tags": []
   },
   "source": [
    "<img width=\"10%\" alt=\"Naas\" src=\"https://landen.imgix.net/jtci2pxwjczr/assets/5ice39g4.png?w=160\"/>"
   ]
  },
  {
   "cell_type": "markdown",
   "id": "633951dc-ca87-4032-ad2d-b76a909861bf",
   "metadata": {
    "papermill": {
     "duration": 0.03004,
     "end_time": "2023-01-26T16:30:22.971493",
     "exception": false,
     "start_time": "2023-01-26T16:30:22.941453",
     "status": "completed"
    },
    "tags": []
   },
   "source": [
    "# Demo"
   ]
  },
  {
   "cell_type": "markdown",
   "id": "524d5465-bce2-42f3-8d18-6f821dae07a5",
   "metadata": {
    "papermill": {
     "duration": 0.02973,
     "end_time": "2023-01-26T16:30:23.031250",
     "exception": false,
     "start_time": "2023-01-26T16:30:23.001520",
     "status": "completed"
    },
    "tags": []
   },
   "source": [
    "## Input"
   ]
  },
  {
   "cell_type": "markdown",
   "id": "918e5873-b444-43d4-aacd-852fffb5aceb",
   "metadata": {
    "papermill": {
     "duration": 0.030814,
     "end_time": "2023-01-26T16:30:23.091747",
     "exception": false,
     "start_time": "2023-01-26T16:30:23.060933",
     "status": "completed"
    },
    "tags": []
   },
   "source": [
    "### Import libraries"
   ]
  },
  {
   "cell_type": "code",
   "execution_count": 1,
   "id": "f6585d07-f50b-439a-84a9-4c0061870d29",
   "metadata": {
    "execution": {
     "iopub.execute_input": "2023-01-26T16:30:23.159675Z",
     "iopub.status.busy": "2023-01-26T16:30:23.158985Z",
     "iopub.status.idle": "2023-01-26T16:30:25.595762Z",
     "shell.execute_reply": "2023-01-26T16:30:25.595319Z",
     "shell.execute_reply.started": "2023-01-26T16:03:56.360749Z"
    },
    "papermill": {
     "duration": 2.470913,
     "end_time": "2023-01-26T16:30:25.595906",
     "exception": false,
     "start_time": "2023-01-26T16:30:23.124993",
     "status": "completed"
    },
    "tags": []
   },
   "outputs": [
    {
     "name": "stdout",
     "output_type": "stream",
     "text": [
      "✅ Demo loaded successfully.\n",
      "✅ utils file '/home/ftp/data-product-framework/utils/demo.ipynb' successfully loaded.\n"
     ]
    }
   ],
   "source": [
    "import naas_data_product #load utils notebooks\n",
    "import time"
   ]
  },
  {
   "cell_type": "markdown",
   "id": "8e659ff5-80d3-43c9-8daf-1ae7f8d2a554",
   "metadata": {
    "papermill": {
     "duration": 0.030362,
     "end_time": "2023-01-26T16:30:25.661492",
     "exception": false,
     "start_time": "2023-01-26T16:30:25.631130",
     "status": "completed"
    },
    "tags": []
   },
   "source": [
    "### Setup Variables"
   ]
  },
  {
   "cell_type": "code",
   "execution_count": 2,
   "id": "c1a6eb30-fbb2-465e-a8f9-21baf6a8b547",
   "metadata": {
    "execution": {
     "iopub.execute_input": "2023-01-26T16:30:25.741787Z",
     "iopub.status.busy": "2023-01-26T16:30:25.740776Z",
     "iopub.status.idle": "2023-01-26T16:30:25.742759Z",
     "shell.execute_reply": "2023-01-26T16:30:25.743189Z",
     "shell.execute_reply.started": "2023-01-26T16:03:57.176382Z"
    },
    "papermill": {
     "duration": 0.041498,
     "end_time": "2023-01-26T16:30:25.743351",
     "exception": false,
     "start_time": "2023-01-26T16:30:25.701853",
     "status": "completed"
    },
    "tags": [
     "parameters"
    ]
   },
   "outputs": [],
   "source": [
    "sleeping_seconds = 5"
   ]
  },
  {
   "cell_type": "markdown",
   "id": "ea6ff4cf-cea6-420e-b190-5979156b5fed",
   "metadata": {
    "papermill": {
     "duration": 0.028776,
     "end_time": "2023-01-26T16:30:25.802256",
     "exception": false,
     "start_time": "2023-01-26T16:30:25.773480",
     "status": "completed"
    },
    "tags": []
   },
   "source": [
    "## Model"
   ]
  },
  {
   "cell_type": "markdown",
   "id": "57cc3ca7-a5a2-4ee9-bee0-61c593255eb5",
   "metadata": {
    "papermill": {
     "duration": 0.029031,
     "end_time": "2023-01-26T16:30:25.859461",
     "exception": false,
     "start_time": "2023-01-26T16:30:25.830430",
     "status": "completed"
    },
    "tags": []
   },
   "source": [
    "### Pause notebook execution"
   ]
  },
  {
   "cell_type": "code",
   "execution_count": 3,
   "id": "8bb2bcce-fae7-4095-abc3-a886c8dc24bf",
   "metadata": {
    "execution": {
     "iopub.execute_input": "2023-01-26T16:30:25.937059Z",
     "iopub.status.busy": "2023-01-26T16:30:25.936581Z",
     "iopub.status.idle": "2023-01-26T16:30:30.955123Z",
     "shell.execute_reply": "2023-01-26T16:30:30.943787Z",
     "shell.execute_reply.started": "2023-01-26T16:03:58.243268Z"
    },
    "papermill": {
     "duration": 5.063827,
     "end_time": "2023-01-26T16:30:30.955340",
     "exception": false,
     "start_time": "2023-01-26T16:30:25.891513",
     "status": "completed"
    },
    "tags": []
   },
   "outputs": [],
   "source": [
    "time.sleep(sleeping_seconds)"
   ]
  },
  {
   "cell_type": "markdown",
   "id": "d856dbf2-37a4-4e52-804a-81c3728b99a7",
   "metadata": {
    "papermill": {
     "duration": 0.039536,
     "end_time": "2023-01-26T16:30:31.035681",
     "exception": false,
     "start_time": "2023-01-26T16:30:30.996145",
     "status": "completed"
    },
    "tags": []
   },
   "source": [
    "## Output"
   ]
  },
  {
   "cell_type": "markdown",
   "id": "2c4996fc-6773-4b9b-bf78-b39bc9a88bf2",
   "metadata": {
    "papermill": {
     "duration": 0.041755,
     "end_time": "2023-01-26T16:30:31.114330",
     "exception": false,
     "start_time": "2023-01-26T16:30:31.072575",
     "status": "completed"
    },
    "tags": []
   },
   "source": [
    "### Display result"
   ]
  },
  {
   "cell_type": "code",
   "execution_count": 4,
   "id": "d26d8cee-8e57-4aab-b621-14f82e5010a5",
   "metadata": {
    "execution": {
     "iopub.execute_input": "2023-01-26T16:30:31.197999Z",
     "iopub.status.busy": "2023-01-26T16:30:31.196111Z",
     "iopub.status.idle": "2023-01-26T16:30:31.200244Z",
     "shell.execute_reply": "2023-01-26T16:30:31.199654Z",
     "shell.execute_reply.started": "2023-01-26T16:04:03.252384Z"
    },
    "papermill": {
     "duration": 0.048112,
     "end_time": "2023-01-26T16:30:31.200426",
     "exception": false,
     "start_time": "2023-01-26T16:30:31.152314",
     "status": "completed"
    },
    "tags": []
   },
   "outputs": [
    {
     "name": "stdout",
     "output_type": "stream",
     "text": [
      "Hello World!\n"
     ]
    }
   ],
   "source": [
    "print(\"Hello World!\")"
   ]
  },
  {
   "cell_type": "code",
   "execution_count": null,
   "id": "4c2c9208-8c77-4436-b73e-0af00a2e4d2c",
   "metadata": {
    "papermill": {
     "duration": 0.041496,
     "end_time": "2023-01-26T16:30:31.280137",
     "exception": false,
     "start_time": "2023-01-26T16:30:31.238641",
     "status": "completed"
    },
    "tags": []
   },
   "outputs": [],
   "source": []
  }
 ],
 "metadata": {
  "kernelspec": {
   "display_name": "Python 3",
   "language": "python",
   "name": "python3"
  },
  "language_info": {
   "codemirror_mode": {
    "name": "ipython",
    "version": 3
   },
   "file_extension": ".py",
   "mimetype": "text/x-python",
   "name": "python",
   "nbconvert_exporter": "python",
   "pygments_lexer": "ipython3",
   "version": "3.9.6"
  },
  "papermill": {
   "default_parameters": {},
   "duration": 11.04772,
   "end_time": "2023-01-26T16:30:32.648717",
   "environment_variables": {},
   "exception": null,
   "input_path": "gold/IMO_template.ipynb",
   "output_path": "pipeline_executions/2023-01-26_17-29-59-feba94ed-edb3-4e13-934e-35df60454786/Transformation.IMO_template.ipynb",
   "parameters": {},
   "start_time": "2023-01-26T16:30:21.600997",
   "version": "2.3.3"
  },
  "widgets": {
   "application/vnd.jupyter.widget-state+json": {
    "state": {},
    "version_major": 2,
    "version_minor": 0
   }
  }
 },
 "nbformat": 4,
 "nbformat_minor": 5
}