{
 "cells": [
  {
   "cell_type": "markdown",
   "id": "dd66232c-09f1-44bf-8849-0cd5c52f78a6",
   "metadata": {
    "papermill": {
     "duration": 0.042444,
     "end_time": "2023-01-26T16:20:19.498359",
     "exception": false,
     "start_time": "2023-01-26T16:20:19.455915",
     "status": "completed"
    },
    "tags": []
   },
   "source": [
    "<img width=\"10%\" alt=\"Naas\" src=\"https://landen.imgix.net/jtci2pxwjczr/assets/5ice39g4.png?w=160\"/>"
   ]
  },
  {
   "cell_type": "markdown",
   "id": "633951dc-ca87-4032-ad2d-b76a909861bf",
   "metadata": {
    "papermill": {
     "duration": 0.030196,
     "end_time": "2023-01-26T16:20:19.566244",
     "exception": false,
     "start_time": "2023-01-26T16:20:19.536048",
     "status": "completed"
    },
    "tags": []
   },
   "source": [
    "# Demo"
   ]
  },
  {
   "cell_type": "markdown",
   "id": "524d5465-bce2-42f3-8d18-6f821dae07a5",
   "metadata": {
    "papermill": {
     "duration": 0.042365,
     "end_time": "2023-01-26T16:20:19.645625",
     "exception": false,
     "start_time": "2023-01-26T16:20:19.603260",
     "status": "completed"
    },
    "tags": []
   },
   "source": [
    "## Input"
   ]
  },
  {
   "cell_type": "markdown",
   "id": "918e5873-b444-43d4-aacd-852fffb5aceb",
   "metadata": {
    "papermill": {
     "duration": 0.044235,
     "end_time": "2023-01-26T16:20:19.725780",
     "exception": false,
     "start_time": "2023-01-26T16:20:19.681545",
     "status": "completed"
    },
    "tags": []
   },
   "source": [
    "### Import libraries"
   ]
  },
  {
   "cell_type": "code",
   "execution_count": 1,
   "id": "f6585d07-f50b-439a-84a9-4c0061870d29",
   "metadata": {
    "execution": {
     "iopub.execute_input": "2023-01-26T16:20:19.800589Z",
     "iopub.status.busy": "2023-01-26T16:20:19.800121Z",
     "iopub.status.idle": "2023-01-26T16:20:22.894022Z",
     "shell.execute_reply": "2023-01-26T16:20:22.893438Z",
     "shell.execute_reply.started": "2023-01-26T16:03:56.360749Z"
    },
    "papermill": {
     "duration": 3.135928,
     "end_time": "2023-01-26T16:20:22.894173",
     "exception": false,
     "start_time": "2023-01-26T16:20:19.758245",
     "status": "completed"
    },
    "tags": []
   },
   "outputs": [
    {
     "name": "stdout",
     "output_type": "stream",
     "text": [
      "✅ Demo loaded successfully.\n",
      "✅ utils file '/home/ftp/data-product-framework/utils/demo.ipynb' successfully loaded.\n"
     ]
    }
   ],
   "source": [
    "import naas_data_product #load utils notebooks\n",
    "import time"
   ]
  },
  {
   "cell_type": "markdown",
   "id": "8e659ff5-80d3-43c9-8daf-1ae7f8d2a554",
   "metadata": {
    "papermill": {
     "duration": 0.03099,
     "end_time": "2023-01-26T16:20:22.957101",
     "exception": false,
     "start_time": "2023-01-26T16:20:22.926111",
     "status": "completed"
    },
    "tags": []
   },
   "source": [
    "### Setup Variables"
   ]
  },
  {
   "cell_type": "code",
   "execution_count": 2,
   "id": "c1a6eb30-fbb2-465e-a8f9-21baf6a8b547",
   "metadata": {
    "execution": {
     "iopub.execute_input": "2023-01-26T16:20:23.024774Z",
     "iopub.status.busy": "2023-01-26T16:20:23.023515Z",
     "iopub.status.idle": "2023-01-26T16:20:23.025305Z",
     "shell.execute_reply": "2023-01-26T16:20:23.025625Z",
     "shell.execute_reply.started": "2023-01-26T16:03:57.176382Z"
    },
    "papermill": {
     "duration": 0.03829,
     "end_time": "2023-01-26T16:20:23.025772",
     "exception": false,
     "start_time": "2023-01-26T16:20:22.987482",
     "status": "completed"
    },
    "tags": [
     "parameters"
    ]
   },
   "outputs": [],
   "source": [
    "sleeping_seconds = 5"
   ]
  },
  {
   "cell_type": "markdown",
   "id": "ea6ff4cf-cea6-420e-b190-5979156b5fed",
   "metadata": {
    "papermill": {
     "duration": 0.032113,
     "end_time": "2023-01-26T16:20:23.098188",
     "exception": false,
     "start_time": "2023-01-26T16:20:23.066075",
     "status": "completed"
    },
    "tags": []
   },
   "source": [
    "## Model"
   ]
  },
  {
   "cell_type": "markdown",
   "id": "57cc3ca7-a5a2-4ee9-bee0-61c593255eb5",
   "metadata": {
    "papermill": {
     "duration": 0.037522,
     "end_time": "2023-01-26T16:20:23.178734",
     "exception": false,
     "start_time": "2023-01-26T16:20:23.141212",
     "status": "completed"
    },
    "tags": []
   },
   "source": [
    "### Pause notebook execution"
   ]
  },
  {
   "cell_type": "code",
   "execution_count": 3,
   "id": "8bb2bcce-fae7-4095-abc3-a886c8dc24bf",
   "metadata": {
    "execution": {
     "iopub.execute_input": "2023-01-26T16:20:23.249367Z",
     "iopub.status.busy": "2023-01-26T16:20:23.248883Z",
     "iopub.status.idle": "2023-01-26T16:20:28.255068Z",
     "shell.execute_reply": "2023-01-26T16:20:28.254608Z",
     "shell.execute_reply.started": "2023-01-26T16:03:58.243268Z"
    },
    "papermill": {
     "duration": 5.042443,
     "end_time": "2023-01-26T16:20:28.255260",
     "exception": false,
     "start_time": "2023-01-26T16:20:23.212817",
     "status": "completed"
    },
    "tags": []
   },
   "outputs": [],
   "source": [
    "time.sleep(sleeping_seconds)"
   ]
  },
  {
   "cell_type": "markdown",
   "id": "d856dbf2-37a4-4e52-804a-81c3728b99a7",
   "metadata": {
    "papermill": {
     "duration": 0.031459,
     "end_time": "2023-01-26T16:20:28.317492",
     "exception": false,
     "start_time": "2023-01-26T16:20:28.286033",
     "status": "completed"
    },
    "tags": []
   },
   "source": [
    "## Output"
   ]
  },
  {
   "cell_type": "markdown",
   "id": "2c4996fc-6773-4b9b-bf78-b39bc9a88bf2",
   "metadata": {
    "papermill": {
     "duration": 0.033502,
     "end_time": "2023-01-26T16:20:28.383458",
     "exception": false,
     "start_time": "2023-01-26T16:20:28.349956",
     "status": "completed"
    },
    "tags": []
   },
   "source": [
    "### Display result"
   ]
  },
  {
   "cell_type": "code",
   "execution_count": 4,
   "id": "d26d8cee-8e57-4aab-b621-14f82e5010a5",
   "metadata": {
    "execution": {
     "iopub.execute_input": "2023-01-26T16:20:28.448569Z",
     "iopub.status.busy": "2023-01-26T16:20:28.447969Z",
     "iopub.status.idle": "2023-01-26T16:20:28.450036Z",
     "shell.execute_reply": "2023-01-26T16:20:28.450352Z",
     "shell.execute_reply.started": "2023-01-26T16:04:03.252384Z"
    },
    "papermill": {
     "duration": 0.03673,
     "end_time": "2023-01-26T16:20:28.450497",
     "exception": false,
     "start_time": "2023-01-26T16:20:28.413767",
     "status": "completed"
    },
    "tags": []
   },
   "outputs": [
    {
     "name": "stdout",
     "output_type": "stream",
     "text": [
      "Hello World!\n"
     ]
    }
   ],
   "source": [
    "print(\"Hello World!\")"
   ]
  },
  {
   "cell_type": "code",
   "execution_count": null,
   "id": "4c2c9208-8c77-4436-b73e-0af00a2e4d2c",
   "metadata": {
    "papermill": {
     "duration": 0.030323,
     "end_time": "2023-01-26T16:20:28.512366",
     "exception": false,
     "start_time": "2023-01-26T16:20:28.482043",
     "status": "completed"
    },
    "tags": []
   },
   "outputs": [],
   "source": []
  }
 ],
 "metadata": {
  "kernelspec": {
   "display_name": "Python 3",
   "language": "python",
   "name": "python3"
  },
  "language_info": {
   "codemirror_mode": {
    "name": "ipython",
    "version": 3
   },
   "file_extension": ".py",
   "mimetype": "text/x-python",
   "name": "python",
   "nbconvert_exporter": "python",
   "pygments_lexer": "ipython3",
   "version": "3.9.6"
  },
  "papermill": {
   "default_parameters": {},
   "duration": 12.04954,
   "end_time": "2023-01-26T16:20:30.050096",
   "environment_variables": {},
   "exception": null,
   "input_path": "insights/IMO_template.ipynb",
   "output_path": "pipeline_executions/2023-01-26_17-19-45-1d1eb883-4138-429f-aaf1-e034cf41a866/Distribution1.IMO_template.ipynb",
   "parameters": {},
   "start_time": "2023-01-26T16:20:18.000556",
   "version": "2.3.3"
  },
  "widgets": {
   "application/vnd.jupyter.widget-state+json": {
    "state": {},
    "version_major": 2,
    "version_minor": 0
   }
  }
 },
 "nbformat": 4,
 "nbformat_minor": 5
}