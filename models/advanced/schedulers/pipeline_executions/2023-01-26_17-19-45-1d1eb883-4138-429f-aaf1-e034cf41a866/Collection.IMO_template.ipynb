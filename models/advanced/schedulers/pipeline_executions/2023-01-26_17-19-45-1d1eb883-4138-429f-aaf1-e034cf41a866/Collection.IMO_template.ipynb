{
 "cells": [
  {
   "cell_type": "markdown",
   "id": "dd66232c-09f1-44bf-8849-0cd5c52f78a6",
   "metadata": {
    "papermill": {
     "duration": 0.034283,
     "end_time": "2023-01-26T16:19:46.942122",
     "exception": false,
     "start_time": "2023-01-26T16:19:46.907839",
     "status": "completed"
    },
    "tags": []
   },
   "source": [
    "<img width=\"10%\" alt=\"Naas\" src=\"https://landen.imgix.net/jtci2pxwjczr/assets/5ice39g4.png?w=160\"/>"
   ]
  },
  {
   "cell_type": "markdown",
   "id": "633951dc-ca87-4032-ad2d-b76a909861bf",
   "metadata": {
    "papermill": {
     "duration": 0.033224,
     "end_time": "2023-01-26T16:19:47.007111",
     "exception": false,
     "start_time": "2023-01-26T16:19:46.973887",
     "status": "completed"
    },
    "tags": []
   },
   "source": [
    "# Demo"
   ]
  },
  {
   "cell_type": "markdown",
   "id": "524d5465-bce2-42f3-8d18-6f821dae07a5",
   "metadata": {
    "papermill": {
     "duration": 0.036846,
     "end_time": "2023-01-26T16:19:47.076055",
     "exception": false,
     "start_time": "2023-01-26T16:19:47.039209",
     "status": "completed"
    },
    "tags": []
   },
   "source": [
    "## Input"
   ]
  },
  {
   "cell_type": "markdown",
   "id": "918e5873-b444-43d4-aacd-852fffb5aceb",
   "metadata": {
    "papermill": {
     "duration": 0.03394,
     "end_time": "2023-01-26T16:19:47.145440",
     "exception": false,
     "start_time": "2023-01-26T16:19:47.111500",
     "status": "completed"
    },
    "tags": []
   },
   "source": [
    "### Import libraries"
   ]
  },
  {
   "cell_type": "code",
   "execution_count": 1,
   "id": "f6585d07-f50b-439a-84a9-4c0061870d29",
   "metadata": {
    "execution": {
     "iopub.execute_input": "2023-01-26T16:19:47.212796Z",
     "iopub.status.busy": "2023-01-26T16:19:47.212361Z",
     "iopub.status.idle": "2023-01-26T16:19:49.526959Z",
     "shell.execute_reply": "2023-01-26T16:19:49.527393Z",
     "shell.execute_reply.started": "2023-01-26T16:03:56.360749Z"
    },
    "papermill": {
     "duration": 2.353744,
     "end_time": "2023-01-26T16:19:49.527791",
     "exception": false,
     "start_time": "2023-01-26T16:19:47.174047",
     "status": "completed"
    },
    "tags": []
   },
   "outputs": [
    {
     "name": "stdout",
     "output_type": "stream",
     "text": [
      "✅ Demo loaded successfully.\n",
      "✅ utils file '/home/ftp/data-product-framework/utils/demo.ipynb' successfully loaded.\n"
     ]
    }
   ],
   "source": [
    "import naas_data_product #load utils notebooks\n",
    "import time"
   ]
  },
  {
   "cell_type": "markdown",
   "id": "8e659ff5-80d3-43c9-8daf-1ae7f8d2a554",
   "metadata": {
    "papermill": {
     "duration": 0.031845,
     "end_time": "2023-01-26T16:19:49.590747",
     "exception": false,
     "start_time": "2023-01-26T16:19:49.558902",
     "status": "completed"
    },
    "tags": []
   },
   "source": [
    "### Setup Variables"
   ]
  },
  {
   "cell_type": "code",
   "execution_count": 2,
   "id": "c1a6eb30-fbb2-465e-a8f9-21baf6a8b547",
   "metadata": {
    "execution": {
     "iopub.execute_input": "2023-01-26T16:19:49.656357Z",
     "iopub.status.busy": "2023-01-26T16:19:49.655712Z",
     "iopub.status.idle": "2023-01-26T16:19:49.657462Z",
     "shell.execute_reply": "2023-01-26T16:19:49.657765Z",
     "shell.execute_reply.started": "2023-01-26T16:03:57.176382Z"
    },
    "papermill": {
     "duration": 0.035287,
     "end_time": "2023-01-26T16:19:49.657905",
     "exception": false,
     "start_time": "2023-01-26T16:19:49.622618",
     "status": "completed"
    },
    "tags": [
     "parameters"
    ]
   },
   "outputs": [],
   "source": [
    "sleeping_seconds = 5"
   ]
  },
  {
   "cell_type": "markdown",
   "id": "ea6ff4cf-cea6-420e-b190-5979156b5fed",
   "metadata": {
    "papermill": {
     "duration": 0.032219,
     "end_time": "2023-01-26T16:19:49.719100",
     "exception": false,
     "start_time": "2023-01-26T16:19:49.686881",
     "status": "completed"
    },
    "tags": []
   },
   "source": [
    "## Model"
   ]
  },
  {
   "cell_type": "markdown",
   "id": "57cc3ca7-a5a2-4ee9-bee0-61c593255eb5",
   "metadata": {
    "papermill": {
     "duration": 0.032357,
     "end_time": "2023-01-26T16:19:49.784446",
     "exception": false,
     "start_time": "2023-01-26T16:19:49.752089",
     "status": "completed"
    },
    "tags": []
   },
   "source": [
    "### Pause notebook execution"
   ]
  },
  {
   "cell_type": "code",
   "execution_count": 3,
   "id": "8bb2bcce-fae7-4095-abc3-a886c8dc24bf",
   "metadata": {
    "execution": {
     "iopub.execute_input": "2023-01-26T16:19:49.853055Z",
     "iopub.status.busy": "2023-01-26T16:19:49.852373Z",
     "iopub.status.idle": "2023-01-26T16:19:54.858633Z",
     "shell.execute_reply": "2023-01-26T16:19:54.858970Z",
     "shell.execute_reply.started": "2023-01-26T16:03:58.243268Z"
    },
    "papermill": {
     "duration": 5.041883,
     "end_time": "2023-01-26T16:19:54.859132",
     "exception": false,
     "start_time": "2023-01-26T16:19:49.817249",
     "status": "completed"
    },
    "tags": []
   },
   "outputs": [],
   "source": [
    "time.sleep(sleeping_seconds)"
   ]
  },
  {
   "cell_type": "markdown",
   "id": "d856dbf2-37a4-4e52-804a-81c3728b99a7",
   "metadata": {
    "papermill": {
     "duration": 0.029993,
     "end_time": "2023-01-26T16:19:54.917185",
     "exception": false,
     "start_time": "2023-01-26T16:19:54.887192",
     "status": "completed"
    },
    "tags": []
   },
   "source": [
    "## Output"
   ]
  },
  {
   "cell_type": "markdown",
   "id": "2c4996fc-6773-4b9b-bf78-b39bc9a88bf2",
   "metadata": {
    "papermill": {
     "duration": 0.031968,
     "end_time": "2023-01-26T16:19:54.980262",
     "exception": false,
     "start_time": "2023-01-26T16:19:54.948294",
     "status": "completed"
    },
    "tags": []
   },
   "source": [
    "### Display result"
   ]
  },
  {
   "cell_type": "code",
   "execution_count": 4,
   "id": "d26d8cee-8e57-4aab-b621-14f82e5010a5",
   "metadata": {
    "execution": {
     "iopub.execute_input": "2023-01-26T16:19:55.045237Z",
     "iopub.status.busy": "2023-01-26T16:19:55.044733Z",
     "iopub.status.idle": "2023-01-26T16:19:55.046804Z",
     "shell.execute_reply": "2023-01-26T16:19:55.047137Z",
     "shell.execute_reply.started": "2023-01-26T16:04:03.252384Z"
    },
    "papermill": {
     "duration": 0.036421,
     "end_time": "2023-01-26T16:19:55.047283",
     "exception": false,
     "start_time": "2023-01-26T16:19:55.010862",
     "status": "completed"
    },
    "tags": []
   },
   "outputs": [
    {
     "name": "stdout",
     "output_type": "stream",
     "text": [
      "Hello World!\n"
     ]
    }
   ],
   "source": [
    "print(\"Hello World!\")"
   ]
  },
  {
   "cell_type": "code",
   "execution_count": null,
   "id": "4c2c9208-8c77-4436-b73e-0af00a2e4d2c",
   "metadata": {
    "papermill": {
     "duration": 0.031696,
     "end_time": "2023-01-26T16:19:55.109721",
     "exception": false,
     "start_time": "2023-01-26T16:19:55.078025",
     "status": "completed"
    },
    "tags": []
   },
   "outputs": [],
   "source": []
  }
 ],
 "metadata": {
  "kernelspec": {
   "display_name": "Python 3",
   "language": "python",
   "name": "python3"
  },
  "language_info": {
   "codemirror_mode": {
    "name": "ipython",
    "version": 3
   },
   "file_extension": ".py",
   "mimetype": "text/x-python",
   "name": "python",
   "nbconvert_exporter": "python",
   "pygments_lexer": "ipython3",
   "version": "3.9.6"
  },
  "papermill": {
   "default_parameters": {},
   "duration": 10.039589,
   "end_time": "2023-01-26T16:19:55.647930",
   "environment_variables": {},
   "exception": null,
   "input_path": "bronze/IMO_template.ipynb",
   "output_path": "pipeline_executions/2023-01-26_17-19-45-1d1eb883-4138-429f-aaf1-e034cf41a866/Collection.IMO_template.ipynb",
   "parameters": {},
   "start_time": "2023-01-26T16:19:45.608341",
   "version": "2.3.3"
  },
  "widgets": {
   "application/vnd.jupyter.widget-state+json": {
    "state": {},
    "version_major": 2,
    "version_minor": 0
   }
  }
 },
 "nbformat": 4,
 "nbformat_minor": 5
}