{
 "cells": [
  {
   "cell_type": "markdown",
   "id": "dd66232c-09f1-44bf-8849-0cd5c52f78a6",
   "metadata": {
    "papermill": {
     "duration": 0.033416,
     "end_time": "2023-01-26T16:19:57.173888",
     "exception": false,
     "start_time": "2023-01-26T16:19:57.140472",
     "status": "completed"
    },
    "tags": []
   },
   "source": [
    "<img width=\"10%\" alt=\"Naas\" src=\"https://landen.imgix.net/jtci2pxwjczr/assets/5ice39g4.png?w=160\"/>"
   ]
  },
  {
   "cell_type": "markdown",
   "id": "633951dc-ca87-4032-ad2d-b76a909861bf",
   "metadata": {
    "papermill": {
     "duration": 0.035703,
     "end_time": "2023-01-26T16:19:57.241018",
     "exception": false,
     "start_time": "2023-01-26T16:19:57.205315",
     "status": "completed"
    },
    "tags": []
   },
   "source": [
    "# Demo"
   ]
  },
  {
   "cell_type": "markdown",
   "id": "524d5465-bce2-42f3-8d18-6f821dae07a5",
   "metadata": {
    "papermill": {
     "duration": 0.029055,
     "end_time": "2023-01-26T16:19:57.303817",
     "exception": false,
     "start_time": "2023-01-26T16:19:57.274762",
     "status": "completed"
    },
    "tags": []
   },
   "source": [
    "## Input"
   ]
  },
  {
   "cell_type": "markdown",
   "id": "918e5873-b444-43d4-aacd-852fffb5aceb",
   "metadata": {
    "papermill": {
     "duration": 0.029703,
     "end_time": "2023-01-26T16:19:57.365556",
     "exception": false,
     "start_time": "2023-01-26T16:19:57.335853",
     "status": "completed"
    },
    "tags": []
   },
   "source": [
    "### Import libraries"
   ]
  },
  {
   "cell_type": "code",
   "execution_count": 1,
   "id": "f6585d07-f50b-439a-84a9-4c0061870d29",
   "metadata": {
    "execution": {
     "iopub.execute_input": "2023-01-26T16:19:57.441196Z",
     "iopub.status.busy": "2023-01-26T16:19:57.440488Z",
     "iopub.status.idle": "2023-01-26T16:19:59.775832Z",
     "shell.execute_reply": "2023-01-26T16:19:59.775369Z",
     "shell.execute_reply.started": "2023-01-26T16:03:56.360749Z"
    },
    "papermill": {
     "duration": 2.377847,
     "end_time": "2023-01-26T16:19:59.775974",
     "exception": false,
     "start_time": "2023-01-26T16:19:57.398127",
     "status": "completed"
    },
    "tags": []
   },
   "outputs": [
    {
     "name": "stdout",
     "output_type": "stream",
     "text": [
      "✅ Demo loaded successfully.\n",
      "✅ utils file '/home/ftp/data-product-framework/utils/demo.ipynb' successfully loaded.\n"
     ]
    }
   ],
   "source": [
    "import naas_data_product #load utils notebooks\n",
    "import time"
   ]
  },
  {
   "cell_type": "markdown",
   "id": "8e659ff5-80d3-43c9-8daf-1ae7f8d2a554",
   "metadata": {
    "papermill": {
     "duration": 0.030425,
     "end_time": "2023-01-26T16:19:59.834514",
     "exception": false,
     "start_time": "2023-01-26T16:19:59.804089",
     "status": "completed"
    },
    "tags": []
   },
   "source": [
    "### Setup Variables"
   ]
  },
  {
   "cell_type": "code",
   "execution_count": 2,
   "id": "c1a6eb30-fbb2-465e-a8f9-21baf6a8b547",
   "metadata": {
    "execution": {
     "iopub.execute_input": "2023-01-26T16:19:59.904145Z",
     "iopub.status.busy": "2023-01-26T16:19:59.902995Z",
     "iopub.status.idle": "2023-01-26T16:19:59.904800Z",
     "shell.execute_reply": "2023-01-26T16:19:59.905127Z",
     "shell.execute_reply.started": "2023-01-26T16:03:57.176382Z"
    },
    "papermill": {
     "duration": 0.037661,
     "end_time": "2023-01-26T16:19:59.905269",
     "exception": false,
     "start_time": "2023-01-26T16:19:59.867608",
     "status": "completed"
    },
    "tags": [
     "parameters"
    ]
   },
   "outputs": [],
   "source": [
    "sleeping_seconds = 5"
   ]
  },
  {
   "cell_type": "markdown",
   "id": "ea6ff4cf-cea6-420e-b190-5979156b5fed",
   "metadata": {
    "papermill": {
     "duration": 0.032085,
     "end_time": "2023-01-26T16:19:59.966869",
     "exception": false,
     "start_time": "2023-01-26T16:19:59.934784",
     "status": "completed"
    },
    "tags": []
   },
   "source": [
    "## Model"
   ]
  },
  {
   "cell_type": "markdown",
   "id": "57cc3ca7-a5a2-4ee9-bee0-61c593255eb5",
   "metadata": {
    "papermill": {
     "duration": 0.033466,
     "end_time": "2023-01-26T16:20:00.031792",
     "exception": false,
     "start_time": "2023-01-26T16:19:59.998326",
     "status": "completed"
    },
    "tags": []
   },
   "source": [
    "### Pause notebook execution"
   ]
  },
  {
   "cell_type": "code",
   "execution_count": 3,
   "id": "8bb2bcce-fae7-4095-abc3-a886c8dc24bf",
   "metadata": {
    "execution": {
     "iopub.execute_input": "2023-01-26T16:20:00.115861Z",
     "iopub.status.busy": "2023-01-26T16:20:00.115376Z",
     "iopub.status.idle": "2023-01-26T16:20:05.123057Z",
     "shell.execute_reply": "2023-01-26T16:20:05.122666Z",
     "shell.execute_reply.started": "2023-01-26T16:03:58.243268Z"
    },
    "papermill": {
     "duration": 5.042857,
     "end_time": "2023-01-26T16:20:05.123191",
     "exception": false,
     "start_time": "2023-01-26T16:20:00.080334",
     "status": "completed"
    },
    "tags": []
   },
   "outputs": [],
   "source": [
    "time.sleep(sleeping_seconds)"
   ]
  },
  {
   "cell_type": "markdown",
   "id": "d856dbf2-37a4-4e52-804a-81c3728b99a7",
   "metadata": {
    "papermill": {
     "duration": 0.029912,
     "end_time": "2023-01-26T16:20:05.183206",
     "exception": false,
     "start_time": "2023-01-26T16:20:05.153294",
     "status": "completed"
    },
    "tags": []
   },
   "source": [
    "## Output"
   ]
  },
  {
   "cell_type": "markdown",
   "id": "2c4996fc-6773-4b9b-bf78-b39bc9a88bf2",
   "metadata": {
    "papermill": {
     "duration": 0.032005,
     "end_time": "2023-01-26T16:20:05.248795",
     "exception": false,
     "start_time": "2023-01-26T16:20:05.216790",
     "status": "completed"
    },
    "tags": []
   },
   "source": [
    "### Display result"
   ]
  },
  {
   "cell_type": "code",
   "execution_count": 4,
   "id": "d26d8cee-8e57-4aab-b621-14f82e5010a5",
   "metadata": {
    "execution": {
     "iopub.execute_input": "2023-01-26T16:20:05.321887Z",
     "iopub.status.busy": "2023-01-26T16:20:05.321137Z",
     "iopub.status.idle": "2023-01-26T16:20:05.323392Z",
     "shell.execute_reply": "2023-01-26T16:20:05.323752Z",
     "shell.execute_reply.started": "2023-01-26T16:04:03.252384Z"
    },
    "papermill": {
     "duration": 0.038832,
     "end_time": "2023-01-26T16:20:05.323906",
     "exception": false,
     "start_time": "2023-01-26T16:20:05.285074",
     "status": "completed"
    },
    "tags": []
   },
   "outputs": [
    {
     "name": "stdout",
     "output_type": "stream",
     "text": [
      "Hello World!\n"
     ]
    }
   ],
   "source": [
    "print(\"Hello World!\")"
   ]
  },
  {
   "cell_type": "code",
   "execution_count": null,
   "id": "4c2c9208-8c77-4436-b73e-0af00a2e4d2c",
   "metadata": {
    "papermill": {
     "duration": 0.030363,
     "end_time": "2023-01-26T16:20:05.381855",
     "exception": false,
     "start_time": "2023-01-26T16:20:05.351492",
     "status": "completed"
    },
    "tags": []
   },
   "outputs": [],
   "source": []
  }
 ],
 "metadata": {
  "kernelspec": {
   "display_name": "Python 3",
   "language": "python",
   "name": "python3"
  },
  "language_info": {
   "codemirror_mode": {
    "name": "ipython",
    "version": 3
   },
   "file_extension": ".py",
   "mimetype": "text/x-python",
   "name": "python",
   "nbconvert_exporter": "python",
   "pygments_lexer": "ipython3",
   "version": "3.9.6"
  },
  "papermill": {
   "default_parameters": {},
   "duration": 11.041989,
   "end_time": "2023-01-26T16:20:06.770569",
   "environment_variables": {},
   "exception": null,
   "input_path": "silver/IMO_template.ipynb",
   "output_path": "pipeline_executions/2023-01-26_17-19-45-1d1eb883-4138-429f-aaf1-e034cf41a866/Cleaning.IMO_template.ipynb",
   "parameters": {},
   "start_time": "2023-01-26T16:19:55.728580",
   "version": "2.3.3"
  },
  "widgets": {
   "application/vnd.jupyter.widget-state+json": {
    "state": {},
    "version_major": 2,
    "version_minor": 0
   }
  }
 },
 "nbformat": 4,
 "nbformat_minor": 5
}