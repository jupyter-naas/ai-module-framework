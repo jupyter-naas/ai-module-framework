{
 "cells": [
  {
   "cell_type": "markdown",
   "id": "dd66232c-09f1-44bf-8849-0cd5c52f78a6",
   "metadata": {
    "papermill": {
     "duration": 0.037506,
     "end_time": "2023-01-26T16:20:20.297413",
     "exception": false,
     "start_time": "2023-01-26T16:20:20.259907",
     "status": "completed"
    },
    "tags": []
   },
   "source": [
    "<img width=\"10%\" alt=\"Naas\" src=\"https://landen.imgix.net/jtci2pxwjczr/assets/5ice39g4.png?w=160\"/>"
   ]
  },
  {
   "cell_type": "markdown",
   "id": "633951dc-ca87-4032-ad2d-b76a909861bf",
   "metadata": {
    "papermill": {
     "duration": 0.034775,
     "end_time": "2023-01-26T16:20:20.367191",
     "exception": false,
     "start_time": "2023-01-26T16:20:20.332416",
     "status": "completed"
    },
    "tags": []
   },
   "source": [
    "# Demo"
   ]
  },
  {
   "cell_type": "markdown",
   "id": "524d5465-bce2-42f3-8d18-6f821dae07a5",
   "metadata": {
    "papermill": {
     "duration": 0.07459,
     "end_time": "2023-01-26T16:20:20.478668",
     "exception": false,
     "start_time": "2023-01-26T16:20:20.404078",
     "status": "completed"
    },
    "tags": []
   },
   "source": [
    "## Input"
   ]
  },
  {
   "cell_type": "markdown",
   "id": "918e5873-b444-43d4-aacd-852fffb5aceb",
   "metadata": {
    "papermill": {
     "duration": 0.038747,
     "end_time": "2023-01-26T16:20:20.557032",
     "exception": false,
     "start_time": "2023-01-26T16:20:20.518285",
     "status": "completed"
    },
    "tags": []
   },
   "source": [
    "### Import libraries"
   ]
  },
  {
   "cell_type": "code",
   "execution_count": 1,
   "id": "f6585d07-f50b-439a-84a9-4c0061870d29",
   "metadata": {
    "execution": {
     "iopub.execute_input": "2023-01-26T16:20:20.629709Z",
     "iopub.status.busy": "2023-01-26T16:20:20.629032Z",
     "iopub.status.idle": "2023-01-26T16:20:23.491536Z",
     "shell.execute_reply": "2023-01-26T16:20:23.492224Z",
     "shell.execute_reply.started": "2023-01-26T16:03:56.360749Z"
    },
    "papermill": {
     "duration": 2.90481,
     "end_time": "2023-01-26T16:20:23.492453",
     "exception": false,
     "start_time": "2023-01-26T16:20:20.587643",
     "status": "completed"
    },
    "tags": []
   },
   "outputs": [
    {
     "name": "stdout",
     "output_type": "stream",
     "text": [
      "✅ Demo loaded successfully.\n",
      "✅ utils file '/home/ftp/data-product-framework/utils/demo.ipynb' successfully loaded.\n"
     ]
    }
   ],
   "source": [
    "import naas_data_product #load utils notebooks\n",
    "import time"
   ]
  },
  {
   "cell_type": "markdown",
   "id": "8e659ff5-80d3-43c9-8daf-1ae7f8d2a554",
   "metadata": {
    "papermill": {
     "duration": 0.036613,
     "end_time": "2023-01-26T16:20:23.559722",
     "exception": false,
     "start_time": "2023-01-26T16:20:23.523109",
     "status": "completed"
    },
    "tags": []
   },
   "source": [
    "### Setup Variables"
   ]
  },
  {
   "cell_type": "code",
   "execution_count": 2,
   "id": "c1a6eb30-fbb2-465e-a8f9-21baf6a8b547",
   "metadata": {
    "execution": {
     "iopub.execute_input": "2023-01-26T16:20:23.632622Z",
     "iopub.status.busy": "2023-01-26T16:20:23.631925Z",
     "iopub.status.idle": "2023-01-26T16:20:23.634030Z",
     "shell.execute_reply": "2023-01-26T16:20:23.633406Z",
     "shell.execute_reply.started": "2023-01-26T16:03:57.176382Z"
    },
    "papermill": {
     "duration": 0.041223,
     "end_time": "2023-01-26T16:20:23.634175",
     "exception": false,
     "start_time": "2023-01-26T16:20:23.592952",
     "status": "completed"
    },
    "tags": [
     "parameters"
    ]
   },
   "outputs": [],
   "source": [
    "sleeping_seconds = 5"
   ]
  },
  {
   "cell_type": "markdown",
   "id": "ea6ff4cf-cea6-420e-b190-5979156b5fed",
   "metadata": {
    "papermill": {
     "duration": 0.034172,
     "end_time": "2023-01-26T16:20:23.701368",
     "exception": false,
     "start_time": "2023-01-26T16:20:23.667196",
     "status": "completed"
    },
    "tags": []
   },
   "source": [
    "## Model"
   ]
  },
  {
   "cell_type": "markdown",
   "id": "57cc3ca7-a5a2-4ee9-bee0-61c593255eb5",
   "metadata": {
    "papermill": {
     "duration": 0.032082,
     "end_time": "2023-01-26T16:20:23.761480",
     "exception": false,
     "start_time": "2023-01-26T16:20:23.729398",
     "status": "completed"
    },
    "tags": []
   },
   "source": [
    "### Pause notebook execution"
   ]
  },
  {
   "cell_type": "code",
   "execution_count": 3,
   "id": "8bb2bcce-fae7-4095-abc3-a886c8dc24bf",
   "metadata": {
    "execution": {
     "iopub.execute_input": "2023-01-26T16:20:23.834237Z",
     "iopub.status.busy": "2023-01-26T16:20:23.833646Z",
     "iopub.status.idle": "2023-01-26T16:20:28.846412Z",
     "shell.execute_reply": "2023-01-26T16:20:28.845454Z",
     "shell.execute_reply.started": "2023-01-26T16:03:58.243268Z"
    },
    "papermill": {
     "duration": 5.048546,
     "end_time": "2023-01-26T16:20:28.846596",
     "exception": false,
     "start_time": "2023-01-26T16:20:23.798050",
     "status": "completed"
    },
    "tags": []
   },
   "outputs": [],
   "source": [
    "time.sleep(sleeping_seconds)"
   ]
  },
  {
   "cell_type": "markdown",
   "id": "d856dbf2-37a4-4e52-804a-81c3728b99a7",
   "metadata": {
    "papermill": {
     "duration": 0.041985,
     "end_time": "2023-01-26T16:20:28.930850",
     "exception": false,
     "start_time": "2023-01-26T16:20:28.888865",
     "status": "completed"
    },
    "tags": []
   },
   "source": [
    "## Output"
   ]
  },
  {
   "cell_type": "markdown",
   "id": "2c4996fc-6773-4b9b-bf78-b39bc9a88bf2",
   "metadata": {
    "papermill": {
     "duration": 0.037205,
     "end_time": "2023-01-26T16:20:29.006705",
     "exception": false,
     "start_time": "2023-01-26T16:20:28.969500",
     "status": "completed"
    },
    "tags": []
   },
   "source": [
    "### Display result"
   ]
  },
  {
   "cell_type": "code",
   "execution_count": 4,
   "id": "d26d8cee-8e57-4aab-b621-14f82e5010a5",
   "metadata": {
    "execution": {
     "iopub.execute_input": "2023-01-26T16:20:29.076481Z",
     "iopub.status.busy": "2023-01-26T16:20:29.075998Z",
     "iopub.status.idle": "2023-01-26T16:20:29.078027Z",
     "shell.execute_reply": "2023-01-26T16:20:29.078349Z",
     "shell.execute_reply.started": "2023-01-26T16:04:03.252384Z"
    },
    "papermill": {
     "duration": 0.036339,
     "end_time": "2023-01-26T16:20:29.078492",
     "exception": false,
     "start_time": "2023-01-26T16:20:29.042153",
     "status": "completed"
    },
    "tags": []
   },
   "outputs": [
    {
     "name": "stdout",
     "output_type": "stream",
     "text": [
      "Hello World!\n"
     ]
    }
   ],
   "source": [
    "print(\"Hello World!\")"
   ]
  },
  {
   "cell_type": "code",
   "execution_count": null,
   "id": "4c2c9208-8c77-4436-b73e-0af00a2e4d2c",
   "metadata": {
    "papermill": {
     "duration": 0.031448,
     "end_time": "2023-01-26T16:20:29.141409",
     "exception": false,
     "start_time": "2023-01-26T16:20:29.109961",
     "status": "completed"
    },
    "tags": []
   },
   "outputs": [],
   "source": []
  }
 ],
 "metadata": {
  "kernelspec": {
   "display_name": "Python 3",
   "language": "python",
   "name": "python3"
  },
  "language_info": {
   "codemirror_mode": {
    "name": "ipython",
    "version": 3
   },
   "file_extension": ".py",
   "mimetype": "text/x-python",
   "name": "python",
   "nbconvert_exporter": "python",
   "pygments_lexer": "ipython3",
   "version": "3.9.6"
  },
  "papermill": {
   "default_parameters": {},
   "duration": 10.748393,
   "end_time": "2023-01-26T16:20:29.679142",
   "environment_variables": {},
   "exception": null,
   "input_path": "insights/IMO_template.ipynb",
   "output_path": "pipeline_executions/2023-01-26_17-19-45-1d1eb883-4138-429f-aaf1-e034cf41a866/Distribution2.IMO_template.ipynb",
   "parameters": {},
   "start_time": "2023-01-26T16:20:18.930749",
   "version": "2.3.3"
  },
  "widgets": {
   "application/vnd.jupyter.widget-state+json": {
    "state": {},
    "version_major": 2,
    "version_minor": 0
   }
  }
 },
 "nbformat": 4,
 "nbformat_minor": 5
}