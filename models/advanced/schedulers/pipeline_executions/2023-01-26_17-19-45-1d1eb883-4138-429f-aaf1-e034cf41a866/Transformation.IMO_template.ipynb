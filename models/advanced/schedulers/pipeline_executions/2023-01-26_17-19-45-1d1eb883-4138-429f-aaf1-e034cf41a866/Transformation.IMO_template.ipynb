{
 "cells": [
  {
   "cell_type": "markdown",
   "id": "dd66232c-09f1-44bf-8849-0cd5c52f78a6",
   "metadata": {
    "papermill": {
     "duration": 0.036006,
     "end_time": "2023-01-26T16:20:08.185809",
     "exception": false,
     "start_time": "2023-01-26T16:20:08.149803",
     "status": "completed"
    },
    "tags": []
   },
   "source": [
    "<img width=\"10%\" alt=\"Naas\" src=\"https://landen.imgix.net/jtci2pxwjczr/assets/5ice39g4.png?w=160\"/>"
   ]
  },
  {
   "cell_type": "markdown",
   "id": "633951dc-ca87-4032-ad2d-b76a909861bf",
   "metadata": {
    "papermill": {
     "duration": 0.029077,
     "end_time": "2023-01-26T16:20:08.243662",
     "exception": false,
     "start_time": "2023-01-26T16:20:08.214585",
     "status": "completed"
    },
    "tags": []
   },
   "source": [
    "# Demo"
   ]
  },
  {
   "cell_type": "markdown",
   "id": "524d5465-bce2-42f3-8d18-6f821dae07a5",
   "metadata": {
    "papermill": {
     "duration": 0.03214,
     "end_time": "2023-01-26T16:20:08.307024",
     "exception": false,
     "start_time": "2023-01-26T16:20:08.274884",
     "status": "completed"
    },
    "tags": []
   },
   "source": [
    "## Input"
   ]
  },
  {
   "cell_type": "markdown",
   "id": "918e5873-b444-43d4-aacd-852fffb5aceb",
   "metadata": {
    "papermill": {
     "duration": 0.031143,
     "end_time": "2023-01-26T16:20:08.367846",
     "exception": false,
     "start_time": "2023-01-26T16:20:08.336703",
     "status": "completed"
    },
    "tags": []
   },
   "source": [
    "### Import libraries"
   ]
  },
  {
   "cell_type": "code",
   "execution_count": 1,
   "id": "f6585d07-f50b-439a-84a9-4c0061870d29",
   "metadata": {
    "execution": {
     "iopub.execute_input": "2023-01-26T16:20:08.433777Z",
     "iopub.status.busy": "2023-01-26T16:20:08.433343Z",
     "iopub.status.idle": "2023-01-26T16:20:10.892187Z",
     "shell.execute_reply": "2023-01-26T16:20:10.892756Z",
     "shell.execute_reply.started": "2023-01-26T16:03:56.360749Z"
    },
    "papermill": {
     "duration": 2.493563,
     "end_time": "2023-01-26T16:20:10.892977",
     "exception": false,
     "start_time": "2023-01-26T16:20:08.399414",
     "status": "completed"
    },
    "tags": []
   },
   "outputs": [
    {
     "name": "stdout",
     "output_type": "stream",
     "text": [
      "✅ Demo loaded successfully.\n",
      "✅ utils file '/home/ftp/data-product-framework/utils/demo.ipynb' successfully loaded.\n"
     ]
    }
   ],
   "source": [
    "import naas_data_product #load utils notebooks\n",
    "import time"
   ]
  },
  {
   "cell_type": "markdown",
   "id": "8e659ff5-80d3-43c9-8daf-1ae7f8d2a554",
   "metadata": {
    "papermill": {
     "duration": 0.034321,
     "end_time": "2023-01-26T16:20:10.959177",
     "exception": false,
     "start_time": "2023-01-26T16:20:10.924856",
     "status": "completed"
    },
    "tags": []
   },
   "source": [
    "### Setup Variables"
   ]
  },
  {
   "cell_type": "code",
   "execution_count": 2,
   "id": "c1a6eb30-fbb2-465e-a8f9-21baf6a8b547",
   "metadata": {
    "execution": {
     "iopub.execute_input": "2023-01-26T16:20:11.030676Z",
     "iopub.status.busy": "2023-01-26T16:20:11.030012Z",
     "iopub.status.idle": "2023-01-26T16:20:11.031849Z",
     "shell.execute_reply": "2023-01-26T16:20:11.032159Z",
     "shell.execute_reply.started": "2023-01-26T16:03:57.176382Z"
    },
    "papermill": {
     "duration": 0.036768,
     "end_time": "2023-01-26T16:20:11.032307",
     "exception": false,
     "start_time": "2023-01-26T16:20:10.995539",
     "status": "completed"
    },
    "tags": [
     "parameters"
    ]
   },
   "outputs": [],
   "source": [
    "sleeping_seconds = 5"
   ]
  },
  {
   "cell_type": "markdown",
   "id": "ea6ff4cf-cea6-420e-b190-5979156b5fed",
   "metadata": {
    "papermill": {
     "duration": 0.035167,
     "end_time": "2023-01-26T16:20:11.098425",
     "exception": false,
     "start_time": "2023-01-26T16:20:11.063258",
     "status": "completed"
    },
    "tags": []
   },
   "source": [
    "## Model"
   ]
  },
  {
   "cell_type": "markdown",
   "id": "57cc3ca7-a5a2-4ee9-bee0-61c593255eb5",
   "metadata": {
    "papermill": {
     "duration": 0.030161,
     "end_time": "2023-01-26T16:20:11.158140",
     "exception": false,
     "start_time": "2023-01-26T16:20:11.127979",
     "status": "completed"
    },
    "tags": []
   },
   "source": [
    "### Pause notebook execution"
   ]
  },
  {
   "cell_type": "code",
   "execution_count": 3,
   "id": "8bb2bcce-fae7-4095-abc3-a886c8dc24bf",
   "metadata": {
    "execution": {
     "iopub.execute_input": "2023-01-26T16:20:11.223608Z",
     "iopub.status.busy": "2023-01-26T16:20:11.223148Z",
     "iopub.status.idle": "2023-01-26T16:20:16.227136Z",
     "shell.execute_reply": "2023-01-26T16:20:16.228100Z",
     "shell.execute_reply.started": "2023-01-26T16:03:58.243268Z"
    },
    "papermill": {
     "duration": 5.038507,
     "end_time": "2023-01-26T16:20:16.228276",
     "exception": false,
     "start_time": "2023-01-26T16:20:11.189769",
     "status": "completed"
    },
    "tags": []
   },
   "outputs": [],
   "source": [
    "time.sleep(sleeping_seconds)"
   ]
  },
  {
   "cell_type": "markdown",
   "id": "d856dbf2-37a4-4e52-804a-81c3728b99a7",
   "metadata": {
    "papermill": {
     "duration": 0.040169,
     "end_time": "2023-01-26T16:20:16.303786",
     "exception": false,
     "start_time": "2023-01-26T16:20:16.263617",
     "status": "completed"
    },
    "tags": []
   },
   "source": [
    "## Output"
   ]
  },
  {
   "cell_type": "markdown",
   "id": "2c4996fc-6773-4b9b-bf78-b39bc9a88bf2",
   "metadata": {
    "papermill": {
     "duration": 0.031947,
     "end_time": "2023-01-26T16:20:16.370255",
     "exception": false,
     "start_time": "2023-01-26T16:20:16.338308",
     "status": "completed"
    },
    "tags": []
   },
   "source": [
    "### Display result"
   ]
  },
  {
   "cell_type": "code",
   "execution_count": 4,
   "id": "d26d8cee-8e57-4aab-b621-14f82e5010a5",
   "metadata": {
    "execution": {
     "iopub.execute_input": "2023-01-26T16:20:16.437774Z",
     "iopub.status.busy": "2023-01-26T16:20:16.437253Z",
     "iopub.status.idle": "2023-01-26T16:20:16.440005Z",
     "shell.execute_reply": "2023-01-26T16:20:16.439362Z",
     "shell.execute_reply.started": "2023-01-26T16:04:03.252384Z"
    },
    "papermill": {
     "duration": 0.037852,
     "end_time": "2023-01-26T16:20:16.440137",
     "exception": false,
     "start_time": "2023-01-26T16:20:16.402285",
     "status": "completed"
    },
    "tags": []
   },
   "outputs": [
    {
     "name": "stdout",
     "output_type": "stream",
     "text": [
      "Hello World!\n"
     ]
    }
   ],
   "source": [
    "print(\"Hello World!\")"
   ]
  },
  {
   "cell_type": "code",
   "execution_count": null,
   "id": "4c2c9208-8c77-4436-b73e-0af00a2e4d2c",
   "metadata": {
    "papermill": {
     "duration": 0.03344,
     "end_time": "2023-01-26T16:20:16.507811",
     "exception": false,
     "start_time": "2023-01-26T16:20:16.474371",
     "status": "completed"
    },
    "tags": []
   },
   "outputs": [],
   "source": []
  }
 ],
 "metadata": {
  "kernelspec": {
   "display_name": "Python 3",
   "language": "python",
   "name": "python3"
  },
  "language_info": {
   "codemirror_mode": {
    "name": "ipython",
    "version": 3
   },
   "file_extension": ".py",
   "mimetype": "text/x-python",
   "name": "python",
   "nbconvert_exporter": "python",
   "pygments_lexer": "ipython3",
   "version": "3.9.6"
  },
  "papermill": {
   "default_parameters": {},
   "duration": 11.072823,
   "end_time": "2023-01-26T16:20:17.925206",
   "environment_variables": {},
   "exception": null,
   "input_path": "gold/IMO_template.ipynb",
   "output_path": "pipeline_executions/2023-01-26_17-19-45-1d1eb883-4138-429f-aaf1-e034cf41a866/Transformation.IMO_template.ipynb",
   "parameters": {},
   "start_time": "2023-01-26T16:20:06.852383",
   "version": "2.3.3"
  },
  "widgets": {
   "application/vnd.jupyter.widget-state+json": {
    "state": {},
    "version_major": 2,
    "version_minor": 0
   }
  }
 },
 "nbformat": 4,
 "nbformat_minor": 5
}