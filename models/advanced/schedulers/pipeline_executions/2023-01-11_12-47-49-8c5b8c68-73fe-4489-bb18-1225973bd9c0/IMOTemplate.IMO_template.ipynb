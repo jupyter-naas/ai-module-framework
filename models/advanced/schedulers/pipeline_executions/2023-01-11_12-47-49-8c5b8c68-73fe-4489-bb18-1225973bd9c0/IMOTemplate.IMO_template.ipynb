{
 "cells": [
  {
   "cell_type": "markdown",
   "id": "dd66232c-09f1-44bf-8849-0cd5c52f78a6",
   "metadata": {
    "papermill": {
     "duration": 0.036194,
     "end_time": "2023-01-11T11:47:51.257755",
     "exception": false,
     "start_time": "2023-01-11T11:47:51.221561",
     "status": "completed"
    },
    "tags": []
   },
   "source": [
    "<img width=\"10%\" alt=\"Naas\" src=\"https://landen.imgix.net/jtci2pxwjczr/assets/5ice39g4.png?w=160\"/>"
   ]
  },
  {
   "cell_type": "markdown",
   "id": "633951dc-ca87-4032-ad2d-b76a909861bf",
   "metadata": {
    "papermill": {
     "duration": 0.036206,
     "end_time": "2023-01-11T11:47:51.330324",
     "exception": false,
     "start_time": "2023-01-11T11:47:51.294118",
     "status": "completed"
    },
    "tags": []
   },
   "source": [
    "# Demo"
   ]
  },
  {
   "cell_type": "markdown",
   "id": "524d5465-bce2-42f3-8d18-6f821dae07a5",
   "metadata": {
    "papermill": {
     "duration": 0.035047,
     "end_time": "2023-01-11T11:47:51.399471",
     "exception": false,
     "start_time": "2023-01-11T11:47:51.364424",
     "status": "completed"
    },
    "tags": []
   },
   "source": [
    "## Input"
   ]
  },
  {
   "cell_type": "markdown",
   "id": "918e5873-b444-43d4-aacd-852fffb5aceb",
   "metadata": {
    "papermill": {
     "duration": 0.032525,
     "end_time": "2023-01-11T11:47:51.465270",
     "exception": false,
     "start_time": "2023-01-11T11:47:51.432745",
     "status": "completed"
    },
    "tags": []
   },
   "source": [
    "### Import libraries"
   ]
  },
  {
   "cell_type": "code",
   "execution_count": 1,
   "id": "f6585d07-f50b-439a-84a9-4c0061870d29",
   "metadata": {
    "execution": {
     "iopub.execute_input": "2023-01-11T11:47:51.552415Z",
     "iopub.status.busy": "2023-01-11T11:47:51.551864Z",
     "iopub.status.idle": "2023-01-11T11:47:55.013161Z",
     "shell.execute_reply": "2023-01-11T11:47:55.013494Z"
    },
    "papermill": {
     "duration": 3.501927,
     "end_time": "2023-01-11T11:47:55.013756",
     "exception": false,
     "start_time": "2023-01-11T11:47:51.511829",
     "status": "completed"
    },
    "tags": []
   },
   "outputs": [
    {
     "name": "stdout",
     "output_type": "stream",
     "text": [
      "✅ Demo loaded successfully.\n",
      "✅ utils file '/home/ftp/data-product-framework/utils/demo.ipynb' successfully loaded.\n"
     ]
    }
   ],
   "source": [
    "import naas_data_product #load utils notebooks\n",
    "import time"
   ]
  },
  {
   "cell_type": "markdown",
   "id": "8e659ff5-80d3-43c9-8daf-1ae7f8d2a554",
   "metadata": {
    "papermill": {
     "duration": 0.034482,
     "end_time": "2023-01-11T11:47:55.085312",
     "exception": false,
     "start_time": "2023-01-11T11:47:55.050830",
     "status": "completed"
    },
    "tags": []
   },
   "source": [
    "### Setup Variables"
   ]
  },
  {
   "cell_type": "code",
   "execution_count": 2,
   "id": "c1a6eb30-fbb2-465e-a8f9-21baf6a8b547",
   "metadata": {
    "execution": {
     "iopub.execute_input": "2023-01-11T11:47:55.160803Z",
     "iopub.status.busy": "2023-01-11T11:47:55.160075Z",
     "iopub.status.idle": "2023-01-11T11:47:55.161903Z",
     "shell.execute_reply": "2023-01-11T11:47:55.161373Z"
    },
    "papermill": {
     "duration": 0.042912,
     "end_time": "2023-01-11T11:47:55.162066",
     "exception": false,
     "start_time": "2023-01-11T11:47:55.119154",
     "status": "completed"
    },
    "tags": [
     "parameters"
    ]
   },
   "outputs": [],
   "source": [
    "sleeping_seconds = 5"
   ]
  },
  {
   "cell_type": "markdown",
   "id": "ea6ff4cf-cea6-420e-b190-5979156b5fed",
   "metadata": {
    "papermill": {
     "duration": 0.033905,
     "end_time": "2023-01-11T11:47:55.234729",
     "exception": false,
     "start_time": "2023-01-11T11:47:55.200824",
     "status": "completed"
    },
    "tags": []
   },
   "source": [
    "## Model"
   ]
  },
  {
   "cell_type": "markdown",
   "id": "57cc3ca7-a5a2-4ee9-bee0-61c593255eb5",
   "metadata": {
    "papermill": {
     "duration": 0.035365,
     "end_time": "2023-01-11T11:47:55.303902",
     "exception": false,
     "start_time": "2023-01-11T11:47:55.268537",
     "status": "completed"
    },
    "tags": []
   },
   "source": [
    "### Pause notebook execution"
   ]
  },
  {
   "cell_type": "code",
   "execution_count": 3,
   "id": "8bb2bcce-fae7-4095-abc3-a886c8dc24bf",
   "metadata": {
    "execution": {
     "iopub.execute_input": "2023-01-11T11:47:55.382860Z",
     "iopub.status.busy": "2023-01-11T11:47:55.382294Z",
     "iopub.status.idle": "2023-01-11T11:48:00.388599Z",
     "shell.execute_reply": "2023-01-11T11:48:00.388212Z"
    },
    "papermill": {
     "duration": 5.048971,
     "end_time": "2023-01-11T11:48:00.388733",
     "exception": false,
     "start_time": "2023-01-11T11:47:55.339762",
     "status": "completed"
    },
    "tags": []
   },
   "outputs": [],
   "source": [
    "time.sleep(sleeping_seconds)"
   ]
  },
  {
   "cell_type": "markdown",
   "id": "d856dbf2-37a4-4e52-804a-81c3728b99a7",
   "metadata": {
    "papermill": {
     "duration": 0.034235,
     "end_time": "2023-01-11T11:48:00.458886",
     "exception": false,
     "start_time": "2023-01-11T11:48:00.424651",
     "status": "completed"
    },
    "tags": []
   },
   "source": [
    "## Output"
   ]
  },
  {
   "cell_type": "markdown",
   "id": "2c4996fc-6773-4b9b-bf78-b39bc9a88bf2",
   "metadata": {
    "papermill": {
     "duration": 0.035261,
     "end_time": "2023-01-11T11:48:00.529262",
     "exception": false,
     "start_time": "2023-01-11T11:48:00.494001",
     "status": "completed"
    },
    "tags": []
   },
   "source": [
    "### Display result"
   ]
  },
  {
   "cell_type": "code",
   "execution_count": 4,
   "id": "d26d8cee-8e57-4aab-b621-14f82e5010a5",
   "metadata": {
    "execution": {
     "iopub.execute_input": "2023-01-11T11:48:00.606575Z",
     "iopub.status.busy": "2023-01-11T11:48:00.606015Z",
     "iopub.status.idle": "2023-01-11T11:48:00.608171Z",
     "shell.execute_reply": "2023-01-11T11:48:00.608498Z"
    },
    "papermill": {
     "duration": 0.042837,
     "end_time": "2023-01-11T11:48:00.608638",
     "exception": false,
     "start_time": "2023-01-11T11:48:00.565801",
     "status": "completed"
    },
    "tags": []
   },
   "outputs": [
    {
     "name": "stdout",
     "output_type": "stream",
     "text": [
      "Hello World!\n"
     ]
    }
   ],
   "source": [
    "print(\"Hello World!\")"
   ]
  }
 ],
 "metadata": {
  "kernelspec": {
   "display_name": "Python 3",
   "language": "python",
   "name": "python3"
  },
  "language_info": {
   "codemirror_mode": {
    "name": "ipython",
    "version": 3
   },
   "file_extension": ".py",
   "mimetype": "text/x-python",
   "name": "python",
   "nbconvert_exporter": "python",
   "pygments_lexer": "ipython3",
   "version": "3.9.6"
  },
  "papermill": {
   "default_parameters": {},
   "duration": 11.985424,
   "end_time": "2023-01-11T11:48:01.392852",
   "environment_variables": {},
   "exception": null,
   "input_path": "IMO_template.ipynb",
   "output_path": "pipeline_executions/2023-01-11_12-47-49-8c5b8c68-73fe-4489-bb18-1225973bd9c0/IMOTemplate.IMO_template.ipynb",
   "parameters": {},
   "start_time": "2023-01-11T11:47:49.407428",
   "version": "2.3.3"
  },
  "widgets": {
   "application/vnd.jupyter.widget-state+json": {
    "state": {},
    "version_major": 2,
    "version_minor": 0
   }
  }
 },
 "nbformat": 4,
 "nbformat_minor": 5
}