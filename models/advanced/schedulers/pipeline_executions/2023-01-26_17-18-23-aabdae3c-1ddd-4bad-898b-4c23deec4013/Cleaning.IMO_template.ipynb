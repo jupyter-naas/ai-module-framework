{
 "cells": [
  {
   "cell_type": "markdown",
   "id": "dd66232c-09f1-44bf-8849-0cd5c52f78a6",
   "metadata": {
    "papermill": {
     "duration": 0.038243,
     "end_time": "2023-01-26T16:18:35.683971",
     "exception": false,
     "start_time": "2023-01-26T16:18:35.645728",
     "status": "completed"
    },
    "tags": []
   },
   "source": [
    "<img width=\"10%\" alt=\"Naas\" src=\"https://landen.imgix.net/jtci2pxwjczr/assets/5ice39g4.png?w=160\"/>"
   ]
  },
  {
   "cell_type": "markdown",
   "id": "633951dc-ca87-4032-ad2d-b76a909861bf",
   "metadata": {
    "papermill": {
     "duration": 0.030898,
     "end_time": "2023-01-26T16:18:35.752154",
     "exception": false,
     "start_time": "2023-01-26T16:18:35.721256",
     "status": "completed"
    },
    "tags": []
   },
   "source": [
    "# Demo"
   ]
  },
  {
   "cell_type": "markdown",
   "id": "524d5465-bce2-42f3-8d18-6f821dae07a5",
   "metadata": {
    "papermill": {
     "duration": 0.029425,
     "end_time": "2023-01-26T16:18:35.811188",
     "exception": false,
     "start_time": "2023-01-26T16:18:35.781763",
     "status": "completed"
    },
    "tags": []
   },
   "source": [
    "## Input"
   ]
  },
  {
   "cell_type": "markdown",
   "id": "918e5873-b444-43d4-aacd-852fffb5aceb",
   "metadata": {
    "papermill": {
     "duration": 0.030337,
     "end_time": "2023-01-26T16:18:35.878837",
     "exception": false,
     "start_time": "2023-01-26T16:18:35.848500",
     "status": "completed"
    },
    "tags": []
   },
   "source": [
    "### Import libraries"
   ]
  },
  {
   "cell_type": "code",
   "execution_count": 1,
   "id": "f6585d07-f50b-439a-84a9-4c0061870d29",
   "metadata": {
    "execution": {
     "iopub.execute_input": "2023-01-26T16:18:35.948731Z",
     "iopub.status.busy": "2023-01-26T16:18:35.948285Z",
     "iopub.status.idle": "2023-01-26T16:18:38.346554Z",
     "shell.execute_reply": "2023-01-26T16:18:38.346908Z",
     "shell.execute_reply.started": "2023-01-26T16:03:56.360749Z"
    },
    "papermill": {
     "duration": 2.437476,
     "end_time": "2023-01-26T16:18:38.347118",
     "exception": false,
     "start_time": "2023-01-26T16:18:35.909642",
     "status": "completed"
    },
    "tags": []
   },
   "outputs": [
    {
     "name": "stdout",
     "output_type": "stream",
     "text": [
      "✅ Demo loaded successfully.\n",
      "✅ utils file '/home/ftp/data-product-framework/utils/demo.ipynb' successfully loaded.\n"
     ]
    }
   ],
   "source": [
    "import naas_data_product #load utils notebooks\n",
    "import time"
   ]
  },
  {
   "cell_type": "markdown",
   "id": "8e659ff5-80d3-43c9-8daf-1ae7f8d2a554",
   "metadata": {
    "papermill": {
     "duration": 0.034668,
     "end_time": "2023-01-26T16:18:38.411395",
     "exception": false,
     "start_time": "2023-01-26T16:18:38.376727",
     "status": "completed"
    },
    "tags": []
   },
   "source": [
    "### Setup Variables"
   ]
  },
  {
   "cell_type": "code",
   "execution_count": 2,
   "id": "c1a6eb30-fbb2-465e-a8f9-21baf6a8b547",
   "metadata": {
    "execution": {
     "iopub.execute_input": "2023-01-26T16:18:38.489132Z",
     "iopub.status.busy": "2023-01-26T16:18:38.488514Z",
     "iopub.status.idle": "2023-01-26T16:18:38.490646Z",
     "shell.execute_reply": "2023-01-26T16:18:38.490304Z",
     "shell.execute_reply.started": "2023-01-26T16:03:57.176382Z"
    },
    "papermill": {
     "duration": 0.037539,
     "end_time": "2023-01-26T16:18:38.490772",
     "exception": false,
     "start_time": "2023-01-26T16:18:38.453233",
     "status": "completed"
    },
    "tags": [
     "parameters"
    ]
   },
   "outputs": [],
   "source": [
    "sleeping_seconds = 5"
   ]
  },
  {
   "cell_type": "markdown",
   "id": "ea6ff4cf-cea6-420e-b190-5979156b5fed",
   "metadata": {
    "papermill": {
     "duration": 0.030402,
     "end_time": "2023-01-26T16:18:38.554415",
     "exception": false,
     "start_time": "2023-01-26T16:18:38.524013",
     "status": "completed"
    },
    "tags": []
   },
   "source": [
    "## Model"
   ]
  },
  {
   "cell_type": "markdown",
   "id": "57cc3ca7-a5a2-4ee9-bee0-61c593255eb5",
   "metadata": {
    "papermill": {
     "duration": 0.029388,
     "end_time": "2023-01-26T16:18:38.616343",
     "exception": false,
     "start_time": "2023-01-26T16:18:38.586955",
     "status": "completed"
    },
    "tags": []
   },
   "source": [
    "### Pause notebook execution"
   ]
  },
  {
   "cell_type": "code",
   "execution_count": 3,
   "id": "8bb2bcce-fae7-4095-abc3-a886c8dc24bf",
   "metadata": {
    "execution": {
     "iopub.execute_input": "2023-01-26T16:18:38.684041Z",
     "iopub.status.busy": "2023-01-26T16:18:38.683584Z",
     "iopub.status.idle": "2023-01-26T16:18:43.691198Z",
     "shell.execute_reply": "2023-01-26T16:18:43.690801Z",
     "shell.execute_reply.started": "2023-01-26T16:03:58.243268Z"
    },
    "papermill": {
     "duration": 5.039501,
     "end_time": "2023-01-26T16:18:43.691329",
     "exception": false,
     "start_time": "2023-01-26T16:18:38.651828",
     "status": "completed"
    },
    "tags": []
   },
   "outputs": [],
   "source": [
    "time.sleep(sleeping_seconds)"
   ]
  },
  {
   "cell_type": "markdown",
   "id": "d856dbf2-37a4-4e52-804a-81c3728b99a7",
   "metadata": {
    "papermill": {
     "duration": 0.034357,
     "end_time": "2023-01-26T16:18:43.761347",
     "exception": false,
     "start_time": "2023-01-26T16:18:43.726990",
     "status": "completed"
    },
    "tags": []
   },
   "source": [
    "## Output"
   ]
  },
  {
   "cell_type": "markdown",
   "id": "2c4996fc-6773-4b9b-bf78-b39bc9a88bf2",
   "metadata": {
    "papermill": {
     "duration": 0.029554,
     "end_time": "2023-01-26T16:18:43.824973",
     "exception": false,
     "start_time": "2023-01-26T16:18:43.795419",
     "status": "completed"
    },
    "tags": []
   },
   "source": [
    "### Display result"
   ]
  },
  {
   "cell_type": "code",
   "execution_count": 4,
   "id": "d26d8cee-8e57-4aab-b621-14f82e5010a5",
   "metadata": {
    "execution": {
     "iopub.execute_input": "2023-01-26T16:18:43.889091Z",
     "iopub.status.busy": "2023-01-26T16:18:43.888510Z",
     "iopub.status.idle": "2023-01-26T16:18:43.890645Z",
     "shell.execute_reply": "2023-01-26T16:18:43.891021Z",
     "shell.execute_reply.started": "2023-01-26T16:04:03.252384Z"
    },
    "papermill": {
     "duration": 0.036966,
     "end_time": "2023-01-26T16:18:43.891178",
     "exception": false,
     "start_time": "2023-01-26T16:18:43.854212",
     "status": "completed"
    },
    "tags": []
   },
   "outputs": [
    {
     "name": "stdout",
     "output_type": "stream",
     "text": [
      "Hello World!\n"
     ]
    }
   ],
   "source": [
    "print(\"Hello World!\")"
   ]
  },
  {
   "cell_type": "code",
   "execution_count": null,
   "id": "4c2c9208-8c77-4436-b73e-0af00a2e4d2c",
   "metadata": {
    "papermill": {
     "duration": 0.038431,
     "end_time": "2023-01-26T16:18:43.962180",
     "exception": false,
     "start_time": "2023-01-26T16:18:43.923749",
     "status": "completed"
    },
    "tags": []
   },
   "outputs": [],
   "source": []
  }
 ],
 "metadata": {
  "kernelspec": {
   "display_name": "Python 3",
   "language": "python",
   "name": "python3"
  },
  "language_info": {
   "codemirror_mode": {
    "name": "ipython",
    "version": 3
   },
   "file_extension": ".py",
   "mimetype": "text/x-python",
   "name": "python",
   "nbconvert_exporter": "python",
   "pygments_lexer": "ipython3",
   "version": "3.9.6"
  },
  "papermill": {
   "default_parameters": {},
   "duration": 11.04417,
   "end_time": "2023-01-26T16:18:45.396148",
   "environment_variables": {},
   "exception": null,
   "input_path": "silver/IMO_template.ipynb",
   "output_path": "pipeline_executions/2023-01-26_17-18-23-aabdae3c-1ddd-4bad-898b-4c23deec4013/Cleaning.IMO_template.ipynb",
   "parameters": {},
   "start_time": "2023-01-26T16:18:34.351978",
   "version": "2.3.3"
  },
  "widgets": {
   "application/vnd.jupyter.widget-state+json": {
    "state": {},
    "version_major": 2,
    "version_minor": 0
   }
  }
 },
 "nbformat": 4,
 "nbformat_minor": 5
}