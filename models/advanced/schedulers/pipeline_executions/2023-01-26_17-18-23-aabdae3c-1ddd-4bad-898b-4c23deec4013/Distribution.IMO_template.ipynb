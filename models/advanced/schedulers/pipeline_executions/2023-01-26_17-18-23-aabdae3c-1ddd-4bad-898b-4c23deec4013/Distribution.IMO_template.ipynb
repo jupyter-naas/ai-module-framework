{
 "cells": [
  {
   "cell_type": "markdown",
   "id": "dd66232c-09f1-44bf-8849-0cd5c52f78a6",
   "metadata": {
    "papermill": {
     "duration": 0.032232,
     "end_time": "2023-01-26T16:18:57.333213",
     "exception": false,
     "start_time": "2023-01-26T16:18:57.300981",
     "status": "completed"
    },
    "tags": []
   },
   "source": [
    "<img width=\"10%\" alt=\"Naas\" src=\"https://landen.imgix.net/jtci2pxwjczr/assets/5ice39g4.png?w=160\"/>"
   ]
  },
  {
   "cell_type": "markdown",
   "id": "633951dc-ca87-4032-ad2d-b76a909861bf",
   "metadata": {
    "papermill": {
     "duration": 0.028615,
     "end_time": "2023-01-26T16:18:57.399323",
     "exception": false,
     "start_time": "2023-01-26T16:18:57.370708",
     "status": "completed"
    },
    "tags": []
   },
   "source": [
    "# Demo"
   ]
  },
  {
   "cell_type": "markdown",
   "id": "524d5465-bce2-42f3-8d18-6f821dae07a5",
   "metadata": {
    "papermill": {
     "duration": 0.029607,
     "end_time": "2023-01-26T16:18:57.458595",
     "exception": false,
     "start_time": "2023-01-26T16:18:57.428988",
     "status": "completed"
    },
    "tags": []
   },
   "source": [
    "## Input"
   ]
  },
  {
   "cell_type": "markdown",
   "id": "918e5873-b444-43d4-aacd-852fffb5aceb",
   "metadata": {
    "papermill": {
     "duration": 0.030258,
     "end_time": "2023-01-26T16:18:57.517580",
     "exception": false,
     "start_time": "2023-01-26T16:18:57.487322",
     "status": "completed"
    },
    "tags": []
   },
   "source": [
    "### Import libraries"
   ]
  },
  {
   "cell_type": "code",
   "execution_count": 1,
   "id": "f6585d07-f50b-439a-84a9-4c0061870d29",
   "metadata": {
    "execution": {
     "iopub.execute_input": "2023-01-26T16:18:57.583516Z",
     "iopub.status.busy": "2023-01-26T16:18:57.583071Z",
     "iopub.status.idle": "2023-01-26T16:18:59.991843Z",
     "shell.execute_reply": "2023-01-26T16:18:59.992176Z",
     "shell.execute_reply.started": "2023-01-26T16:03:56.360749Z"
    },
    "papermill": {
     "duration": 2.444644,
     "end_time": "2023-01-26T16:18:59.992392",
     "exception": false,
     "start_time": "2023-01-26T16:18:57.547748",
     "status": "completed"
    },
    "tags": []
   },
   "outputs": [
    {
     "name": "stdout",
     "output_type": "stream",
     "text": [
      "✅ Demo loaded successfully.\n",
      "✅ utils file '/home/ftp/data-product-framework/utils/demo.ipynb' successfully loaded.\n"
     ]
    }
   ],
   "source": [
    "import naas_data_product #load utils notebooks\n",
    "import time"
   ]
  },
  {
   "cell_type": "markdown",
   "id": "8e659ff5-80d3-43c9-8daf-1ae7f8d2a554",
   "metadata": {
    "papermill": {
     "duration": 0.035776,
     "end_time": "2023-01-26T16:19:00.064157",
     "exception": false,
     "start_time": "2023-01-26T16:19:00.028381",
     "status": "completed"
    },
    "tags": []
   },
   "source": [
    "### Setup Variables"
   ]
  },
  {
   "cell_type": "code",
   "execution_count": 2,
   "id": "c1a6eb30-fbb2-465e-a8f9-21baf6a8b547",
   "metadata": {
    "execution": {
     "iopub.execute_input": "2023-01-26T16:19:00.125880Z",
     "iopub.status.busy": "2023-01-26T16:19:00.125438Z",
     "iopub.status.idle": "2023-01-26T16:19:00.128216Z",
     "shell.execute_reply": "2023-01-26T16:19:00.128527Z",
     "shell.execute_reply.started": "2023-01-26T16:03:57.176382Z"
    },
    "papermill": {
     "duration": 0.035177,
     "end_time": "2023-01-26T16:19:00.128677",
     "exception": false,
     "start_time": "2023-01-26T16:19:00.093500",
     "status": "completed"
    },
    "tags": [
     "parameters"
    ]
   },
   "outputs": [],
   "source": [
    "sleeping_seconds = 5"
   ]
  },
  {
   "cell_type": "markdown",
   "id": "ea6ff4cf-cea6-420e-b190-5979156b5fed",
   "metadata": {
    "papermill": {
     "duration": 0.030088,
     "end_time": "2023-01-26T16:19:00.191257",
     "exception": false,
     "start_time": "2023-01-26T16:19:00.161169",
     "status": "completed"
    },
    "tags": []
   },
   "source": [
    "## Model"
   ]
  },
  {
   "cell_type": "markdown",
   "id": "57cc3ca7-a5a2-4ee9-bee0-61c593255eb5",
   "metadata": {
    "papermill": {
     "duration": 0.032396,
     "end_time": "2023-01-26T16:19:00.263130",
     "exception": false,
     "start_time": "2023-01-26T16:19:00.230734",
     "status": "completed"
    },
    "tags": []
   },
   "source": [
    "### Pause notebook execution"
   ]
  },
  {
   "cell_type": "code",
   "execution_count": 3,
   "id": "8bb2bcce-fae7-4095-abc3-a886c8dc24bf",
   "metadata": {
    "execution": {
     "iopub.execute_input": "2023-01-26T16:19:00.333123Z",
     "iopub.status.busy": "2023-01-26T16:19:00.332613Z",
     "iopub.status.idle": "2023-01-26T16:19:05.337519Z",
     "shell.execute_reply": "2023-01-26T16:19:05.337883Z",
     "shell.execute_reply.started": "2023-01-26T16:03:58.243268Z"
    },
    "papermill": {
     "duration": 5.040694,
     "end_time": "2023-01-26T16:19:05.338042",
     "exception": false,
     "start_time": "2023-01-26T16:19:00.297348",
     "status": "completed"
    },
    "tags": []
   },
   "outputs": [],
   "source": [
    "time.sleep(sleeping_seconds)"
   ]
  },
  {
   "cell_type": "markdown",
   "id": "d856dbf2-37a4-4e52-804a-81c3728b99a7",
   "metadata": {
    "papermill": {
     "duration": 0.030646,
     "end_time": "2023-01-26T16:19:05.398753",
     "exception": false,
     "start_time": "2023-01-26T16:19:05.368107",
     "status": "completed"
    },
    "tags": []
   },
   "source": [
    "## Output"
   ]
  },
  {
   "cell_type": "markdown",
   "id": "2c4996fc-6773-4b9b-bf78-b39bc9a88bf2",
   "metadata": {
    "papermill": {
     "duration": 0.033879,
     "end_time": "2023-01-26T16:19:05.466107",
     "exception": false,
     "start_time": "2023-01-26T16:19:05.432228",
     "status": "completed"
    },
    "tags": []
   },
   "source": [
    "### Display result"
   ]
  },
  {
   "cell_type": "code",
   "execution_count": 4,
   "id": "d26d8cee-8e57-4aab-b621-14f82e5010a5",
   "metadata": {
    "execution": {
     "iopub.execute_input": "2023-01-26T16:19:05.532461Z",
     "iopub.status.busy": "2023-01-26T16:19:05.531834Z",
     "iopub.status.idle": "2023-01-26T16:19:05.533924Z",
     "shell.execute_reply": "2023-01-26T16:19:05.534251Z",
     "shell.execute_reply.started": "2023-01-26T16:04:03.252384Z"
    },
    "papermill": {
     "duration": 0.038235,
     "end_time": "2023-01-26T16:19:05.534439",
     "exception": false,
     "start_time": "2023-01-26T16:19:05.496204",
     "status": "completed"
    },
    "tags": []
   },
   "outputs": [
    {
     "name": "stdout",
     "output_type": "stream",
     "text": [
      "Hello World!\n"
     ]
    }
   ],
   "source": [
    "print(\"Hello World!\")"
   ]
  },
  {
   "cell_type": "code",
   "execution_count": null,
   "id": "4c2c9208-8c77-4436-b73e-0af00a2e4d2c",
   "metadata": {
    "papermill": {
     "duration": 0.035478,
     "end_time": "2023-01-26T16:19:05.603014",
     "exception": false,
     "start_time": "2023-01-26T16:19:05.567536",
     "status": "completed"
    },
    "tags": []
   },
   "outputs": [],
   "source": []
  }
 ],
 "metadata": {
  "kernelspec": {
   "display_name": "Python 3",
   "language": "python",
   "name": "python3"
  },
  "language_info": {
   "codemirror_mode": {
    "name": "ipython",
    "version": 3
   },
   "file_extension": ".py",
   "mimetype": "text/x-python",
   "name": "python",
   "nbconvert_exporter": "python",
   "pygments_lexer": "ipython3",
   "version": "3.9.6"
  },
  "papermill": {
   "default_parameters": {},
   "duration": 11.058183,
   "end_time": "2023-01-26T16:19:07.016472",
   "environment_variables": {},
   "exception": null,
   "input_path": "insights/IMO_template.ipynb",
   "output_path": "pipeline_executions/2023-01-26_17-18-23-aabdae3c-1ddd-4bad-898b-4c23deec4013/Distribution.IMO_template.ipynb",
   "parameters": {},
   "start_time": "2023-01-26T16:18:55.958289",
   "version": "2.3.3"
  },
  "widgets": {
   "application/vnd.jupyter.widget-state+json": {
    "state": {},
    "version_major": 2,
    "version_minor": 0
   }
  }
 },
 "nbformat": 4,
 "nbformat_minor": 5
}