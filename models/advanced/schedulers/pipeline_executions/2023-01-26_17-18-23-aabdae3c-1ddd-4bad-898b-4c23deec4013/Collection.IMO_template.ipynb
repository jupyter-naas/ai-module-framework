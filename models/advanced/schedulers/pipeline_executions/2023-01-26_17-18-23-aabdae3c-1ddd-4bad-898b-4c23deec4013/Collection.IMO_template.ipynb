{
 "cells": [
  {
   "cell_type": "markdown",
   "id": "dd66232c-09f1-44bf-8849-0cd5c52f78a6",
   "metadata": {
    "papermill": {
     "duration": 0.031803,
     "end_time": "2023-01-26T16:18:24.648747",
     "exception": false,
     "start_time": "2023-01-26T16:18:24.616944",
     "status": "completed"
    },
    "tags": []
   },
   "source": [
    "<img width=\"10%\" alt=\"Naas\" src=\"https://landen.imgix.net/jtci2pxwjczr/assets/5ice39g4.png?w=160\"/>"
   ]
  },
  {
   "cell_type": "markdown",
   "id": "633951dc-ca87-4032-ad2d-b76a909861bf",
   "metadata": {
    "papermill": {
     "duration": 0.032408,
     "end_time": "2023-01-26T16:18:24.709809",
     "exception": false,
     "start_time": "2023-01-26T16:18:24.677401",
     "status": "completed"
    },
    "tags": []
   },
   "source": [
    "# Demo"
   ]
  },
  {
   "cell_type": "markdown",
   "id": "524d5465-bce2-42f3-8d18-6f821dae07a5",
   "metadata": {
    "papermill": {
     "duration": 0.032194,
     "end_time": "2023-01-26T16:18:24.773769",
     "exception": false,
     "start_time": "2023-01-26T16:18:24.741575",
     "status": "completed"
    },
    "tags": []
   },
   "source": [
    "## Input"
   ]
  },
  {
   "cell_type": "markdown",
   "id": "918e5873-b444-43d4-aacd-852fffb5aceb",
   "metadata": {
    "papermill": {
     "duration": 0.034961,
     "end_time": "2023-01-26T16:18:24.844283",
     "exception": false,
     "start_time": "2023-01-26T16:18:24.809322",
     "status": "completed"
    },
    "tags": []
   },
   "source": [
    "### Import libraries"
   ]
  },
  {
   "cell_type": "code",
   "execution_count": 1,
   "id": "f6585d07-f50b-439a-84a9-4c0061870d29",
   "metadata": {
    "execution": {
     "iopub.execute_input": "2023-01-26T16:18:24.916910Z",
     "iopub.status.busy": "2023-01-26T16:18:24.916424Z",
     "iopub.status.idle": "2023-01-26T16:18:27.417182Z",
     "shell.execute_reply": "2023-01-26T16:18:27.417537Z",
     "shell.execute_reply.started": "2023-01-26T16:03:56.360749Z"
    },
    "papermill": {
     "duration": 2.54032,
     "end_time": "2023-01-26T16:18:27.417749",
     "exception": false,
     "start_time": "2023-01-26T16:18:24.877429",
     "status": "completed"
    },
    "tags": []
   },
   "outputs": [
    {
     "name": "stdout",
     "output_type": "stream",
     "text": [
      "✅ Demo loaded successfully.\n",
      "✅ utils file '/home/ftp/data-product-framework/utils/demo.ipynb' successfully loaded.\n"
     ]
    }
   ],
   "source": [
    "import naas_data_product #load utils notebooks\n",
    "import time"
   ]
  },
  {
   "cell_type": "markdown",
   "id": "8e659ff5-80d3-43c9-8daf-1ae7f8d2a554",
   "metadata": {
    "papermill": {
     "duration": 0.029015,
     "end_time": "2023-01-26T16:18:27.484639",
     "exception": false,
     "start_time": "2023-01-26T16:18:27.455624",
     "status": "completed"
    },
    "tags": []
   },
   "source": [
    "### Setup Variables"
   ]
  },
  {
   "cell_type": "code",
   "execution_count": 2,
   "id": "c1a6eb30-fbb2-465e-a8f9-21baf6a8b547",
   "metadata": {
    "execution": {
     "iopub.execute_input": "2023-01-26T16:18:27.549366Z",
     "iopub.status.busy": "2023-01-26T16:18:27.548748Z",
     "iopub.status.idle": "2023-01-26T16:18:27.550576Z",
     "shell.execute_reply": "2023-01-26T16:18:27.550883Z",
     "shell.execute_reply.started": "2023-01-26T16:03:57.176382Z"
    },
    "papermill": {
     "duration": 0.035221,
     "end_time": "2023-01-26T16:18:27.551030",
     "exception": false,
     "start_time": "2023-01-26T16:18:27.515809",
     "status": "completed"
    },
    "tags": [
     "parameters"
    ]
   },
   "outputs": [],
   "source": [
    "sleeping_seconds = 5"
   ]
  },
  {
   "cell_type": "markdown",
   "id": "ea6ff4cf-cea6-420e-b190-5979156b5fed",
   "metadata": {
    "papermill": {
     "duration": 0.029314,
     "end_time": "2023-01-26T16:18:27.609732",
     "exception": false,
     "start_time": "2023-01-26T16:18:27.580418",
     "status": "completed"
    },
    "tags": []
   },
   "source": [
    "## Model"
   ]
  },
  {
   "cell_type": "markdown",
   "id": "57cc3ca7-a5a2-4ee9-bee0-61c593255eb5",
   "metadata": {
    "papermill": {
     "duration": 0.030717,
     "end_time": "2023-01-26T16:18:27.670763",
     "exception": false,
     "start_time": "2023-01-26T16:18:27.640046",
     "status": "completed"
    },
    "tags": []
   },
   "source": [
    "### Pause notebook execution"
   ]
  },
  {
   "cell_type": "code",
   "execution_count": 3,
   "id": "8bb2bcce-fae7-4095-abc3-a886c8dc24bf",
   "metadata": {
    "execution": {
     "iopub.execute_input": "2023-01-26T16:18:27.732630Z",
     "iopub.status.busy": "2023-01-26T16:18:27.732204Z",
     "iopub.status.idle": "2023-01-26T16:18:32.735419Z",
     "shell.execute_reply": "2023-01-26T16:18:32.734887Z",
     "shell.execute_reply.started": "2023-01-26T16:03:58.243268Z"
    },
    "papermill": {
     "duration": 5.035639,
     "end_time": "2023-01-26T16:18:32.735636",
     "exception": false,
     "start_time": "2023-01-26T16:18:27.699997",
     "status": "completed"
    },
    "tags": []
   },
   "outputs": [],
   "source": [
    "time.sleep(sleeping_seconds)"
   ]
  },
  {
   "cell_type": "markdown",
   "id": "d856dbf2-37a4-4e52-804a-81c3728b99a7",
   "metadata": {
    "papermill": {
     "duration": 0.031871,
     "end_time": "2023-01-26T16:18:32.798322",
     "exception": false,
     "start_time": "2023-01-26T16:18:32.766451",
     "status": "completed"
    },
    "tags": []
   },
   "source": [
    "## Output"
   ]
  },
  {
   "cell_type": "markdown",
   "id": "2c4996fc-6773-4b9b-bf78-b39bc9a88bf2",
   "metadata": {
    "papermill": {
     "duration": 0.032753,
     "end_time": "2023-01-26T16:18:32.865887",
     "exception": false,
     "start_time": "2023-01-26T16:18:32.833134",
     "status": "completed"
    },
    "tags": []
   },
   "source": [
    "### Display result"
   ]
  },
  {
   "cell_type": "code",
   "execution_count": 4,
   "id": "d26d8cee-8e57-4aab-b621-14f82e5010a5",
   "metadata": {
    "execution": {
     "iopub.execute_input": "2023-01-26T16:18:32.931357Z",
     "iopub.status.busy": "2023-01-26T16:18:32.930683Z",
     "iopub.status.idle": "2023-01-26T16:18:32.933543Z",
     "shell.execute_reply": "2023-01-26T16:18:32.933204Z",
     "shell.execute_reply.started": "2023-01-26T16:04:03.252384Z"
    },
    "papermill": {
     "duration": 0.037322,
     "end_time": "2023-01-26T16:18:32.933665",
     "exception": false,
     "start_time": "2023-01-26T16:18:32.896343",
     "status": "completed"
    },
    "tags": []
   },
   "outputs": [
    {
     "name": "stdout",
     "output_type": "stream",
     "text": [
      "Hello World!\n"
     ]
    }
   ],
   "source": [
    "print(\"Hello World!\")"
   ]
  },
  {
   "cell_type": "code",
   "execution_count": null,
   "id": "4c2c9208-8c77-4436-b73e-0af00a2e4d2c",
   "metadata": {
    "papermill": {
     "duration": 0.032769,
     "end_time": "2023-01-26T16:18:32.998177",
     "exception": false,
     "start_time": "2023-01-26T16:18:32.965408",
     "status": "completed"
    },
    "tags": []
   },
   "outputs": [],
   "source": []
  }
 ],
 "metadata": {
  "kernelspec": {
   "display_name": "Python 3",
   "language": "python",
   "name": "python3"
  },
  "language_info": {
   "codemirror_mode": {
    "name": "ipython",
    "version": 3
   },
   "file_extension": ".py",
   "mimetype": "text/x-python",
   "name": "python",
   "nbconvert_exporter": "python",
   "pygments_lexer": "ipython3",
   "version": "3.9.6"
  },
  "papermill": {
   "default_parameters": {},
   "duration": 11.086128,
   "end_time": "2023-01-26T16:18:34.279657",
   "environment_variables": {},
   "exception": null,
   "input_path": "bronze/IMO_template.ipynb",
   "output_path": "pipeline_executions/2023-01-26_17-18-23-aabdae3c-1ddd-4bad-898b-4c23deec4013/Collection.IMO_template.ipynb",
   "parameters": {},
   "start_time": "2023-01-26T16:18:23.193529",
   "version": "2.3.3"
  },
  "widgets": {
   "application/vnd.jupyter.widget-state+json": {
    "state": {},
    "version_major": 2,
    "version_minor": 0
   }
  }
 },
 "nbformat": 4,
 "nbformat_minor": 5
}