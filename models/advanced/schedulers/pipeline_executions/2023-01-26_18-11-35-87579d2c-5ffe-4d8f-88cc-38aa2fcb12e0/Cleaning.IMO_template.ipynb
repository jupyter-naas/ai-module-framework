{
 "cells": [
  {
   "cell_type": "markdown",
   "id": "dd66232c-09f1-44bf-8849-0cd5c52f78a6",
   "metadata": {
    "papermill": {
     "duration": 0.031355,
     "end_time": "2023-01-26T17:11:47.660848",
     "exception": false,
     "start_time": "2023-01-26T17:11:47.629493",
     "status": "completed"
    },
    "tags": []
   },
   "source": [
    "<img width=\"10%\" alt=\"Naas\" src=\"https://landen.imgix.net/jtci2pxwjczr/assets/5ice39g4.png?w=160\"/>"
   ]
  },
  {
   "cell_type": "markdown",
   "id": "633951dc-ca87-4032-ad2d-b76a909861bf",
   "metadata": {
    "papermill": {
     "duration": 0.028838,
     "end_time": "2023-01-26T17:11:47.719431",
     "exception": false,
     "start_time": "2023-01-26T17:11:47.690593",
     "status": "completed"
    },
    "tags": []
   },
   "source": [
    "# Demo"
   ]
  },
  {
   "cell_type": "markdown",
   "id": "524d5465-bce2-42f3-8d18-6f821dae07a5",
   "metadata": {
    "papermill": {
     "duration": 0.031236,
     "end_time": "2023-01-26T17:11:47.784655",
     "exception": false,
     "start_time": "2023-01-26T17:11:47.753419",
     "status": "completed"
    },
    "tags": []
   },
   "source": [
    "## Input"
   ]
  },
  {
   "cell_type": "markdown",
   "id": "918e5873-b444-43d4-aacd-852fffb5aceb",
   "metadata": {
    "papermill": {
     "duration": 0.029884,
     "end_time": "2023-01-26T17:11:47.845272",
     "exception": false,
     "start_time": "2023-01-26T17:11:47.815388",
     "status": "completed"
    },
    "tags": []
   },
   "source": [
    "### Import libraries"
   ]
  },
  {
   "cell_type": "code",
   "execution_count": 1,
   "id": "f6585d07-f50b-439a-84a9-4c0061870d29",
   "metadata": {
    "execution": {
     "iopub.execute_input": "2023-01-26T17:11:47.913360Z",
     "iopub.status.busy": "2023-01-26T17:11:47.912945Z",
     "iopub.status.idle": "2023-01-26T17:11:50.287268Z",
     "shell.execute_reply": "2023-01-26T17:11:50.287813Z",
     "shell.execute_reply.started": "2023-01-26T16:03:56.360749Z"
    },
    "papermill": {
     "duration": 2.411026,
     "end_time": "2023-01-26T17:11:50.288162",
     "exception": false,
     "start_time": "2023-01-26T17:11:47.877136",
     "status": "completed"
    },
    "tags": []
   },
   "outputs": [
    {
     "name": "stdout",
     "output_type": "stream",
     "text": [
      "✅ Demo loaded successfully.\n",
      "✅ utils file '/home/ftp/data-product-framework/utils/demo.ipynb' successfully loaded.\n"
     ]
    }
   ],
   "source": [
    "import naas_data_product #load utils notebooks\n",
    "import time"
   ]
  },
  {
   "cell_type": "markdown",
   "id": "8e659ff5-80d3-43c9-8daf-1ae7f8d2a554",
   "metadata": {
    "papermill": {
     "duration": 0.031595,
     "end_time": "2023-01-26T17:11:50.358778",
     "exception": false,
     "start_time": "2023-01-26T17:11:50.327183",
     "status": "completed"
    },
    "tags": []
   },
   "source": [
    "### Setup Variables"
   ]
  },
  {
   "cell_type": "code",
   "execution_count": 2,
   "id": "c1a6eb30-fbb2-465e-a8f9-21baf6a8b547",
   "metadata": {
    "execution": {
     "iopub.execute_input": "2023-01-26T17:11:50.429808Z",
     "iopub.status.busy": "2023-01-26T17:11:50.429274Z",
     "iopub.status.idle": "2023-01-26T17:11:50.431133Z",
     "shell.execute_reply": "2023-01-26T17:11:50.431430Z",
     "shell.execute_reply.started": "2023-01-26T16:03:57.176382Z"
    },
    "papermill": {
     "duration": 0.034965,
     "end_time": "2023-01-26T17:11:50.431619",
     "exception": false,
     "start_time": "2023-01-26T17:11:50.396654",
     "status": "completed"
    },
    "tags": [
     "parameters"
    ]
   },
   "outputs": [],
   "source": [
    "sleeping_seconds = 5"
   ]
  },
  {
   "cell_type": "markdown",
   "id": "ea6ff4cf-cea6-420e-b190-5979156b5fed",
   "metadata": {
    "papermill": {
     "duration": 0.038923,
     "end_time": "2023-01-26T17:11:50.501271",
     "exception": false,
     "start_time": "2023-01-26T17:11:50.462348",
     "status": "completed"
    },
    "tags": []
   },
   "source": [
    "## Model"
   ]
  },
  {
   "cell_type": "markdown",
   "id": "57cc3ca7-a5a2-4ee9-bee0-61c593255eb5",
   "metadata": {
    "papermill": {
     "duration": 0.03179,
     "end_time": "2023-01-26T17:11:50.561425",
     "exception": false,
     "start_time": "2023-01-26T17:11:50.529635",
     "status": "completed"
    },
    "tags": []
   },
   "source": [
    "### Pause notebook execution"
   ]
  },
  {
   "cell_type": "code",
   "execution_count": 3,
   "id": "8bb2bcce-fae7-4095-abc3-a886c8dc24bf",
   "metadata": {
    "execution": {
     "iopub.execute_input": "2023-01-26T17:11:50.626428Z",
     "iopub.status.busy": "2023-01-26T17:11:50.626013Z",
     "iopub.status.idle": "2023-01-26T17:11:55.632799Z",
     "shell.execute_reply": "2023-01-26T17:11:55.632142Z",
     "shell.execute_reply.started": "2023-01-26T16:03:58.243268Z"
    },
    "papermill": {
     "duration": 5.041035,
     "end_time": "2023-01-26T17:11:55.632988",
     "exception": false,
     "start_time": "2023-01-26T17:11:50.591953",
     "status": "completed"
    },
    "tags": []
   },
   "outputs": [],
   "source": [
    "time.sleep(sleeping_seconds)"
   ]
  },
  {
   "cell_type": "markdown",
   "id": "d856dbf2-37a4-4e52-804a-81c3728b99a7",
   "metadata": {
    "papermill": {
     "duration": 0.042431,
     "end_time": "2023-01-26T17:11:55.706747",
     "exception": false,
     "start_time": "2023-01-26T17:11:55.664316",
     "status": "completed"
    },
    "tags": []
   },
   "source": [
    "## Output"
   ]
  },
  {
   "cell_type": "markdown",
   "id": "2c4996fc-6773-4b9b-bf78-b39bc9a88bf2",
   "metadata": {
    "papermill": {
     "duration": 0.030351,
     "end_time": "2023-01-26T17:11:55.771707",
     "exception": false,
     "start_time": "2023-01-26T17:11:55.741356",
     "status": "completed"
    },
    "tags": []
   },
   "source": [
    "### Display result"
   ]
  },
  {
   "cell_type": "code",
   "execution_count": 4,
   "id": "d26d8cee-8e57-4aab-b621-14f82e5010a5",
   "metadata": {
    "execution": {
     "iopub.execute_input": "2023-01-26T17:11:55.835364Z",
     "iopub.status.busy": "2023-01-26T17:11:55.834700Z",
     "iopub.status.idle": "2023-01-26T17:11:55.836832Z",
     "shell.execute_reply": "2023-01-26T17:11:55.837149Z",
     "shell.execute_reply.started": "2023-01-26T16:04:03.252384Z"
    },
    "papermill": {
     "duration": 0.036097,
     "end_time": "2023-01-26T17:11:55.837294",
     "exception": false,
     "start_time": "2023-01-26T17:11:55.801197",
     "status": "completed"
    },
    "tags": []
   },
   "outputs": [
    {
     "name": "stdout",
     "output_type": "stream",
     "text": [
      "Hello World!\n"
     ]
    }
   ],
   "source": [
    "print(\"Hello World!\")"
   ]
  },
  {
   "cell_type": "code",
   "execution_count": null,
   "id": "4c2c9208-8c77-4436-b73e-0af00a2e4d2c",
   "metadata": {
    "papermill": {
     "duration": 0.030884,
     "end_time": "2023-01-26T17:11:55.906960",
     "exception": false,
     "start_time": "2023-01-26T17:11:55.876076",
     "status": "completed"
    },
    "tags": []
   },
   "outputs": [],
   "source": []
  }
 ],
 "metadata": {
  "kernelspec": {
   "display_name": "Python 3",
   "language": "python",
   "name": "python3"
  },
  "language_info": {
   "codemirror_mode": {
    "name": "ipython",
    "version": 3
   },
   "file_extension": ".py",
   "mimetype": "text/x-python",
   "name": "python",
   "nbconvert_exporter": "python",
   "pygments_lexer": "ipython3",
   "version": "3.9.6"
  },
  "papermill": {
   "default_parameters": {},
   "duration": 11.055871,
   "end_time": "2023-01-26T17:11:57.384040",
   "environment_variables": {},
   "exception": null,
   "input_path": "silver/IMO_template.ipynb",
   "output_path": "pipeline_executions/2023-01-26_18-11-35-87579d2c-5ffe-4d8f-88cc-38aa2fcb12e0/Cleaning.IMO_template.ipynb",
   "parameters": {},
   "start_time": "2023-01-26T17:11:46.328169",
   "version": "2.3.3"
  },
  "widgets": {
   "application/vnd.jupyter.widget-state+json": {
    "state": {},
    "version_major": 2,
    "version_minor": 0
   }
  }
 },
 "nbformat": 4,
 "nbformat_minor": 5
}