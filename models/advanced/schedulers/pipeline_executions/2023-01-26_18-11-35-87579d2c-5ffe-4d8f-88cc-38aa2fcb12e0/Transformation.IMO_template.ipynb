{
 "cells": [
  {
   "cell_type": "markdown",
   "id": "dd66232c-09f1-44bf-8849-0cd5c52f78a6",
   "metadata": {
    "papermill": {
     "duration": 0.033872,
     "end_time": "2023-01-26T17:11:58.893935",
     "exception": false,
     "start_time": "2023-01-26T17:11:58.860063",
     "status": "completed"
    },
    "tags": []
   },
   "source": [
    "<img width=\"10%\" alt=\"Naas\" src=\"https://landen.imgix.net/jtci2pxwjczr/assets/5ice39g4.png?w=160\"/>"
   ]
  },
  {
   "cell_type": "markdown",
   "id": "633951dc-ca87-4032-ad2d-b76a909861bf",
   "metadata": {
    "papermill": {
     "duration": 0.03066,
     "end_time": "2023-01-26T17:11:58.961759",
     "exception": false,
     "start_time": "2023-01-26T17:11:58.931099",
     "status": "completed"
    },
    "tags": []
   },
   "source": [
    "# Demo"
   ]
  },
  {
   "cell_type": "markdown",
   "id": "524d5465-bce2-42f3-8d18-6f821dae07a5",
   "metadata": {
    "papermill": {
     "duration": 0.032747,
     "end_time": "2023-01-26T17:11:59.024865",
     "exception": false,
     "start_time": "2023-01-26T17:11:58.992118",
     "status": "completed"
    },
    "tags": []
   },
   "source": [
    "## Input"
   ]
  },
  {
   "cell_type": "markdown",
   "id": "918e5873-b444-43d4-aacd-852fffb5aceb",
   "metadata": {
    "papermill": {
     "duration": 0.035255,
     "end_time": "2023-01-26T17:11:59.091467",
     "exception": false,
     "start_time": "2023-01-26T17:11:59.056212",
     "status": "completed"
    },
    "tags": []
   },
   "source": [
    "### Import libraries"
   ]
  },
  {
   "cell_type": "code",
   "execution_count": 1,
   "id": "f6585d07-f50b-439a-84a9-4c0061870d29",
   "metadata": {
    "execution": {
     "iopub.execute_input": "2023-01-26T17:11:59.160469Z",
     "iopub.status.busy": "2023-01-26T17:11:59.159986Z",
     "iopub.status.idle": "2023-01-26T17:12:01.583194Z",
     "shell.execute_reply": "2023-01-26T17:12:01.583511Z",
     "shell.execute_reply.started": "2023-01-26T16:03:56.360749Z"
    },
    "papermill": {
     "duration": 2.461711,
     "end_time": "2023-01-26T17:12:01.583824",
     "exception": false,
     "start_time": "2023-01-26T17:11:59.122113",
     "status": "completed"
    },
    "tags": []
   },
   "outputs": [
    {
     "name": "stdout",
     "output_type": "stream",
     "text": [
      "✅ Demo loaded successfully.\n",
      "✅ utils file '/home/ftp/data-product-framework/utils/demo.ipynb' successfully loaded.\n"
     ]
    }
   ],
   "source": [
    "import naas_data_product #load utils notebooks\n",
    "import time"
   ]
  },
  {
   "cell_type": "markdown",
   "id": "8e659ff5-80d3-43c9-8daf-1ae7f8d2a554",
   "metadata": {
    "papermill": {
     "duration": 0.045889,
     "end_time": "2023-01-26T17:12:01.662689",
     "exception": false,
     "start_time": "2023-01-26T17:12:01.616800",
     "status": "completed"
    },
    "tags": []
   },
   "source": [
    "### Setup Variables"
   ]
  },
  {
   "cell_type": "code",
   "execution_count": 2,
   "id": "c1a6eb30-fbb2-465e-a8f9-21baf6a8b547",
   "metadata": {
    "execution": {
     "iopub.execute_input": "2023-01-26T17:12:01.745556Z",
     "iopub.status.busy": "2023-01-26T17:12:01.743618Z",
     "iopub.status.idle": "2023-01-26T17:12:01.750908Z",
     "shell.execute_reply": "2023-01-26T17:12:01.749730Z",
     "shell.execute_reply.started": "2023-01-26T16:03:57.176382Z"
    },
    "papermill": {
     "duration": 0.056961,
     "end_time": "2023-01-26T17:12:01.751117",
     "exception": false,
     "start_time": "2023-01-26T17:12:01.694156",
     "status": "completed"
    },
    "tags": [
     "parameters"
    ]
   },
   "outputs": [],
   "source": [
    "sleeping_seconds = 5"
   ]
  },
  {
   "cell_type": "markdown",
   "id": "ea6ff4cf-cea6-420e-b190-5979156b5fed",
   "metadata": {
    "papermill": {
     "duration": 0.032301,
     "end_time": "2023-01-26T17:12:01.822460",
     "exception": false,
     "start_time": "2023-01-26T17:12:01.790159",
     "status": "completed"
    },
    "tags": []
   },
   "source": [
    "## Model"
   ]
  },
  {
   "cell_type": "markdown",
   "id": "57cc3ca7-a5a2-4ee9-bee0-61c593255eb5",
   "metadata": {
    "papermill": {
     "duration": 0.031418,
     "end_time": "2023-01-26T17:12:01.887230",
     "exception": false,
     "start_time": "2023-01-26T17:12:01.855812",
     "status": "completed"
    },
    "tags": []
   },
   "source": [
    "### Pause notebook execution"
   ]
  },
  {
   "cell_type": "code",
   "execution_count": 3,
   "id": "8bb2bcce-fae7-4095-abc3-a886c8dc24bf",
   "metadata": {
    "execution": {
     "iopub.execute_input": "2023-01-26T17:12:01.956311Z",
     "iopub.status.busy": "2023-01-26T17:12:01.955870Z",
     "iopub.status.idle": "2023-01-26T17:12:06.963299Z",
     "shell.execute_reply": "2023-01-26T17:12:06.963751Z",
     "shell.execute_reply.started": "2023-01-26T16:03:58.243268Z"
    },
    "papermill": {
     "duration": 5.043087,
     "end_time": "2023-01-26T17:12:06.963950",
     "exception": false,
     "start_time": "2023-01-26T17:12:01.920863",
     "status": "completed"
    },
    "tags": []
   },
   "outputs": [],
   "source": [
    "time.sleep(sleeping_seconds)"
   ]
  },
  {
   "cell_type": "markdown",
   "id": "d856dbf2-37a4-4e52-804a-81c3728b99a7",
   "metadata": {
    "papermill": {
     "duration": 0.032928,
     "end_time": "2023-01-26T17:12:07.030639",
     "exception": false,
     "start_time": "2023-01-26T17:12:06.997711",
     "status": "completed"
    },
    "tags": []
   },
   "source": [
    "## Output"
   ]
  },
  {
   "cell_type": "markdown",
   "id": "2c4996fc-6773-4b9b-bf78-b39bc9a88bf2",
   "metadata": {
    "papermill": {
     "duration": 0.032822,
     "end_time": "2023-01-26T17:12:07.098702",
     "exception": false,
     "start_time": "2023-01-26T17:12:07.065880",
     "status": "completed"
    },
    "tags": []
   },
   "source": [
    "### Display result"
   ]
  },
  {
   "cell_type": "code",
   "execution_count": 4,
   "id": "d26d8cee-8e57-4aab-b621-14f82e5010a5",
   "metadata": {
    "execution": {
     "iopub.execute_input": "2023-01-26T17:12:07.170899Z",
     "iopub.status.busy": "2023-01-26T17:12:07.170437Z",
     "iopub.status.idle": "2023-01-26T17:12:07.172890Z",
     "shell.execute_reply": "2023-01-26T17:12:07.172516Z",
     "shell.execute_reply.started": "2023-01-26T16:04:03.252384Z"
    },
    "papermill": {
     "duration": 0.044516,
     "end_time": "2023-01-26T17:12:07.173011",
     "exception": false,
     "start_time": "2023-01-26T17:12:07.128495",
     "status": "completed"
    },
    "tags": []
   },
   "outputs": [
    {
     "name": "stdout",
     "output_type": "stream",
     "text": [
      "Hello World!\n"
     ]
    }
   ],
   "source": [
    "print(\"Hello World!\")"
   ]
  },
  {
   "cell_type": "code",
   "execution_count": null,
   "id": "4c2c9208-8c77-4436-b73e-0af00a2e4d2c",
   "metadata": {
    "papermill": {
     "duration": 0.032615,
     "end_time": "2023-01-26T17:12:07.237360",
     "exception": false,
     "start_time": "2023-01-26T17:12:07.204745",
     "status": "completed"
    },
    "tags": []
   },
   "outputs": [],
   "source": []
  }
 ],
 "metadata": {
  "kernelspec": {
   "display_name": "Python 3",
   "language": "python",
   "name": "python3"
  },
  "language_info": {
   "codemirror_mode": {
    "name": "ipython",
    "version": 3
   },
   "file_extension": ".py",
   "mimetype": "text/x-python",
   "name": "python",
   "nbconvert_exporter": "python",
   "pygments_lexer": "ipython3",
   "version": "3.9.6"
  },
  "papermill": {
   "default_parameters": {},
   "duration": 11.041655,
   "end_time": "2023-01-26T17:12:08.496226",
   "environment_variables": {},
   "exception": null,
   "input_path": "gold/IMO_template.ipynb",
   "output_path": "pipeline_executions/2023-01-26_18-11-35-87579d2c-5ffe-4d8f-88cc-38aa2fcb12e0/Transformation.IMO_template.ipynb",
   "parameters": {},
   "start_time": "2023-01-26T17:11:57.454571",
   "version": "2.3.3"
  },
  "widgets": {
   "application/vnd.jupyter.widget-state+json": {
    "state": {},
    "version_major": 2,
    "version_minor": 0
   }
  }
 },
 "nbformat": 4,
 "nbformat_minor": 5
}