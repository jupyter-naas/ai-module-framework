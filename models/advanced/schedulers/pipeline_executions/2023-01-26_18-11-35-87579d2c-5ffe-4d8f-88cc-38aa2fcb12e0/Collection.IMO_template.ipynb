{
 "cells": [
  {
   "cell_type": "markdown",
   "id": "dd66232c-09f1-44bf-8849-0cd5c52f78a6",
   "metadata": {
    "papermill": {
     "duration": 0.031672,
     "end_time": "2023-01-26T17:11:36.482086",
     "exception": false,
     "start_time": "2023-01-26T17:11:36.450414",
     "status": "completed"
    },
    "tags": []
   },
   "source": [
    "<img width=\"10%\" alt=\"Naas\" src=\"https://landen.imgix.net/jtci2pxwjczr/assets/5ice39g4.png?w=160\"/>"
   ]
  },
  {
   "cell_type": "markdown",
   "id": "633951dc-ca87-4032-ad2d-b76a909861bf",
   "metadata": {
    "papermill": {
     "duration": 0.028059,
     "end_time": "2023-01-26T17:11:36.542504",
     "exception": false,
     "start_time": "2023-01-26T17:11:36.514445",
     "status": "completed"
    },
    "tags": []
   },
   "source": [
    "# Demo"
   ]
  },
  {
   "cell_type": "markdown",
   "id": "524d5465-bce2-42f3-8d18-6f821dae07a5",
   "metadata": {
    "papermill": {
     "duration": 0.033811,
     "end_time": "2023-01-26T17:11:36.606681",
     "exception": false,
     "start_time": "2023-01-26T17:11:36.572870",
     "status": "completed"
    },
    "tags": []
   },
   "source": [
    "## Input"
   ]
  },
  {
   "cell_type": "markdown",
   "id": "918e5873-b444-43d4-aacd-852fffb5aceb",
   "metadata": {
    "papermill": {
     "duration": 0.034935,
     "end_time": "2023-01-26T17:11:36.670574",
     "exception": false,
     "start_time": "2023-01-26T17:11:36.635639",
     "status": "completed"
    },
    "tags": []
   },
   "source": [
    "### Import libraries"
   ]
  },
  {
   "cell_type": "code",
   "execution_count": 1,
   "id": "f6585d07-f50b-439a-84a9-4c0061870d29",
   "metadata": {
    "execution": {
     "iopub.execute_input": "2023-01-26T17:11:36.741727Z",
     "iopub.status.busy": "2023-01-26T17:11:36.741257Z",
     "iopub.status.idle": "2023-01-26T17:11:39.140845Z",
     "shell.execute_reply": "2023-01-26T17:11:39.141326Z",
     "shell.execute_reply.started": "2023-01-26T16:52:43.468366Z"
    },
    "papermill": {
     "duration": 2.437944,
     "end_time": "2023-01-26T17:11:39.141598",
     "exception": false,
     "start_time": "2023-01-26T17:11:36.703654",
     "status": "completed"
    },
    "tags": []
   },
   "outputs": [
    {
     "name": "stdout",
     "output_type": "stream",
     "text": [
      "✅ Demo loaded successfully.\n",
      "✅ utils file '/home/ftp/data-product-framework/utils/demo.ipynb' successfully loaded.\n"
     ]
    }
   ],
   "source": [
    "import naas_data_product #load utils notebooks\n",
    "import time"
   ]
  },
  {
   "cell_type": "markdown",
   "id": "8e659ff5-80d3-43c9-8daf-1ae7f8d2a554",
   "metadata": {
    "papermill": {
     "duration": 0.031007,
     "end_time": "2023-01-26T17:11:39.202916",
     "exception": false,
     "start_time": "2023-01-26T17:11:39.171909",
     "status": "completed"
    },
    "tags": []
   },
   "source": [
    "### Setup Variables"
   ]
  },
  {
   "cell_type": "code",
   "execution_count": 2,
   "id": "c1a6eb30-fbb2-465e-a8f9-21baf6a8b547",
   "metadata": {
    "execution": {
     "iopub.execute_input": "2023-01-26T17:11:39.279881Z",
     "iopub.status.busy": "2023-01-26T17:11:39.279287Z",
     "iopub.status.idle": "2023-01-26T17:11:39.281148Z",
     "shell.execute_reply": "2023-01-26T17:11:39.281512Z",
     "shell.execute_reply.started": "2023-01-26T16:52:45.918536Z"
    },
    "papermill": {
     "duration": 0.045035,
     "end_time": "2023-01-26T17:11:39.281680",
     "exception": false,
     "start_time": "2023-01-26T17:11:39.236645",
     "status": "completed"
    },
    "tags": [
     "parameters"
    ]
   },
   "outputs": [],
   "source": [
    "# Parameters\n",
    "sleeping_seconds = 5"
   ]
  },
  {
   "cell_type": "markdown",
   "id": "ea6ff4cf-cea6-420e-b190-5979156b5fed",
   "metadata": {
    "papermill": {
     "duration": 0.03507,
     "end_time": "2023-01-26T17:11:39.346509",
     "exception": false,
     "start_time": "2023-01-26T17:11:39.311439",
     "status": "completed"
    },
    "tags": []
   },
   "source": [
    "## Model"
   ]
  },
  {
   "cell_type": "markdown",
   "id": "57cc3ca7-a5a2-4ee9-bee0-61c593255eb5",
   "metadata": {
    "papermill": {
     "duration": 0.031611,
     "end_time": "2023-01-26T17:11:39.409250",
     "exception": false,
     "start_time": "2023-01-26T17:11:39.377639",
     "status": "completed"
    },
    "tags": []
   },
   "source": [
    "### Pause notebook execution"
   ]
  },
  {
   "cell_type": "code",
   "execution_count": 3,
   "id": "8bb2bcce-fae7-4095-abc3-a886c8dc24bf",
   "metadata": {
    "execution": {
     "iopub.execute_input": "2023-01-26T17:11:39.474475Z",
     "iopub.status.busy": "2023-01-26T17:11:39.474042Z",
     "iopub.status.idle": "2023-01-26T17:11:44.480343Z",
     "shell.execute_reply": "2023-01-26T17:11:44.479972Z",
     "shell.execute_reply.started": "2023-01-26T16:52:45.926459Z"
    },
    "papermill": {
     "duration": 5.040961,
     "end_time": "2023-01-26T17:11:44.480661",
     "exception": false,
     "start_time": "2023-01-26T17:11:39.439700",
     "status": "completed"
    },
    "tags": []
   },
   "outputs": [],
   "source": [
    "time.sleep(sleeping_seconds)"
   ]
  },
  {
   "cell_type": "markdown",
   "id": "d856dbf2-37a4-4e52-804a-81c3728b99a7",
   "metadata": {
    "papermill": {
     "duration": 0.032021,
     "end_time": "2023-01-26T17:11:44.548013",
     "exception": false,
     "start_time": "2023-01-26T17:11:44.515992",
     "status": "completed"
    },
    "tags": []
   },
   "source": [
    "## Output"
   ]
  },
  {
   "cell_type": "markdown",
   "id": "2c4996fc-6773-4b9b-bf78-b39bc9a88bf2",
   "metadata": {
    "papermill": {
     "duration": 0.030256,
     "end_time": "2023-01-26T17:11:44.611985",
     "exception": false,
     "start_time": "2023-01-26T17:11:44.581729",
     "status": "completed"
    },
    "tags": []
   },
   "source": [
    "### Display result"
   ]
  },
  {
   "cell_type": "code",
   "execution_count": 4,
   "id": "d26d8cee-8e57-4aab-b621-14f82e5010a5",
   "metadata": {
    "execution": {
     "iopub.execute_input": "2023-01-26T17:11:44.683023Z",
     "iopub.status.busy": "2023-01-26T17:11:44.682283Z",
     "iopub.status.idle": "2023-01-26T17:11:44.685257Z",
     "shell.execute_reply": "2023-01-26T17:11:44.685585Z",
     "shell.execute_reply.started": "2023-01-26T16:52:51.004569Z"
    },
    "papermill": {
     "duration": 0.040848,
     "end_time": "2023-01-26T17:11:44.685725",
     "exception": false,
     "start_time": "2023-01-26T17:11:44.644877",
     "status": "completed"
    },
    "tags": []
   },
   "outputs": [
    {
     "name": "stdout",
     "output_type": "stream",
     "text": [
      "Hello World!\n"
     ]
    }
   ],
   "source": [
    "print(\"Hello World!\")"
   ]
  },
  {
   "cell_type": "code",
   "execution_count": null,
   "id": "4c2c9208-8c77-4436-b73e-0af00a2e4d2c",
   "metadata": {
    "papermill": {
     "duration": 0.031448,
     "end_time": "2023-01-26T17:11:44.749534",
     "exception": false,
     "start_time": "2023-01-26T17:11:44.718086",
     "status": "completed"
    },
    "tags": []
   },
   "outputs": [],
   "source": []
  }
 ],
 "metadata": {
  "kernelspec": {
   "display_name": "Python 3",
   "language": "python",
   "name": "python3"
  },
  "language_info": {
   "codemirror_mode": {
    "name": "ipython",
    "version": 3
   },
   "file_extension": ".py",
   "mimetype": "text/x-python",
   "name": "python",
   "nbconvert_exporter": "python",
   "pygments_lexer": "ipython3",
   "version": "3.9.6"
  },
  "papermill": {
   "default_parameters": {},
   "duration": 11.072729,
   "end_time": "2023-01-26T17:11:46.252951",
   "environment_variables": {},
   "exception": null,
   "input_path": "bronze/IMO_template.ipynb",
   "output_path": "pipeline_executions/2023-01-26_18-11-35-87579d2c-5ffe-4d8f-88cc-38aa2fcb12e0/Collection.IMO_template.ipynb",
   "parameters": {},
   "start_time": "2023-01-26T17:11:35.180222",
   "version": "2.3.3"
  },
  "widgets": {
   "application/vnd.jupyter.widget-state+json": {
    "state": {},
    "version_major": 2,
    "version_minor": 0
   }
  }
 },
 "nbformat": 4,
 "nbformat_minor": 5
}