{
 "cells": [
  {
   "cell_type": "markdown",
   "id": "dd66232c-09f1-44bf-8849-0cd5c52f78a6",
   "metadata": {
    "papermill": {
     "duration": 0.039605,
     "end_time": "2023-01-26T17:12:10.224697",
     "exception": false,
     "start_time": "2023-01-26T17:12:10.185092",
     "status": "completed"
    },
    "tags": []
   },
   "source": [
    "<img width=\"10%\" alt=\"Naas\" src=\"https://landen.imgix.net/jtci2pxwjczr/assets/5ice39g4.png?w=160\"/>"
   ]
  },
  {
   "cell_type": "markdown",
   "id": "633951dc-ca87-4032-ad2d-b76a909861bf",
   "metadata": {
    "papermill": {
     "duration": 0.044497,
     "end_time": "2023-01-26T17:12:10.299327",
     "exception": false,
     "start_time": "2023-01-26T17:12:10.254830",
     "status": "completed"
    },
    "tags": []
   },
   "source": [
    "# Demo"
   ]
  },
  {
   "cell_type": "markdown",
   "id": "524d5465-bce2-42f3-8d18-6f821dae07a5",
   "metadata": {
    "papermill": {
     "duration": 0.030777,
     "end_time": "2023-01-26T17:12:10.369377",
     "exception": false,
     "start_time": "2023-01-26T17:12:10.338600",
     "status": "completed"
    },
    "tags": []
   },
   "source": [
    "## Input"
   ]
  },
  {
   "cell_type": "markdown",
   "id": "918e5873-b444-43d4-aacd-852fffb5aceb",
   "metadata": {
    "papermill": {
     "duration": 0.046613,
     "end_time": "2023-01-26T17:12:10.444646",
     "exception": false,
     "start_time": "2023-01-26T17:12:10.398033",
     "status": "completed"
    },
    "tags": []
   },
   "source": [
    "### Import libraries"
   ]
  },
  {
   "cell_type": "code",
   "execution_count": 1,
   "id": "f6585d07-f50b-439a-84a9-4c0061870d29",
   "metadata": {
    "execution": {
     "iopub.execute_input": "2023-01-26T17:12:10.530598Z",
     "iopub.status.busy": "2023-01-26T17:12:10.529986Z",
     "iopub.status.idle": "2023-01-26T17:12:13.831802Z",
     "shell.execute_reply": "2023-01-26T17:12:13.831325Z",
     "shell.execute_reply.started": "2023-01-26T16:03:56.360749Z"
    },
    "papermill": {
     "duration": 3.350985,
     "end_time": "2023-01-26T17:12:13.831932",
     "exception": false,
     "start_time": "2023-01-26T17:12:10.480947",
     "status": "completed"
    },
    "tags": []
   },
   "outputs": [
    {
     "name": "stdout",
     "output_type": "stream",
     "text": [
      "✅ Demo loaded successfully.\n",
      "✅ utils file '/home/ftp/data-product-framework/utils/demo.ipynb' successfully loaded.\n"
     ]
    }
   ],
   "source": [
    "import naas_data_product #load utils notebooks\n",
    "import time"
   ]
  },
  {
   "cell_type": "markdown",
   "id": "8e659ff5-80d3-43c9-8daf-1ae7f8d2a554",
   "metadata": {
    "papermill": {
     "duration": 0.032253,
     "end_time": "2023-01-26T17:12:13.897829",
     "exception": false,
     "start_time": "2023-01-26T17:12:13.865576",
     "status": "completed"
    },
    "tags": []
   },
   "source": [
    "### Setup Variables"
   ]
  },
  {
   "cell_type": "code",
   "execution_count": 2,
   "id": "c1a6eb30-fbb2-465e-a8f9-21baf6a8b547",
   "metadata": {
    "execution": {
     "iopub.execute_input": "2023-01-26T17:12:13.971269Z",
     "iopub.status.busy": "2023-01-26T17:12:13.970429Z",
     "iopub.status.idle": "2023-01-26T17:12:13.971791Z",
     "shell.execute_reply": "2023-01-26T17:12:13.970916Z",
     "shell.execute_reply.started": "2023-01-26T16:03:57.176382Z"
    },
    "papermill": {
     "duration": 0.041449,
     "end_time": "2023-01-26T17:12:13.971912",
     "exception": false,
     "start_time": "2023-01-26T17:12:13.930463",
     "status": "completed"
    },
    "tags": [
     "parameters"
    ]
   },
   "outputs": [],
   "source": [
    "sleeping_seconds = 5"
   ]
  },
  {
   "cell_type": "markdown",
   "id": "ea6ff4cf-cea6-420e-b190-5979156b5fed",
   "metadata": {
    "papermill": {
     "duration": 0.035167,
     "end_time": "2023-01-26T17:12:14.038523",
     "exception": false,
     "start_time": "2023-01-26T17:12:14.003356",
     "status": "completed"
    },
    "tags": []
   },
   "source": [
    "## Model"
   ]
  },
  {
   "cell_type": "markdown",
   "id": "57cc3ca7-a5a2-4ee9-bee0-61c593255eb5",
   "metadata": {
    "papermill": {
     "duration": 0.032868,
     "end_time": "2023-01-26T17:12:14.105893",
     "exception": false,
     "start_time": "2023-01-26T17:12:14.073025",
     "status": "completed"
    },
    "tags": []
   },
   "source": [
    "### Pause notebook execution"
   ]
  },
  {
   "cell_type": "code",
   "execution_count": 3,
   "id": "8bb2bcce-fae7-4095-abc3-a886c8dc24bf",
   "metadata": {
    "execution": {
     "iopub.execute_input": "2023-01-26T17:12:14.167433Z",
     "iopub.status.busy": "2023-01-26T17:12:14.167003Z",
     "iopub.status.idle": "2023-01-26T17:12:19.170966Z",
     "shell.execute_reply": "2023-01-26T17:12:19.170603Z",
     "shell.execute_reply.started": "2023-01-26T16:03:58.243268Z"
    },
    "papermill": {
     "duration": 5.035077,
     "end_time": "2023-01-26T17:12:19.171103",
     "exception": false,
     "start_time": "2023-01-26T17:12:14.136026",
     "status": "completed"
    },
    "tags": []
   },
   "outputs": [],
   "source": [
    "time.sleep(sleeping_seconds)"
   ]
  },
  {
   "cell_type": "markdown",
   "id": "d856dbf2-37a4-4e52-804a-81c3728b99a7",
   "metadata": {
    "papermill": {
     "duration": 0.044814,
     "end_time": "2023-01-26T17:12:19.254645",
     "exception": false,
     "start_time": "2023-01-26T17:12:19.209831",
     "status": "completed"
    },
    "tags": []
   },
   "source": [
    "## Output"
   ]
  },
  {
   "cell_type": "markdown",
   "id": "2c4996fc-6773-4b9b-bf78-b39bc9a88bf2",
   "metadata": {
    "papermill": {
     "duration": 0.040436,
     "end_time": "2023-01-26T17:12:19.325361",
     "exception": false,
     "start_time": "2023-01-26T17:12:19.284925",
     "status": "completed"
    },
    "tags": []
   },
   "source": [
    "### Display result"
   ]
  },
  {
   "cell_type": "code",
   "execution_count": 4,
   "id": "d26d8cee-8e57-4aab-b621-14f82e5010a5",
   "metadata": {
    "execution": {
     "iopub.execute_input": "2023-01-26T17:12:19.395648Z",
     "iopub.status.busy": "2023-01-26T17:12:19.395136Z",
     "iopub.status.idle": "2023-01-26T17:12:19.397095Z",
     "shell.execute_reply": "2023-01-26T17:12:19.397411Z",
     "shell.execute_reply.started": "2023-01-26T16:04:03.252384Z"
    },
    "papermill": {
     "duration": 0.038553,
     "end_time": "2023-01-26T17:12:19.397548",
     "exception": false,
     "start_time": "2023-01-26T17:12:19.358995",
     "status": "completed"
    },
    "tags": []
   },
   "outputs": [
    {
     "name": "stdout",
     "output_type": "stream",
     "text": [
      "Hello World!\n"
     ]
    }
   ],
   "source": [
    "print(\"Hello World!\")"
   ]
  },
  {
   "cell_type": "code",
   "execution_count": null,
   "id": "4c2c9208-8c77-4436-b73e-0af00a2e4d2c",
   "metadata": {
    "papermill": {
     "duration": 0.0415,
     "end_time": "2023-01-26T17:12:19.493775",
     "exception": false,
     "start_time": "2023-01-26T17:12:19.452275",
     "status": "completed"
    },
    "tags": []
   },
   "outputs": [],
   "source": []
  }
 ],
 "metadata": {
  "kernelspec": {
   "display_name": "Python 3",
   "language": "python",
   "name": "python3"
  },
  "language_info": {
   "codemirror_mode": {
    "name": "ipython",
    "version": 3
   },
   "file_extension": ".py",
   "mimetype": "text/x-python",
   "name": "python",
   "nbconvert_exporter": "python",
   "pygments_lexer": "ipython3",
   "version": "3.9.6"
  },
  "papermill": {
   "default_parameters": {},
   "duration": 11.550134,
   "end_time": "2023-01-26T17:12:20.134276",
   "environment_variables": {},
   "exception": null,
   "input_path": "insights/IMO_template.ipynb",
   "output_path": "pipeline_executions/2023-01-26_18-11-35-87579d2c-5ffe-4d8f-88cc-38aa2fcb12e0/Distribution1.IMO_template.ipynb",
   "parameters": {},
   "start_time": "2023-01-26T17:12:08.584142",
   "version": "2.3.3"
  },
  "widgets": {
   "application/vnd.jupyter.widget-state+json": {
    "state": {},
    "version_major": 2,
    "version_minor": 0
   }
  }
 },
 "nbformat": 4,
 "nbformat_minor": 5
}