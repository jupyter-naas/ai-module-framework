{
 "cells": [
  {
   "cell_type": "markdown",
   "id": "dd66232c-09f1-44bf-8849-0cd5c52f78a6",
   "metadata": {
    "papermill": {
     "duration": 0.037434,
     "end_time": "2023-01-26T16:11:27.680579",
     "exception": false,
     "start_time": "2023-01-26T16:11:27.643145",
     "status": "completed"
    },
    "tags": []
   },
   "source": [
    "<img width=\"10%\" alt=\"Naas\" src=\"https://landen.imgix.net/jtci2pxwjczr/assets/5ice39g4.png?w=160\"/>"
   ]
  },
  {
   "cell_type": "markdown",
   "id": "633951dc-ca87-4032-ad2d-b76a909861bf",
   "metadata": {
    "papermill": {
     "duration": 0.03325,
     "end_time": "2023-01-26T16:11:27.744968",
     "exception": false,
     "start_time": "2023-01-26T16:11:27.711718",
     "status": "completed"
    },
    "tags": []
   },
   "source": [
    "# Demo"
   ]
  },
  {
   "cell_type": "markdown",
   "id": "524d5465-bce2-42f3-8d18-6f821dae07a5",
   "metadata": {
    "papermill": {
     "duration": 0.028899,
     "end_time": "2023-01-26T16:11:27.804764",
     "exception": false,
     "start_time": "2023-01-26T16:11:27.775865",
     "status": "completed"
    },
    "tags": []
   },
   "source": [
    "## Input"
   ]
  },
  {
   "cell_type": "markdown",
   "id": "918e5873-b444-43d4-aacd-852fffb5aceb",
   "metadata": {
    "papermill": {
     "duration": 0.029665,
     "end_time": "2023-01-26T16:11:27.864635",
     "exception": false,
     "start_time": "2023-01-26T16:11:27.834970",
     "status": "completed"
    },
    "tags": []
   },
   "source": [
    "### Import libraries"
   ]
  },
  {
   "cell_type": "code",
   "execution_count": 1,
   "id": "f6585d07-f50b-439a-84a9-4c0061870d29",
   "metadata": {
    "execution": {
     "iopub.execute_input": "2023-01-26T16:11:27.936540Z",
     "iopub.status.busy": "2023-01-26T16:11:27.936049Z",
     "iopub.status.idle": "2023-01-26T16:11:30.308174Z",
     "shell.execute_reply": "2023-01-26T16:11:30.308498Z",
     "shell.execute_reply.started": "2023-01-26T16:03:56.360749Z"
    },
    "papermill": {
     "duration": 2.410525,
     "end_time": "2023-01-26T16:11:30.308716",
     "exception": false,
     "start_time": "2023-01-26T16:11:27.898191",
     "status": "completed"
    },
    "tags": []
   },
   "outputs": [
    {
     "name": "stdout",
     "output_type": "stream",
     "text": [
      "✅ Demo loaded successfully.\n",
      "✅ utils file '/home/ftp/data-product-framework/utils/demo.ipynb' successfully loaded.\n"
     ]
    }
   ],
   "source": [
    "import naas_data_product #load utils notebooks\n",
    "import time"
   ]
  },
  {
   "cell_type": "markdown",
   "id": "8e659ff5-80d3-43c9-8daf-1ae7f8d2a554",
   "metadata": {
    "papermill": {
     "duration": 0.029901,
     "end_time": "2023-01-26T16:11:30.374542",
     "exception": false,
     "start_time": "2023-01-26T16:11:30.344641",
     "status": "completed"
    },
    "tags": []
   },
   "source": [
    "### Setup Variables"
   ]
  },
  {
   "cell_type": "code",
   "execution_count": 2,
   "id": "c1a6eb30-fbb2-465e-a8f9-21baf6a8b547",
   "metadata": {
    "execution": {
     "iopub.execute_input": "2023-01-26T16:11:30.442272Z",
     "iopub.status.busy": "2023-01-26T16:11:30.441594Z",
     "iopub.status.idle": "2023-01-26T16:11:30.443715Z",
     "shell.execute_reply": "2023-01-26T16:11:30.443341Z",
     "shell.execute_reply.started": "2023-01-26T16:03:57.176382Z"
    },
    "papermill": {
     "duration": 0.036504,
     "end_time": "2023-01-26T16:11:30.443844",
     "exception": false,
     "start_time": "2023-01-26T16:11:30.407340",
     "status": "completed"
    },
    "tags": [
     "parameters"
    ]
   },
   "outputs": [],
   "source": [
    "sleeping_seconds = 5"
   ]
  },
  {
   "cell_type": "markdown",
   "id": "ea6ff4cf-cea6-420e-b190-5979156b5fed",
   "metadata": {
    "papermill": {
     "duration": 0.038881,
     "end_time": "2023-01-26T16:11:30.512967",
     "exception": false,
     "start_time": "2023-01-26T16:11:30.474086",
     "status": "completed"
    },
    "tags": []
   },
   "source": [
    "## Model"
   ]
  },
  {
   "cell_type": "markdown",
   "id": "57cc3ca7-a5a2-4ee9-bee0-61c593255eb5",
   "metadata": {
    "papermill": {
     "duration": 0.032107,
     "end_time": "2023-01-26T16:11:30.575178",
     "exception": false,
     "start_time": "2023-01-26T16:11:30.543071",
     "status": "completed"
    },
    "tags": []
   },
   "source": [
    "### Pause notebook execution"
   ]
  },
  {
   "cell_type": "code",
   "execution_count": 3,
   "id": "8bb2bcce-fae7-4095-abc3-a886c8dc24bf",
   "metadata": {
    "execution": {
     "iopub.execute_input": "2023-01-26T16:11:30.649638Z",
     "iopub.status.busy": "2023-01-26T16:11:30.649203Z",
     "iopub.status.idle": "2023-01-26T16:11:35.657840Z",
     "shell.execute_reply": "2023-01-26T16:11:35.657147Z",
     "shell.execute_reply.started": "2023-01-26T16:03:58.243268Z"
    },
    "papermill": {
     "duration": 5.054753,
     "end_time": "2023-01-26T16:11:35.658045",
     "exception": false,
     "start_time": "2023-01-26T16:11:30.603292",
     "status": "completed"
    },
    "tags": []
   },
   "outputs": [],
   "source": [
    "time.sleep(sleeping_seconds)"
   ]
  },
  {
   "cell_type": "markdown",
   "id": "d856dbf2-37a4-4e52-804a-81c3728b99a7",
   "metadata": {
    "papermill": {
     "duration": 0.030887,
     "end_time": "2023-01-26T16:11:35.722870",
     "exception": false,
     "start_time": "2023-01-26T16:11:35.691983",
     "status": "completed"
    },
    "tags": []
   },
   "source": [
    "## Output"
   ]
  },
  {
   "cell_type": "markdown",
   "id": "2c4996fc-6773-4b9b-bf78-b39bc9a88bf2",
   "metadata": {
    "papermill": {
     "duration": 0.032759,
     "end_time": "2023-01-26T16:11:35.787424",
     "exception": false,
     "start_time": "2023-01-26T16:11:35.754665",
     "status": "completed"
    },
    "tags": []
   },
   "source": [
    "### Display result"
   ]
  },
  {
   "cell_type": "code",
   "execution_count": 4,
   "id": "d26d8cee-8e57-4aab-b621-14f82e5010a5",
   "metadata": {
    "execution": {
     "iopub.execute_input": "2023-01-26T16:11:35.853525Z",
     "iopub.status.busy": "2023-01-26T16:11:35.852931Z",
     "iopub.status.idle": "2023-01-26T16:11:35.855257Z",
     "shell.execute_reply": "2023-01-26T16:11:35.855709Z",
     "shell.execute_reply.started": "2023-01-26T16:04:03.252384Z"
    },
    "papermill": {
     "duration": 0.038082,
     "end_time": "2023-01-26T16:11:35.855857",
     "exception": false,
     "start_time": "2023-01-26T16:11:35.817775",
     "status": "completed"
    },
    "tags": []
   },
   "outputs": [
    {
     "name": "stdout",
     "output_type": "stream",
     "text": [
      "Hello World!\n"
     ]
    }
   ],
   "source": [
    "print(\"Hello World!\")"
   ]
  },
  {
   "cell_type": "code",
   "execution_count": null,
   "id": "4c2c9208-8c77-4436-b73e-0af00a2e4d2c",
   "metadata": {
    "papermill": {
     "duration": 0.032829,
     "end_time": "2023-01-26T16:11:35.921084",
     "exception": false,
     "start_time": "2023-01-26T16:11:35.888255",
     "status": "completed"
    },
    "tags": []
   },
   "outputs": [],
   "source": []
  }
 ],
 "metadata": {
  "kernelspec": {
   "display_name": "Python 3",
   "language": "python",
   "name": "python3"
  },
  "language_info": {
   "codemirror_mode": {
    "name": "ipython",
    "version": 3
   },
   "file_extension": ".py",
   "mimetype": "text/x-python",
   "name": "python",
   "nbconvert_exporter": "python",
   "pygments_lexer": "ipython3",
   "version": "3.9.6"
  },
  "papermill": {
   "default_parameters": {},
   "duration": 11.062507,
   "end_time": "2023-01-26T16:11:37.452214",
   "environment_variables": {},
   "exception": null,
   "input_path": "bronze/IMO_template.ipynb",
   "output_path": "pipeline_executions/2023-01-26_17-11-26-92abd3b1-730f-42db-8ff8-b8f5284c225c/Bronze.IMO_template.ipynb",
   "parameters": {},
   "start_time": "2023-01-26T16:11:26.389707",
   "version": "2.3.3"
  },
  "widgets": {
   "application/vnd.jupyter.widget-state+json": {
    "state": {},
    "version_major": 2,
    "version_minor": 0
   }
  }
 },
 "nbformat": 4,
 "nbformat_minor": 5
}