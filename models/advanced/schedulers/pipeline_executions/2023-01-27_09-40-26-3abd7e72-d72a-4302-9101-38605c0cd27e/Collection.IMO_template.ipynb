{
 "cells": [
  {
   "cell_type": "markdown",
   "id": "dd66232c-09f1-44bf-8849-0cd5c52f78a6",
   "metadata": {
    "papermill": {
     "duration": 0.042766,
     "end_time": "2023-01-27T08:40:28.013445",
     "exception": false,
     "start_time": "2023-01-27T08:40:27.970679",
     "status": "completed"
    },
    "tags": []
   },
   "source": [
    "<img width=\"10%\" alt=\"Naas\" src=\"https://landen.imgix.net/jtci2pxwjczr/assets/5ice39g4.png?w=160\"/>"
   ]
  },
  {
   "cell_type": "markdown",
   "id": "633951dc-ca87-4032-ad2d-b76a909861bf",
   "metadata": {
    "papermill": {
     "duration": 0.038326,
     "end_time": "2023-01-27T08:40:28.091437",
     "exception": false,
     "start_time": "2023-01-27T08:40:28.053111",
     "status": "completed"
    },
    "tags": []
   },
   "source": [
    "# Demo"
   ]
  },
  {
   "cell_type": "markdown",
   "id": "524d5465-bce2-42f3-8d18-6f821dae07a5",
   "metadata": {
    "papermill": {
     "duration": 0.04026,
     "end_time": "2023-01-27T08:40:28.177390",
     "exception": false,
     "start_time": "2023-01-27T08:40:28.137130",
     "status": "completed"
    },
    "tags": []
   },
   "source": [
    "## Input"
   ]
  },
  {
   "cell_type": "markdown",
   "id": "918e5873-b444-43d4-aacd-852fffb5aceb",
   "metadata": {
    "papermill": {
     "duration": 0.03662,
     "end_time": "2023-01-27T08:40:28.251248",
     "exception": false,
     "start_time": "2023-01-27T08:40:28.214628",
     "status": "completed"
    },
    "tags": []
   },
   "source": [
    "### Import libraries"
   ]
  },
  {
   "cell_type": "code",
   "execution_count": 1,
   "id": "f6585d07-f50b-439a-84a9-4c0061870d29",
   "metadata": {
    "execution": {
     "iopub.execute_input": "2023-01-27T08:40:28.329336Z",
     "iopub.status.busy": "2023-01-27T08:40:28.328911Z",
     "iopub.status.idle": "2023-01-27T08:40:31.566294Z",
     "shell.execute_reply": "2023-01-27T08:40:31.565862Z",
     "shell.execute_reply.started": "2023-01-26T16:03:56.360749Z"
    },
    "papermill": {
     "duration": 3.277474,
     "end_time": "2023-01-27T08:40:31.566453",
     "exception": false,
     "start_time": "2023-01-27T08:40:28.288979",
     "status": "completed"
    },
    "tags": []
   },
   "outputs": [
    {
     "name": "stdout",
     "output_type": "stream",
     "text": [
      "✅ Demo loaded successfully.\n",
      "✅ utils file '/home/ftp/data-product-framework/utils/demo.ipynb' successfully loaded.\n"
     ]
    }
   ],
   "source": [
    "import naas_data_product #load utils notebooks\n",
    "import time"
   ]
  },
  {
   "cell_type": "markdown",
   "id": "8e659ff5-80d3-43c9-8daf-1ae7f8d2a554",
   "metadata": {
    "papermill": {
     "duration": 0.036164,
     "end_time": "2023-01-27T08:40:31.638955",
     "exception": false,
     "start_time": "2023-01-27T08:40:31.602791",
     "status": "completed"
    },
    "tags": []
   },
   "source": [
    "### Setup Variables"
   ]
  },
  {
   "cell_type": "code",
   "execution_count": 2,
   "id": "c1a6eb30-fbb2-465e-a8f9-21baf6a8b547",
   "metadata": {
    "execution": {
     "iopub.execute_input": "2023-01-27T08:40:31.722712Z",
     "iopub.status.busy": "2023-01-27T08:40:31.722127Z",
     "iopub.status.idle": "2023-01-27T08:40:31.724293Z",
     "shell.execute_reply": "2023-01-27T08:40:31.723954Z",
     "shell.execute_reply.started": "2023-01-26T16:03:57.176382Z"
    },
    "papermill": {
     "duration": 0.042161,
     "end_time": "2023-01-27T08:40:31.724417",
     "exception": false,
     "start_time": "2023-01-27T08:40:31.682256",
     "status": "completed"
    },
    "tags": [
     "parameters"
    ]
   },
   "outputs": [],
   "source": [
    "sleeping_seconds = 5"
   ]
  },
  {
   "cell_type": "code",
   "execution_count": 3,
   "id": "abacc25a",
   "metadata": {
    "execution": {
     "iopub.execute_input": "2023-01-27T08:40:31.803534Z",
     "iopub.status.busy": "2023-01-27T08:40:31.802971Z",
     "iopub.status.idle": "2023-01-27T08:40:31.804749Z",
     "shell.execute_reply": "2023-01-27T08:40:31.805080Z"
    },
    "papermill": {
     "duration": 0.042951,
     "end_time": "2023-01-27T08:40:31.805221",
     "exception": false,
     "start_time": "2023-01-27T08:40:31.762270",
     "status": "completed"
    },
    "tags": [
     "injected-parameters"
    ]
   },
   "outputs": [],
   "source": [
    "# Parameters\n",
    "sleeping_seconds = 5\n"
   ]
  },
  {
   "cell_type": "markdown",
   "id": "ea6ff4cf-cea6-420e-b190-5979156b5fed",
   "metadata": {
    "papermill": {
     "duration": 0.035444,
     "end_time": "2023-01-27T08:40:31.889548",
     "exception": false,
     "start_time": "2023-01-27T08:40:31.854104",
     "status": "completed"
    },
    "tags": []
   },
   "source": [
    "## Model"
   ]
  },
  {
   "cell_type": "markdown",
   "id": "57cc3ca7-a5a2-4ee9-bee0-61c593255eb5",
   "metadata": {
    "papermill": {
     "duration": 0.035339,
     "end_time": "2023-01-27T08:40:31.961496",
     "exception": false,
     "start_time": "2023-01-27T08:40:31.926157",
     "status": "completed"
    },
    "tags": []
   },
   "source": [
    "### Pause notebook execution"
   ]
  },
  {
   "cell_type": "code",
   "execution_count": 4,
   "id": "8bb2bcce-fae7-4095-abc3-a886c8dc24bf",
   "metadata": {
    "execution": {
     "iopub.execute_input": "2023-01-27T08:40:32.055239Z",
     "iopub.status.busy": "2023-01-27T08:40:32.054776Z",
     "iopub.status.idle": "2023-01-27T08:40:37.059736Z",
     "shell.execute_reply": "2023-01-27T08:40:37.059278Z",
     "shell.execute_reply.started": "2023-01-26T16:03:58.243268Z"
    },
    "papermill": {
     "duration": 5.052261,
     "end_time": "2023-01-27T08:40:37.059874",
     "exception": false,
     "start_time": "2023-01-27T08:40:32.007613",
     "status": "completed"
    },
    "tags": []
   },
   "outputs": [],
   "source": [
    "time.sleep(sleeping_seconds)"
   ]
  },
  {
   "cell_type": "markdown",
   "id": "d856dbf2-37a4-4e52-804a-81c3728b99a7",
   "metadata": {
    "papermill": {
     "duration": 0.037412,
     "end_time": "2023-01-27T08:40:37.134776",
     "exception": false,
     "start_time": "2023-01-27T08:40:37.097364",
     "status": "completed"
    },
    "tags": []
   },
   "source": [
    "## Output"
   ]
  },
  {
   "cell_type": "markdown",
   "id": "2c4996fc-6773-4b9b-bf78-b39bc9a88bf2",
   "metadata": {
    "papermill": {
     "duration": 0.038051,
     "end_time": "2023-01-27T08:40:37.210707",
     "exception": false,
     "start_time": "2023-01-27T08:40:37.172656",
     "status": "completed"
    },
    "tags": []
   },
   "source": [
    "### Display result"
   ]
  },
  {
   "cell_type": "code",
   "execution_count": 5,
   "id": "d26d8cee-8e57-4aab-b621-14f82e5010a5",
   "metadata": {
    "execution": {
     "iopub.execute_input": "2023-01-27T08:40:37.299825Z",
     "iopub.status.busy": "2023-01-27T08:40:37.299265Z",
     "iopub.status.idle": "2023-01-27T08:40:37.301290Z",
     "shell.execute_reply": "2023-01-27T08:40:37.301636Z",
     "shell.execute_reply.started": "2023-01-26T16:04:03.252384Z"
    },
    "papermill": {
     "duration": 0.050049,
     "end_time": "2023-01-27T08:40:37.301782",
     "exception": false,
     "start_time": "2023-01-27T08:40:37.251733",
     "status": "completed"
    },
    "tags": []
   },
   "outputs": [
    {
     "name": "stdout",
     "output_type": "stream",
     "text": [
      "Hello World!\n"
     ]
    }
   ],
   "source": [
    "print(\"Hello World!\")"
   ]
  },
  {
   "cell_type": "code",
   "execution_count": null,
   "id": "4c2c9208-8c77-4436-b73e-0af00a2e4d2c",
   "metadata": {
    "papermill": {
     "duration": 0.03602,
     "end_time": "2023-01-27T08:40:37.376266",
     "exception": false,
     "start_time": "2023-01-27T08:40:37.340246",
     "status": "completed"
    },
    "tags": []
   },
   "outputs": [],
   "source": []
  }
 ],
 "metadata": {
  "kernelspec": {
   "display_name": "Python 3",
   "language": "python",
   "name": "python3"
  },
  "language_info": {
   "codemirror_mode": {
    "name": "ipython",
    "version": 3
   },
   "file_extension": ".py",
   "mimetype": "text/x-python",
   "name": "python",
   "nbconvert_exporter": "python",
   "pygments_lexer": "ipython3",
   "version": "3.9.6"
  },
  "papermill": {
   "default_parameters": {},
   "duration": 11.606127,
   "end_time": "2023-01-27T08:40:37.821113",
   "environment_variables": {},
   "exception": null,
   "input_path": "bronze/IMO_template.ipynb",
   "output_path": "pipeline_executions/2023-01-27_09-40-26-3abd7e72-d72a-4302-9101-38605c0cd27e/Collection.IMO_template.ipynb",
   "parameters": {
    "sleeping_seconds": 5
   },
   "start_time": "2023-01-27T08:40:26.214986",
   "version": "2.3.3"
  },
  "widgets": {
   "application/vnd.jupyter.widget-state+json": {
    "state": {},
    "version_major": 2,
    "version_minor": 0
   }
  }
 },
 "nbformat": 4,
 "nbformat_minor": 5
}