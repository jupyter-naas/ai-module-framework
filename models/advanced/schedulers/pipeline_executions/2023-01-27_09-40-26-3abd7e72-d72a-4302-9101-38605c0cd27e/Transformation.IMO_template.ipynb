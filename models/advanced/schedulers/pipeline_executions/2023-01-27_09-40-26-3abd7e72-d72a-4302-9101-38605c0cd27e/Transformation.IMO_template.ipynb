{
 "cells": [
  {
   "cell_type": "markdown",
   "id": "dd66232c-09f1-44bf-8849-0cd5c52f78a6",
   "metadata": {
    "papermill": {
     "duration": 0.042448,
     "end_time": "2023-01-27T08:40:47.488507",
     "exception": false,
     "start_time": "2023-01-27T08:40:47.446059",
     "status": "completed"
    },
    "tags": []
   },
   "source": [
    "<img width=\"10%\" alt=\"Naas\" src=\"https://landen.imgix.net/jtci2pxwjczr/assets/5ice39g4.png?w=160\"/>"
   ]
  },
  {
   "cell_type": "markdown",
   "id": "633951dc-ca87-4032-ad2d-b76a909861bf",
   "metadata": {
    "papermill": {
     "duration": 0.034937,
     "end_time": "2023-01-27T08:40:47.576294",
     "exception": false,
     "start_time": "2023-01-27T08:40:47.541357",
     "status": "completed"
    },
    "tags": []
   },
   "source": [
    "# Demo"
   ]
  },
  {
   "cell_type": "markdown",
   "id": "524d5465-bce2-42f3-8d18-6f821dae07a5",
   "metadata": {
    "papermill": {
     "duration": 0.035573,
     "end_time": "2023-01-27T08:40:47.648475",
     "exception": false,
     "start_time": "2023-01-27T08:40:47.612902",
     "status": "completed"
    },
    "tags": []
   },
   "source": [
    "## Input"
   ]
  },
  {
   "cell_type": "markdown",
   "id": "918e5873-b444-43d4-aacd-852fffb5aceb",
   "metadata": {
    "papermill": {
     "duration": 0.040397,
     "end_time": "2023-01-27T08:40:47.734142",
     "exception": false,
     "start_time": "2023-01-27T08:40:47.693745",
     "status": "completed"
    },
    "tags": []
   },
   "source": [
    "### Import libraries"
   ]
  },
  {
   "cell_type": "code",
   "execution_count": 1,
   "id": "f6585d07-f50b-439a-84a9-4c0061870d29",
   "metadata": {
    "execution": {
     "iopub.execute_input": "2023-01-27T08:40:47.820658Z",
     "iopub.status.busy": "2023-01-27T08:40:47.820231Z",
     "iopub.status.idle": "2023-01-27T08:40:51.043737Z",
     "shell.execute_reply": "2023-01-27T08:40:51.043144Z",
     "shell.execute_reply.started": "2023-01-26T16:03:56.360749Z"
    },
    "papermill": {
     "duration": 3.267612,
     "end_time": "2023-01-27T08:40:51.043884",
     "exception": false,
     "start_time": "2023-01-27T08:40:47.776272",
     "status": "completed"
    },
    "tags": []
   },
   "outputs": [
    {
     "name": "stdout",
     "output_type": "stream",
     "text": [
      "✅ Demo loaded successfully.\n",
      "✅ utils file '/home/ftp/data-product-framework/utils/demo.ipynb' successfully loaded.\n"
     ]
    }
   ],
   "source": [
    "import naas_data_product #load utils notebooks\n",
    "import time"
   ]
  },
  {
   "cell_type": "markdown",
   "id": "8e659ff5-80d3-43c9-8daf-1ae7f8d2a554",
   "metadata": {
    "papermill": {
     "duration": 0.036873,
     "end_time": "2023-01-27T08:40:51.118999",
     "exception": false,
     "start_time": "2023-01-27T08:40:51.082126",
     "status": "completed"
    },
    "tags": []
   },
   "source": [
    "### Setup Variables"
   ]
  },
  {
   "cell_type": "code",
   "execution_count": 2,
   "id": "c1a6eb30-fbb2-465e-a8f9-21baf6a8b547",
   "metadata": {
    "execution": {
     "iopub.execute_input": "2023-01-27T08:40:51.198281Z",
     "iopub.status.busy": "2023-01-27T08:40:51.197717Z",
     "iopub.status.idle": "2023-01-27T08:40:51.199951Z",
     "shell.execute_reply": "2023-01-27T08:40:51.199539Z",
     "shell.execute_reply.started": "2023-01-26T16:03:57.176382Z"
    },
    "papermill": {
     "duration": 0.042751,
     "end_time": "2023-01-27T08:40:51.200076",
     "exception": false,
     "start_time": "2023-01-27T08:40:51.157325",
     "status": "completed"
    },
    "tags": [
     "parameters"
    ]
   },
   "outputs": [],
   "source": [
    "sleeping_seconds = 5"
   ]
  },
  {
   "cell_type": "code",
   "execution_count": 3,
   "id": "61adb9a3",
   "metadata": {
    "execution": {
     "iopub.execute_input": "2023-01-27T08:40:51.278645Z",
     "iopub.status.busy": "2023-01-27T08:40:51.278037Z",
     "iopub.status.idle": "2023-01-27T08:40:51.280296Z",
     "shell.execute_reply": "2023-01-27T08:40:51.279920Z"
    },
    "papermill": {
     "duration": 0.045466,
     "end_time": "2023-01-27T08:40:51.280417",
     "exception": false,
     "start_time": "2023-01-27T08:40:51.234951",
     "status": "completed"
    },
    "tags": [
     "injected-parameters"
    ]
   },
   "outputs": [],
   "source": [
    "# Parameters\n",
    "sleeping_seconds = 3\n"
   ]
  },
  {
   "cell_type": "markdown",
   "id": "ea6ff4cf-cea6-420e-b190-5979156b5fed",
   "metadata": {
    "papermill": {
     "duration": 0.038038,
     "end_time": "2023-01-27T08:40:51.356124",
     "exception": false,
     "start_time": "2023-01-27T08:40:51.318086",
     "status": "completed"
    },
    "tags": []
   },
   "source": [
    "## Model"
   ]
  },
  {
   "cell_type": "markdown",
   "id": "57cc3ca7-a5a2-4ee9-bee0-61c593255eb5",
   "metadata": {
    "papermill": {
     "duration": 0.036193,
     "end_time": "2023-01-27T08:40:51.434510",
     "exception": false,
     "start_time": "2023-01-27T08:40:51.398317",
     "status": "completed"
    },
    "tags": []
   },
   "source": [
    "### Pause notebook execution"
   ]
  },
  {
   "cell_type": "code",
   "execution_count": 4,
   "id": "8bb2bcce-fae7-4095-abc3-a886c8dc24bf",
   "metadata": {
    "execution": {
     "iopub.execute_input": "2023-01-27T08:40:51.511391Z",
     "iopub.status.busy": "2023-01-27T08:40:51.510969Z",
     "iopub.status.idle": "2023-01-27T08:40:54.515247Z",
     "shell.execute_reply": "2023-01-27T08:40:54.514509Z",
     "shell.execute_reply.started": "2023-01-26T16:03:58.243268Z"
    },
    "papermill": {
     "duration": 3.045277,
     "end_time": "2023-01-27T08:40:54.515387",
     "exception": false,
     "start_time": "2023-01-27T08:40:51.470110",
     "status": "completed"
    },
    "tags": []
   },
   "outputs": [],
   "source": [
    "time.sleep(sleeping_seconds)"
   ]
  },
  {
   "cell_type": "markdown",
   "id": "d856dbf2-37a4-4e52-804a-81c3728b99a7",
   "metadata": {
    "papermill": {
     "duration": 0.037445,
     "end_time": "2023-01-27T08:40:54.591005",
     "exception": false,
     "start_time": "2023-01-27T08:40:54.553560",
     "status": "completed"
    },
    "tags": []
   },
   "source": [
    "## Output"
   ]
  },
  {
   "cell_type": "markdown",
   "id": "2c4996fc-6773-4b9b-bf78-b39bc9a88bf2",
   "metadata": {
    "papermill": {
     "duration": 0.036725,
     "end_time": "2023-01-27T08:40:54.670214",
     "exception": false,
     "start_time": "2023-01-27T08:40:54.633489",
     "status": "completed"
    },
    "tags": []
   },
   "source": [
    "### Display result"
   ]
  },
  {
   "cell_type": "code",
   "execution_count": 5,
   "id": "d26d8cee-8e57-4aab-b621-14f82e5010a5",
   "metadata": {
    "execution": {
     "iopub.execute_input": "2023-01-27T08:40:54.746828Z",
     "iopub.status.busy": "2023-01-27T08:40:54.746357Z",
     "iopub.status.idle": "2023-01-27T08:40:54.748809Z",
     "shell.execute_reply": "2023-01-27T08:40:54.748427Z",
     "shell.execute_reply.started": "2023-01-26T16:04:03.252384Z"
    },
    "papermill": {
     "duration": 0.042452,
     "end_time": "2023-01-27T08:40:54.748933",
     "exception": false,
     "start_time": "2023-01-27T08:40:54.706481",
     "status": "completed"
    },
    "tags": []
   },
   "outputs": [
    {
     "name": "stdout",
     "output_type": "stream",
     "text": [
      "Hello World!\n"
     ]
    }
   ],
   "source": [
    "print(\"Hello World!\")"
   ]
  },
  {
   "cell_type": "code",
   "execution_count": null,
   "id": "4c2c9208-8c77-4436-b73e-0af00a2e4d2c",
   "metadata": {
    "papermill": {
     "duration": 0.040457,
     "end_time": "2023-01-27T08:40:54.825733",
     "exception": false,
     "start_time": "2023-01-27T08:40:54.785276",
     "status": "completed"
    },
    "tags": []
   },
   "outputs": [],
   "source": []
  }
 ],
 "metadata": {
  "kernelspec": {
   "display_name": "Python 3",
   "language": "python",
   "name": "python3"
  },
  "language_info": {
   "codemirror_mode": {
    "name": "ipython",
    "version": 3
   },
   "file_extension": ".py",
   "mimetype": "text/x-python",
   "name": "python",
   "nbconvert_exporter": "python",
   "pygments_lexer": "ipython3",
   "version": "3.9.6"
  },
  "papermill": {
   "default_parameters": {},
   "duration": 9.502459,
   "end_time": "2023-01-27T08:40:55.377019",
   "environment_variables": {},
   "exception": null,
   "input_path": "gold/IMO_template.ipynb",
   "output_path": "pipeline_executions/2023-01-27_09-40-26-3abd7e72-d72a-4302-9101-38605c0cd27e/Transformation.IMO_template.ipynb",
   "parameters": {
    "sleeping_seconds": 3
   },
   "start_time": "2023-01-27T08:40:45.874560",
   "version": "2.3.3"
  },
  "widgets": {
   "application/vnd.jupyter.widget-state+json": {
    "state": {},
    "version_major": 2,
    "version_minor": 0
   }
  }
 },
 "nbformat": 4,
 "nbformat_minor": 5
}