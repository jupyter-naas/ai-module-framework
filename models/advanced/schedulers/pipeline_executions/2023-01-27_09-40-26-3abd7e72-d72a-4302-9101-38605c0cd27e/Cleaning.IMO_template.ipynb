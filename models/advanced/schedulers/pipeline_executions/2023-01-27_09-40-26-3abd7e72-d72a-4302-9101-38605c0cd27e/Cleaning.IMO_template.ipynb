{
 "cells": [
  {
   "cell_type": "markdown",
   "id": "dd66232c-09f1-44bf-8849-0cd5c52f78a6",
   "metadata": {
    "papermill": {
     "duration": 0.040072,
     "end_time": "2023-01-27T08:40:39.534151",
     "exception": false,
     "start_time": "2023-01-27T08:40:39.494079",
     "status": "completed"
    },
    "tags": []
   },
   "source": [
    "<img width=\"10%\" alt=\"Naas\" src=\"https://landen.imgix.net/jtci2pxwjczr/assets/5ice39g4.png?w=160\"/>"
   ]
  },
  {
   "cell_type": "markdown",
   "id": "633951dc-ca87-4032-ad2d-b76a909861bf",
   "metadata": {
    "papermill": {
     "duration": 0.037769,
     "end_time": "2023-01-27T08:40:39.607278",
     "exception": false,
     "start_time": "2023-01-27T08:40:39.569509",
     "status": "completed"
    },
    "tags": []
   },
   "source": [
    "# Demo"
   ]
  },
  {
   "cell_type": "markdown",
   "id": "524d5465-bce2-42f3-8d18-6f821dae07a5",
   "metadata": {
    "papermill": {
     "duration": 0.03943,
     "end_time": "2023-01-27T08:40:39.683889",
     "exception": false,
     "start_time": "2023-01-27T08:40:39.644459",
     "status": "completed"
    },
    "tags": []
   },
   "source": [
    "## Input"
   ]
  },
  {
   "cell_type": "markdown",
   "id": "918e5873-b444-43d4-aacd-852fffb5aceb",
   "metadata": {
    "papermill": {
     "duration": 0.036157,
     "end_time": "2023-01-27T08:40:39.756008",
     "exception": false,
     "start_time": "2023-01-27T08:40:39.719851",
     "status": "completed"
    },
    "tags": []
   },
   "source": [
    "### Import libraries"
   ]
  },
  {
   "cell_type": "code",
   "execution_count": 1,
   "id": "f6585d07-f50b-439a-84a9-4c0061870d29",
   "metadata": {
    "execution": {
     "iopub.execute_input": "2023-01-27T08:40:39.840123Z",
     "iopub.status.busy": "2023-01-27T08:40:39.839464Z",
     "iopub.status.idle": "2023-01-27T08:40:43.471003Z",
     "shell.execute_reply": "2023-01-27T08:40:43.471413Z",
     "shell.execute_reply.started": "2023-01-26T16:03:56.360749Z"
    },
    "papermill": {
     "duration": 3.6778,
     "end_time": "2023-01-27T08:40:43.471744",
     "exception": false,
     "start_time": "2023-01-27T08:40:39.793944",
     "status": "completed"
    },
    "tags": []
   },
   "outputs": [
    {
     "name": "stdout",
     "output_type": "stream",
     "text": [
      "✅ Demo loaded successfully.\n",
      "✅ utils file '/home/ftp/data-product-framework/utils/demo.ipynb' successfully loaded.\n"
     ]
    }
   ],
   "source": [
    "import naas_data_product #load utils notebooks\n",
    "import time"
   ]
  },
  {
   "cell_type": "markdown",
   "id": "8e659ff5-80d3-43c9-8daf-1ae7f8d2a554",
   "metadata": {
    "papermill": {
     "duration": 0.038949,
     "end_time": "2023-01-27T08:40:43.556745",
     "exception": false,
     "start_time": "2023-01-27T08:40:43.517796",
     "status": "completed"
    },
    "tags": []
   },
   "source": [
    "### Setup Variables"
   ]
  },
  {
   "cell_type": "code",
   "execution_count": 2,
   "id": "c1a6eb30-fbb2-465e-a8f9-21baf6a8b547",
   "metadata": {
    "execution": {
     "iopub.execute_input": "2023-01-27T08:40:43.632567Z",
     "iopub.status.busy": "2023-01-27T08:40:43.631854Z",
     "iopub.status.idle": "2023-01-27T08:40:43.633925Z",
     "shell.execute_reply": "2023-01-27T08:40:43.633591Z",
     "shell.execute_reply.started": "2023-01-26T16:03:57.176382Z"
    },
    "papermill": {
     "duration": 0.043004,
     "end_time": "2023-01-27T08:40:43.634049",
     "exception": false,
     "start_time": "2023-01-27T08:40:43.591045",
     "status": "completed"
    },
    "tags": [
     "parameters"
    ]
   },
   "outputs": [],
   "source": [
    "sleeping_seconds = 5"
   ]
  },
  {
   "cell_type": "code",
   "execution_count": 3,
   "id": "ce8149da",
   "metadata": {
    "execution": {
     "iopub.execute_input": "2023-01-27T08:40:43.707336Z",
     "iopub.status.busy": "2023-01-27T08:40:43.706692Z",
     "iopub.status.idle": "2023-01-27T08:40:43.708654Z",
     "shell.execute_reply": "2023-01-27T08:40:43.708956Z"
    },
    "papermill": {
     "duration": 0.041738,
     "end_time": "2023-01-27T08:40:43.709101",
     "exception": false,
     "start_time": "2023-01-27T08:40:43.667363",
     "status": "completed"
    },
    "tags": [
     "injected-parameters"
    ]
   },
   "outputs": [],
   "source": [
    "# Parameters\n",
    "sleeping_seconds = 1\n"
   ]
  },
  {
   "cell_type": "markdown",
   "id": "ea6ff4cf-cea6-420e-b190-5979156b5fed",
   "metadata": {
    "papermill": {
     "duration": 0.035676,
     "end_time": "2023-01-27T08:40:43.780806",
     "exception": false,
     "start_time": "2023-01-27T08:40:43.745130",
     "status": "completed"
    },
    "tags": []
   },
   "source": [
    "## Model"
   ]
  },
  {
   "cell_type": "markdown",
   "id": "57cc3ca7-a5a2-4ee9-bee0-61c593255eb5",
   "metadata": {
    "papermill": {
     "duration": 0.039612,
     "end_time": "2023-01-27T08:40:43.858160",
     "exception": false,
     "start_time": "2023-01-27T08:40:43.818548",
     "status": "completed"
    },
    "tags": []
   },
   "source": [
    "### Pause notebook execution"
   ]
  },
  {
   "cell_type": "code",
   "execution_count": 4,
   "id": "8bb2bcce-fae7-4095-abc3-a886c8dc24bf",
   "metadata": {
    "execution": {
     "iopub.execute_input": "2023-01-27T08:40:43.935103Z",
     "iopub.status.busy": "2023-01-27T08:40:43.934652Z",
     "iopub.status.idle": "2023-01-27T08:40:44.937669Z",
     "shell.execute_reply": "2023-01-27T08:40:44.937294Z",
     "shell.execute_reply.started": "2023-01-26T16:03:58.243268Z"
    },
    "papermill": {
     "duration": 1.041906,
     "end_time": "2023-01-27T08:40:44.937805",
     "exception": false,
     "start_time": "2023-01-27T08:40:43.895899",
     "status": "completed"
    },
    "tags": []
   },
   "outputs": [],
   "source": [
    "time.sleep(sleeping_seconds)"
   ]
  },
  {
   "cell_type": "markdown",
   "id": "d856dbf2-37a4-4e52-804a-81c3728b99a7",
   "metadata": {
    "papermill": {
     "duration": 0.039534,
     "end_time": "2023-01-27T08:40:45.014457",
     "exception": false,
     "start_time": "2023-01-27T08:40:44.974923",
     "status": "completed"
    },
    "tags": []
   },
   "source": [
    "## Output"
   ]
  },
  {
   "cell_type": "markdown",
   "id": "2c4996fc-6773-4b9b-bf78-b39bc9a88bf2",
   "metadata": {
    "papermill": {
     "duration": 0.03642,
     "end_time": "2023-01-27T08:40:45.087403",
     "exception": false,
     "start_time": "2023-01-27T08:40:45.050983",
     "status": "completed"
    },
    "tags": []
   },
   "source": [
    "### Display result"
   ]
  },
  {
   "cell_type": "code",
   "execution_count": 5,
   "id": "d26d8cee-8e57-4aab-b621-14f82e5010a5",
   "metadata": {
    "execution": {
     "iopub.execute_input": "2023-01-27T08:40:45.164031Z",
     "iopub.status.busy": "2023-01-27T08:40:45.163292Z",
     "iopub.status.idle": "2023-01-27T08:40:45.165494Z",
     "shell.execute_reply": "2023-01-27T08:40:45.165814Z",
     "shell.execute_reply.started": "2023-01-26T16:04:03.252384Z"
    },
    "papermill": {
     "duration": 0.04299,
     "end_time": "2023-01-27T08:40:45.165958",
     "exception": false,
     "start_time": "2023-01-27T08:40:45.122968",
     "status": "completed"
    },
    "tags": []
   },
   "outputs": [
    {
     "name": "stdout",
     "output_type": "stream",
     "text": [
      "Hello World!\n"
     ]
    }
   ],
   "source": [
    "print(\"Hello World!\")"
   ]
  },
  {
   "cell_type": "code",
   "execution_count": null,
   "id": "4c2c9208-8c77-4436-b73e-0af00a2e4d2c",
   "metadata": {
    "papermill": {
     "duration": 0.041936,
     "end_time": "2023-01-27T08:40:45.243610",
     "exception": false,
     "start_time": "2023-01-27T08:40:45.201674",
     "status": "completed"
    },
    "tags": []
   },
   "outputs": [],
   "source": []
  }
 ],
 "metadata": {
  "kernelspec": {
   "display_name": "Python 3",
   "language": "python",
   "name": "python3"
  },
  "language_info": {
   "codemirror_mode": {
    "name": "ipython",
    "version": 3
   },
   "file_extension": ".py",
   "mimetype": "text/x-python",
   "name": "python",
   "nbconvert_exporter": "python",
   "pygments_lexer": "ipython3",
   "version": "3.9.6"
  },
  "papermill": {
   "default_parameters": {},
   "duration": 7.875912,
   "end_time": "2023-01-27T08:40:45.790154",
   "environment_variables": {},
   "exception": null,
   "input_path": "silver/IMO_template.ipynb",
   "output_path": "pipeline_executions/2023-01-27_09-40-26-3abd7e72-d72a-4302-9101-38605c0cd27e/Cleaning.IMO_template.ipynb",
   "parameters": {
    "sleeping_seconds": 1
   },
   "start_time": "2023-01-27T08:40:37.914242",
   "version": "2.3.3"
  },
  "widgets": {
   "application/vnd.jupyter.widget-state+json": {
    "state": {},
    "version_major": 2,
    "version_minor": 0
   }
  }
 },
 "nbformat": 4,
 "nbformat_minor": 5
}