{
 "cells": [
  {
   "cell_type": "markdown",
   "id": "dd66232c-09f1-44bf-8849-0cd5c52f78a6",
   "metadata": {
    "papermill": {
     "duration": 0.042115,
     "end_time": "2023-01-27T08:40:57.551905",
     "exception": false,
     "start_time": "2023-01-27T08:40:57.509790",
     "status": "completed"
    },
    "tags": []
   },
   "source": [
    "<img width=\"10%\" alt=\"Naas\" src=\"https://landen.imgix.net/jtci2pxwjczr/assets/5ice39g4.png?w=160\"/>"
   ]
  },
  {
   "cell_type": "markdown",
   "id": "633951dc-ca87-4032-ad2d-b76a909861bf",
   "metadata": {
    "papermill": {
     "duration": 0.036379,
     "end_time": "2023-01-27T08:40:57.626298",
     "exception": false,
     "start_time": "2023-01-27T08:40:57.589919",
     "status": "completed"
    },
    "tags": []
   },
   "source": [
    "# Demo"
   ]
  },
  {
   "cell_type": "markdown",
   "id": "524d5465-bce2-42f3-8d18-6f821dae07a5",
   "metadata": {
    "papermill": {
     "duration": 0.037596,
     "end_time": "2023-01-27T08:40:57.701836",
     "exception": false,
     "start_time": "2023-01-27T08:40:57.664240",
     "status": "completed"
    },
    "tags": []
   },
   "source": [
    "## Input"
   ]
  },
  {
   "cell_type": "markdown",
   "id": "918e5873-b444-43d4-aacd-852fffb5aceb",
   "metadata": {
    "papermill": {
     "duration": 0.044409,
     "end_time": "2023-01-27T08:40:57.785481",
     "exception": false,
     "start_time": "2023-01-27T08:40:57.741072",
     "status": "completed"
    },
    "tags": []
   },
   "source": [
    "### Import libraries"
   ]
  },
  {
   "cell_type": "code",
   "execution_count": 1,
   "id": "f6585d07-f50b-439a-84a9-4c0061870d29",
   "metadata": {
    "execution": {
     "iopub.execute_input": "2023-01-27T08:40:57.878568Z",
     "iopub.status.busy": "2023-01-27T08:40:57.877883Z",
     "iopub.status.idle": "2023-01-27T08:41:01.814645Z",
     "shell.execute_reply": "2023-01-27T08:41:01.814984Z",
     "shell.execute_reply.started": "2023-01-26T16:03:56.360749Z"
    },
    "papermill": {
     "duration": 3.995409,
     "end_time": "2023-01-27T08:41:01.815189",
     "exception": false,
     "start_time": "2023-01-27T08:40:57.819780",
     "status": "completed"
    },
    "tags": []
   },
   "outputs": [
    {
     "name": "stdout",
     "output_type": "stream",
     "text": [
      "✅ Demo loaded successfully.\n",
      "✅ utils file '/home/ftp/data-product-framework/utils/demo.ipynb' successfully loaded.\n"
     ]
    }
   ],
   "source": [
    "import naas_data_product #load utils notebooks\n",
    "import time"
   ]
  },
  {
   "cell_type": "markdown",
   "id": "8e659ff5-80d3-43c9-8daf-1ae7f8d2a554",
   "metadata": {
    "papermill": {
     "duration": 0.046137,
     "end_time": "2023-01-27T08:41:01.908672",
     "exception": false,
     "start_time": "2023-01-27T08:41:01.862535",
     "status": "completed"
    },
    "tags": []
   },
   "source": [
    "### Setup Variables"
   ]
  },
  {
   "cell_type": "code",
   "execution_count": 2,
   "id": "c1a6eb30-fbb2-465e-a8f9-21baf6a8b547",
   "metadata": {
    "execution": {
     "iopub.execute_input": "2023-01-27T08:41:02.001521Z",
     "iopub.status.busy": "2023-01-27T08:41:02.000946Z",
     "iopub.status.idle": "2023-01-27T08:41:02.003160Z",
     "shell.execute_reply": "2023-01-27T08:41:02.002831Z",
     "shell.execute_reply.started": "2023-01-26T16:03:57.176382Z"
    },
    "papermill": {
     "duration": 0.043373,
     "end_time": "2023-01-27T08:41:02.003290",
     "exception": false,
     "start_time": "2023-01-27T08:41:01.959917",
     "status": "completed"
    },
    "tags": [
     "parameters"
    ]
   },
   "outputs": [],
   "source": [
    "sleeping_seconds = 5"
   ]
  },
  {
   "cell_type": "code",
   "execution_count": 3,
   "id": "74113284",
   "metadata": {
    "execution": {
     "iopub.execute_input": "2023-01-27T08:41:02.087613Z",
     "iopub.status.busy": "2023-01-27T08:41:02.086993Z",
     "iopub.status.idle": "2023-01-27T08:41:02.089106Z",
     "shell.execute_reply": "2023-01-27T08:41:02.088771Z"
    },
    "papermill": {
     "duration": 0.044846,
     "end_time": "2023-01-27T08:41:02.089233",
     "exception": false,
     "start_time": "2023-01-27T08:41:02.044387",
     "status": "completed"
    },
    "tags": [
     "injected-parameters"
    ]
   },
   "outputs": [],
   "source": [
    "# Parameters\n",
    "sleeping_seconds = 1\n"
   ]
  },
  {
   "cell_type": "markdown",
   "id": "ea6ff4cf-cea6-420e-b190-5979156b5fed",
   "metadata": {
    "papermill": {
     "duration": 0.052471,
     "end_time": "2023-01-27T08:41:02.184904",
     "exception": false,
     "start_time": "2023-01-27T08:41:02.132433",
     "status": "completed"
    },
    "tags": []
   },
   "source": [
    "## Model"
   ]
  },
  {
   "cell_type": "markdown",
   "id": "57cc3ca7-a5a2-4ee9-bee0-61c593255eb5",
   "metadata": {
    "papermill": {
     "duration": 0.036729,
     "end_time": "2023-01-27T08:41:02.260353",
     "exception": false,
     "start_time": "2023-01-27T08:41:02.223624",
     "status": "completed"
    },
    "tags": []
   },
   "source": [
    "### Pause notebook execution"
   ]
  },
  {
   "cell_type": "code",
   "execution_count": 4,
   "id": "8bb2bcce-fae7-4095-abc3-a886c8dc24bf",
   "metadata": {
    "execution": {
     "iopub.execute_input": "2023-01-27T08:41:02.348796Z",
     "iopub.status.busy": "2023-01-27T08:41:02.348372Z",
     "iopub.status.idle": "2023-01-27T08:41:03.350882Z",
     "shell.execute_reply": "2023-01-27T08:41:03.351312Z",
     "shell.execute_reply.started": "2023-01-26T16:03:58.243268Z"
    },
    "papermill": {
     "duration": 1.046008,
     "end_time": "2023-01-27T08:41:03.351500",
     "exception": false,
     "start_time": "2023-01-27T08:41:02.305492",
     "status": "completed"
    },
    "tags": []
   },
   "outputs": [],
   "source": [
    "time.sleep(sleeping_seconds)"
   ]
  },
  {
   "cell_type": "markdown",
   "id": "d856dbf2-37a4-4e52-804a-81c3728b99a7",
   "metadata": {
    "papermill": {
     "duration": 0.048286,
     "end_time": "2023-01-27T08:41:03.443024",
     "exception": false,
     "start_time": "2023-01-27T08:41:03.394738",
     "status": "completed"
    },
    "tags": []
   },
   "source": [
    "## Output"
   ]
  },
  {
   "cell_type": "markdown",
   "id": "2c4996fc-6773-4b9b-bf78-b39bc9a88bf2",
   "metadata": {
    "papermill": {
     "duration": 0.051787,
     "end_time": "2023-01-27T08:41:03.560755",
     "exception": false,
     "start_time": "2023-01-27T08:41:03.508968",
     "status": "completed"
    },
    "tags": []
   },
   "source": [
    "### Display result"
   ]
  },
  {
   "cell_type": "code",
   "execution_count": 5,
   "id": "d26d8cee-8e57-4aab-b621-14f82e5010a5",
   "metadata": {
    "execution": {
     "iopub.execute_input": "2023-01-27T08:41:03.636953Z",
     "iopub.status.busy": "2023-01-27T08:41:03.636454Z",
     "iopub.status.idle": "2023-01-27T08:41:03.638835Z",
     "shell.execute_reply": "2023-01-27T08:41:03.638503Z",
     "shell.execute_reply.started": "2023-01-26T16:04:03.252384Z"
    },
    "papermill": {
     "duration": 0.041108,
     "end_time": "2023-01-27T08:41:03.638957",
     "exception": false,
     "start_time": "2023-01-27T08:41:03.597849",
     "status": "completed"
    },
    "tags": []
   },
   "outputs": [
    {
     "name": "stdout",
     "output_type": "stream",
     "text": [
      "Hello World!\n"
     ]
    }
   ],
   "source": [
    "print(\"Hello World!\")"
   ]
  },
  {
   "cell_type": "code",
   "execution_count": null,
   "id": "4c2c9208-8c77-4436-b73e-0af00a2e4d2c",
   "metadata": {
    "papermill": {
     "duration": 0.036369,
     "end_time": "2023-01-27T08:41:03.711695",
     "exception": false,
     "start_time": "2023-01-27T08:41:03.675326",
     "status": "completed"
    },
    "tags": []
   },
   "outputs": [],
   "source": []
  }
 ],
 "metadata": {
  "kernelspec": {
   "display_name": "Python 3",
   "language": "python",
   "name": "python3"
  },
  "language_info": {
   "codemirror_mode": {
    "name": "ipython",
    "version": 3
   },
   "file_extension": ".py",
   "mimetype": "text/x-python",
   "name": "python",
   "nbconvert_exporter": "python",
   "pygments_lexer": "ipython3",
   "version": "3.9.6"
  },
  "papermill": {
   "default_parameters": {},
   "duration": 8.888358,
   "end_time": "2023-01-27T08:41:04.360342",
   "environment_variables": {},
   "exception": null,
   "input_path": "insights/IMO_template.ipynb",
   "output_path": "pipeline_executions/2023-01-27_09-40-26-3abd7e72-d72a-4302-9101-38605c0cd27e/Distribution2.IMO_template.ipynb",
   "parameters": {
    "sleeping_seconds": 1
   },
   "start_time": "2023-01-27T08:40:55.471984",
   "version": "2.3.3"
  },
  "widgets": {
   "application/vnd.jupyter.widget-state+json": {
    "state": {},
    "version_major": 2,
    "version_minor": 0
   }
  }
 },
 "nbformat": 4,
 "nbformat_minor": 5
}