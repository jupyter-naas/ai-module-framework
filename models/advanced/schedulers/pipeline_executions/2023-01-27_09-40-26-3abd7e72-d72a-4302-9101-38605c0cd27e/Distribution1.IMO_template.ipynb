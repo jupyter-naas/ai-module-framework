{
 "cells": [
  {
   "cell_type": "markdown",
   "id": "dd66232c-09f1-44bf-8849-0cd5c52f78a6",
   "metadata": {
    "papermill": {
     "duration": 0.039321,
     "end_time": "2023-01-27T08:40:57.480358",
     "exception": false,
     "start_time": "2023-01-27T08:40:57.441037",
     "status": "completed"
    },
    "tags": []
   },
   "source": [
    "<img width=\"10%\" alt=\"Naas\" src=\"https://landen.imgix.net/jtci2pxwjczr/assets/5ice39g4.png?w=160\"/>"
   ]
  },
  {
   "cell_type": "markdown",
   "id": "633951dc-ca87-4032-ad2d-b76a909861bf",
   "metadata": {
    "papermill": {
     "duration": 0.045048,
     "end_time": "2023-01-27T08:40:57.562207",
     "exception": false,
     "start_time": "2023-01-27T08:40:57.517159",
     "status": "completed"
    },
    "tags": []
   },
   "source": [
    "# Demo"
   ]
  },
  {
   "cell_type": "markdown",
   "id": "524d5465-bce2-42f3-8d18-6f821dae07a5",
   "metadata": {
    "papermill": {
     "duration": 0.035127,
     "end_time": "2023-01-27T08:40:57.639083",
     "exception": false,
     "start_time": "2023-01-27T08:40:57.603956",
     "status": "completed"
    },
    "tags": []
   },
   "source": [
    "## Input"
   ]
  },
  {
   "cell_type": "markdown",
   "id": "918e5873-b444-43d4-aacd-852fffb5aceb",
   "metadata": {
    "papermill": {
     "duration": 0.050489,
     "end_time": "2023-01-27T08:40:57.728918",
     "exception": false,
     "start_time": "2023-01-27T08:40:57.678429",
     "status": "completed"
    },
    "tags": []
   },
   "source": [
    "### Import libraries"
   ]
  },
  {
   "cell_type": "code",
   "execution_count": 1,
   "id": "f6585d07-f50b-439a-84a9-4c0061870d29",
   "metadata": {
    "execution": {
     "iopub.execute_input": "2023-01-27T08:40:57.816974Z",
     "iopub.status.busy": "2023-01-27T08:40:57.816540Z",
     "iopub.status.idle": "2023-01-27T08:41:01.693416Z",
     "shell.execute_reply": "2023-01-27T08:41:01.692701Z",
     "shell.execute_reply.started": "2023-01-26T16:03:56.360749Z"
    },
    "papermill": {
     "duration": 3.920813,
     "end_time": "2023-01-27T08:41:01.693742",
     "exception": false,
     "start_time": "2023-01-27T08:40:57.772929",
     "status": "completed"
    },
    "tags": []
   },
   "outputs": [
    {
     "name": "stdout",
     "output_type": "stream",
     "text": [
      "✅ Demo loaded successfully.\n",
      "✅ utils file '/home/ftp/data-product-framework/utils/demo.ipynb' successfully loaded.\n"
     ]
    }
   ],
   "source": [
    "import naas_data_product #load utils notebooks\n",
    "import time"
   ]
  },
  {
   "cell_type": "markdown",
   "id": "8e659ff5-80d3-43c9-8daf-1ae7f8d2a554",
   "metadata": {
    "papermill": {
     "duration": 0.039358,
     "end_time": "2023-01-27T08:41:01.775409",
     "exception": false,
     "start_time": "2023-01-27T08:41:01.736051",
     "status": "completed"
    },
    "tags": []
   },
   "source": [
    "### Setup Variables"
   ]
  },
  {
   "cell_type": "code",
   "execution_count": 2,
   "id": "c1a6eb30-fbb2-465e-a8f9-21baf6a8b547",
   "metadata": {
    "execution": {
     "iopub.execute_input": "2023-01-27T08:41:01.860995Z",
     "iopub.status.busy": "2023-01-27T08:41:01.860360Z",
     "iopub.status.idle": "2023-01-27T08:41:01.867892Z",
     "shell.execute_reply": "2023-01-27T08:41:01.862372Z",
     "shell.execute_reply.started": "2023-01-26T16:03:57.176382Z"
    },
    "papermill": {
     "duration": 0.045436,
     "end_time": "2023-01-27T08:41:01.868058",
     "exception": false,
     "start_time": "2023-01-27T08:41:01.822622",
     "status": "completed"
    },
    "tags": [
     "parameters"
    ]
   },
   "outputs": [],
   "source": [
    "sleeping_seconds = 5"
   ]
  },
  {
   "cell_type": "code",
   "execution_count": 3,
   "id": "5f4c7531",
   "metadata": {
    "execution": {
     "iopub.execute_input": "2023-01-27T08:41:01.973484Z",
     "iopub.status.busy": "2023-01-27T08:41:01.972848Z",
     "iopub.status.idle": "2023-01-27T08:41:01.975178Z",
     "shell.execute_reply": "2023-01-27T08:41:01.974828Z"
    },
    "papermill": {
     "duration": 0.058849,
     "end_time": "2023-01-27T08:41:01.975303",
     "exception": false,
     "start_time": "2023-01-27T08:41:01.916454",
     "status": "completed"
    },
    "tags": [
     "injected-parameters"
    ]
   },
   "outputs": [],
   "source": [
    "# Parameters\n",
    "sleeping_seconds = 1\n"
   ]
  },
  {
   "cell_type": "markdown",
   "id": "ea6ff4cf-cea6-420e-b190-5979156b5fed",
   "metadata": {
    "papermill": {
     "duration": 0.042047,
     "end_time": "2023-01-27T08:41:02.054304",
     "exception": false,
     "start_time": "2023-01-27T08:41:02.012257",
     "status": "completed"
    },
    "tags": []
   },
   "source": [
    "## Model"
   ]
  },
  {
   "cell_type": "markdown",
   "id": "57cc3ca7-a5a2-4ee9-bee0-61c593255eb5",
   "metadata": {
    "papermill": {
     "duration": 0.043021,
     "end_time": "2023-01-27T08:41:02.139987",
     "exception": false,
     "start_time": "2023-01-27T08:41:02.096966",
     "status": "completed"
    },
    "tags": []
   },
   "source": [
    "### Pause notebook execution"
   ]
  },
  {
   "cell_type": "code",
   "execution_count": 4,
   "id": "8bb2bcce-fae7-4095-abc3-a886c8dc24bf",
   "metadata": {
    "execution": {
     "iopub.execute_input": "2023-01-27T08:41:02.232776Z",
     "iopub.status.busy": "2023-01-27T08:41:02.232245Z",
     "iopub.status.idle": "2023-01-27T08:41:03.229724Z",
     "shell.execute_reply": "2023-01-27T08:41:03.229275Z",
     "shell.execute_reply.started": "2023-01-26T16:03:58.243268Z"
    },
    "papermill": {
     "duration": 1.053383,
     "end_time": "2023-01-27T08:41:03.229876",
     "exception": false,
     "start_time": "2023-01-27T08:41:02.176493",
     "status": "completed"
    },
    "tags": []
   },
   "outputs": [],
   "source": [
    "time.sleep(sleeping_seconds)"
   ]
  },
  {
   "cell_type": "markdown",
   "id": "d856dbf2-37a4-4e52-804a-81c3728b99a7",
   "metadata": {
    "papermill": {
     "duration": 0.036791,
     "end_time": "2023-01-27T08:41:03.303829",
     "exception": false,
     "start_time": "2023-01-27T08:41:03.267038",
     "status": "completed"
    },
    "tags": []
   },
   "source": [
    "## Output"
   ]
  },
  {
   "cell_type": "markdown",
   "id": "2c4996fc-6773-4b9b-bf78-b39bc9a88bf2",
   "metadata": {
    "papermill": {
     "duration": 0.037545,
     "end_time": "2023-01-27T08:41:03.378897",
     "exception": false,
     "start_time": "2023-01-27T08:41:03.341352",
     "status": "completed"
    },
    "tags": []
   },
   "source": [
    "### Display result"
   ]
  },
  {
   "cell_type": "code",
   "execution_count": 5,
   "id": "d26d8cee-8e57-4aab-b621-14f82e5010a5",
   "metadata": {
    "execution": {
     "iopub.execute_input": "2023-01-27T08:41:03.522542Z",
     "iopub.status.busy": "2023-01-27T08:41:03.520990Z",
     "iopub.status.idle": "2023-01-27T08:41:03.524418Z",
     "shell.execute_reply": "2023-01-27T08:41:03.521803Z",
     "shell.execute_reply.started": "2023-01-26T16:04:03.252384Z"
    },
    "papermill": {
     "duration": 0.075872,
     "end_time": "2023-01-27T08:41:03.524598",
     "exception": false,
     "start_time": "2023-01-27T08:41:03.448726",
     "status": "completed"
    },
    "tags": []
   },
   "outputs": [
    {
     "name": "stdout",
     "output_type": "stream",
     "text": [
      "Hello World!\n"
     ]
    }
   ],
   "source": [
    "print(\"Hello World!\")"
   ]
  },
  {
   "cell_type": "code",
   "execution_count": null,
   "id": "4c2c9208-8c77-4436-b73e-0af00a2e4d2c",
   "metadata": {
    "papermill": {
     "duration": 0.039292,
     "end_time": "2023-01-27T08:41:03.610144",
     "exception": false,
     "start_time": "2023-01-27T08:41:03.570852",
     "status": "completed"
    },
    "tags": []
   },
   "outputs": [],
   "source": []
  }
 ],
 "metadata": {
  "kernelspec": {
   "display_name": "Python 3",
   "language": "python",
   "name": "python3"
  },
  "language_info": {
   "codemirror_mode": {
    "name": "ipython",
    "version": 3
   },
   "file_extension": ".py",
   "mimetype": "text/x-python",
   "name": "python",
   "nbconvert_exporter": "python",
   "pygments_lexer": "ipython3",
   "version": "3.9.6"
  },
  "papermill": {
   "default_parameters": {},
   "duration": 8.775892,
   "end_time": "2023-01-27T08:41:04.259927",
   "environment_variables": {},
   "exception": null,
   "input_path": "insights/IMO_template.ipynb",
   "output_path": "pipeline_executions/2023-01-27_09-40-26-3abd7e72-d72a-4302-9101-38605c0cd27e/Distribution1.IMO_template.ipynb",
   "parameters": {
    "sleeping_seconds": 1
   },
   "start_time": "2023-01-27T08:40:55.484035",
   "version": "2.3.3"
  },
  "widgets": {
   "application/vnd.jupyter.widget-state+json": {
    "state": {},
    "version_major": 2,
    "version_minor": 0
   }
  }
 },
 "nbformat": 4,
 "nbformat_minor": 5
}