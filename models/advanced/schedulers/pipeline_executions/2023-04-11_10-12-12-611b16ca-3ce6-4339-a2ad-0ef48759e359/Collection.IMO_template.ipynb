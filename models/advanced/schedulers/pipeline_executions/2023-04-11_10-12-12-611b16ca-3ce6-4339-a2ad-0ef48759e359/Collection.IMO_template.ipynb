{
 "cells": [
  {
   "cell_type": "markdown",
   "id": "dd66232c-09f1-44bf-8849-0cd5c52f78a6",
   "metadata": {
    "papermill": {
     "duration": 0.039095,
     "end_time": "2023-04-11T08:12:13.331176",
     "exception": false,
     "start_time": "2023-04-11T08:12:13.292081",
     "status": "completed"
    },
    "tags": []
   },
   "source": [
    "<img width=\"10%\" alt=\"Naas\" src=\"https://landen.imgix.net/jtci2pxwjczr/assets/5ice39g4.png?w=160\"/>"
   ]
  },
  {
   "cell_type": "markdown",
   "id": "633951dc-ca87-4032-ad2d-b76a909861bf",
   "metadata": {
    "papermill": {
     "duration": 0.030739,
     "end_time": "2023-04-11T08:12:13.395768",
     "exception": false,
     "start_time": "2023-04-11T08:12:13.365029",
     "status": "completed"
    },
    "tags": []
   },
   "source": [
    "# Demo"
   ]
  },
  {
   "cell_type": "markdown",
   "id": "524d5465-bce2-42f3-8d18-6f821dae07a5",
   "metadata": {
    "papermill": {
     "duration": 0.034074,
     "end_time": "2023-04-11T08:12:13.463070",
     "exception": false,
     "start_time": "2023-04-11T08:12:13.428996",
     "status": "completed"
    },
    "tags": []
   },
   "source": [
    "## Input"
   ]
  },
  {
   "cell_type": "markdown",
   "id": "918e5873-b444-43d4-aacd-852fffb5aceb",
   "metadata": {
    "papermill": {
     "duration": 0.033973,
     "end_time": "2023-04-11T08:12:13.531740",
     "exception": false,
     "start_time": "2023-04-11T08:12:13.497767",
     "status": "completed"
    },
    "tags": []
   },
   "source": [
    "### Import libraries"
   ]
  },
  {
   "cell_type": "code",
   "execution_count": 1,
   "id": "f6585d07-f50b-439a-84a9-4c0061870d29",
   "metadata": {
    "execution": {
     "iopub.execute_input": "2023-04-11T08:12:13.615628Z",
     "iopub.status.busy": "2023-04-11T08:12:13.615163Z",
     "iopub.status.idle": "2023-04-11T08:12:17.435636Z",
     "shell.execute_reply": "2023-04-11T08:12:17.434996Z",
     "shell.execute_reply.started": "2023-01-26T16:03:56.360749Z"
    },
    "papermill": {
     "duration": 3.859723,
     "end_time": "2023-04-11T08:12:17.435805",
     "exception": false,
     "start_time": "2023-04-11T08:12:13.576082",
     "status": "completed"
    },
    "tags": []
   },
   "outputs": [
    {
     "name": "stdout",
     "output_type": "stream",
     "text": [
      "✅ Demo loaded successfully.\n",
      "✅ utils file '/home/ftp/data-product-framework/utils/demo.ipynb' successfully loaded.\n"
     ]
    }
   ],
   "source": [
    "import naas_data_product #load utils notebooks\n",
    "import time"
   ]
  },
  {
   "cell_type": "markdown",
   "id": "8e659ff5-80d3-43c9-8daf-1ae7f8d2a554",
   "metadata": {
    "papermill": {
     "duration": 0.033509,
     "end_time": "2023-04-11T08:12:17.503258",
     "exception": false,
     "start_time": "2023-04-11T08:12:17.469749",
     "status": "completed"
    },
    "tags": []
   },
   "source": [
    "### Setup Variables"
   ]
  },
  {
   "cell_type": "code",
   "execution_count": 2,
   "id": "c1a6eb30-fbb2-465e-a8f9-21baf6a8b547",
   "metadata": {
    "execution": {
     "iopub.execute_input": "2023-04-11T08:12:17.579334Z",
     "iopub.status.busy": "2023-04-11T08:12:17.578661Z",
     "iopub.status.idle": "2023-04-11T08:12:17.580900Z",
     "shell.execute_reply": "2023-04-11T08:12:17.580579Z",
     "shell.execute_reply.started": "2023-01-26T16:03:57.176382Z"
    },
    "papermill": {
     "duration": 0.038225,
     "end_time": "2023-04-11T08:12:17.581018",
     "exception": false,
     "start_time": "2023-04-11T08:12:17.542793",
     "status": "completed"
    },
    "tags": [
     "parameters"
    ]
   },
   "outputs": [],
   "source": [
    "sleeping_seconds = 5"
   ]
  },
  {
   "cell_type": "code",
   "execution_count": 3,
   "id": "67370bd0",
   "metadata": {
    "execution": {
     "iopub.execute_input": "2023-04-11T08:12:17.651170Z",
     "iopub.status.busy": "2023-04-11T08:12:17.650535Z",
     "iopub.status.idle": "2023-04-11T08:12:17.652427Z",
     "shell.execute_reply": "2023-04-11T08:12:17.652718Z"
    },
    "papermill": {
     "duration": 0.038427,
     "end_time": "2023-04-11T08:12:17.652856",
     "exception": false,
     "start_time": "2023-04-11T08:12:17.614429",
     "status": "completed"
    },
    "tags": [
     "injected-parameters"
    ]
   },
   "outputs": [],
   "source": [
    "# Parameters\n",
    "sleeping_seconds = 5\n"
   ]
  },
  {
   "cell_type": "markdown",
   "id": "ea6ff4cf-cea6-420e-b190-5979156b5fed",
   "metadata": {
    "papermill": {
     "duration": 0.033468,
     "end_time": "2023-04-11T08:12:17.720909",
     "exception": false,
     "start_time": "2023-04-11T08:12:17.687441",
     "status": "completed"
    },
    "tags": []
   },
   "source": [
    "## Model"
   ]
  },
  {
   "cell_type": "markdown",
   "id": "57cc3ca7-a5a2-4ee9-bee0-61c593255eb5",
   "metadata": {
    "papermill": {
     "duration": 0.03943,
     "end_time": "2023-04-11T08:12:17.801286",
     "exception": false,
     "start_time": "2023-04-11T08:12:17.761856",
     "status": "completed"
    },
    "tags": []
   },
   "source": [
    "### Pause notebook execution"
   ]
  },
  {
   "cell_type": "code",
   "execution_count": 4,
   "id": "8bb2bcce-fae7-4095-abc3-a886c8dc24bf",
   "metadata": {
    "execution": {
     "iopub.execute_input": "2023-04-11T08:12:17.884815Z",
     "iopub.status.busy": "2023-04-11T08:12:17.884394Z",
     "iopub.status.idle": "2023-04-11T08:12:22.892078Z",
     "shell.execute_reply": "2023-04-11T08:12:22.891697Z",
     "shell.execute_reply.started": "2023-01-26T16:03:58.243268Z"
    },
    "papermill": {
     "duration": 5.045558,
     "end_time": "2023-04-11T08:12:22.892211",
     "exception": false,
     "start_time": "2023-04-11T08:12:17.846653",
     "status": "completed"
    },
    "tags": []
   },
   "outputs": [],
   "source": [
    "time.sleep(sleeping_seconds)"
   ]
  },
  {
   "cell_type": "markdown",
   "id": "d856dbf2-37a4-4e52-804a-81c3728b99a7",
   "metadata": {
    "papermill": {
     "duration": 0.034454,
     "end_time": "2023-04-11T08:12:22.961822",
     "exception": false,
     "start_time": "2023-04-11T08:12:22.927368",
     "status": "completed"
    },
    "tags": []
   },
   "source": [
    "## Output"
   ]
  },
  {
   "cell_type": "markdown",
   "id": "2c4996fc-6773-4b9b-bf78-b39bc9a88bf2",
   "metadata": {
    "papermill": {
     "duration": 0.03444,
     "end_time": "2023-04-11T08:12:23.030601",
     "exception": false,
     "start_time": "2023-04-11T08:12:22.996161",
     "status": "completed"
    },
    "tags": []
   },
   "source": [
    "### Display result"
   ]
  },
  {
   "cell_type": "code",
   "execution_count": 5,
   "id": "d26d8cee-8e57-4aab-b621-14f82e5010a5",
   "metadata": {
    "execution": {
     "iopub.execute_input": "2023-04-11T08:12:23.110571Z",
     "iopub.status.busy": "2023-04-11T08:12:23.109372Z",
     "iopub.status.idle": "2023-04-11T08:12:23.112084Z",
     "shell.execute_reply": "2023-04-11T08:12:23.111721Z",
     "shell.execute_reply.started": "2023-01-26T16:04:03.252384Z"
    },
    "papermill": {
     "duration": 0.041013,
     "end_time": "2023-04-11T08:12:23.112206",
     "exception": false,
     "start_time": "2023-04-11T08:12:23.071193",
     "status": "completed"
    },
    "tags": []
   },
   "outputs": [
    {
     "name": "stdout",
     "output_type": "stream",
     "text": [
      "Hello World!\n"
     ]
    }
   ],
   "source": [
    "print(\"Hello World!\")"
   ]
  },
  {
   "cell_type": "code",
   "execution_count": null,
   "id": "4c2c9208-8c77-4436-b73e-0af00a2e4d2c",
   "metadata": {
    "papermill": {
     "duration": 0.033806,
     "end_time": "2023-04-11T08:12:23.180105",
     "exception": false,
     "start_time": "2023-04-11T08:12:23.146299",
     "status": "completed"
    },
    "tags": []
   },
   "outputs": [],
   "source": []
  }
 ],
 "metadata": {
  "kernelspec": {
   "display_name": "Python 3",
   "language": "python",
   "name": "python3"
  },
  "language_info": {
   "codemirror_mode": {
    "name": "ipython",
    "version": 3
   },
   "file_extension": ".py",
   "mimetype": "text/x-python",
   "name": "python",
   "nbconvert_exporter": "python",
   "pygments_lexer": "ipython3",
   "version": "3.9.6"
  },
  "papermill": {
   "default_parameters": {},
   "duration": 12.072301,
   "end_time": "2023-04-11T08:12:24.452394",
   "environment_variables": {},
   "exception": null,
   "input_path": "../l1_bronze/IMO_template.ipynb",
   "output_path": "pipeline_executions/2023-04-11_10-12-12-611b16ca-3ce6-4339-a2ad-0ef48759e359/Collection.IMO_template.ipynb",
   "parameters": {
    "sleeping_seconds": 5
   },
   "start_time": "2023-04-11T08:12:12.380093",
   "version": "2.3.3"
  },
  "widgets": {
   "application/vnd.jupyter.widget-state+json": {
    "state": {},
    "version_major": 2,
    "version_minor": 0
   }
  }
 },
 "nbformat": 4,
 "nbformat_minor": 5
}