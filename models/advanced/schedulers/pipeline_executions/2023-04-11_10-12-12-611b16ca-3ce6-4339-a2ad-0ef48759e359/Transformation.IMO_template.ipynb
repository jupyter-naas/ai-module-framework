{
 "cells": [
  {
   "cell_type": "markdown",
   "id": "dd66232c-09f1-44bf-8849-0cd5c52f78a6",
   "metadata": {
    "papermill": {
     "duration": 0.044612,
     "end_time": "2023-04-11T08:12:34.011122",
     "exception": false,
     "start_time": "2023-04-11T08:12:33.966510",
     "status": "completed"
    },
    "tags": []
   },
   "source": [
    "<img width=\"10%\" alt=\"Naas\" src=\"https://landen.imgix.net/jtci2pxwjczr/assets/5ice39g4.png?w=160\"/>"
   ]
  },
  {
   "cell_type": "markdown",
   "id": "633951dc-ca87-4032-ad2d-b76a909861bf",
   "metadata": {
    "papermill": {
     "duration": 0.046846,
     "end_time": "2023-04-11T08:12:34.094060",
     "exception": false,
     "start_time": "2023-04-11T08:12:34.047214",
     "status": "completed"
    },
    "tags": []
   },
   "source": [
    "# Demo"
   ]
  },
  {
   "cell_type": "markdown",
   "id": "524d5465-bce2-42f3-8d18-6f821dae07a5",
   "metadata": {
    "papermill": {
     "duration": 0.042051,
     "end_time": "2023-04-11T08:12:34.172704",
     "exception": false,
     "start_time": "2023-04-11T08:12:34.130653",
     "status": "completed"
    },
    "tags": []
   },
   "source": [
    "## Input"
   ]
  },
  {
   "cell_type": "markdown",
   "id": "918e5873-b444-43d4-aacd-852fffb5aceb",
   "metadata": {
    "papermill": {
     "duration": 0.032974,
     "end_time": "2023-04-11T08:12:34.242849",
     "exception": false,
     "start_time": "2023-04-11T08:12:34.209875",
     "status": "completed"
    },
    "tags": []
   },
   "source": [
    "### Import libraries"
   ]
  },
  {
   "cell_type": "code",
   "execution_count": 1,
   "id": "f6585d07-f50b-439a-84a9-4c0061870d29",
   "metadata": {
    "execution": {
     "iopub.execute_input": "2023-04-11T08:12:34.315038Z",
     "iopub.status.busy": "2023-04-11T08:12:34.314545Z",
     "iopub.status.idle": "2023-04-11T08:12:38.149191Z",
     "shell.execute_reply": "2023-04-11T08:12:38.148781Z",
     "shell.execute_reply.started": "2023-01-26T16:03:56.360749Z"
    },
    "papermill": {
     "duration": 3.873524,
     "end_time": "2023-04-11T08:12:38.149334",
     "exception": false,
     "start_time": "2023-04-11T08:12:34.275810",
     "status": "completed"
    },
    "tags": []
   },
   "outputs": [
    {
     "name": "stdout",
     "output_type": "stream",
     "text": [
      "✅ Demo loaded successfully.\n",
      "✅ utils file '/home/ftp/data-product-framework/utils/demo.ipynb' successfully loaded.\n"
     ]
    }
   ],
   "source": [
    "import naas_data_product #load utils notebooks\n",
    "import time"
   ]
  },
  {
   "cell_type": "markdown",
   "id": "8e659ff5-80d3-43c9-8daf-1ae7f8d2a554",
   "metadata": {
    "papermill": {
     "duration": 0.033936,
     "end_time": "2023-04-11T08:12:38.215828",
     "exception": false,
     "start_time": "2023-04-11T08:12:38.181892",
     "status": "completed"
    },
    "tags": []
   },
   "source": [
    "### Setup Variables"
   ]
  },
  {
   "cell_type": "code",
   "execution_count": 2,
   "id": "c1a6eb30-fbb2-465e-a8f9-21baf6a8b547",
   "metadata": {
    "execution": {
     "iopub.execute_input": "2023-04-11T08:12:38.295574Z",
     "iopub.status.busy": "2023-04-11T08:12:38.294410Z",
     "iopub.status.idle": "2023-04-11T08:12:38.296217Z",
     "shell.execute_reply": "2023-04-11T08:12:38.296538Z",
     "shell.execute_reply.started": "2023-01-26T16:03:57.176382Z"
    },
    "papermill": {
     "duration": 0.04341,
     "end_time": "2023-04-11T08:12:38.296678",
     "exception": false,
     "start_time": "2023-04-11T08:12:38.253268",
     "status": "completed"
    },
    "tags": [
     "parameters"
    ]
   },
   "outputs": [],
   "source": [
    "sleeping_seconds = 5"
   ]
  },
  {
   "cell_type": "code",
   "execution_count": 3,
   "id": "aa9a8e54",
   "metadata": {
    "execution": {
     "iopub.execute_input": "2023-04-11T08:12:38.368276Z",
     "iopub.status.busy": "2023-04-11T08:12:38.367833Z",
     "iopub.status.idle": "2023-04-11T08:12:38.370755Z",
     "shell.execute_reply": "2023-04-11T08:12:38.371146Z"
    },
    "papermill": {
     "duration": 0.040513,
     "end_time": "2023-04-11T08:12:38.371340",
     "exception": false,
     "start_time": "2023-04-11T08:12:38.330827",
     "status": "completed"
    },
    "tags": [
     "injected-parameters"
    ]
   },
   "outputs": [],
   "source": [
    "# Parameters\n",
    "sleeping_seconds = 3\n"
   ]
  },
  {
   "cell_type": "markdown",
   "id": "ea6ff4cf-cea6-420e-b190-5979156b5fed",
   "metadata": {
    "papermill": {
     "duration": 0.034291,
     "end_time": "2023-04-11T08:12:38.439590",
     "exception": false,
     "start_time": "2023-04-11T08:12:38.405299",
     "status": "completed"
    },
    "tags": []
   },
   "source": [
    "## Model"
   ]
  },
  {
   "cell_type": "markdown",
   "id": "57cc3ca7-a5a2-4ee9-bee0-61c593255eb5",
   "metadata": {
    "papermill": {
     "duration": 0.042674,
     "end_time": "2023-04-11T08:12:38.516076",
     "exception": false,
     "start_time": "2023-04-11T08:12:38.473402",
     "status": "completed"
    },
    "tags": []
   },
   "source": [
    "### Pause notebook execution"
   ]
  },
  {
   "cell_type": "code",
   "execution_count": 4,
   "id": "8bb2bcce-fae7-4095-abc3-a886c8dc24bf",
   "metadata": {
    "execution": {
     "iopub.execute_input": "2023-04-11T08:12:38.589274Z",
     "iopub.status.busy": "2023-04-11T08:12:38.588849Z",
     "iopub.status.idle": "2023-04-11T08:12:41.593613Z",
     "shell.execute_reply": "2023-04-11T08:12:41.593244Z",
     "shell.execute_reply.started": "2023-01-26T16:03:58.243268Z"
    },
    "papermill": {
     "duration": 3.042387,
     "end_time": "2023-04-11T08:12:41.593747",
     "exception": false,
     "start_time": "2023-04-11T08:12:38.551360",
     "status": "completed"
    },
    "tags": []
   },
   "outputs": [],
   "source": [
    "time.sleep(sleeping_seconds)"
   ]
  },
  {
   "cell_type": "markdown",
   "id": "d856dbf2-37a4-4e52-804a-81c3728b99a7",
   "metadata": {
    "papermill": {
     "duration": 0.043656,
     "end_time": "2023-04-11T08:12:41.669357",
     "exception": false,
     "start_time": "2023-04-11T08:12:41.625701",
     "status": "completed"
    },
    "tags": []
   },
   "source": [
    "## Output"
   ]
  },
  {
   "cell_type": "markdown",
   "id": "2c4996fc-6773-4b9b-bf78-b39bc9a88bf2",
   "metadata": {
    "papermill": {
     "duration": 0.036426,
     "end_time": "2023-04-11T08:12:41.739940",
     "exception": false,
     "start_time": "2023-04-11T08:12:41.703514",
     "status": "completed"
    },
    "tags": []
   },
   "source": [
    "### Display result"
   ]
  },
  {
   "cell_type": "code",
   "execution_count": 5,
   "id": "d26d8cee-8e57-4aab-b621-14f82e5010a5",
   "metadata": {
    "execution": {
     "iopub.execute_input": "2023-04-11T08:12:41.811643Z",
     "iopub.status.busy": "2023-04-11T08:12:41.811005Z",
     "iopub.status.idle": "2023-04-11T08:12:41.813020Z",
     "shell.execute_reply": "2023-04-11T08:12:41.813331Z",
     "shell.execute_reply.started": "2023-01-26T16:04:03.252384Z"
    },
    "papermill": {
     "duration": 0.039366,
     "end_time": "2023-04-11T08:12:41.813469",
     "exception": false,
     "start_time": "2023-04-11T08:12:41.774103",
     "status": "completed"
    },
    "tags": []
   },
   "outputs": [
    {
     "name": "stdout",
     "output_type": "stream",
     "text": [
      "Hello World!\n"
     ]
    }
   ],
   "source": [
    "print(\"Hello World!\")"
   ]
  },
  {
   "cell_type": "code",
   "execution_count": null,
   "id": "4c2c9208-8c77-4436-b73e-0af00a2e4d2c",
   "metadata": {
    "papermill": {
     "duration": 0.034828,
     "end_time": "2023-04-11T08:12:41.882327",
     "exception": false,
     "start_time": "2023-04-11T08:12:41.847499",
     "status": "completed"
    },
    "tags": []
   },
   "outputs": [],
   "source": []
  }
 ],
 "metadata": {
  "kernelspec": {
   "display_name": "Python 3",
   "language": "python",
   "name": "python3"
  },
  "language_info": {
   "codemirror_mode": {
    "name": "ipython",
    "version": 3
   },
   "file_extension": ".py",
   "mimetype": "text/x-python",
   "name": "python",
   "nbconvert_exporter": "python",
   "pygments_lexer": "ipython3",
   "version": "3.9.6"
  },
  "papermill": {
   "default_parameters": {},
   "duration": 10.046781,
   "end_time": "2023-04-11T08:12:43.293972",
   "environment_variables": {},
   "exception": null,
   "input_path": "../l3_gold/IMO_template.ipynb",
   "output_path": "pipeline_executions/2023-04-11_10-12-12-611b16ca-3ce6-4339-a2ad-0ef48759e359/Transformation.IMO_template.ipynb",
   "parameters": {
    "sleeping_seconds": 3
   },
   "start_time": "2023-04-11T08:12:33.247191",
   "version": "2.3.3"
  },
  "widgets": {
   "application/vnd.jupyter.widget-state+json": {
    "state": {},
    "version_major": 2,
    "version_minor": 0
   }
  }
 },
 "nbformat": 4,
 "nbformat_minor": 5
}