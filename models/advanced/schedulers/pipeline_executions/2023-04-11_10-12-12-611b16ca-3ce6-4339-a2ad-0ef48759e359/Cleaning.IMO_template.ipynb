{
 "cells": [
  {
   "cell_type": "markdown",
   "id": "dd66232c-09f1-44bf-8849-0cd5c52f78a6",
   "metadata": {
    "papermill": {
     "duration": 0.048635,
     "end_time": "2023-04-11T08:12:26.213573",
     "exception": false,
     "start_time": "2023-04-11T08:12:26.164938",
     "status": "completed"
    },
    "tags": []
   },
   "source": [
    "<img width=\"10%\" alt=\"Naas\" src=\"https://landen.imgix.net/jtci2pxwjczr/assets/5ice39g4.png?w=160\"/>"
   ]
  },
  {
   "cell_type": "markdown",
   "id": "633951dc-ca87-4032-ad2d-b76a909861bf",
   "metadata": {
    "papermill": {
     "duration": 0.037352,
     "end_time": "2023-04-11T08:12:26.283190",
     "exception": false,
     "start_time": "2023-04-11T08:12:26.245838",
     "status": "completed"
    },
    "tags": []
   },
   "source": [
    "# Demo"
   ]
  },
  {
   "cell_type": "markdown",
   "id": "524d5465-bce2-42f3-8d18-6f821dae07a5",
   "metadata": {
    "papermill": {
     "duration": 0.045436,
     "end_time": "2023-04-11T08:12:26.361972",
     "exception": false,
     "start_time": "2023-04-11T08:12:26.316536",
     "status": "completed"
    },
    "tags": []
   },
   "source": [
    "## Input"
   ]
  },
  {
   "cell_type": "markdown",
   "id": "918e5873-b444-43d4-aacd-852fffb5aceb",
   "metadata": {
    "papermill": {
     "duration": 0.031999,
     "end_time": "2023-04-11T08:12:26.427928",
     "exception": false,
     "start_time": "2023-04-11T08:12:26.395929",
     "status": "completed"
    },
    "tags": []
   },
   "source": [
    "### Import libraries"
   ]
  },
  {
   "cell_type": "code",
   "execution_count": 1,
   "id": "f6585d07-f50b-439a-84a9-4c0061870d29",
   "metadata": {
    "execution": {
     "iopub.execute_input": "2023-04-11T08:12:26.508677Z",
     "iopub.status.busy": "2023-04-11T08:12:26.507952Z",
     "iopub.status.idle": "2023-04-11T08:12:30.868731Z",
     "shell.execute_reply": "2023-04-11T08:12:30.869065Z",
     "shell.execute_reply.started": "2023-01-26T16:03:56.360749Z"
    },
    "papermill": {
     "duration": 4.409727,
     "end_time": "2023-04-11T08:12:30.869277",
     "exception": false,
     "start_time": "2023-04-11T08:12:26.459550",
     "status": "completed"
    },
    "tags": []
   },
   "outputs": [
    {
     "name": "stdout",
     "output_type": "stream",
     "text": [
      "✅ Demo loaded successfully.\n",
      "✅ utils file '/home/ftp/data-product-framework/utils/demo.ipynb' successfully loaded.\n"
     ]
    }
   ],
   "source": [
    "import naas_data_product #load utils notebooks\n",
    "import time"
   ]
  },
  {
   "cell_type": "markdown",
   "id": "8e659ff5-80d3-43c9-8daf-1ae7f8d2a554",
   "metadata": {
    "papermill": {
     "duration": 0.03264,
     "end_time": "2023-04-11T08:12:30.936976",
     "exception": false,
     "start_time": "2023-04-11T08:12:30.904336",
     "status": "completed"
    },
    "tags": []
   },
   "source": [
    "### Setup Variables"
   ]
  },
  {
   "cell_type": "code",
   "execution_count": 2,
   "id": "c1a6eb30-fbb2-465e-a8f9-21baf6a8b547",
   "metadata": {
    "execution": {
     "iopub.execute_input": "2023-04-11T08:12:31.013099Z",
     "iopub.status.busy": "2023-04-11T08:12:31.009318Z",
     "iopub.status.idle": "2023-04-11T08:12:31.015800Z",
     "shell.execute_reply": "2023-04-11T08:12:31.017201Z",
     "shell.execute_reply.started": "2023-01-26T16:03:57.176382Z"
    },
    "papermill": {
     "duration": 0.048116,
     "end_time": "2023-04-11T08:12:31.017491",
     "exception": false,
     "start_time": "2023-04-11T08:12:30.969375",
     "status": "completed"
    },
    "tags": [
     "parameters"
    ]
   },
   "outputs": [],
   "source": [
    "sleeping_seconds = 5"
   ]
  },
  {
   "cell_type": "code",
   "execution_count": 3,
   "id": "f9905f7c",
   "metadata": {
    "execution": {
     "iopub.execute_input": "2023-04-11T08:12:31.093818Z",
     "iopub.status.busy": "2023-04-11T08:12:31.093163Z",
     "iopub.status.idle": "2023-04-11T08:12:31.095316Z",
     "shell.execute_reply": "2023-04-11T08:12:31.094974Z"
    },
    "papermill": {
     "duration": 0.038528,
     "end_time": "2023-04-11T08:12:31.095463",
     "exception": false,
     "start_time": "2023-04-11T08:12:31.056935",
     "status": "completed"
    },
    "tags": [
     "injected-parameters"
    ]
   },
   "outputs": [],
   "source": [
    "# Parameters\n",
    "sleeping_seconds = 1\n"
   ]
  },
  {
   "cell_type": "markdown",
   "id": "ea6ff4cf-cea6-420e-b190-5979156b5fed",
   "metadata": {
    "papermill": {
     "duration": 0.034564,
     "end_time": "2023-04-11T08:12:31.163630",
     "exception": false,
     "start_time": "2023-04-11T08:12:31.129066",
     "status": "completed"
    },
    "tags": []
   },
   "source": [
    "## Model"
   ]
  },
  {
   "cell_type": "markdown",
   "id": "57cc3ca7-a5a2-4ee9-bee0-61c593255eb5",
   "metadata": {
    "papermill": {
     "duration": 0.039163,
     "end_time": "2023-04-11T08:12:31.236615",
     "exception": false,
     "start_time": "2023-04-11T08:12:31.197452",
     "status": "completed"
    },
    "tags": []
   },
   "source": [
    "### Pause notebook execution"
   ]
  },
  {
   "cell_type": "code",
   "execution_count": 4,
   "id": "8bb2bcce-fae7-4095-abc3-a886c8dc24bf",
   "metadata": {
    "execution": {
     "iopub.execute_input": "2023-04-11T08:12:31.313773Z",
     "iopub.status.busy": "2023-04-11T08:12:31.313346Z",
     "iopub.status.idle": "2023-04-11T08:12:32.316552Z",
     "shell.execute_reply": "2023-04-11T08:12:32.315885Z",
     "shell.execute_reply.started": "2023-01-26T16:03:58.243268Z"
    },
    "papermill": {
     "duration": 1.03994,
     "end_time": "2023-04-11T08:12:32.316686",
     "exception": false,
     "start_time": "2023-04-11T08:12:31.276746",
     "status": "completed"
    },
    "tags": []
   },
   "outputs": [],
   "source": [
    "time.sleep(sleeping_seconds)"
   ]
  },
  {
   "cell_type": "markdown",
   "id": "d856dbf2-37a4-4e52-804a-81c3728b99a7",
   "metadata": {
    "papermill": {
     "duration": 0.034195,
     "end_time": "2023-04-11T08:12:32.392294",
     "exception": false,
     "start_time": "2023-04-11T08:12:32.358099",
     "status": "completed"
    },
    "tags": []
   },
   "source": [
    "## Output"
   ]
  },
  {
   "cell_type": "markdown",
   "id": "2c4996fc-6773-4b9b-bf78-b39bc9a88bf2",
   "metadata": {
    "papermill": {
     "duration": 0.032723,
     "end_time": "2023-04-11T08:12:32.465583",
     "exception": false,
     "start_time": "2023-04-11T08:12:32.432860",
     "status": "completed"
    },
    "tags": []
   },
   "source": [
    "### Display result"
   ]
  },
  {
   "cell_type": "code",
   "execution_count": 5,
   "id": "d26d8cee-8e57-4aab-b621-14f82e5010a5",
   "metadata": {
    "execution": {
     "iopub.execute_input": "2023-04-11T08:12:32.544756Z",
     "iopub.status.busy": "2023-04-11T08:12:32.543572Z",
     "iopub.status.idle": "2023-04-11T08:12:32.546224Z",
     "shell.execute_reply": "2023-04-11T08:12:32.545844Z",
     "shell.execute_reply.started": "2023-01-26T16:04:03.252384Z"
    },
    "papermill": {
     "duration": 0.041033,
     "end_time": "2023-04-11T08:12:32.546347",
     "exception": false,
     "start_time": "2023-04-11T08:12:32.505314",
     "status": "completed"
    },
    "tags": []
   },
   "outputs": [
    {
     "name": "stdout",
     "output_type": "stream",
     "text": [
      "Hello World!\n"
     ]
    }
   ],
   "source": [
    "print(\"Hello World!\")"
   ]
  },
  {
   "cell_type": "code",
   "execution_count": null,
   "id": "4c2c9208-8c77-4436-b73e-0af00a2e4d2c",
   "metadata": {
    "papermill": {
     "duration": 0.044433,
     "end_time": "2023-04-11T08:12:32.622364",
     "exception": false,
     "start_time": "2023-04-11T08:12:32.577931",
     "status": "completed"
    },
    "tags": []
   },
   "outputs": [],
   "source": []
  }
 ],
 "metadata": {
  "kernelspec": {
   "display_name": "Python 3",
   "language": "python",
   "name": "python3"
  },
  "language_info": {
   "codemirror_mode": {
    "name": "ipython",
    "version": 3
   },
   "file_extension": ".py",
   "mimetype": "text/x-python",
   "name": "python",
   "nbconvert_exporter": "python",
   "pygments_lexer": "ipython3",
   "version": "3.9.6"
  },
  "papermill": {
   "default_parameters": {},
   "duration": 8.62324,
   "end_time": "2023-04-11T08:12:33.164004",
   "environment_variables": {},
   "exception": null,
   "input_path": "../l2_silver/IMO_template.ipynb",
   "output_path": "pipeline_executions/2023-04-11_10-12-12-611b16ca-3ce6-4339-a2ad-0ef48759e359/Cleaning.IMO_template.ipynb",
   "parameters": {
    "sleeping_seconds": 1
   },
   "start_time": "2023-04-11T08:12:24.540764",
   "version": "2.3.3"
  },
  "widgets": {
   "application/vnd.jupyter.widget-state+json": {
    "state": {},
    "version_major": 2,
    "version_minor": 0
   }
  }
 },
 "nbformat": 4,
 "nbformat_minor": 5
}