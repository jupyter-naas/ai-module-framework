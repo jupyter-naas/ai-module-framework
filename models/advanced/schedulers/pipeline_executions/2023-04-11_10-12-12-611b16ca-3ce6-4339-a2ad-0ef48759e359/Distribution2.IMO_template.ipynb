{
 "cells": [
  {
   "cell_type": "markdown",
   "id": "dd66232c-09f1-44bf-8849-0cd5c52f78a6",
   "metadata": {
    "papermill": {
     "duration": 0.036355,
     "end_time": "2023-04-11T08:12:44.398907",
     "exception": false,
     "start_time": "2023-04-11T08:12:44.362552",
     "status": "completed"
    },
    "tags": []
   },
   "source": [
    "<img width=\"10%\" alt=\"Naas\" src=\"https://landen.imgix.net/jtci2pxwjczr/assets/5ice39g4.png?w=160\"/>"
   ]
  },
  {
   "cell_type": "markdown",
   "id": "633951dc-ca87-4032-ad2d-b76a909861bf",
   "metadata": {
    "papermill": {
     "duration": 0.042416,
     "end_time": "2023-04-11T08:12:44.483014",
     "exception": false,
     "start_time": "2023-04-11T08:12:44.440598",
     "status": "completed"
    },
    "tags": []
   },
   "source": [
    "# Demo"
   ]
  },
  {
   "cell_type": "markdown",
   "id": "524d5465-bce2-42f3-8d18-6f821dae07a5",
   "metadata": {
    "papermill": {
     "duration": 0.043709,
     "end_time": "2023-04-11T08:12:44.563748",
     "exception": false,
     "start_time": "2023-04-11T08:12:44.520039",
     "status": "completed"
    },
    "tags": []
   },
   "source": [
    "## Input"
   ]
  },
  {
   "cell_type": "markdown",
   "id": "918e5873-b444-43d4-aacd-852fffb5aceb",
   "metadata": {
    "papermill": {
     "duration": 0.042496,
     "end_time": "2023-04-11T08:12:44.649786",
     "exception": false,
     "start_time": "2023-04-11T08:12:44.607290",
     "status": "completed"
    },
    "tags": []
   },
   "source": [
    "### Import libraries"
   ]
  },
  {
   "cell_type": "code",
   "execution_count": 1,
   "id": "f6585d07-f50b-439a-84a9-4c0061870d29",
   "metadata": {
    "execution": {
     "iopub.execute_input": "2023-04-11T08:12:44.739764Z",
     "iopub.status.busy": "2023-04-11T08:12:44.739304Z",
     "iopub.status.idle": "2023-04-11T08:12:49.667102Z",
     "shell.execute_reply": "2023-04-11T08:12:49.666619Z",
     "shell.execute_reply.started": "2023-01-26T16:03:56.360749Z"
    },
    "papermill": {
     "duration": 4.975533,
     "end_time": "2023-04-11T08:12:49.667248",
     "exception": false,
     "start_time": "2023-04-11T08:12:44.691715",
     "status": "completed"
    },
    "tags": []
   },
   "outputs": [
    {
     "name": "stdout",
     "output_type": "stream",
     "text": [
      "✅ Demo loaded successfully.\n",
      "✅ utils file '/home/ftp/data-product-framework/utils/demo.ipynb' successfully loaded.\n"
     ]
    }
   ],
   "source": [
    "import naas_data_product #load utils notebooks\n",
    "import time"
   ]
  },
  {
   "cell_type": "markdown",
   "id": "8e659ff5-80d3-43c9-8daf-1ae7f8d2a554",
   "metadata": {
    "papermill": {
     "duration": 0.036075,
     "end_time": "2023-04-11T08:12:49.739709",
     "exception": false,
     "start_time": "2023-04-11T08:12:49.703634",
     "status": "completed"
    },
    "tags": []
   },
   "source": [
    "### Setup Variables"
   ]
  },
  {
   "cell_type": "code",
   "execution_count": 2,
   "id": "c1a6eb30-fbb2-465e-a8f9-21baf6a8b547",
   "metadata": {
    "execution": {
     "iopub.execute_input": "2023-04-11T08:12:49.821176Z",
     "iopub.status.busy": "2023-04-11T08:12:49.818537Z",
     "iopub.status.idle": "2023-04-11T08:12:49.823520Z",
     "shell.execute_reply": "2023-04-11T08:12:49.822812Z",
     "shell.execute_reply.started": "2023-01-26T16:03:57.176382Z"
    },
    "papermill": {
     "duration": 0.050878,
     "end_time": "2023-04-11T08:12:49.823716",
     "exception": false,
     "start_time": "2023-04-11T08:12:49.772838",
     "status": "completed"
    },
    "tags": [
     "parameters"
    ]
   },
   "outputs": [],
   "source": [
    "sleeping_seconds = 5"
   ]
  },
  {
   "cell_type": "code",
   "execution_count": 3,
   "id": "e269d87c",
   "metadata": {
    "execution": {
     "iopub.execute_input": "2023-04-11T08:12:49.899762Z",
     "iopub.status.busy": "2023-04-11T08:12:49.899236Z",
     "iopub.status.idle": "2023-04-11T08:12:49.901757Z",
     "shell.execute_reply": "2023-04-11T08:12:49.901383Z"
    },
    "papermill": {
     "duration": 0.039617,
     "end_time": "2023-04-11T08:12:49.901875",
     "exception": false,
     "start_time": "2023-04-11T08:12:49.862258",
     "status": "completed"
    },
    "tags": [
     "injected-parameters"
    ]
   },
   "outputs": [],
   "source": [
    "# Parameters\n",
    "sleeping_seconds = 1\n"
   ]
  },
  {
   "cell_type": "markdown",
   "id": "ea6ff4cf-cea6-420e-b190-5979156b5fed",
   "metadata": {
    "papermill": {
     "duration": 0.034026,
     "end_time": "2023-04-11T08:12:49.969133",
     "exception": false,
     "start_time": "2023-04-11T08:12:49.935107",
     "status": "completed"
    },
    "tags": []
   },
   "source": [
    "## Model"
   ]
  },
  {
   "cell_type": "markdown",
   "id": "57cc3ca7-a5a2-4ee9-bee0-61c593255eb5",
   "metadata": {
    "papermill": {
     "duration": 0.036112,
     "end_time": "2023-04-11T08:12:50.044646",
     "exception": false,
     "start_time": "2023-04-11T08:12:50.008534",
     "status": "completed"
    },
    "tags": []
   },
   "source": [
    "### Pause notebook execution"
   ]
  },
  {
   "cell_type": "code",
   "execution_count": 4,
   "id": "8bb2bcce-fae7-4095-abc3-a886c8dc24bf",
   "metadata": {
    "execution": {
     "iopub.execute_input": "2023-04-11T08:12:50.127044Z",
     "iopub.status.busy": "2023-04-11T08:12:50.126590Z",
     "iopub.status.idle": "2023-04-11T08:12:51.129794Z",
     "shell.execute_reply": "2023-04-11T08:12:51.130184Z",
     "shell.execute_reply.started": "2023-01-26T16:03:58.243268Z"
    },
    "papermill": {
     "duration": 1.049182,
     "end_time": "2023-04-11T08:12:51.130353",
     "exception": false,
     "start_time": "2023-04-11T08:12:50.081171",
     "status": "completed"
    },
    "tags": []
   },
   "outputs": [],
   "source": [
    "time.sleep(sleeping_seconds)"
   ]
  },
  {
   "cell_type": "markdown",
   "id": "d856dbf2-37a4-4e52-804a-81c3728b99a7",
   "metadata": {
    "papermill": {
     "duration": 0.032241,
     "end_time": "2023-04-11T08:12:51.196642",
     "exception": false,
     "start_time": "2023-04-11T08:12:51.164401",
     "status": "completed"
    },
    "tags": []
   },
   "source": [
    "## Output"
   ]
  },
  {
   "cell_type": "markdown",
   "id": "2c4996fc-6773-4b9b-bf78-b39bc9a88bf2",
   "metadata": {
    "papermill": {
     "duration": 0.037541,
     "end_time": "2023-04-11T08:12:51.274149",
     "exception": false,
     "start_time": "2023-04-11T08:12:51.236608",
     "status": "completed"
    },
    "tags": []
   },
   "source": [
    "### Display result"
   ]
  },
  {
   "cell_type": "code",
   "execution_count": 5,
   "id": "d26d8cee-8e57-4aab-b621-14f82e5010a5",
   "metadata": {
    "execution": {
     "iopub.execute_input": "2023-04-11T08:12:51.359722Z",
     "iopub.status.busy": "2023-04-11T08:12:51.353945Z",
     "iopub.status.idle": "2023-04-11T08:12:51.362969Z",
     "shell.execute_reply": "2023-04-11T08:12:51.362571Z",
     "shell.execute_reply.started": "2023-01-26T16:04:03.252384Z"
    },
    "papermill": {
     "duration": 0.046063,
     "end_time": "2023-04-11T08:12:51.363089",
     "exception": false,
     "start_time": "2023-04-11T08:12:51.317026",
     "status": "completed"
    },
    "tags": []
   },
   "outputs": [
    {
     "name": "stdout",
     "output_type": "stream",
     "text": [
      "Hello World!\n"
     ]
    }
   ],
   "source": [
    "print(\"Hello World!\")"
   ]
  },
  {
   "cell_type": "code",
   "execution_count": null,
   "id": "4c2c9208-8c77-4436-b73e-0af00a2e4d2c",
   "metadata": {
    "papermill": {
     "duration": 0.038042,
     "end_time": "2023-04-11T08:12:51.435912",
     "exception": false,
     "start_time": "2023-04-11T08:12:51.397870",
     "status": "completed"
    },
    "tags": []
   },
   "outputs": [],
   "source": []
  }
 ],
 "metadata": {
  "kernelspec": {
   "display_name": "Python 3",
   "language": "python",
   "name": "python3"
  },
  "language_info": {
   "codemirror_mode": {
    "name": "ipython",
    "version": 3
   },
   "file_extension": ".py",
   "mimetype": "text/x-python",
   "name": "python",
   "nbconvert_exporter": "python",
   "pygments_lexer": "ipython3",
   "version": "3.9.6"
  },
  "papermill": {
   "default_parameters": {},
   "duration": 8.69915,
   "end_time": "2023-04-11T08:12:52.089140",
   "environment_variables": {},
   "exception": null,
   "input_path": "../l4_insights/IMO_template.ipynb",
   "output_path": "pipeline_executions/2023-04-11_10-12-12-611b16ca-3ce6-4339-a2ad-0ef48759e359/Distribution2.IMO_template.ipynb",
   "parameters": {
    "sleeping_seconds": 1
   },
   "start_time": "2023-04-11T08:12:43.389990",
   "version": "2.3.3"
  },
  "widgets": {
   "application/vnd.jupyter.widget-state+json": {
    "state": {},
    "version_major": 2,
    "version_minor": 0
   }
  }
 },
 "nbformat": 4,
 "nbformat_minor": 5
}