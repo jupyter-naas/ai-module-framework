{
 "cells": [
  {
   "cell_type": "markdown",
   "id": "dd66232c-09f1-44bf-8849-0cd5c52f78a6",
   "metadata": {
    "papermill": {
     "duration": 0.041529,
     "end_time": "2023-04-11T08:12:44.445967",
     "exception": false,
     "start_time": "2023-04-11T08:12:44.404438",
     "status": "completed"
    },
    "tags": []
   },
   "source": [
    "<img width=\"10%\" alt=\"Naas\" src=\"https://landen.imgix.net/jtci2pxwjczr/assets/5ice39g4.png?w=160\"/>"
   ]
  },
  {
   "cell_type": "markdown",
   "id": "633951dc-ca87-4032-ad2d-b76a909861bf",
   "metadata": {
    "papermill": {
     "duration": 0.051724,
     "end_time": "2023-04-11T08:12:44.529235",
     "exception": false,
     "start_time": "2023-04-11T08:12:44.477511",
     "status": "completed"
    },
    "tags": []
   },
   "source": [
    "# Demo"
   ]
  },
  {
   "cell_type": "markdown",
   "id": "524d5465-bce2-42f3-8d18-6f821dae07a5",
   "metadata": {
    "papermill": {
     "duration": 0.043525,
     "end_time": "2023-04-11T08:12:44.612797",
     "exception": false,
     "start_time": "2023-04-11T08:12:44.569272",
     "status": "completed"
    },
    "tags": []
   },
   "source": [
    "## Input"
   ]
  },
  {
   "cell_type": "markdown",
   "id": "918e5873-b444-43d4-aacd-852fffb5aceb",
   "metadata": {
    "papermill": {
     "duration": 0.042117,
     "end_time": "2023-04-11T08:12:44.686265",
     "exception": false,
     "start_time": "2023-04-11T08:12:44.644148",
     "status": "completed"
    },
    "tags": []
   },
   "source": [
    "### Import libraries"
   ]
  },
  {
   "cell_type": "code",
   "execution_count": 1,
   "id": "f6585d07-f50b-439a-84a9-4c0061870d29",
   "metadata": {
    "execution": {
     "iopub.execute_input": "2023-04-11T08:12:44.773655Z",
     "iopub.status.busy": "2023-04-11T08:12:44.773178Z",
     "iopub.status.idle": "2023-04-11T08:12:49.732554Z",
     "shell.execute_reply": "2023-04-11T08:12:49.732167Z",
     "shell.execute_reply.started": "2023-01-26T16:03:56.360749Z"
    },
    "papermill": {
     "duration": 5.005848,
     "end_time": "2023-04-11T08:12:49.732680",
     "exception": false,
     "start_time": "2023-04-11T08:12:44.726832",
     "status": "completed"
    },
    "tags": []
   },
   "outputs": [
    {
     "name": "stdout",
     "output_type": "stream",
     "text": [
      "✅ Demo loaded successfully.\n",
      "✅ utils file '/home/ftp/data-product-framework/utils/demo.ipynb' successfully loaded.\n"
     ]
    }
   ],
   "source": [
    "import naas_data_product #load utils notebooks\n",
    "import time"
   ]
  },
  {
   "cell_type": "markdown",
   "id": "8e659ff5-80d3-43c9-8daf-1ae7f8d2a554",
   "metadata": {
    "papermill": {
     "duration": 0.037934,
     "end_time": "2023-04-11T08:12:49.805203",
     "exception": false,
     "start_time": "2023-04-11T08:12:49.767269",
     "status": "completed"
    },
    "tags": []
   },
   "source": [
    "### Setup Variables"
   ]
  },
  {
   "cell_type": "code",
   "execution_count": 2,
   "id": "c1a6eb30-fbb2-465e-a8f9-21baf6a8b547",
   "metadata": {
    "execution": {
     "iopub.execute_input": "2023-04-11T08:12:49.885833Z",
     "iopub.status.busy": "2023-04-11T08:12:49.885411Z",
     "iopub.status.idle": "2023-04-11T08:12:49.888545Z",
     "shell.execute_reply": "2023-04-11T08:12:49.888197Z",
     "shell.execute_reply.started": "2023-01-26T16:03:57.176382Z"
    },
    "papermill": {
     "duration": 0.043464,
     "end_time": "2023-04-11T08:12:49.888660",
     "exception": false,
     "start_time": "2023-04-11T08:12:49.845196",
     "status": "completed"
    },
    "tags": [
     "parameters"
    ]
   },
   "outputs": [],
   "source": [
    "sleeping_seconds = 5"
   ]
  },
  {
   "cell_type": "code",
   "execution_count": 3,
   "id": "7b76e918",
   "metadata": {
    "execution": {
     "iopub.execute_input": "2023-04-11T08:12:49.960757Z",
     "iopub.status.busy": "2023-04-11T08:12:49.960350Z",
     "iopub.status.idle": "2023-04-11T08:12:49.963346Z",
     "shell.execute_reply": "2023-04-11T08:12:49.963010Z"
    },
    "papermill": {
     "duration": 0.042208,
     "end_time": "2023-04-11T08:12:49.963470",
     "exception": false,
     "start_time": "2023-04-11T08:12:49.921262",
     "status": "completed"
    },
    "tags": [
     "injected-parameters"
    ]
   },
   "outputs": [],
   "source": [
    "# Parameters\n",
    "sleeping_seconds = 1\n"
   ]
  },
  {
   "cell_type": "markdown",
   "id": "ea6ff4cf-cea6-420e-b190-5979156b5fed",
   "metadata": {
    "papermill": {
     "duration": 0.047431,
     "end_time": "2023-04-11T08:12:50.050477",
     "exception": false,
     "start_time": "2023-04-11T08:12:50.003046",
     "status": "completed"
    },
    "tags": []
   },
   "source": [
    "## Model"
   ]
  },
  {
   "cell_type": "markdown",
   "id": "57cc3ca7-a5a2-4ee9-bee0-61c593255eb5",
   "metadata": {
    "papermill": {
     "duration": 0.031531,
     "end_time": "2023-04-11T08:12:50.118108",
     "exception": false,
     "start_time": "2023-04-11T08:12:50.086577",
     "status": "completed"
    },
    "tags": []
   },
   "source": [
    "### Pause notebook execution"
   ]
  },
  {
   "cell_type": "code",
   "execution_count": 4,
   "id": "8bb2bcce-fae7-4095-abc3-a886c8dc24bf",
   "metadata": {
    "execution": {
     "iopub.execute_input": "2023-04-11T08:12:50.187587Z",
     "iopub.status.busy": "2023-04-11T08:12:50.187165Z",
     "iopub.status.idle": "2023-04-11T08:12:51.190690Z",
     "shell.execute_reply": "2023-04-11T08:12:51.190304Z",
     "shell.execute_reply.started": "2023-01-26T16:03:58.243268Z"
    },
    "papermill": {
     "duration": 1.038291,
     "end_time": "2023-04-11T08:12:51.190841",
     "exception": false,
     "start_time": "2023-04-11T08:12:50.152550",
     "status": "completed"
    },
    "tags": []
   },
   "outputs": [],
   "source": [
    "time.sleep(sleeping_seconds)"
   ]
  },
  {
   "cell_type": "markdown",
   "id": "d856dbf2-37a4-4e52-804a-81c3728b99a7",
   "metadata": {
    "papermill": {
     "duration": 0.037409,
     "end_time": "2023-04-11T08:12:51.268359",
     "exception": false,
     "start_time": "2023-04-11T08:12:51.230950",
     "status": "completed"
    },
    "tags": []
   },
   "source": [
    "## Output"
   ]
  },
  {
   "cell_type": "markdown",
   "id": "2c4996fc-6773-4b9b-bf78-b39bc9a88bf2",
   "metadata": {
    "papermill": {
     "duration": 0.045797,
     "end_time": "2023-04-11T08:12:51.354320",
     "exception": false,
     "start_time": "2023-04-11T08:12:51.308523",
     "status": "completed"
    },
    "tags": []
   },
   "source": [
    "### Display result"
   ]
  },
  {
   "cell_type": "code",
   "execution_count": 5,
   "id": "d26d8cee-8e57-4aab-b621-14f82e5010a5",
   "metadata": {
    "execution": {
     "iopub.execute_input": "2023-04-11T08:12:51.444174Z",
     "iopub.status.busy": "2023-04-11T08:12:51.443414Z",
     "iopub.status.idle": "2023-04-11T08:12:51.445138Z",
     "shell.execute_reply": "2023-04-11T08:12:51.443820Z",
     "shell.execute_reply.started": "2023-01-26T16:04:03.252384Z"
    },
    "papermill": {
     "duration": 0.055592,
     "end_time": "2023-04-11T08:12:51.445252",
     "exception": false,
     "start_time": "2023-04-11T08:12:51.389660",
     "status": "completed"
    },
    "tags": []
   },
   "outputs": [
    {
     "name": "stdout",
     "output_type": "stream",
     "text": [
      "Hello World!\n"
     ]
    }
   ],
   "source": [
    "print(\"Hello World!\")"
   ]
  },
  {
   "cell_type": "code",
   "execution_count": null,
   "id": "4c2c9208-8c77-4436-b73e-0af00a2e4d2c",
   "metadata": {
    "papermill": {
     "duration": 0.039356,
     "end_time": "2023-04-11T08:12:51.523327",
     "exception": false,
     "start_time": "2023-04-11T08:12:51.483971",
     "status": "completed"
    },
    "tags": []
   },
   "outputs": [],
   "source": []
  }
 ],
 "metadata": {
  "kernelspec": {
   "display_name": "Python 3",
   "language": "python",
   "name": "python3"
  },
  "language_info": {
   "codemirror_mode": {
    "name": "ipython",
    "version": 3
   },
   "file_extension": ".py",
   "mimetype": "text/x-python",
   "name": "python",
   "nbconvert_exporter": "python",
   "pygments_lexer": "ipython3",
   "version": "3.9.6"
  },
  "papermill": {
   "default_parameters": {},
   "duration": 8.790624,
   "end_time": "2023-04-11T08:12:52.167754",
   "environment_variables": {},
   "exception": null,
   "input_path": "../l4_insights/IMO_template.ipynb",
   "output_path": "pipeline_executions/2023-04-11_10-12-12-611b16ca-3ce6-4339-a2ad-0ef48759e359/Distribution1.IMO_template.ipynb",
   "parameters": {
    "sleeping_seconds": 1
   },
   "start_time": "2023-04-11T08:12:43.377130",
   "version": "2.3.3"
  },
  "widgets": {
   "application/vnd.jupyter.widget-state+json": {
    "state": {},
    "version_major": 2,
    "version_minor": 0
   }
  }
 },
 "nbformat": 4,
 "nbformat_minor": 5
}