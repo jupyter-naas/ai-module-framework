{
 "cells": [
  {
   "cell_type": "markdown",
   "id": "dd66232c-09f1-44bf-8849-0cd5c52f78a6",
   "metadata": {},
   "source": [
    "<img width=\"10%\" alt=\"Naas\" src=\"https://landen.imgix.net/jtci2pxwjczr/assets/5ice39g4.png?w=160\"/>"
   ]
  },
  {
   "cell_type": "markdown",
   "id": "633951dc-ca87-4032-ad2d-b76a909861bf",
   "metadata": {},
   "source": [
    "# Pipeline"
   ]
  },
  {
   "cell_type": "markdown",
   "id": "dc8969f9-6f45-4131-9983-a9cfec61be43",
   "metadata": {},
   "source": [
    "**Tags:** #naas #pipeline #automation #snippet"
   ]
  },
  {
   "cell_type": "markdown",
   "id": "29d1ba56-7c9e-4895-836e-afcbdb1bb75c",
   "metadata": {},
   "source": [
    "**Author:** [Florent Ravenel](https://www.linkedin.com/in/florent-ravenel/)"
   ]
  },
  {
   "cell_type": "markdown",
   "id": "7ab2ef2b-2651-462b-bc17-7ec25608acf3",
   "metadata": {},
   "source": [
    "**Description:** This notebook acts as a central hub for all your scripts. It automates the execution of your scripts in a defined order, forming a pipeline. It streamlines the process by eliminating manual intervention and ensures consistency in results. The notebook also provides a visual representation of the workflow, making it easier to understand and manage. With this notebook, you can easily run all your scripts as a cohesive unit, saving time and reducing the risk of errors."
   ]
  },
  {
   "cell_type": "markdown",
   "id": "524d5465-bce2-42f3-8d18-6f821dae07a5",
   "metadata": {},
   "source": [
    "## Input"
   ]
  },
  {
   "cell_type": "markdown",
   "id": "918e5873-b444-43d4-aacd-852fffb5aceb",
   "metadata": {},
   "source": [
    "### Import libraries"
   ]
  },
  {
   "cell_type": "code",
   "execution_count": 1,
   "id": "f6585d07-f50b-439a-84a9-4c0061870d29",
   "metadata": {
    "execution": {
     "iopub.execute_input": "2023-04-11T08:50:22.414083Z",
     "iopub.status.busy": "2023-04-11T08:50:22.405583Z",
     "iopub.status.idle": "2023-04-11T08:50:26.659427Z",
     "shell.execute_reply": "2023-04-11T08:50:26.658824Z",
     "shell.execute_reply.started": "2023-04-11T08:50:22.405946Z"
    },
    "tags": []
   },
   "outputs": [
    {
     "name": "stdout",
     "output_type": "stream",
     "text": [
      "✅ Demo loaded successfully.\n",
      "✅ utils file '/home/ftp/data-product-framework/utils/demo.ipynb' successfully loaded.\n"
     ]
    }
   ],
   "source": [
    "try:\n",
    "    from naas_data_product import *\n",
    "except:\n",
    "    !pip install naas_data_product --user\n",
    "    from naas_data_product import *\n",
    "from naas.pipeline import Pipeline, NotebookStep, End"
   ]
  },
  {
   "cell_type": "markdown",
   "id": "879cc555-89f2-4884-ad80-d2bea449eb52",
   "metadata": {},
   "source": [
    "### Setup notebooks\n",
    "This section is made to declare all the notebooks and create unique IDs that will be used in the pipeline. "
   ]
  },
  {
   "cell_type": "code",
   "execution_count": 2,
   "id": "61400f78-56e2-4818-be37-be1e2c216e12",
   "metadata": {
    "execution": {
     "iopub.execute_input": "2023-04-11T08:50:26.660810Z",
     "iopub.status.busy": "2023-04-11T08:50:26.660588Z",
     "iopub.status.idle": "2023-04-11T08:50:26.668573Z",
     "shell.execute_reply": "2023-04-11T08:50:26.668098Z",
     "shell.execute_reply.started": "2023-04-11T08:50:26.660783Z"
    },
    "tags": []
   },
   "outputs": [],
   "source": [
    "distribution = NotebookStep(\n",
    "    name='📊 Distribution', #notebook name display in pipeline\n",
    "    notebook_path=\"../l4_insights/IMO_template.ipynb\", # notebook path to be run\n",
    "    parameters={\n",
    "        \"sleeping_seconds\": 1\n",
    "    }, #inserted in your notebook after cell tagged 'parameters'\n",
    ")\n",
    "\n",
    "notifications = NotebookStep(\n",
    "    name='📧 Notifications', #notebook name display in pipeline\n",
    "    notebook_path=\"../l4_insights/IMO_template.ipynb\", # notebook path to be run\n",
    "    parameters={\n",
    "        \"sleeping_seconds\": 0\n",
    "    }, #inserted in your notebook after cell tagged 'parameters'\n",
    ")"
   ]
  },
  {
   "cell_type": "markdown",
   "id": "ea6ff4cf-cea6-420e-b190-5979156b5fed",
   "metadata": {
    "tags": []
   },
   "source": [
    "## Model"
   ]
  },
  {
   "cell_type": "markdown",
   "id": "c605f360-3459-40d1-a68b-227f38a6684e",
   "metadata": {},
   "source": [
    "### Run pipeline"
   ]
  },
  {
   "cell_type": "code",
   "execution_count": 3,
   "id": "60b8cbe6-79bc-437f-a827-58eaa065e359",
   "metadata": {
    "execution": {
     "iopub.execute_input": "2023-04-11T08:50:26.669586Z",
     "iopub.status.busy": "2023-04-11T08:50:26.669379Z",
     "iopub.status.idle": "2023-04-11T08:50:35.935913Z",
     "shell.execute_reply": "2023-04-11T08:50:35.935137Z",
     "shell.execute_reply.started": "2023-04-11T08:50:26.669559Z"
    },
    "tags": []
   },
   "outputs": [
    {
     "data": {
      "text/html": [
       "<html>\n",
       "<head>\n",
       "<link rel=\"stylesheet\" href=\"https://cdn.jsdelivr.net/npm/vis-network@latest/styles/vis-network.css\" type=\"text/css\" />\n",
       "<script type=\"text/javascript\" src=\"https://cdn.jsdelivr.net/npm/vis-network@latest/dist/vis-network.min.js\"> </script>\n",
       "<center>\n",
       "<h1></h1>\n",
       "</center>\n",
       "\n",
       "<!-- <link rel=\"stylesheet\" href=\"../node_modules/vis/dist/vis.min.css\" type=\"text/css\" />\n",
       "<script type=\"text/javascript\" src=\"../node_modules/vis/dist/vis.js\"> </script>-->\n",
       "\n",
       "<style type=\"text/css\">\n",
       "\n",
       "        #mynetwork {\n",
       "            width: 100%;\n",
       "            height: 1000px;\n",
       "            background-color: #212121;\n",
       "            border: 1px solid lightgray;\n",
       "            position: relative;\n",
       "            float: left;\n",
       "        }\n",
       "\n",
       "        \n",
       "\n",
       "        \n",
       "\n",
       "        \n",
       "</style>\n",
       "\n",
       "</head>\n",
       "\n",
       "<body>\n",
       "<div id = \"mynetwork\"></div>\n",
       "\n",
       "\n",
       "<script type=\"text/javascript\">\n",
       "\n",
       "    // initialize global variables.\n",
       "    var edges;\n",
       "    var nodes;\n",
       "    var network; \n",
       "    var container;\n",
       "    var options, data;\n",
       "\n",
       "    \n",
       "    // This method is responsible for drawing the graph, returns the drawn network\n",
       "    function drawGraph() {\n",
       "        var container = document.getElementById('mynetwork');\n",
       "        \n",
       "        \n",
       "\n",
       "        // parsing and collecting nodes and edges from the python\n",
       "        nodes = new vis.DataSet([{\"color\": \"#5DE191\", \"font\": {\"color\": \"#ffffff\"}, \"id\": \"Start\", \"image\": \"start-end.png\", \"label\": \"Start\", \"level\": 0, \"mass\": 5, \"shape\": \"circularImage\", \"x\": 0, \"y\": 0}, {\"color\": \"#5DE191\", \"font\": {\"color\": \"#ffffff\"}, \"id\": \"ParallelStep-86014e4c-cef3-4a2e-8e04-8b78cfdb7159\", \"image\": \"parallel.png\", \"label\": \"Parallel Step\", \"level\": 1, \"mass\": 20, \"shape\": \"circularImage\", \"x\": 1, \"y\": 0}, {\"color\": \"#5DE191\", \"font\": {\"color\": \"#ffffff\"}, \"id\": \"\\ud83d\\udcca Distribution\", \"label\": \"\\ud83d\\udcca Distribution\", \"level\": 2, \"mass\": 5, \"shape\": \"box\", \"x\": 2, \"y\": 0}, {\"color\": \"#9EA7AC\", \"font\": {\"color\": \"#ffffff\"}, \"id\": \"\\ud83d\\udcca Distribution@on_error\", \"label\": \"\\ud83d\\udcca Distribution@on_error\", \"level\": 3, \"mass\": 5, \"shape\": \"box\", \"x\": 3, \"y\": 0}, {\"color\": \"#9EA7AC\", \"font\": {\"color\": \"#ffffff\"}, \"id\": \"\\ud83d\\udce7 Notifications\", \"label\": \"\\ud83d\\udce7 Notifications\", \"level\": 4, \"mass\": 5, \"shape\": \"box\", \"x\": 4, \"y\": 0}, {\"color\": \"#5DE191\", \"font\": {\"color\": \"#ffffff\"}, \"id\": \"End\", \"image\": \"start-end.png\", \"label\": \"End\", \"level\": 3, \"mass\": 5, \"shape\": \"circularImage\", \"x\": 3, \"y\": 0}]);\n",
       "        edges = new vis.DataSet([{\"arrows\": \"to\", \"from\": \"\\ud83d\\udcca Distribution@on_error\", \"to\": \"\\ud83d\\udce7 Notifications\"}, {\"arrows\": \"to\", \"from\": \"\\ud83d\\udcca Distribution\", \"to\": \"\\ud83d\\udcca Distribution@on_error\"}, {\"arrows\": \"to\", \"from\": \"ParallelStep-86014e4c-cef3-4a2e-8e04-8b78cfdb7159\", \"to\": \"\\ud83d\\udcca Distribution\"}, {\"arrows\": \"to\", \"from\": \"\\ud83d\\udcca Distribution\", \"to\": \"End\"}, {\"arrows\": \"to\", \"from\": \"Start\", \"to\": \"ParallelStep-86014e4c-cef3-4a2e-8e04-8b78cfdb7159\"}]);\n",
       "\n",
       "        // adding nodes and edges to the graph\n",
       "        data = {nodes: nodes, edges: edges};\n",
       "\n",
       "        var options = {\n",
       "    \"configure\": {\n",
       "        \"enabled\": false\n",
       "    },\n",
       "    \"edges\": {\n",
       "        \"color\": {\n",
       "            \"inherit\": true\n",
       "        },\n",
       "        \"smooth\": {\n",
       "            \"enabled\": true,\n",
       "            \"type\": \"dynamic\"\n",
       "        }\n",
       "    },\n",
       "    \"interaction\": {\n",
       "        \"dragNodes\": true,\n",
       "        \"hideEdgesOnDrag\": false,\n",
       "        \"hideNodesOnDrag\": false\n",
       "    },\n",
       "    \"layout\": {\n",
       "        \"hierarchical\": {\n",
       "            \"blockShifting\": true,\n",
       "            \"edgeMinimization\": true,\n",
       "            \"enabled\": true,\n",
       "            \"levelSeparation\": 150,\n",
       "            \"parentCentralization\": true,\n",
       "            \"sortMethod\": \"hubsize\",\n",
       "            \"treeSpacing\": 200\n",
       "        },\n",
       "        \"improvedLayout\": true,\n",
       "        \"randomSeed\": 0\n",
       "    },\n",
       "    \"physics\": {\n",
       "        \"enabled\": false,\n",
       "        \"stabilization\": {\n",
       "            \"enabled\": true,\n",
       "            \"fit\": true,\n",
       "            \"iterations\": 1000,\n",
       "            \"onlyDynamicEdges\": false,\n",
       "            \"updateInterval\": 50\n",
       "        }\n",
       "    }\n",
       "};\n",
       "        \n",
       "        \n",
       "\n",
       "        \n",
       "\n",
       "        network = new vis.Network(container, data, options);\n",
       "\t \n",
       "        \n",
       "\n",
       "\n",
       "        \n",
       "\n",
       "        return network;\n",
       "\n",
       "    }\n",
       "\n",
       "    drawGraph();\n",
       "\n",
       "</script>\n",
       "</body>\n",
       "</html>"
      ],
      "text/plain": [
       "<IPython.core.display.HTML object>"
      ]
     },
     "metadata": {},
     "output_type": "display_data"
    }
   ],
   "source": [
    "pipeline = Pipeline()\n",
    "\n",
    "pipeline >> [distribution] >> End()\n",
    "\n",
    "distribution.on_error >> notifications\n",
    "\n",
    "pipeline.run()"
   ]
  },
  {
   "cell_type": "markdown",
   "id": "d856dbf2-37a4-4e52-804a-81c3728b99a7",
   "metadata": {},
   "source": [
    "## Output"
   ]
  },
  {
   "cell_type": "markdown",
   "id": "4a4a8017-bf14-4da4-b637-243655298663",
   "metadata": {},
   "source": [
    "### Display result"
   ]
  },
  {
   "cell_type": "code",
   "execution_count": 4,
   "id": "5b4d6b8f-197b-493f-8a8c-dcff21d6845f",
   "metadata": {
    "execution": {
     "iopub.execute_input": "2023-04-11T08:50:35.937193Z",
     "iopub.status.busy": "2023-04-11T08:50:35.936993Z",
     "iopub.status.idle": "2023-04-11T08:50:35.940627Z",
     "shell.execute_reply": "2023-04-11T08:50:35.939982Z",
     "shell.execute_reply.started": "2023-04-11T08:50:35.937169Z"
    },
    "tags": []
   },
   "outputs": [
    {
     "name": "stdout",
     "output_type": "stream",
     "text": [
      "✅ Pipeline ran successfully.\n"
     ]
    }
   ],
   "source": [
    "print(\"✅ Pipeline ran successfully.\")"
   ]
  }
 ],
 "metadata": {
  "kernelspec": {
   "display_name": "Python 3",
   "language": "python",
   "name": "python3"
  },
  "language_info": {
   "codemirror_mode": {
    "name": "ipython",
    "version": 3
   },
   "file_extension": ".py",
   "mimetype": "text/x-python",
   "name": "python",
   "nbconvert_exporter": "python",
   "pygments_lexer": "ipython3",
   "version": "3.9.6"
  },
  "widgets": {
   "application/vnd.jupyter.widget-state+json": {
    "state": {},
    "version_major": 2,
    "version_minor": 0
   }
  }
 },
 "nbformat": 4,
 "nbformat_minor": 5
}
