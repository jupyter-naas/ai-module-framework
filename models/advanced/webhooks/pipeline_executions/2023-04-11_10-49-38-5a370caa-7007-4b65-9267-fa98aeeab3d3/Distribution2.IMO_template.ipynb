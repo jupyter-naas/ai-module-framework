{
 "cells": [
  {
   "cell_type": "markdown",
   "id": "dd66232c-09f1-44bf-8849-0cd5c52f78a6",
   "metadata": {
    "papermill": {
     "duration": 0.037606,
     "end_time": "2023-04-11T08:49:40.276877",
     "exception": false,
     "start_time": "2023-04-11T08:49:40.239271",
     "status": "completed"
    },
    "tags": []
   },
   "source": [
    "<img width=\"10%\" alt=\"Naas\" src=\"https://landen.imgix.net/jtci2pxwjczr/assets/5ice39g4.png?w=160\"/>"
   ]
  },
  {
   "cell_type": "markdown",
   "id": "633951dc-ca87-4032-ad2d-b76a909861bf",
   "metadata": {
    "papermill": {
     "duration": 0.060315,
     "end_time": "2023-04-11T08:49:40.371180",
     "exception": false,
     "start_time": "2023-04-11T08:49:40.310865",
     "status": "completed"
    },
    "tags": []
   },
   "source": [
    "# Demo"
   ]
  },
  {
   "cell_type": "markdown",
   "id": "524d5465-bce2-42f3-8d18-6f821dae07a5",
   "metadata": {
    "papermill": {
     "duration": 0.03194,
     "end_time": "2023-04-11T08:49:40.437928",
     "exception": false,
     "start_time": "2023-04-11T08:49:40.405988",
     "status": "completed"
    },
    "tags": []
   },
   "source": [
    "## Input"
   ]
  },
  {
   "cell_type": "markdown",
   "id": "918e5873-b444-43d4-aacd-852fffb5aceb",
   "metadata": {
    "papermill": {
     "duration": 0.038309,
     "end_time": "2023-04-11T08:49:40.517194",
     "exception": false,
     "start_time": "2023-04-11T08:49:40.478885",
     "status": "completed"
    },
    "tags": []
   },
   "source": [
    "### Import libraries"
   ]
  },
  {
   "cell_type": "code",
   "execution_count": 1,
   "id": "f6585d07-f50b-439a-84a9-4c0061870d29",
   "metadata": {
    "execution": {
     "iopub.execute_input": "2023-04-11T08:49:40.606851Z",
     "iopub.status.busy": "2023-04-11T08:49:40.606120Z",
     "iopub.status.idle": "2023-04-11T08:49:45.482878Z",
     "shell.execute_reply": "2023-04-11T08:49:45.483454Z",
     "shell.execute_reply.started": "2023-01-26T16:03:56.360749Z"
    },
    "papermill": {
     "duration": 4.931612,
     "end_time": "2023-04-11T08:49:45.483739",
     "exception": false,
     "start_time": "2023-04-11T08:49:40.552127",
     "status": "completed"
    },
    "tags": []
   },
   "outputs": [
    {
     "name": "stdout",
     "output_type": "stream",
     "text": [
      "✅ Demo loaded successfully.\n",
      "✅ utils file '/home/ftp/data-product-framework/utils/demo.ipynb' successfully loaded.\n"
     ]
    }
   ],
   "source": [
    "import naas_data_product #load utils notebooks\n",
    "import time"
   ]
  },
  {
   "cell_type": "markdown",
   "id": "8e659ff5-80d3-43c9-8daf-1ae7f8d2a554",
   "metadata": {
    "papermill": {
     "duration": 0.033082,
     "end_time": "2023-04-11T08:49:45.566842",
     "exception": false,
     "start_time": "2023-04-11T08:49:45.533760",
     "status": "completed"
    },
    "tags": []
   },
   "source": [
    "### Setup Variables"
   ]
  },
  {
   "cell_type": "code",
   "execution_count": 2,
   "id": "c1a6eb30-fbb2-465e-a8f9-21baf6a8b547",
   "metadata": {
    "execution": {
     "iopub.execute_input": "2023-04-11T08:49:45.640784Z",
     "iopub.status.busy": "2023-04-11T08:49:45.640228Z",
     "iopub.status.idle": "2023-04-11T08:49:45.642032Z",
     "shell.execute_reply": "2023-04-11T08:49:45.642347Z",
     "shell.execute_reply.started": "2023-01-26T16:03:57.176382Z"
    },
    "papermill": {
     "duration": 0.044669,
     "end_time": "2023-04-11T08:49:45.642486",
     "exception": false,
     "start_time": "2023-04-11T08:49:45.597817",
     "status": "completed"
    },
    "tags": [
     "parameters"
    ]
   },
   "outputs": [],
   "source": [
    "sleeping_seconds = 5"
   ]
  },
  {
   "cell_type": "code",
   "execution_count": 3,
   "id": "95437d89",
   "metadata": {
    "execution": {
     "iopub.execute_input": "2023-04-11T08:49:45.734448Z",
     "iopub.status.busy": "2023-04-11T08:49:45.732286Z",
     "iopub.status.idle": "2023-04-11T08:49:45.735313Z",
     "shell.execute_reply": "2023-04-11T08:49:45.734950Z"
    },
    "papermill": {
     "duration": 0.04405,
     "end_time": "2023-04-11T08:49:45.735430",
     "exception": false,
     "start_time": "2023-04-11T08:49:45.691380",
     "status": "completed"
    },
    "tags": [
     "injected-parameters"
    ]
   },
   "outputs": [],
   "source": [
    "# Parameters\n",
    "sleeping_seconds = 1\n"
   ]
  },
  {
   "cell_type": "markdown",
   "id": "ea6ff4cf-cea6-420e-b190-5979156b5fed",
   "metadata": {
    "papermill": {
     "duration": 0.037677,
     "end_time": "2023-04-11T08:49:45.807323",
     "exception": false,
     "start_time": "2023-04-11T08:49:45.769646",
     "status": "completed"
    },
    "tags": []
   },
   "source": [
    "## Model"
   ]
  },
  {
   "cell_type": "markdown",
   "id": "57cc3ca7-a5a2-4ee9-bee0-61c593255eb5",
   "metadata": {
    "papermill": {
     "duration": 0.031871,
     "end_time": "2023-04-11T08:49:45.870291",
     "exception": false,
     "start_time": "2023-04-11T08:49:45.838420",
     "status": "completed"
    },
    "tags": []
   },
   "source": [
    "### Pause notebook execution"
   ]
  },
  {
   "cell_type": "code",
   "execution_count": 4,
   "id": "8bb2bcce-fae7-4095-abc3-a886c8dc24bf",
   "metadata": {
    "execution": {
     "iopub.execute_input": "2023-04-11T08:49:45.940532Z",
     "iopub.status.busy": "2023-04-11T08:49:45.940075Z",
     "iopub.status.idle": "2023-04-11T08:49:46.943534Z",
     "shell.execute_reply": "2023-04-11T08:49:46.943142Z",
     "shell.execute_reply.started": "2023-01-26T16:03:58.243268Z"
    },
    "papermill": {
     "duration": 1.041373,
     "end_time": "2023-04-11T08:49:46.943661",
     "exception": false,
     "start_time": "2023-04-11T08:49:45.902288",
     "status": "completed"
    },
    "tags": []
   },
   "outputs": [],
   "source": [
    "time.sleep(sleeping_seconds)"
   ]
  },
  {
   "cell_type": "markdown",
   "id": "d856dbf2-37a4-4e52-804a-81c3728b99a7",
   "metadata": {
    "papermill": {
     "duration": 0.037691,
     "end_time": "2023-04-11T08:49:47.025102",
     "exception": false,
     "start_time": "2023-04-11T08:49:46.987411",
     "status": "completed"
    },
    "tags": []
   },
   "source": [
    "## Output"
   ]
  },
  {
   "cell_type": "markdown",
   "id": "2c4996fc-6773-4b9b-bf78-b39bc9a88bf2",
   "metadata": {
    "papermill": {
     "duration": 0.040849,
     "end_time": "2023-04-11T08:49:47.112637",
     "exception": false,
     "start_time": "2023-04-11T08:49:47.071788",
     "status": "completed"
    },
    "tags": []
   },
   "source": [
    "### Display result"
   ]
  },
  {
   "cell_type": "code",
   "execution_count": 5,
   "id": "d26d8cee-8e57-4aab-b621-14f82e5010a5",
   "metadata": {
    "execution": {
     "iopub.execute_input": "2023-04-11T08:49:47.200203Z",
     "iopub.status.busy": "2023-04-11T08:49:47.199429Z",
     "iopub.status.idle": "2023-04-11T08:49:47.201135Z",
     "shell.execute_reply": "2023-04-11T08:49:47.199783Z",
     "shell.execute_reply.started": "2023-01-26T16:04:03.252384Z"
    },
    "papermill": {
     "duration": 0.042918,
     "end_time": "2023-04-11T08:49:47.201247",
     "exception": false,
     "start_time": "2023-04-11T08:49:47.158329",
     "status": "completed"
    },
    "tags": []
   },
   "outputs": [
    {
     "name": "stdout",
     "output_type": "stream",
     "text": [
      "Hello World!\n"
     ]
    }
   ],
   "source": [
    "print(\"Hello World!\")"
   ]
  },
  {
   "cell_type": "code",
   "execution_count": null,
   "id": "4c2c9208-8c77-4436-b73e-0af00a2e4d2c",
   "metadata": {
    "papermill": {
     "duration": 0.033379,
     "end_time": "2023-04-11T08:49:47.272816",
     "exception": false,
     "start_time": "2023-04-11T08:49:47.239437",
     "status": "completed"
    },
    "tags": []
   },
   "outputs": [],
   "source": []
  }
 ],
 "metadata": {
  "kernelspec": {
   "display_name": "Python 3",
   "language": "python",
   "name": "python3"
  },
  "language_info": {
   "codemirror_mode": {
    "name": "ipython",
    "version": 3
   },
   "file_extension": ".py",
   "mimetype": "text/x-python",
   "name": "python",
   "nbconvert_exporter": "python",
   "pygments_lexer": "ipython3",
   "version": "3.9.6"
  },
  "papermill": {
   "default_parameters": {},
   "duration": 8.882063,
   "end_time": "2023-04-11T08:49:48.026137",
   "environment_variables": {},
   "exception": null,
   "input_path": "../l4_insights/IMO_template.ipynb",
   "output_path": "pipeline_executions/2023-04-11_10-49-38-5a370caa-7007-4b65-9267-fa98aeeab3d3/Distribution2.IMO_template.ipynb",
   "parameters": {
    "sleeping_seconds": 1
   },
   "start_time": "2023-04-11T08:49:39.144074",
   "version": "2.3.3"
  },
  "widgets": {
   "application/vnd.jupyter.widget-state+json": {
    "state": {},
    "version_major": 2,
    "version_minor": 0
   }
  }
 },
 "nbformat": 4,
 "nbformat_minor": 5
}