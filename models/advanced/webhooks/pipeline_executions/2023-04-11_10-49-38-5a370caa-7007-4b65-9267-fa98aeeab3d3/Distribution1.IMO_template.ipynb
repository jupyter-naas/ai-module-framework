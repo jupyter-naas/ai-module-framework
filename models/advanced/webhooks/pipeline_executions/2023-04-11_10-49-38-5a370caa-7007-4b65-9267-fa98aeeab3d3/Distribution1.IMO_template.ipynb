{
 "cells": [
  {
   "cell_type": "markdown",
   "id": "dd66232c-09f1-44bf-8849-0cd5c52f78a6",
   "metadata": {
    "papermill": {
     "duration": 0.041213,
     "end_time": "2023-04-11T08:49:40.135092",
     "exception": false,
     "start_time": "2023-04-11T08:49:40.093879",
     "status": "completed"
    },
    "tags": []
   },
   "source": [
    "<img width=\"10%\" alt=\"Naas\" src=\"https://landen.imgix.net/jtci2pxwjczr/assets/5ice39g4.png?w=160\"/>"
   ]
  },
  {
   "cell_type": "markdown",
   "id": "633951dc-ca87-4032-ad2d-b76a909861bf",
   "metadata": {
    "papermill": {
     "duration": 0.031671,
     "end_time": "2023-04-11T08:49:40.200350",
     "exception": false,
     "start_time": "2023-04-11T08:49:40.168679",
     "status": "completed"
    },
    "tags": []
   },
   "source": [
    "# Demo"
   ]
  },
  {
   "cell_type": "markdown",
   "id": "524d5465-bce2-42f3-8d18-6f821dae07a5",
   "metadata": {
    "papermill": {
     "duration": 0.037812,
     "end_time": "2023-04-11T08:49:40.271189",
     "exception": false,
     "start_time": "2023-04-11T08:49:40.233377",
     "status": "completed"
    },
    "tags": []
   },
   "source": [
    "## Input"
   ]
  },
  {
   "cell_type": "markdown",
   "id": "918e5873-b444-43d4-aacd-852fffb5aceb",
   "metadata": {
    "papermill": {
     "duration": 0.055696,
     "end_time": "2023-04-11T08:49:40.360775",
     "exception": false,
     "start_time": "2023-04-11T08:49:40.305079",
     "status": "completed"
    },
    "tags": []
   },
   "source": [
    "### Import libraries"
   ]
  },
  {
   "cell_type": "code",
   "execution_count": 1,
   "id": "f6585d07-f50b-439a-84a9-4c0061870d29",
   "metadata": {
    "execution": {
     "iopub.execute_input": "2023-04-11T08:49:40.436553Z",
     "iopub.status.busy": "2023-04-11T08:49:40.436110Z",
     "iopub.status.idle": "2023-04-11T08:49:45.376356Z",
     "shell.execute_reply": "2023-04-11T08:49:45.377905Z",
     "shell.execute_reply.started": "2023-01-26T16:03:56.360749Z"
    },
    "papermill": {
     "duration": 4.982609,
     "end_time": "2023-04-11T08:49:45.378276",
     "exception": false,
     "start_time": "2023-04-11T08:49:40.395667",
     "status": "completed"
    },
    "tags": []
   },
   "outputs": [
    {
     "name": "stdout",
     "output_type": "stream",
     "text": [
      "✅ Demo loaded successfully.\n",
      "✅ utils file '/home/ftp/data-product-framework/utils/demo.ipynb' successfully loaded.\n"
     ]
    }
   ],
   "source": [
    "import naas_data_product #load utils notebooks\n",
    "import time"
   ]
  },
  {
   "cell_type": "markdown",
   "id": "8e659ff5-80d3-43c9-8daf-1ae7f8d2a554",
   "metadata": {
    "papermill": {
     "duration": 0.033291,
     "end_time": "2023-04-11T08:49:45.455058",
     "exception": false,
     "start_time": "2023-04-11T08:49:45.421767",
     "status": "completed"
    },
    "tags": []
   },
   "source": [
    "### Setup Variables"
   ]
  },
  {
   "cell_type": "code",
   "execution_count": 2,
   "id": "c1a6eb30-fbb2-465e-a8f9-21baf6a8b547",
   "metadata": {
    "execution": {
     "iopub.execute_input": "2023-04-11T08:49:45.542759Z",
     "iopub.status.busy": "2023-04-11T08:49:45.541930Z",
     "iopub.status.idle": "2023-04-11T08:49:45.543146Z",
     "shell.execute_reply": "2023-04-11T08:49:45.542383Z",
     "shell.execute_reply.started": "2023-01-26T16:03:57.176382Z"
    },
    "papermill": {
     "duration": 0.048637,
     "end_time": "2023-04-11T08:49:45.543261",
     "exception": false,
     "start_time": "2023-04-11T08:49:45.494624",
     "status": "completed"
    },
    "tags": [
     "parameters"
    ]
   },
   "outputs": [],
   "source": [
    "sleeping_seconds = 5"
   ]
  },
  {
   "cell_type": "code",
   "execution_count": 3,
   "id": "ca2c0a1c",
   "metadata": {
    "execution": {
     "iopub.execute_input": "2023-04-11T08:49:45.613148Z",
     "iopub.status.busy": "2023-04-11T08:49:45.612245Z",
     "iopub.status.idle": "2023-04-11T08:49:45.613973Z",
     "shell.execute_reply": "2023-04-11T08:49:45.614344Z"
    },
    "papermill": {
     "duration": 0.039564,
     "end_time": "2023-04-11T08:49:45.614488",
     "exception": false,
     "start_time": "2023-04-11T08:49:45.574924",
     "status": "completed"
    },
    "tags": [
     "injected-parameters"
    ]
   },
   "outputs": [],
   "source": [
    "# Parameters\n",
    "sleeping_seconds = 1\n"
   ]
  },
  {
   "cell_type": "markdown",
   "id": "ea6ff4cf-cea6-420e-b190-5979156b5fed",
   "metadata": {
    "papermill": {
     "duration": 0.036605,
     "end_time": "2023-04-11T08:49:45.685553",
     "exception": false,
     "start_time": "2023-04-11T08:49:45.648948",
     "status": "completed"
    },
    "tags": []
   },
   "source": [
    "## Model"
   ]
  },
  {
   "cell_type": "markdown",
   "id": "57cc3ca7-a5a2-4ee9-bee0-61c593255eb5",
   "metadata": {
    "papermill": {
     "duration": 0.03327,
     "end_time": "2023-04-11T08:49:45.760049",
     "exception": false,
     "start_time": "2023-04-11T08:49:45.726779",
     "status": "completed"
    },
    "tags": []
   },
   "source": [
    "### Pause notebook execution"
   ]
  },
  {
   "cell_type": "code",
   "execution_count": 4,
   "id": "8bb2bcce-fae7-4095-abc3-a886c8dc24bf",
   "metadata": {
    "execution": {
     "iopub.execute_input": "2023-04-11T08:49:45.830835Z",
     "iopub.status.busy": "2023-04-11T08:49:45.830391Z",
     "iopub.status.idle": "2023-04-11T08:49:46.833104Z",
     "shell.execute_reply": "2023-04-11T08:49:46.833670Z",
     "shell.execute_reply.started": "2023-01-26T16:03:58.243268Z"
    },
    "papermill": {
     "duration": 1.040145,
     "end_time": "2023-04-11T08:49:46.833843",
     "exception": false,
     "start_time": "2023-04-11T08:49:45.793698",
     "status": "completed"
    },
    "tags": []
   },
   "outputs": [],
   "source": [
    "time.sleep(sleeping_seconds)"
   ]
  },
  {
   "cell_type": "markdown",
   "id": "d856dbf2-37a4-4e52-804a-81c3728b99a7",
   "metadata": {
    "papermill": {
     "duration": 0.033591,
     "end_time": "2023-04-11T08:49:46.900242",
     "exception": false,
     "start_time": "2023-04-11T08:49:46.866651",
     "status": "completed"
    },
    "tags": []
   },
   "source": [
    "## Output"
   ]
  },
  {
   "cell_type": "markdown",
   "id": "2c4996fc-6773-4b9b-bf78-b39bc9a88bf2",
   "metadata": {
    "papermill": {
     "duration": 0.032135,
     "end_time": "2023-04-11T08:49:46.981452",
     "exception": false,
     "start_time": "2023-04-11T08:49:46.949317",
     "status": "completed"
    },
    "tags": []
   },
   "source": [
    "### Display result"
   ]
  },
  {
   "cell_type": "code",
   "execution_count": 5,
   "id": "d26d8cee-8e57-4aab-b621-14f82e5010a5",
   "metadata": {
    "execution": {
     "iopub.execute_input": "2023-04-11T08:49:47.064566Z",
     "iopub.status.busy": "2023-04-11T08:49:47.063885Z",
     "iopub.status.idle": "2023-04-11T08:49:47.065914Z",
     "shell.execute_reply": "2023-04-11T08:49:47.066495Z",
     "shell.execute_reply.started": "2023-01-26T16:04:03.252384Z"
    },
    "papermill": {
     "duration": 0.048916,
     "end_time": "2023-04-11T08:49:47.066762",
     "exception": false,
     "start_time": "2023-04-11T08:49:47.017846",
     "status": "completed"
    },
    "tags": []
   },
   "outputs": [
    {
     "name": "stdout",
     "output_type": "stream",
     "text": [
      "Hello World!\n"
     ]
    }
   ],
   "source": [
    "print(\"Hello World!\")"
   ]
  },
  {
   "cell_type": "code",
   "execution_count": null,
   "id": "4c2c9208-8c77-4436-b73e-0af00a2e4d2c",
   "metadata": {
    "papermill": {
     "duration": 0.034243,
     "end_time": "2023-04-11T08:49:47.152588",
     "exception": false,
     "start_time": "2023-04-11T08:49:47.118345",
     "status": "completed"
    },
    "tags": []
   },
   "outputs": [],
   "source": []
  }
 ],
 "metadata": {
  "kernelspec": {
   "display_name": "Python 3",
   "language": "python",
   "name": "python3"
  },
  "language_info": {
   "codemirror_mode": {
    "name": "ipython",
    "version": 3
   },
   "file_extension": ".py",
   "mimetype": "text/x-python",
   "name": "python",
   "nbconvert_exporter": "python",
   "pygments_lexer": "ipython3",
   "version": "3.9.6"
  },
  "papermill": {
   "default_parameters": {},
   "duration": 8.658659,
   "end_time": "2023-04-11T08:49:47.797879",
   "environment_variables": {},
   "exception": null,
   "input_path": "../l4_insights/IMO_template.ipynb",
   "output_path": "pipeline_executions/2023-04-11_10-49-38-5a370caa-7007-4b65-9267-fa98aeeab3d3/Distribution1.IMO_template.ipynb",
   "parameters": {
    "sleeping_seconds": 1
   },
   "start_time": "2023-04-11T08:49:39.139220",
   "version": "2.3.3"
  },
  "widgets": {
   "application/vnd.jupyter.widget-state+json": {
    "state": {},
    "version_major": 2,
    "version_minor": 0
   }
  }
 },
 "nbformat": 4,
 "nbformat_minor": 5
}