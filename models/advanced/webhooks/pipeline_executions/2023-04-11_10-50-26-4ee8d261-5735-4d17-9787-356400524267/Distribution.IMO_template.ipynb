{
 "cells": [
  {
   "cell_type": "markdown",
   "id": "dd66232c-09f1-44bf-8849-0cd5c52f78a6",
   "metadata": {
    "papermill": {
     "duration": 0.049253,
     "end_time": "2023-04-11T08:50:27.733496",
     "exception": false,
     "start_time": "2023-04-11T08:50:27.684243",
     "status": "completed"
    },
    "tags": []
   },
   "source": [
    "<img width=\"10%\" alt=\"Naas\" src=\"https://landen.imgix.net/jtci2pxwjczr/assets/5ice39g4.png?w=160\"/>"
   ]
  },
  {
   "cell_type": "markdown",
   "id": "633951dc-ca87-4032-ad2d-b76a909861bf",
   "metadata": {
    "papermill": {
     "duration": 0.04339,
     "end_time": "2023-04-11T08:50:27.815845",
     "exception": false,
     "start_time": "2023-04-11T08:50:27.772455",
     "status": "completed"
    },
    "tags": []
   },
   "source": [
    "# Demo"
   ]
  },
  {
   "cell_type": "markdown",
   "id": "524d5465-bce2-42f3-8d18-6f821dae07a5",
   "metadata": {
    "papermill": {
     "duration": 0.045145,
     "end_time": "2023-04-11T08:50:27.899362",
     "exception": false,
     "start_time": "2023-04-11T08:50:27.854217",
     "status": "completed"
    },
    "tags": []
   },
   "source": [
    "## Input"
   ]
  },
  {
   "cell_type": "markdown",
   "id": "918e5873-b444-43d4-aacd-852fffb5aceb",
   "metadata": {
    "papermill": {
     "duration": 0.040465,
     "end_time": "2023-04-11T08:50:27.992967",
     "exception": false,
     "start_time": "2023-04-11T08:50:27.952502",
     "status": "completed"
    },
    "tags": []
   },
   "source": [
    "### Import libraries"
   ]
  },
  {
   "cell_type": "code",
   "execution_count": 1,
   "id": "f6585d07-f50b-439a-84a9-4c0061870d29",
   "metadata": {
    "execution": {
     "iopub.execute_input": "2023-04-11T08:50:28.092902Z",
     "iopub.status.busy": "2023-04-11T08:50:28.092218Z",
     "iopub.status.idle": "2023-04-11T08:50:32.507996Z",
     "shell.execute_reply": "2023-04-11T08:50:32.508334Z",
     "shell.execute_reply.started": "2023-01-26T16:03:56.360749Z"
    },
    "papermill": {
     "duration": 4.476452,
     "end_time": "2023-04-11T08:50:32.508582",
     "exception": false,
     "start_time": "2023-04-11T08:50:28.032130",
     "status": "completed"
    },
    "tags": []
   },
   "outputs": [
    {
     "name": "stdout",
     "output_type": "stream",
     "text": [
      "✅ Demo loaded successfully.\n",
      "✅ utils file '/home/ftp/data-product-framework/utils/demo.ipynb' successfully loaded.\n"
     ]
    }
   ],
   "source": [
    "import naas_data_product #load utils notebooks\n",
    "import time"
   ]
  },
  {
   "cell_type": "markdown",
   "id": "8e659ff5-80d3-43c9-8daf-1ae7f8d2a554",
   "metadata": {
    "papermill": {
     "duration": 0.034083,
     "end_time": "2023-04-11T08:50:32.580872",
     "exception": false,
     "start_time": "2023-04-11T08:50:32.546789",
     "status": "completed"
    },
    "tags": []
   },
   "source": [
    "### Setup Variables"
   ]
  },
  {
   "cell_type": "code",
   "execution_count": 2,
   "id": "c1a6eb30-fbb2-465e-a8f9-21baf6a8b547",
   "metadata": {
    "execution": {
     "iopub.execute_input": "2023-04-11T08:50:32.656247Z",
     "iopub.status.busy": "2023-04-11T08:50:32.655567Z",
     "iopub.status.idle": "2023-04-11T08:50:32.657613Z",
     "shell.execute_reply": "2023-04-11T08:50:32.657284Z",
     "shell.execute_reply.started": "2023-01-26T16:03:57.176382Z"
    },
    "papermill": {
     "duration": 0.04289,
     "end_time": "2023-04-11T08:50:32.657731",
     "exception": false,
     "start_time": "2023-04-11T08:50:32.614841",
     "status": "completed"
    },
    "tags": [
     "parameters"
    ]
   },
   "outputs": [],
   "source": [
    "sleeping_seconds = 5"
   ]
  },
  {
   "cell_type": "code",
   "execution_count": 3,
   "id": "021bf0f5",
   "metadata": {
    "execution": {
     "iopub.execute_input": "2023-04-11T08:50:32.727540Z",
     "iopub.status.busy": "2023-04-11T08:50:32.725940Z",
     "iopub.status.idle": "2023-04-11T08:50:32.728022Z",
     "shell.execute_reply": "2023-04-11T08:50:32.728334Z"
    },
    "papermill": {
     "duration": 0.038895,
     "end_time": "2023-04-11T08:50:32.728469",
     "exception": false,
     "start_time": "2023-04-11T08:50:32.689574",
     "status": "completed"
    },
    "tags": [
     "injected-parameters"
    ]
   },
   "outputs": [],
   "source": [
    "# Parameters\n",
    "sleeping_seconds = 1\n"
   ]
  },
  {
   "cell_type": "markdown",
   "id": "ea6ff4cf-cea6-420e-b190-5979156b5fed",
   "metadata": {
    "papermill": {
     "duration": 0.041453,
     "end_time": "2023-04-11T08:50:32.805575",
     "exception": false,
     "start_time": "2023-04-11T08:50:32.764122",
     "status": "completed"
    },
    "tags": []
   },
   "source": [
    "## Model"
   ]
  },
  {
   "cell_type": "markdown",
   "id": "57cc3ca7-a5a2-4ee9-bee0-61c593255eb5",
   "metadata": {
    "papermill": {
     "duration": 0.033516,
     "end_time": "2023-04-11T08:50:32.875592",
     "exception": false,
     "start_time": "2023-04-11T08:50:32.842076",
     "status": "completed"
    },
    "tags": []
   },
   "source": [
    "### Pause notebook execution"
   ]
  },
  {
   "cell_type": "code",
   "execution_count": 4,
   "id": "8bb2bcce-fae7-4095-abc3-a886c8dc24bf",
   "metadata": {
    "execution": {
     "iopub.execute_input": "2023-04-11T08:50:32.959355Z",
     "iopub.status.busy": "2023-04-11T08:50:32.958925Z",
     "iopub.status.idle": "2023-04-11T08:50:33.962502Z",
     "shell.execute_reply": "2023-04-11T08:50:33.962126Z",
     "shell.execute_reply.started": "2023-01-26T16:03:58.243268Z"
    },
    "papermill": {
     "duration": 1.049604,
     "end_time": "2023-04-11T08:50:33.962634",
     "exception": false,
     "start_time": "2023-04-11T08:50:32.913030",
     "status": "completed"
    },
    "tags": []
   },
   "outputs": [],
   "source": [
    "time.sleep(sleeping_seconds)"
   ]
  },
  {
   "cell_type": "markdown",
   "id": "d856dbf2-37a4-4e52-804a-81c3728b99a7",
   "metadata": {
    "papermill": {
     "duration": 0.040993,
     "end_time": "2023-04-11T08:50:34.038288",
     "exception": false,
     "start_time": "2023-04-11T08:50:33.997295",
     "status": "completed"
    },
    "tags": []
   },
   "source": [
    "## Output"
   ]
  },
  {
   "cell_type": "markdown",
   "id": "2c4996fc-6773-4b9b-bf78-b39bc9a88bf2",
   "metadata": {
    "papermill": {
     "duration": 0.038241,
     "end_time": "2023-04-11T08:50:34.112442",
     "exception": false,
     "start_time": "2023-04-11T08:50:34.074201",
     "status": "completed"
    },
    "tags": []
   },
   "source": [
    "### Display result"
   ]
  },
  {
   "cell_type": "code",
   "execution_count": 5,
   "id": "d26d8cee-8e57-4aab-b621-14f82e5010a5",
   "metadata": {
    "execution": {
     "iopub.execute_input": "2023-04-11T08:50:34.196622Z",
     "iopub.status.busy": "2023-04-11T08:50:34.195422Z",
     "iopub.status.idle": "2023-04-11T08:50:34.198176Z",
     "shell.execute_reply": "2023-04-11T08:50:34.197800Z",
     "shell.execute_reply.started": "2023-01-26T16:04:03.252384Z"
    },
    "papermill": {
     "duration": 0.048067,
     "end_time": "2023-04-11T08:50:34.198297",
     "exception": false,
     "start_time": "2023-04-11T08:50:34.150230",
     "status": "completed"
    },
    "tags": []
   },
   "outputs": [
    {
     "name": "stdout",
     "output_type": "stream",
     "text": [
      "Hello World!\n"
     ]
    }
   ],
   "source": [
    "print(\"Hello World!\")"
   ]
  },
  {
   "cell_type": "code",
   "execution_count": null,
   "id": "4c2c9208-8c77-4436-b73e-0af00a2e4d2c",
   "metadata": {
    "papermill": {
     "duration": 0.039759,
     "end_time": "2023-04-11T08:50:34.274386",
     "exception": false,
     "start_time": "2023-04-11T08:50:34.234627",
     "status": "completed"
    },
    "tags": []
   },
   "outputs": [],
   "source": []
  }
 ],
 "metadata": {
  "kernelspec": {
   "display_name": "Python 3",
   "language": "python",
   "name": "python3"
  },
  "language_info": {
   "codemirror_mode": {
    "name": "ipython",
    "version": 3
   },
   "file_extension": ".py",
   "mimetype": "text/x-python",
   "name": "python",
   "nbconvert_exporter": "python",
   "pygments_lexer": "ipython3",
   "version": "3.9.6"
  },
  "papermill": {
   "default_parameters": {},
   "duration": 7.938722,
   "end_time": "2023-04-11T08:50:34.818455",
   "environment_variables": {},
   "exception": null,
   "input_path": "../l4_insights/IMO_template.ipynb",
   "output_path": "pipeline_executions/2023-04-11_10-50-26-4ee8d261-5735-4d17-9787-356400524267/Distribution.IMO_template.ipynb",
   "parameters": {
    "sleeping_seconds": 1
   },
   "start_time": "2023-04-11T08:50:26.879733",
   "version": "2.3.3"
  },
  "widgets": {
   "application/vnd.jupyter.widget-state+json": {
    "state": {},
    "version_major": 2,
    "version_minor": 0
   }
  }
 },
 "nbformat": 4,
 "nbformat_minor": 5
}