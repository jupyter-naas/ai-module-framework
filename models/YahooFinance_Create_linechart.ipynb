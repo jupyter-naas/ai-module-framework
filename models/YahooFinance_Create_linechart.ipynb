{
 "cells": [
  {
   "cell_type": "markdown",
   "id": "0945c819-fd6f-4dc2-93d7-9742277989f9",
   "metadata": {
    "papermill": {},
    "tags": []
   },
   "source": [
    "<img width=\"10%\" alt=\"Naas\" src=\"https://landen.imgix.net/jtci2pxwjczr/assets/5ice39g4.png?w=160\"/>"
   ]
  },
  {
   "cell_type": "markdown",
   "id": "descending-grammar",
   "metadata": {
    "papermill": {},
    "tags": []
   },
   "source": [
    "# YahooFinance - Create linechart\n",
    "<a href=\"https://app.naas.ai/user-redirect/naas/downloader?url=https://raw.githubusercontent.com/jupyter-naas/awesome-notebooks/master/YahooFinance/YahooFinance_Send_daily_prediction_to_Email.ipynb\" target=\"_parent\"><img src=\"https://naasai-public.s3.eu-west-3.amazonaws.com/open_in_naas.svg\"/></a>"
   ]
  },
  {
   "cell_type": "markdown",
   "id": "ea0f4d52-5687-4719-9b35-e5abcc48328b",
   "metadata": {
    "papermill": {},
    "tags": []
   },
   "source": [
    "**Tags:** #yahoofinance #trading #markdown #prediction #plotly #slack #naas_drivers #naas #investors #html #image"
   ]
  },
  {
   "cell_type": "markdown",
   "id": "15ce5111-42e8-479f-9002-975023b1d5f1",
   "metadata": {
    "papermill": {},
    "tags": []
   },
   "source": [
    "**Author:** [Florent Ravenel](https://www.linkedin.com/in/florent-ravenel/)"
   ]
  },
  {
   "cell_type": "markdown",
   "id": "d17064b3-00b5-4d71-96ba-38c6af450919",
   "metadata": {
    "papermill": {},
    "tags": []
   },
   "source": [
    "## Input"
   ]
  },
  {
   "cell_type": "markdown",
   "id": "eaabc504-0124-4420-adfd-f2955786ef70",
   "metadata": {
    "execution": {
     "iopub.execute_input": "2022-08-31T10:54:23.866665Z",
     "iopub.status.busy": "2022-08-31T10:54:23.866431Z",
     "iopub.status.idle": "2022-08-31T10:54:23.871270Z",
     "shell.execute_reply": "2022-08-31T10:54:23.870705Z",
     "shell.execute_reply.started": "2022-08-31T10:54:23.866641Z"
    },
    "tags": []
   },
   "source": [
    "### Get utils"
   ]
  },
  {
   "cell_type": "code",
   "execution_count": null,
   "id": "ee82486f-55d5-43db-a725-3aa6dd3b1611",
   "metadata": {
    "tags": []
   },
   "outputs": [],
   "source": [
    "# Load utils functions\n",
    "from os import path\n",
    "\n",
    "utils_path = \"../utils/__utils__.ipynb\"\n",
    "if not path.exists(utils_path):\n",
    "    utils_path = \"utils/__utils__.ipynb\"\n",
    "\n",
    "%run \"$utils_path\""
   ]
  },
  {
   "cell_type": "markdown",
   "id": "1d8f5e20-bcfc-4ceb-83ad-0856868327a0",
   "metadata": {
    "papermill": {},
    "tags": []
   },
   "source": [
    "### Import libraries"
   ]
  },
  {
   "cell_type": "code",
   "execution_count": null,
   "id": "fd368ba3-fc40-46db-af1d-a62d11573923",
   "metadata": {
    "papermill": {},
    "tags": []
   },
   "outputs": [],
   "source": [
    "import pandas as pd\n",
    "from naas_drivers import plotly\n",
    "from datetime import datetime\n",
    "import naas"
   ]
  },
  {
   "cell_type": "markdown",
   "id": "d9fa4258-e53a-4de1-bb65-4369f9cf8fa8",
   "metadata": {},
   "source": [
    "### Get Params"
   ]
  },
  {
   "cell_type": "code",
   "execution_count": null,
   "id": "c6f8573f-a1bb-4c38-8dcc-299cd7b8932a",
   "metadata": {
    "tags": []
   },
   "outputs": [],
   "source": [
    "ticker = PARAMS.get(\"TICKER\")\n",
    "data_point = PARAMS.get(\"DATA_POINT\")"
   ]
  },
  {
   "cell_type": "markdown",
   "id": "a7b35d3b-2771-41f4-ba14-1f1832e520d6",
   "metadata": {},
   "source": [
    "### Setup Inputs"
   ]
  },
  {
   "cell_type": "code",
   "execution_count": null,
   "id": "9f1c6482-9813-426c-914d-33d646611672",
   "metadata": {
    "tags": []
   },
   "outputs": [],
   "source": [
    "now = datetime.now().strftime(\"%Y-%m-%d\")\n",
    "excel_predict = path.join(OUTPUTS_PATH, f\"{ticker}_{now}.xlsx\")"
   ]
  },
  {
   "cell_type": "markdown",
   "id": "b9b9a046-0559-444c-916a-dfe5fe385edc",
   "metadata": {
    "papermill": {},
    "tags": []
   },
   "source": [
    "### Setup Outputs"
   ]
  },
  {
   "cell_type": "code",
   "execution_count": null,
   "id": "4eb2d451-00ad-491b-be40-3d968f1adddd",
   "metadata": {
    "papermill": {},
    "tags": []
   },
   "outputs": [],
   "source": [
    "image_output = path.join(OUTPUTS_PATH, f\"../outputs/{ticker}.png\")\n",
    "html_output = path.join(OUTPUTS_PATH, f\"../outputs/{ticker}.html\")"
   ]
  },
  {
   "cell_type": "markdown",
   "id": "0a1ad0db-97b3-4f84-a82e-517595d95f17",
   "metadata": {
    "papermill": {},
    "tags": []
   },
   "source": [
    "## Model"
   ]
  },
  {
   "cell_type": "markdown",
   "id": "9bf08bfc-bd3f-4d52-bacb-3a0e73ea4a21",
   "metadata": {
    "papermill": {},
    "tags": []
   },
   "source": [
    "### Get prediction dataset"
   ]
  },
  {
   "cell_type": "code",
   "execution_count": null,
   "id": "inside-sponsorship",
   "metadata": {
    "papermill": {},
    "tags": []
   },
   "outputs": [],
   "source": [
    "df_predict = pd.read_excel(excel_predict)\n",
    "\n",
    "# Display dataframe\n",
    "print(\"☑️ Rows fetched:\", len(df_predict))\n",
    "df_predict.head(1)"
   ]
  },
  {
   "cell_type": "markdown",
   "id": "plastic-boards",
   "metadata": {
    "papermill": {},
    "tags": []
   },
   "source": [
    "### Plot linechart"
   ]
  },
  {
   "cell_type": "code",
   "execution_count": null,
   "id": "pursuant-toyota",
   "metadata": {
    "papermill": {},
    "tags": []
   },
   "outputs": [],
   "source": [
    "fig = plotly.linechart(df_predict,\n",
    "                       x=\"Date\",\n",
    "                       y=[\"Close\", \"ARIMA\", \"SVR\", \"LINEAR\", \"COMPOUND\"],\n",
    "                       showlegend=True,\n",
    "                       title=f\"{ticker} predictions as of today, for next {str(data_point)} days.\")"
   ]
  },
  {
   "cell_type": "markdown",
   "id": "d71d8ad4-697d-4d4e-be8c-6c7d54d174e0",
   "metadata": {
    "papermill": {},
    "tags": []
   },
   "source": [
    "## Output"
   ]
  },
  {
   "cell_type": "markdown",
   "id": "moved-folder",
   "metadata": {
    "papermill": {},
    "tags": []
   },
   "source": [
    "### Save and share your graph in HTML"
   ]
  },
  {
   "cell_type": "code",
   "execution_count": null,
   "id": "0bbeb746-bde6-49c3-87ed-d355d8baa49f",
   "metadata": {
    "papermill": {},
    "tags": []
   },
   "outputs": [],
   "source": [
    "# Save your graph in HTML\n",
    "fig.write_html(html_output)\n",
    "\n",
    "# Share output with naas\n",
    "link_html = naas.asset.add(html_output, params={\"inline\": True})\n",
    "\n",
    "#-> Uncomment the line below to remove your asset\n",
    "# naas.asset.delete(html_output)"
   ]
  },
  {
   "cell_type": "markdown",
   "id": "338e79f1-65ae-4a78-9cf0-475ca75b367e",
   "metadata": {
    "execution": {
     "iopub.execute_input": "2022-04-25T15:05:55.410069Z",
     "iopub.status.busy": "2022-04-25T15:05:55.409689Z",
     "iopub.status.idle": "2022-04-25T15:05:55.412745Z",
     "shell.execute_reply": "2022-04-25T15:05:55.412096Z",
     "shell.execute_reply.started": "2022-04-25T15:05:55.410037Z"
    },
    "papermill": {},
    "tags": []
   },
   "source": [
    "### Save and share your graph in PNG"
   ]
  },
  {
   "cell_type": "code",
   "execution_count": null,
   "id": "a5c6f33b-0c7f-43fe-a24f-69c8cfab2226",
   "metadata": {
    "papermill": {},
    "tags": []
   },
   "outputs": [],
   "source": [
    "# Save your graph in PNG\n",
    "fig.write_image(image_output)\n",
    "\n",
    "# Share output with naas\n",
    "link_image = naas.asset.add(image_output)\n",
    "\n",
    "#-> Uncomment the line below to remove your asset\n",
    "# naas.asset.delete(image_output)"
   ]
  },
  {
   "cell_type": "markdown",
   "id": "c4b23d83-671d-4f29-9473-91bb5ef505a6",
   "metadata": {},
   "source": [
    "### Save assets"
   ]
  },
  {
   "cell_type": "code",
   "execution_count": null,
   "id": "35e10344-9ffd-4aaa-a4be-12d4b789e204",
   "metadata": {
    "tags": []
   },
   "outputs": [],
   "source": [
    "asset_dict = {\n",
    "    \"HTML_LINK\": link_html,\n",
    "    \"IMAGE_LINK\": link_image,\n",
    "}\n",
    "\n",
    "save_naas_assets(\"Plotly linechart\", asset_dict)"
   ]
  }
 ],
 "metadata": {
  "kernelspec": {
   "display_name": "Python 3",
   "language": "python",
   "name": "python3"
  },
  "language_info": {
   "codemirror_mode": {
    "name": "ipython",
    "version": 3
   },
   "file_extension": ".py",
   "mimetype": "text/x-python",
   "name": "python",
   "nbconvert_exporter": "python",
   "pygments_lexer": "ipython3",
   "version": "3.9.6"
  },
  "naas": {
   "notebook_id": "32f321ba-c5df-4e6a-9e67-e7eb95aa95c6",
   "notebook_path": "YahooFinance/YahooFinance_Send_daily_prediction_to_Email.ipynb"
  },
  "papermill": {
   "default_parameters": {},
   "environment_variables": {},
   "parameters": {},
   "version": "2.3.3"
  },
  "toc-autonumbering": false,
  "widgets": {
   "application/vnd.jupyter.widget-state+json": {
    "state": {},
    "version_major": 2,
    "version_minor": 0
   }
  }
 },
 "nbformat": 4,
 "nbformat_minor": 5
}
