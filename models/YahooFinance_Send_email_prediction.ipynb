{
 "cells": [
  {
   "cell_type": "markdown",
   "id": "0945c819-fd6f-4dc2-93d7-9742277989f9",
   "metadata": {
    "papermill": {},
    "tags": []
   },
   "source": [
    "<img width=\"10%\" alt=\"Naas\" src=\"https://landen.imgix.net/jtci2pxwjczr/assets/5ice39g4.png?w=160\"/>"
   ]
  },
  {
   "cell_type": "markdown",
   "id": "descending-grammar",
   "metadata": {
    "papermill": {},
    "tags": []
   },
   "source": [
    "# YahooFinance - Send daily prediction to Email\n",
    "<a href=\"https://app.naas.ai/user-redirect/naas/downloader?url=https://raw.githubusercontent.com/jupyter-naas/awesome-notebooks/master/YahooFinance/YahooFinance_Send_daily_prediction_to_Email.ipynb\" target=\"_parent\"><img src=\"https://naasai-public.s3.eu-west-3.amazonaws.com/open_in_naas.svg\"/></a>"
   ]
  },
  {
   "cell_type": "markdown",
   "id": "ea0f4d52-5687-4719-9b35-e5abcc48328b",
   "metadata": {
    "papermill": {},
    "tags": []
   },
   "source": [
    "**Tags:** #yahoofinance #trading #markdown #prediction #plotly #slack #naas_drivers #notification #naas #investors #automation #analytics #email #html #image"
   ]
  },
  {
   "cell_type": "markdown",
   "id": "15ce5111-42e8-479f-9002-975023b1d5f1",
   "metadata": {
    "papermill": {},
    "tags": []
   },
   "source": [
    "**Author:** [Florent Ravenel](https://www.linkedin.com/in/florent-ravenel/)"
   ]
  },
  {
   "cell_type": "markdown",
   "id": "solid-substance",
   "metadata": {
    "execution": {
     "iopub.execute_input": "2021-05-05T18:38:30.568241Z",
     "iopub.status.busy": "2021-05-05T18:38:30.567916Z",
     "iopub.status.idle": "2021-05-05T18:38:30.578313Z",
     "shell.execute_reply": "2021-05-05T18:38:30.577374Z",
     "shell.execute_reply.started": "2021-05-05T18:38:30.568205Z"
    },
    "papermill": {},
    "tags": []
   },
   "source": [
    "With this template, you can get any ticker available in [Yahoo finance](https://finance.yahoo.com/quote/TSLA/), add predictions and send a daily email with naas.<br> "
   ]
  },
  {
   "cell_type": "markdown",
   "id": "d17064b3-00b5-4d71-96ba-38c6af450919",
   "metadata": {
    "papermill": {},
    "tags": []
   },
   "source": [
    "## Input"
   ]
  },
  {
   "cell_type": "markdown",
   "id": "bd85ac54-69a3-4f29-9e20-d7e3058e1afc",
   "metadata": {},
   "source": [
    "### Get utils"
   ]
  },
  {
   "cell_type": "code",
   "execution_count": null,
   "id": "2178267c-dbdf-42b7-9630-2a0ec1fbd97e",
   "metadata": {
    "tags": []
   },
   "outputs": [],
   "source": [
    "# Load utils functions\n",
    "from os import path\n",
    "\n",
    "utils_path = \"../utils/__utils__.ipynb\"\n",
    "if not path.exists(utils_path):\n",
    "    utils_path = \"utils/__utils__.ipynb\"\n",
    "\n",
    "%run \"$utils_path\""
   ]
  },
  {
   "cell_type": "markdown",
   "id": "1d8f5e20-bcfc-4ceb-83ad-0856868327a0",
   "metadata": {
    "papermill": {},
    "tags": []
   },
   "source": [
    "### Import libraries"
   ]
  },
  {
   "cell_type": "code",
   "execution_count": null,
   "id": "fd368ba3-fc40-46db-af1d-a62d11573923",
   "metadata": {
    "papermill": {},
    "tags": []
   },
   "outputs": [],
   "source": [
    "import json\n",
    "import pandas as pd\n",
    "import naas\n",
    "import markdown2\n",
    "from datetime import datetime\n",
    "from IPython.core.display import display, HTML\n",
    "from naas_drivers import naasauth"
   ]
  },
  {
   "cell_type": "markdown",
   "id": "6e2eb2f8-9106-4357-a324-5051076a1dd9",
   "metadata": {},
   "source": [
    "### Get params"
   ]
  },
  {
   "cell_type": "code",
   "execution_count": null,
   "id": "7f01cda3-fe64-46c5-9440-9162185714c2",
   "metadata": {
    "tags": []
   },
   "outputs": [],
   "source": [
    "ticker = PARAMS.get(\"TICKER\")\n",
    "data_point = PARAMS.get(\"DATA_POINT\")\n",
    "email_to = PARAMS.get(\"EMAIL_TO\")"
   ]
  },
  {
   "cell_type": "markdown",
   "id": "803c592f-22c0-4014-be4e-0aeb4e6308f4",
   "metadata": {
    "papermill": {},
    "tags": []
   },
   "source": [
    "### Setup Email\n",
    "👉 Here you can input your sender email and destination email.<br>\n",
    "Note: emails are sent from notification@naas.ai by default"
   ]
  },
  {
   "cell_type": "code",
   "execution_count": null,
   "id": "02f0a43e-9270-43dc-9150-6a4f97a99b26",
   "metadata": {
    "papermill": {},
    "tags": []
   },
   "outputs": [],
   "source": [
    "email_subject = f\"📈 {ticker} predictions as of today\"\n",
    "email_from = naasauth.connect().user.me().get(\"username\")\n",
    "\n",
    "# Markdown template created on your local env\n",
    "email_content_md = path.join(OUTPUTS_PATH, \"email_content.md\")"
   ]
  },
  {
   "cell_type": "markdown",
   "id": "b9b9a046-0559-444c-916a-dfe5fe385edc",
   "metadata": {
    "papermill": {},
    "tags": []
   },
   "source": [
    "### Setup Inputs"
   ]
  },
  {
   "cell_type": "code",
   "execution_count": null,
   "id": "4eb2d451-00ad-491b-be40-3d968f1adddd",
   "metadata": {
    "papermill": {},
    "tags": []
   },
   "outputs": [],
   "source": [
    "csv_ticker = path.join(INPUTS_PATH, f\"{ticker}.csv\")\n",
    "now = datetime.now().strftime(\"%Y-%m-%d\")\n",
    "excel_predict = path.join(OUTPUTS_PATH, f\"{ticker}_{now}.xlsx\")"
   ]
  },
  {
   "cell_type": "markdown",
   "id": "68ce42e9-46d2-4bcc-bd84-cc709f8b14dc",
   "metadata": {
    "execution": {
     "iopub.execute_input": "2022-08-30T09:05:43.852440Z",
     "iopub.status.busy": "2022-08-30T09:05:43.852098Z",
     "iopub.status.idle": "2022-08-30T09:05:43.855516Z",
     "shell.execute_reply": "2022-08-30T09:05:43.854874Z",
     "shell.execute_reply.started": "2022-08-30T09:05:43.852405Z"
    },
    "tags": []
   },
   "source": [
    "### Get assets link"
   ]
  },
  {
   "cell_type": "code",
   "execution_count": null,
   "id": "9be40a58-f1f4-482a-ac8c-c6413b6c83bd",
   "metadata": {
    "tags": []
   },
   "outputs": [],
   "source": [
    "asset_name = \"Plotly linechart\"\n",
    "\n",
    "data = get_naas_assets(asset_name)\n",
    "link_html = data.get(\"HTML_LINK\")\n",
    "link_image = data.get(\"IMAGE_LINK\")"
   ]
  },
  {
   "cell_type": "markdown",
   "id": "0a1ad0db-97b3-4f84-a82e-517595d95f17",
   "metadata": {
    "papermill": {},
    "tags": []
   },
   "source": [
    "## Model"
   ]
  },
  {
   "cell_type": "markdown",
   "id": "manufactured-allocation",
   "metadata": {
    "papermill": {},
    "tags": []
   },
   "source": [
    "### Get dataset from Yahoo Finance"
   ]
  },
  {
   "cell_type": "code",
   "execution_count": null,
   "id": "powered-ensemble",
   "metadata": {
    "papermill": {},
    "tags": []
   },
   "outputs": [],
   "source": [
    "df_yahoo = pd.read_csv(csv_ticker)\n",
    "\n",
    "# Display dataframe\n",
    "print(\"☑️ Rows fetched:\", len(df_yahoo))\n",
    "df_yahoo.tail(1)"
   ]
  },
  {
   "cell_type": "markdown",
   "id": "9bf08bfc-bd3f-4d52-bacb-3a0e73ea4a21",
   "metadata": {
    "papermill": {},
    "tags": []
   },
   "source": [
    "### Get prediction"
   ]
  },
  {
   "cell_type": "code",
   "execution_count": null,
   "id": "inside-sponsorship",
   "metadata": {
    "papermill": {},
    "tags": []
   },
   "outputs": [],
   "source": [
    "df_predict = pd.read_excel(excel_predict)\n",
    "\n",
    "# Display dataframe\n",
    "print(\"☑️ Rows fetched:\", len(df_predict))\n",
    "df_predict.head(1)"
   ]
  },
  {
   "cell_type": "markdown",
   "id": "qualified-abuse",
   "metadata": {
    "papermill": {},
    "tags": []
   },
   "source": [
    "### Set actual data and variation"
   ]
  },
  {
   "cell_type": "code",
   "execution_count": null,
   "id": "c687f056-3a57-4f9e-9bdd-c790ae55e0d9",
   "metadata": {
    "papermill": {},
    "tags": []
   },
   "outputs": [],
   "source": [
    "def get_variation(df):\n",
    "    df = df.sort_values(\"Date\", ascending=False).reset_index(drop=True)\n",
    "    \n",
    "    # Get value and value comp\n",
    "    datanow = df.loc[0, \"Close\"]\n",
    "    datayesterday = df.loc[1, \"Close\"]\n",
    "    \n",
    "    # Calc variation en value and %\n",
    "    varv = datanow - datayesterday\n",
    "    varp = (varv / datanow)\n",
    "    \n",
    "    # Format result\n",
    "    datanow = \"${:,.2f}\".format(round(datanow, 1))\n",
    "    datayesterday = \"${:,.2f}\".format(round(datayesterday, 1))\n",
    "    varv = \"{:+,.2f}\".format(varv)\n",
    "    varp = \"{:+,.2%}\".format(varp)\n",
    "    return datanow, datayesterday, varv, varp\n",
    "\n",
    "DATANOW, DATAYESTERDAY, VARV, VARP = get_variation(df_yahoo)\n",
    "print(\"Value today:\", DATANOW)\n",
    "print(\"Value yesterday:\", DATAYESTERDAY)\n",
    "print(\"Var. in value:\", VARV)\n",
    "print(\"Var. in %:\", VARP)"
   ]
  },
  {
   "cell_type": "markdown",
   "id": "organic-montana",
   "metadata": {
    "execution": {
     "iopub.execute_input": "2021-04-02T19:41:00.756597Z",
     "iopub.status.busy": "2021-04-02T19:41:00.756289Z",
     "iopub.status.idle": "2021-04-02T19:41:00.765290Z",
     "shell.execute_reply": "2021-04-02T19:41:00.764718Z",
     "shell.execute_reply.started": "2021-04-02T19:41:00.756562Z"
    },
    "papermill": {},
    "tags": []
   },
   "source": [
    "### Set predict data"
   ]
  },
  {
   "cell_type": "code",
   "execution_count": null,
   "id": "f4c0ec8a-55bb-4018-b0f7-df956ae8d93b",
   "metadata": {
    "papermill": {},
    "tags": []
   },
   "outputs": [],
   "source": [
    "def get_prediction(df, prediction):\n",
    "    data = df.loc[0, prediction]\n",
    "    \n",
    "    # Format result\n",
    "    data = \"${:,.2f}\".format(round(data, 1))\n",
    "    return data\n",
    "\n",
    "ARIMA = get_prediction(df_predict, \"ARIMA\")\n",
    "print(\"Value ARIMA:\", ARIMA)\n",
    "SVR = get_prediction(df_predict, \"SVR\")\n",
    "print(\"Value SVR:\", SVR)\n",
    "LINEAR = get_prediction(df_predict, \"LINEAR\")\n",
    "print(\"Value LINEAR:\", LINEAR)\n",
    "COMPOUND = get_prediction(df_predict, \"COMPOUND\")\n",
    "print(\"Value COMPOUND:\", COMPOUND)"
   ]
  },
  {
   "cell_type": "markdown",
   "id": "280093d2-1b8e-44a1-8bb3-3985fd7e0367",
   "metadata": {
    "papermill": {},
    "tags": []
   },
   "source": [
    "### Create webhook to run your notebook again"
   ]
  },
  {
   "cell_type": "code",
   "execution_count": null,
   "id": "0f72adbf-be8e-444b-a01d-d789643a9783",
   "metadata": {
    "papermill": {},
    "tags": []
   },
   "outputs": [],
   "source": [
    "link_webhook = naas.webhook.add()"
   ]
  },
  {
   "cell_type": "markdown",
   "id": "cutting-credit",
   "metadata": {
    "papermill": {},
    "tags": []
   },
   "source": [
    "### Create Email template "
   ]
  },
  {
   "cell_type": "code",
   "execution_count": null,
   "id": "77f402e0-e200-4338-9e55-8f229eca4aeb",
   "metadata": {
    "papermill": {},
    "tags": []
   },
   "outputs": [],
   "source": [
    "%%writefile $email_content_md\n",
    "Hello world,\n",
    "\n",
    "The **TICKER** price is **DATANOW** right now, VARV vs yesterday (VARP).<br>\n",
    "Yesterday close : DATAYESTERDAY\n",
    "\n",
    "In +DATA_POINT days, basic ML models predict the following prices: \n",
    "\n",
    "- **arima**: ARIMA\n",
    "- **svr**: SVR\n",
    "- **linear**: LINEAR\n",
    "- **compound**: COMPOUND\n",
    "    \n",
    "<img href=link_html target=\"_blank\" src=link_image style=\"width:640px; height:360px;\" /><br>\n",
    "[Open dynamic chart](link_html)<br>\n",
    "\n",
    "Please find attached the data in Excel.<br>\n",
    "\n",
    "Have a nice day.\n",
    "<br>\n",
    "\n",
    "PS: You can [send the email again](link_webhook) if you need a fresh update.<br>\n",
    "<div><strong>Full Name</strong></div>\n",
    "<div>Open source lover | <a href=\"http://www.naas.ai/\" target=\"_blank\">Naas</a></div>\n",
    "<div>+ 33 1 23 45 67 89</div>\n",
    "<div><small>This is an automated email from my Naas account</small></div>"
   ]
  },
  {
   "cell_type": "markdown",
   "id": "encouraging-tomorrow",
   "metadata": {
    "papermill": {},
    "tags": []
   },
   "source": [
    "### Replace values in templates"
   ]
  },
  {
   "cell_type": "code",
   "execution_count": null,
   "id": "87401bf2-7bb1-41f6-b409-b3201ff195f5",
   "metadata": {
    "papermill": {},
    "tags": []
   },
   "outputs": [],
   "source": [
    "def replace_value(md):\n",
    "    post = md.replace(\"DATANOW\", str(DATANOW))\n",
    "    post = post.replace(\"TICKER\", str(ticker))\n",
    "    post = post.replace(\"DATAYESTERDAY\", str(DATAYESTERDAY))\n",
    "    post = post.replace(\"VARV\", str(VARV))\n",
    "    post = post.replace(\"VARP\", str(VARP))\n",
    "    post = post.replace(\"LINEAR\", str(LINEAR))\n",
    "    post = post.replace(\"SVR\", str(SVR))\n",
    "    post = post.replace(\"COMPOUND\", str(COMPOUND))\n",
    "    post = post.replace(\"ARIMA\", str(ARIMA))\n",
    "    post = post.replace(\"DATA_POINT\", str(data_point))\n",
    "    post = post.replace(\"link_image\", str(link_image))\n",
    "    post = post.replace(\"link_html\", str(link_html))\n",
    "    post = post.replace(\"link_webhook\", str(link_webhook))\n",
    "    return post"
   ]
  },
  {
   "cell_type": "markdown",
   "id": "08b62353-65c3-478c-806a-7b3b9957faf3",
   "metadata": {
    "papermill": {},
    "tags": []
   },
   "source": [
    "### Create Email content"
   ]
  },
  {
   "cell_type": "code",
   "execution_count": null,
   "id": "7898bb59-0635-472b-b5dc-5e016fce4b43",
   "metadata": {
    "papermill": {},
    "tags": []
   },
   "outputs": [],
   "source": [
    "content = open(email_content_md, \"r\").read()\n",
    "md = markdown2.markdown(content)\n",
    "email_content = replace_value(md)\n",
    "display(HTML(email_content))"
   ]
  },
  {
   "cell_type": "markdown",
   "id": "d71d8ad4-697d-4d4e-be8c-6c7d54d174e0",
   "metadata": {
    "papermill": {},
    "tags": []
   },
   "source": [
    "## Output"
   ]
  },
  {
   "cell_type": "markdown",
   "id": "quantitative-trader",
   "metadata": {
    "papermill": {},
    "tags": []
   },
   "source": [
    "### Send Email"
   ]
  },
  {
   "cell_type": "code",
   "execution_count": null,
   "id": "33559718-1af4-458e-a972-ff7ac7466e34",
   "metadata": {
    "papermill": {},
    "tags": []
   },
   "outputs": [],
   "source": [
    "naas.notification.send(email_to=email_to,\n",
    "                       subject=email_subject,\n",
    "                       html=email_content,\n",
    "                       files=[excel_predict],\n",
    "                       email_from=email_from)"
   ]
  }
 ],
 "metadata": {
  "kernelspec": {
   "display_name": "Python 3",
   "language": "python",
   "name": "python3"
  },
  "language_info": {
   "codemirror_mode": {
    "name": "ipython",
    "version": 3
   },
   "file_extension": ".py",
   "mimetype": "text/x-python",
   "name": "python",
   "nbconvert_exporter": "python",
   "pygments_lexer": "ipython3",
   "version": "3.9.6"
  },
  "naas": {
   "notebook_id": "32f321ba-c5df-4e6a-9e67-e7eb95aa95c6",
   "notebook_path": "YahooFinance/YahooFinance_Send_daily_prediction_to_Email.ipynb"
  },
  "papermill": {
   "default_parameters": {},
   "environment_variables": {},
   "parameters": {},
   "version": "2.3.3"
  },
  "toc-autonumbering": false,
  "widgets": {
   "application/vnd.jupyter.widget-state+json": {
    "state": {},
    "version_major": 2,
    "version_minor": 0
   }
  }
 },
 "nbformat": 4,
 "nbformat_minor": 5
}
