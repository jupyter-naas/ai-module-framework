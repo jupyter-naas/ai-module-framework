{
 "cells": [
  {
   "cell_type": "markdown",
   "id": "dd66232c-09f1-44bf-8849-0cd5c52f78a6",
   "metadata": {},
   "source": [
    "<img width=\"10%\" alt=\"Naas\" src=\"https://landen.imgix.net/jtci2pxwjczr/assets/5ice39g4.png?w=160\"/>"
   ]
  },
  {
   "cell_type": "markdown",
   "id": "633951dc-ca87-4032-ad2d-b76a909861bf",
   "metadata": {},
   "source": [
    "# Demo"
   ]
  },
  {
   "cell_type": "markdown",
   "id": "dc8969f9-6f45-4131-9983-a9cfec61be43",
   "metadata": {},
   "source": [
    "**Tags:** #naas #pipeline #automation #snippet"
   ]
  },
  {
   "cell_type": "markdown",
   "id": "29d1ba56-7c9e-4895-836e-afcbdb1bb75c",
   "metadata": {},
   "source": [
    "**Author:** [Florent Ravenel](https://www.linkedin.com/in/florent-ravenel/)"
   ]
  },
  {
   "cell_type": "markdown",
   "id": "524d5465-bce2-42f3-8d18-6f821dae07a5",
   "metadata": {},
   "source": [
    "## Input"
   ]
  },
  {
   "cell_type": "markdown",
   "id": "918e5873-b444-43d4-aacd-852fffb5aceb",
   "metadata": {},
   "source": [
    "### Import libraries"
   ]
  },
  {
   "cell_type": "code",
   "execution_count": 1,
   "id": "f6585d07-f50b-439a-84a9-4c0061870d29",
   "metadata": {
    "execution": {
     "iopub.execute_input": "2022-12-07T15:05:57.653753Z",
     "iopub.status.busy": "2022-12-07T15:05:57.653475Z",
     "iopub.status.idle": "2022-12-07T15:05:58.916999Z",
     "shell.execute_reply": "2022-12-07T15:05:58.916362Z",
     "shell.execute_reply.started": "2022-12-07T15:05:57.653669Z"
    },
    "tags": []
   },
   "outputs": [
    {
     "name": "stdout",
     "output_type": "stream",
     "text": [
      "✅ Demo loaded successfully.\n"
     ]
    }
   ],
   "source": [
    "import naas_data_product\n",
    "import time"
   ]
  },
  {
   "cell_type": "markdown",
   "id": "ea6ff4cf-cea6-420e-b190-5979156b5fed",
   "metadata": {},
   "source": [
    "## Model"
   ]
  },
  {
   "cell_type": "code",
   "execution_count": null,
   "id": "8bb2bcce-fae7-4095-abc3-a886c8dc24bf",
   "metadata": {},
   "outputs": [],
   "source": [
    "time.sleep(15)"
   ]
  },
  {
   "cell_type": "markdown",
   "id": "d856dbf2-37a4-4e52-804a-81c3728b99a7",
   "metadata": {},
   "source": [
    "## Output"
   ]
  },
  {
   "cell_type": "markdown",
   "id": "2c4996fc-6773-4b9b-bf78-b39bc9a88bf2",
   "metadata": {},
   "source": [
    "### Display result"
   ]
  },
  {
   "cell_type": "code",
   "execution_count": 2,
   "id": "d26d8cee-8e57-4aab-b621-14f82e5010a5",
   "metadata": {
    "execution": {
     "iopub.execute_input": "2022-12-07T15:05:58.922190Z",
     "iopub.status.busy": "2022-12-07T15:05:58.920602Z",
     "iopub.status.idle": "2022-12-07T15:05:58.926559Z",
     "shell.execute_reply": "2022-12-07T15:05:58.925852Z",
     "shell.execute_reply.started": "2022-12-07T15:05:58.922164Z"
    },
    "tags": []
   },
   "outputs": [
    {
     "name": "stdout",
     "output_type": "stream",
     "text": [
      "Hello World!\n"
     ]
    }
   ],
   "source": [
    "print(\"Hello World!\")"
   ]
  }
 ],
 "metadata": {
  "kernelspec": {
   "display_name": "Python 3",
   "language": "python",
   "name": "python3"
  },
  "language_info": {
   "codemirror_mode": {
    "name": "ipython",
    "version": 3
   },
   "file_extension": ".py",
   "mimetype": "text/x-python",
   "name": "python",
   "nbconvert_exporter": "python",
   "pygments_lexer": "ipython3",
   "version": "3.9.6"
  },
  "widgets": {
   "application/vnd.jupyter.widget-state+json": {
    "state": {},
    "version_major": 2,
    "version_minor": 0
   }
  }
 },
 "nbformat": 4,
 "nbformat_minor": 5
}
