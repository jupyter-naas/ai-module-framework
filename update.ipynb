{
 "cells": [
  {
   "cell_type": "markdown",
   "id": "injured-evolution",
   "metadata": {
    "papermill": {},
    "tags": []
   },
   "source": [
    "<img width=\"10%\" alt=\"GitHub\" src=\"https://github.githubassets.com/images/modules/logos_page/GitHub-Mark.png\"/>"
   ]
  },
  {
   "cell_type": "markdown",
   "id": "substantial-decline",
   "metadata": {
    "papermill": {},
    "tags": []
   },
   "source": [
    "# GitHub - Update project"
   ]
  },
  {
   "cell_type": "markdown",
   "id": "00619b69-5ce8-417a-b8b1-c81af6342f9c",
   "metadata": {
    "papermill": {},
    "tags": []
   },
   "source": [
    "**Tags:** #github #update #pull #snippet #project"
   ]
  },
  {
   "cell_type": "markdown",
   "id": "1446840e-74d1-4c76-afb6-4752a6b4a0c4",
   "metadata": {
    "papermill": {},
    "tags": []
   },
   "source": [
    "**Author:** [Florent Ravenel](https://www.linkedin.com/in/florent-ravenel/)"
   ]
  },
  {
   "cell_type": "markdown",
   "id": "dd3d4d6a-f15d-47f9-83ac-4208edf13bf9",
   "metadata": {
    "tags": []
   },
   "source": [
    "This notebook allows you to update your data product on your Naas server.\n",
    "- This project is developped by Naas open source community, if you like what we have built → [Sponsor us](https://github.com/sponsors/jupyter-naas)\n",
    "- Want to add new features? → [Create issues on GitHub](https://github.com/jupyter-naas/naas-content-engine/issues)\n",
    "\n",
    "Please follow the step below to setup this data product."
   ]
  },
  {
   "cell_type": "markdown",
   "id": "import_cell",
   "metadata": {
    "papermill": {},
    "tags": []
   },
   "source": [
    "## Update project ⚡️"
   ]
  },
  {
   "cell_type": "code",
   "execution_count": 1,
   "id": "e096b140-0418-4538-a66d-07c22b0ccbb9",
   "metadata": {
    "execution": {
     "iopub.execute_input": "2022-08-23T15:46:38.431592Z",
     "iopub.status.busy": "2022-08-23T15:46:38.431283Z",
     "iopub.status.idle": "2022-08-23T15:46:42.781665Z",
     "shell.execute_reply": "2022-08-23T15:46:42.781118Z",
     "shell.execute_reply.started": "2022-08-23T15:46:38.431497Z"
    },
    "jupyter": {
     "source_hidden": true
    },
    "tags": []
   },
   "outputs": [
    {
     "data": {
      "application/vnd.jupyter.widget-view+json": {
       "model_id": "533d7f96100d4eb48cf8d1a454c9c575",
       "version_major": 2,
       "version_minor": 0
      },
      "text/plain": [
       "Button(description='Update project', style=ButtonStyle())"
      ]
     },
     "metadata": {},
     "output_type": "display_data"
    },
    {
     "data": {
      "application/vnd.jupyter.widget-view+json": {
       "model_id": "4fbfaebc0f7a4c9fbf64b00f87c6c3da",
       "version_major": 2,
       "version_minor": 0
      },
      "text/plain": [
       "Output()"
      ]
     },
     "metadata": {},
     "output_type": "display_data"
    }
   ],
   "source": [
    "from IPython.display import display\n",
    "from ipywidgets import widgets\n",
    "import glob\n",
    "import naas\n",
    "from os import path\n",
    "from pathlib import Path\n",
    "\n",
    "output = widgets.Output()\n",
    "GIT_REPO_PATH = str(Path().parent.absolute())\n",
    "\n",
    "def update_github():\n",
    "    !cd \"$GIT_REPO_PATH\" && git reset --hard && git pull\n",
    "\n",
    "def install_requirements():\n",
    "    !pip install --user -r requirements.txt\n",
    "    \n",
    "def push_dependencies():\n",
    "    # Pushing common notebook to production\n",
    "    print(f\"🔄 Pushing 'common.ipynb' to production\")\n",
    "    naas.dependency.add(\"common.ipynb\")\n",
    "    \n",
    "    # Pushing social media notebooks to production\n",
    "    files = glob.glob(f\"{GIT_REPO_PATH}/*/*.ipynb\")\n",
    "    for file in files:\n",
    "        print(f\"🔄 Pushing {file} to production\")\n",
    "        naas.dependency.add(file)\n",
    "\n",
    "def update_project(btn):\n",
    "    output.clear_output()\n",
    "    \n",
    "    # Install requirements\n",
    "    install_requirements()\n",
    "    with output:\n",
    "        print(\"✅ Requirements installed.\")\n",
    "        \n",
    "    # Update repository\n",
    "    update_github()\n",
    "    with output:\n",
    "        print(\"✅ Update project successfull.\")\n",
    "        \n",
    "    # Push dependencies\n",
    "    push_dependencies()\n",
    "    with output:\n",
    "        print(\"✅ Dependencies successfully push in production.\")\n",
    "\n",
    "button = widgets.Button(description=\"Update project\")\n",
    "button.on_click(update_project)\n",
    "display(button, output)"
   ]
  },
  {
   "cell_type": "markdown",
   "id": "392ab6e7-4d4f-4447-b764-746bc3767533",
   "metadata": {},
   "source": [
    "----"
   ]
  }
 ],
 "metadata": {
  "kernelspec": {
   "display_name": "Python 3",
   "language": "python",
   "name": "python3"
  },
  "language_info": {
   "codemirror_mode": {
    "name": "ipython",
    "version": 3
   },
   "file_extension": ".py",
   "mimetype": "text/x-python",
   "name": "python",
   "nbconvert_exporter": "python",
   "pygments_lexer": "ipython3",
   "version": "3.9.6"
  },
  "naas": {
   "notebook_id": "77b7f93a-fb2a-483e-b98b-80735e426a64",
   "notebook_path": "Naas/Naas_Secret_demo.ipynb"
  },
  "papermill": {
   "default_parameters": {},
   "environment_variables": {},
   "parameters": {},
   "version": "2.3.3"
  },
  "toc-autonumbering": false,
  "widgets": {
   "application/vnd.jupyter.widget-state+json": {
    "state": {
     "2138ac7f7cc04bf193dc76deee31ad03": {
      "model_module": "@jupyter-widgets/controls",
      "model_module_version": "1.5.0",
      "model_name": "ButtonModel",
      "state": {
       "description": "Update project",
       "layout": "IPY_MODEL_6970e9465e054c2086d36146dc816677",
       "style": "IPY_MODEL_7eabf697bc5a48ad89d2e841ded256aa"
      }
     },
     "5140dd629bec4b61b7afc3716f63b332": {
      "model_module": "@jupyter-widgets/output",
      "model_module_version": "1.0.0",
      "model_name": "OutputModel",
      "state": {
       "layout": "IPY_MODEL_96447cf8a9e74e0d9a1bd541bdfbea91"
      }
     },
     "6970e9465e054c2086d36146dc816677": {
      "model_module": "@jupyter-widgets/base",
      "model_module_version": "1.2.0",
      "model_name": "LayoutModel",
      "state": {}
     },
     "7eabf697bc5a48ad89d2e841ded256aa": {
      "model_module": "@jupyter-widgets/controls",
      "model_module_version": "1.5.0",
      "model_name": "ButtonStyleModel",
      "state": {}
     },
     "96447cf8a9e74e0d9a1bd541bdfbea91": {
      "model_module": "@jupyter-widgets/base",
      "model_module_version": "1.2.0",
      "model_name": "LayoutModel",
      "state": {}
     }
    },
    "version_major": 2,
    "version_minor": 0
   }
  }
 },
 "nbformat": 4,
 "nbformat_minor": 5
}
