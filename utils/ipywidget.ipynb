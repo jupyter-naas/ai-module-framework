{
 "cells": [
  {
   "cell_type": "markdown",
   "id": "699f31aa-6d07-49df-8f20-f53770561bb1",
   "metadata": {},
   "source": [
    "<img width=\"10%\" alt=\"Naas\" src=\"https://landen.imgix.net/jtci2pxwjczr/assets/5ice39g4.png?w=160\"/>"
   ]
  },
  {
   "cell_type": "markdown",
   "id": "633951dc-ca87-4032-ad2d-b76a909861bf",
   "metadata": {},
   "source": [
    "# Utils - IPyWidgets"
   ]
  },
  {
   "cell_type": "markdown",
   "id": "5656dac8-40e8-47a9-9f05-95f84bcffc37",
   "metadata": {},
   "source": [
    "**Tags:** #utils #snippet #operations #ipywidgets "
   ]
  },
  {
   "cell_type": "markdown",
   "id": "66a96080-e8ef-4d0c-a4e7-20fe05909c21",
   "metadata": {},
   "source": [
    "**Author:** [Florent Ravenel](https://www.linkedin.com/in/florent-ravenel/)"
   ]
  },
  {
   "cell_type": "markdown",
   "id": "71d3ac41-a2af-4540-b6f4-c2a5be24714d",
   "metadata": {},
   "source": [
    "## Import libraries"
   ]
  },
  {
   "cell_type": "code",
   "execution_count": 21,
   "id": "48a0ba26-31f8-4097-bf19-852a39cfdf9f",
   "metadata": {
    "execution": {
     "iopub.execute_input": "2022-08-05T15:01:04.944887Z",
     "iopub.status.busy": "2022-08-05T15:01:04.944660Z",
     "iopub.status.idle": "2022-08-05T15:01:04.947955Z",
     "shell.execute_reply": "2022-08-05T15:01:04.947314Z",
     "shell.execute_reply.started": "2022-08-05T15:01:04.944864Z"
    },
    "tags": []
   },
   "outputs": [],
   "source": [
    "from IPython.display import display\n",
    "from ipywidgets import widgets\n",
    "import naas"
   ]
  },
  {
   "cell_type": "markdown",
   "id": "764f4999-10d3-469f-af3b-489d2722061b",
   "metadata": {},
   "source": [
    "## Functions"
   ]
  },
  {
   "cell_type": "markdown",
   "id": "f44e10e3-12c2-43a5-ac37-000109452266",
   "metadata": {
    "execution": {
     "iopub.execute_input": "2022-02-05T16:30:04.247951Z",
     "iopub.status.busy": "2022-02-05T16:30:04.247695Z",
     "iopub.status.idle": "2022-02-05T16:30:04.250751Z",
     "shell.execute_reply": "2022-02-05T16:30:04.250118Z",
     "shell.execute_reply.started": "2022-02-05T16:30:04.247927Z"
    },
    "tags": []
   },
   "source": [
    "### Set width regarding value len and default value"
   ]
  },
  {
   "cell_type": "code",
   "execution_count": null,
   "id": "b139fcee-93f1-4d5d-8ab0-65a33395bb10",
   "metadata": {},
   "outputs": [],
   "source": [
    "# WIDGET : WIDTH DEFAULT VALUES\n",
    "def set_width(value, default_width):\n",
    "    # 1 char = '8 px'\n",
    "    value_width = len(value) * 8\n",
    "\n",
    "    # Compare if default width\n",
    "    if value_width > default_width:\n",
    "        return value_width\n",
    "    else:\n",
    "        return default_width"
   ]
  },
  {
   "cell_type": "markdown",
   "id": "ff9999ff-0560-41dd-9bee-6cb0e3a16896",
   "metadata": {},
   "source": [
    "### Setup input text widget"
   ]
  },
  {
   "cell_type": "code",
   "execution_count": 22,
   "id": "64046878-20ff-4a4f-ae34-af3773fc43fc",
   "metadata": {
    "execution": {
     "iopub.execute_input": "2022-08-05T15:01:05.941880Z",
     "iopub.status.busy": "2022-08-05T15:01:05.941649Z",
     "iopub.status.idle": "2022-08-05T15:01:06.089529Z",
     "shell.execute_reply": "2022-08-05T15:01:06.088934Z",
     "shell.execute_reply.started": "2022-08-05T15:01:05.941858Z"
    },
    "tags": []
   },
   "outputs": [],
   "source": [
    "def set_input_text(\n",
    "    description,\n",
    "    value,\n",
    "    description_width_df,\n",
    "    value_width_df\n",
    "):\n",
    "    # Calc value\n",
    "    description_width = set_width(description, description_width_df)\n",
    "    value_width = set_width(value, value_width_df)\n",
    "    if value_width > value_width_df:\n",
    "        value_width = value_width + len(description) * 8 + 16\n",
    "    \n",
    "    # Setup style and layout\n",
    "    style = {'description_width': f\"{str(description_width)}px\"}\n",
    "    layout = widgets.Layout(width=f\"{str(value_width)}px\")\n",
    "    \n",
    "    # Create widget\n",
    "    widget = widgets.Text(\n",
    "        description=description,\n",
    "        value=value,\n",
    "        style=style, \n",
    "        layout=layout\n",
    "    )\n",
    "    return widget"
   ]
  }
 ],
 "metadata": {
  "kernelspec": {
   "display_name": "Python 3",
   "language": "python",
   "name": "python3"
  },
  "language_info": {
   "codemirror_mode": {
    "name": "ipython",
    "version": 3
   },
   "file_extension": ".py",
   "mimetype": "text/x-python",
   "name": "python",
   "nbconvert_exporter": "python",
   "pygments_lexer": "ipython3",
   "version": "3.9.6"
  }
 },
 "nbformat": 4,
 "nbformat_minor": 5
}
