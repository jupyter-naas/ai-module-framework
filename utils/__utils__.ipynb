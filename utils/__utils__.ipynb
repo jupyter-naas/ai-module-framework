{
 "cells": [
  {
   "cell_type": "markdown",
   "id": "0fe69480-22c1-4927-9217-6bdb459b5d56",
   "metadata": {},
   "source": [
    "<img width=\"10%\" alt=\"Naas\" src=\"https://landen.imgix.net/jtci2pxwjczr/assets/5ice39g4.png?w=160\"/>"
   ]
  },
  {
   "cell_type": "markdown",
   "id": "1da2bba4-1b4c-4daa-a7c8-487c3a740eba",
   "metadata": {},
   "source": [
    "# Utils"
   ]
  },
  {
   "cell_type": "markdown",
   "id": "8bca19c0-4ce9-4caf-b1ab-1bed49b850bd",
   "metadata": {},
   "source": [
    "**Author:** [Florent Ravenel](https://www.linkedin.com/in/florent-ravenel/)"
   ]
  },
  {
   "cell_type": "markdown",
   "id": "3bbb5431-bde9-43a9-b3bf-706cceee9feb",
   "metadata": {},
   "source": [
    "Get and load all utils notebooks"
   ]
  },
  {
   "cell_type": "markdown",
   "id": "a03e20c0-49a0-4204-b5f9-c1f89850dd8b",
   "metadata": {},
   "source": [
    "## Input"
   ]
  },
  {
   "cell_type": "markdown",
   "id": "dbc31862-a80f-4f73-b41c-45c616c7991b",
   "metadata": {},
   "source": [
    "### Import libraries"
   ]
  },
  {
   "cell_type": "code",
   "execution_count": null,
   "id": "ee961415-6782-4a06-96e8-f6ab708631a3",
   "metadata": {
    "tags": []
   },
   "outputs": [],
   "source": [
    "import glob"
   ]
  },
  {
   "cell_type": "markdown",
   "id": "17772827-ea8b-4d47-be40-8be22d3a6568",
   "metadata": {},
   "source": [
    "## Model"
   ]
  },
  {
   "cell_type": "markdown",
   "id": "42acd9cc-0563-40df-87c9-2042807a41e3",
   "metadata": {},
   "source": [
    "### Get utils files"
   ]
  },
  {
   "cell_type": "code",
   "execution_count": null,
   "id": "97200f52-d6d6-46c9-81b4-70d7e10caa70",
   "metadata": {
    "tags": []
   },
   "outputs": [],
   "source": [
    "try:\n",
    "    util_path = utils_path.split(\"__utils__\")[0]\n",
    "    utils_notebooks = f\"{util_path}*.ipynb\"\n",
    "except:\n",
    "    utils_notebooks = \"*.ipynb\"\n",
    "    \n",
    "utils_files = sorted(glob.glob(utils_notebooks))\n",
    "utils_files"
   ]
  },
  {
   "cell_type": "markdown",
   "id": "fe18dc36-3eda-4b3d-8ce5-0a5f3edccde0",
   "metadata": {},
   "source": [
    "## Output"
   ]
  },
  {
   "cell_type": "markdown",
   "id": "e89bcd37-83cd-4f10-9f0c-ff2be8223ded",
   "metadata": {},
   "source": [
    "### Load utils"
   ]
  },
  {
   "cell_type": "code",
   "execution_count": null,
   "id": "21e079ad-5498-4e82-b508-1325f2a55df2",
   "metadata": {
    "tags": []
   },
   "outputs": [],
   "source": [
    "for file in utils_files:\n",
    "    if not file.endswith(\"__utils__.ipynb\"):\n",
    "        %run \"$file\"\n",
    "        print(f\"✅ Notebook '{file}' loaded.\")"
   ]
  }
 ],
 "metadata": {
  "kernelspec": {
   "display_name": "Python 3",
   "language": "python",
   "name": "python3"
  },
  "language_info": {
   "codemirror_mode": {
    "name": "ipython",
    "version": 3
   },
   "file_extension": ".py",
   "mimetype": "text/x-python",
   "name": "python",
   "nbconvert_exporter": "python",
   "pygments_lexer": "ipython3",
   "version": "3.9.6"
  }
 },
 "nbformat": 4,
 "nbformat_minor": 5
}
