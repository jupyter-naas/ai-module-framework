{
 "cells": [
  {
   "cell_type": "markdown",
   "id": "0fe69480-22c1-4927-9217-6bdb459b5d56",
   "metadata": {},
   "source": [
    "<img width=\"10%\" alt=\"Naas\" src=\"https://landen.imgix.net/jtci2pxwjczr/assets/5ice39g4.png?w=160\"/>"
   ]
  },
  {
   "cell_type": "markdown",
   "id": "1da2bba4-1b4c-4daa-a7c8-487c3a740eba",
   "metadata": {},
   "source": [
    "# Project helper"
   ]
  },
  {
   "cell_type": "markdown",
   "id": "8bca19c0-4ce9-4caf-b1ab-1bed49b850bd",
   "metadata": {},
   "source": [
    "**Author:** [Florent Ravenel](https://www.linkedin.com/in/florent-ravenel/)"
   ]
  },
  {
   "cell_type": "markdown",
   "id": "3bbb5431-bde9-43a9-b3bf-706cceee9feb",
   "metadata": {},
   "source": [
    "Get and save naas assets in outputs."
   ]
  },
  {
   "cell_type": "markdown",
   "id": "a03e20c0-49a0-4204-b5f9-c1f89850dd8b",
   "metadata": {},
   "source": [
    "## Input"
   ]
  },
  {
   "cell_type": "markdown",
   "id": "dbc31862-a80f-4f73-b41c-45c616c7991b",
   "metadata": {},
   "source": [
    "### Import libraries"
   ]
  },
  {
   "cell_type": "code",
   "execution_count": null,
   "id": "ee961415-6782-4a06-96e8-f6ab708631a3",
   "metadata": {
    "tags": []
   },
   "outputs": [],
   "source": [
    "import os\n",
    "import json"
   ]
  },
  {
   "cell_type": "markdown",
   "id": "17772827-ea8b-4d47-be40-8be22d3a6568",
   "metadata": {},
   "source": [
    "## Model"
   ]
  },
  {
   "cell_type": "markdown",
   "id": "42acd9cc-0563-40df-87c9-2042807a41e3",
   "metadata": {},
   "source": [
    "### Setup project folders"
   ]
  },
  {
   "cell_type": "code",
   "execution_count": null,
   "id": "97200f52-d6d6-46c9-81b4-70d7e10caa70",
   "metadata": {
    "tags": []
   },
   "outputs": [],
   "source": [
    "def in_sub_folder(path):\n",
    "    path = path.split('/')\n",
    "    for folder in ['inputs', 'models', 'outputs', 'utils']:\n",
    "        if folder in path:\n",
    "            return True\n",
    "    return False\n",
    "\n",
    "def get_root(path):\n",
    "    if in_sub_folder(path) is False:\n",
    "        return path\n",
    "    else:\n",
    "        return get_root('/'.join(path.split('/')[:-1]))\n",
    "    \n",
    "ROOT_PATH = get_root(globals()['_dh'][0])\n",
    "INPUTS_PATH = os.path.join(ROOT_PATH, 'inputs')\n",
    "MODELS_PATH = os.path.join(ROOT_PATH, 'models')\n",
    "OUTPUTS_PATH = os.path.join(ROOT_PATH, 'outputs')"
   ]
  },
  {
   "cell_type": "markdown",
   "id": "de67e254-7766-484d-9293-c5767144e25d",
   "metadata": {},
   "source": [
    "### Setup project files"
   ]
  },
  {
   "cell_type": "code",
   "execution_count": null,
   "id": "19d4ad4a-838e-4857-8403-4603ddeef4cd",
   "metadata": {},
   "outputs": [],
   "source": [
    "# File name\n",
    "PARAMS_NAME = 'params.json'\n",
    "ASSETS_NAME = '__naas_assets__.json'\n",
    "\n",
    "# File path\n",
    "PARAMS_PATH = os.path.join(INPUTS_PATH, PARAMS_NAME)\n",
    "ASSETS_PATH = os.path.join(OUTPUTS_PATH, ASSETS_NAME)"
   ]
  },
  {
   "cell_type": "markdown",
   "id": "99e42b26-da81-47f5-b117-9099cb9b60d4",
   "metadata": {},
   "source": [
    "### Get params"
   ]
  },
  {
   "cell_type": "code",
   "execution_count": null,
   "id": "964c371e-ddf1-4360-aa5d-92eb8ae992ea",
   "metadata": {},
   "outputs": [],
   "source": [
    "if os.path.exists(PARAMS_PATH):\n",
    "    with open(PARAMS_PATH) as f:\n",
    "        PARAMS = json.load(f)"
   ]
  },
  {
   "cell_type": "markdown",
   "id": "fe18dc36-3eda-4b3d-8ce5-0a5f3edccde0",
   "metadata": {},
   "source": [
    "## Output"
   ]
  },
  {
   "cell_type": "code",
   "execution_count": null,
   "id": "e8e05194-a360-49aa-8eab-e8b5885a58c1",
   "metadata": {},
   "outputs": [],
   "source": []
  },
  {
   "cell_type": "code",
   "execution_count": null,
   "id": "3ec71867-7d7f-4701-9be2-262db3e71a02",
   "metadata": {},
   "outputs": [],
   "source": []
  }
 ],
 "metadata": {
  "kernelspec": {
   "display_name": "Python 3",
   "language": "python",
   "name": "python3"
  },
  "language_info": {
   "codemirror_mode": {
    "name": "ipython",
    "version": 3
   },
   "file_extension": ".py",
   "mimetype": "text/x-python",
   "name": "python",
   "nbconvert_exporter": "python",
   "pygments_lexer": "ipython3",
   "version": "3.9.6"
  }
 },
 "nbformat": 4,
 "nbformat_minor": 5
}
