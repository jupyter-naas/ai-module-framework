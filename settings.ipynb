{
 "cells": [
  {
   "cell_type": "markdown",
   "id": "injured-evolution",
   "metadata": {
    "papermill": {},
    "tags": []
   },
   "source": [
    "<img width=\"10%\" alt=\"Naas\" src=\"https://landen.imgix.net/jtci2pxwjczr/assets/5ice39g4.png?w=160\"/>"
   ]
  },
  {
   "cell_type": "markdown",
   "id": "substantial-decline",
   "metadata": {
    "papermill": {},
    "tags": []
   },
   "source": [
    "# Settings"
   ]
  },
  {
   "cell_type": "markdown",
   "id": "d288008a-adf4-47e8-acf5-55a0d2f9ae4e",
   "metadata": {},
   "source": [
    "<div class=\"alert alert-success\" role=\"info\">\n",
    "    <p><b>Note:</b> this data product framework is developed by Naas open source community. You can <a href=\"https://github.com/sponsors/jupyter-naas\" target=\"_blank\">sponsor us</a> if you find it usefull.\n",
    "</p>\n",
    "</div>"
   ]
  },
  {
   "cell_type": "markdown",
   "id": "dd3d4d6a-f15d-47f9-83ac-4208edf13bf9",
   "metadata": {
    "tags": []
   },
   "source": [
    "This notebook allows you to configure and run your data product on your Naas server. *Create an account on [Naas.ai](https://www.naas.ai/free-forever) if you don't already have one.*\n",
    "\n",
    "Please follow the step below to setup this data product."
   ]
  },
  {
   "cell_type": "markdown",
   "id": "4df006e1-c200-4a11-9b37-473864001e67",
   "metadata": {},
   "source": [
    "## Install requirements\n",
    "Install the packages required to run the product."
   ]
  },
  {
   "cell_type": "code",
   "execution_count": null,
   "id": "d7e9b5d5-36ff-4ba2-bce8-253367a73949",
   "metadata": {
    "tags": []
   },
   "outputs": [],
   "source": [
    "!pip install --user --upgrade -r \"requirements.txt\""
   ]
  },
  {
   "cell_type": "markdown",
   "id": "1a030436-1334-4773-8351-43d2d00b0660",
   "metadata": {},
   "source": [
    "## Setup Naas secrets\n",
    "This cell below help you to setup naas secret used in your data product\n",
    "- `list_secrets_name`: List all secrets name used in your data product"
   ]
  },
  {
   "cell_type": "code",
   "execution_count": null,
   "id": "b50b2693-4e72-47eb-ac41-8d2d49cdc038",
   "metadata": {
    "tags": []
   },
   "outputs": [],
   "source": [
    "import naas\n",
    "list_secrets_name = [\"TOOL1_TOKEN\", \"TOOL2_TOKEN\"]\n",
    "for secret in list_secrets_name:\n",
    "    if not naas.secret.get(secret):\n",
    "        print(\"🔑 Setup secret:\", secret)\n",
    "        secret_value = input(\"Secret value:\")\n",
    "        if secret_value:\n",
    "            naas.secret.add(secret, secret_value)"
   ]
  },
  {
   "cell_type": "markdown",
   "id": "a43b79e8-ea60-4e95-aa0f-23b303ae13f6",
   "metadata": {},
   "source": [
    "## Setup GitHub"
   ]
  },
  {
   "cell_type": "code",
   "execution_count": null,
   "id": "3c2a2b0a-0c51-4b8b-af0b-58b72277fb43",
   "metadata": {},
   "outputs": [],
   "source": [
    "github_username = '<github_username>'\n",
    "github_token = naas.secret.get('GITHUB_TOKEN')\n",
    "github_org = None or 'jupyter-naas'\n",
    "repo_name = \"data-product\""
   ]
  }
 ],
 "metadata": {
  "kernelspec": {
   "display_name": "Python 3",
   "language": "python",
   "name": "python3"
  },
  "language_info": {
   "codemirror_mode": {
    "name": "ipython",
    "version": 3
   },
   "file_extension": ".py",
   "mimetype": "text/x-python",
   "name": "python",
   "nbconvert_exporter": "python",
   "pygments_lexer": "ipython3",
   "version": "3.9.6"
  },
  "naas": {
   "notebook_id": "77b7f93a-fb2a-483e-b98b-80735e426a64",
   "notebook_path": "Naas/Naas_Secret_demo.ipynb"
  },
  "papermill": {
   "default_parameters": {},
   "environment_variables": {},
   "parameters": {},
   "version": "2.3.3"
  },
  "toc-autonumbering": false,
  "widgets": {
   "application/vnd.jupyter.widget-state+json": {
    "state": {},
    "version_major": 2,
    "version_minor": 0
   }
  }
 },
 "nbformat": 4,
 "nbformat_minor": 5
}
