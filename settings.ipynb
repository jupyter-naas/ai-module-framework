{
 "cells": [
  {
   "cell_type": "markdown",
   "id": "injured-evolution",
   "metadata": {
    "papermill": {},
    "tags": []
   },
   "source": [
    "<img width=\"10%\" alt=\"Naas\" src=\"https://landen.imgix.net/jtci2pxwjczr/assets/5ice39g4.png?w=160\"/>"
   ]
  },
  {
   "cell_type": "markdown",
   "id": "substantial-decline",
   "metadata": {
    "papermill": {},
    "tags": []
   },
   "source": [
    "# Naas - Product Settings"
   ]
  },
  {
   "cell_type": "markdown",
   "id": "00619b69-5ce8-417a-b8b1-c81af6342f9c",
   "metadata": {
    "papermill": {},
    "tags": []
   },
   "source": [
    "**Tags:** #naas #automation #engine"
   ]
  },
  {
   "cell_type": "markdown",
   "id": "1446840e-74d1-4c76-afb6-4752a6b4a0c4",
   "metadata": {
    "papermill": {},
    "tags": []
   },
   "source": [
    "**Author:** [Florent Ravenel](https://www.linkedin.com/in/florent-ravenel/)"
   ]
  },
  {
   "cell_type": "markdown",
   "id": "dd3d4d6a-f15d-47f9-83ac-4208edf13bf9",
   "metadata": {
    "tags": []
   },
   "source": [
    "This notebook allows you to configure and run your data product on your Naas server. *Create an account on [Naas.ai](https://www.naas.ai/free-forever) if you don't already have one.*\n",
    "- This project is developped by Naas open source community, if you like what we have built → [Sponsor us](https://github.com/sponsors/jupyter-naas)\n",
    "- Want to add new features? → [Create issues on GitHub](https://github.com/jupyter-naas/naas-content-engine/issues)\n",
    "\n",
    "Please follow the step below to setup this data product."
   ]
  },
  {
   "cell_type": "markdown",
   "id": "22bc03f1-acd1-4afe-8032-38434eefdd44",
   "metadata": {},
   "source": [
    "## Product Settings"
   ]
  },
  {
   "cell_type": "markdown",
   "id": "22cd038a-8a54-4ad8-b8d0-95a27a8596de",
   "metadata": {},
   "source": [
    "### Setup Yahoo Finance"
   ]
  },
  {
   "cell_type": "code",
   "execution_count": null,
   "id": "fa902c66-074f-4413-bacb-a2ae0e8ab3bf",
   "metadata": {},
   "outputs": [],
   "source": [
    "ticker = \"TSLA\"\n",
    "date_from = -100\n",
    "date_to = 'today'\n",
    "interval = '1d'\n",
    "moving_averages = [20, 50]"
   ]
  },
  {
   "cell_type": "markdown",
   "id": "292efcb0-9d0e-4370-ac58-b180390009e0",
   "metadata": {},
   "source": [
    "---"
   ]
  },
  {
   "cell_type": "markdown",
   "id": "ffb06c99-9145-4d51-8109-cdb5d36630a8",
   "metadata": {},
   "source": [
    "## General settings"
   ]
  },
  {
   "cell_type": "markdown",
   "id": "e2b72a55-49ff-4168-b2dc-879c0e029f53",
   "metadata": {},
   "source": [
    "---"
   ]
  },
  {
   "cell_type": "markdown",
   "id": "3c1d267e-6970-4db2-a20e-469a2dcd2108",
   "metadata": {},
   "source": [
    "### Define your timezone\n",
    "*Find the value to setup your timezone in this [article](https://en.wikipedia.org/wiki/List_of_tz_database_time_zones)*."
   ]
  },
  {
   "cell_type": "code",
   "execution_count": null,
   "id": "1c63fee2-488c-4e55-af4c-25f4ef1d008d",
   "metadata": {},
   "outputs": [],
   "source": [
    "timezone = \"Europe/Paris\"\n",
    "\n",
    "naas.set_remote_timezone(timezone)"
   ]
  },
  {
   "cell_type": "markdown",
   "id": "57924eee-e7d9-4c12-a917-1cc4c41a6ae9",
   "metadata": {},
   "source": [
    "---"
   ]
  },
  {
   "cell_type": "markdown",
   "id": "4df006e1-c200-4a11-9b37-473864001e67",
   "metadata": {},
   "source": [
    "### Install requirements"
   ]
  },
  {
   "cell_type": "code",
   "execution_count": null,
   "id": "a7814359-13fe-4424-b6d6-da8a1b8f5d5d",
   "metadata": {},
   "outputs": [],
   "source": [
    "!pip install --user -r requirements.txt"
   ]
  },
  {
   "cell_type": "markdown",
   "id": "a859c2c1-acd2-4d6b-b756-b548c8f0d8de",
   "metadata": {},
   "source": [
    "---"
   ]
  },
  {
   "cell_type": "markdown",
   "id": "5f8e72bd-351f-40d6-af34-ce430aeb4650",
   "metadata": {},
   "source": [
    "### Run pipeline\n",
    "Test your execution"
   ]
  },
  {
   "cell_type": "code",
   "execution_count": null,
   "id": "b5c04846-50fd-4f04-bb7b-fd23d60d7a4d",
   "metadata": {},
   "outputs": [],
   "source": [
    "PIPELINE = \"models/__pipeline.ipynb\"\n",
    "\n",
    "%run $PIPELINE"
   ]
  },
  {
   "cell_type": "markdown",
   "id": "3742f48f-1ecf-409a-9673-f4a0ac0c6cc6",
   "metadata": {},
   "source": [
    "---"
   ]
  },
  {
   "cell_type": "markdown",
   "id": "7518ff30-b586-406d-9261-6759d9bceab7",
   "metadata": {},
   "source": [
    "### Send dependencies to production"
   ]
  },
  {
   "cell_type": "code",
   "execution_count": null,
   "id": "20bfa420-8d7a-4d8f-8b2a-aa95dae9b750",
   "metadata": {},
   "outputs": [],
   "source": []
  },
  {
   "cell_type": "markdown",
   "id": "e7d4834b-bccc-4db0-9a5f-553b2f4f5a8c",
   "metadata": {},
   "source": [
    "---"
   ]
  },
  {
   "cell_type": "markdown",
   "id": "f1fa4922-b99e-4115-a3c7-2e8619060c7b",
   "metadata": {},
   "source": [
    "### Create network graph"
   ]
  },
  {
   "cell_type": "code",
   "execution_count": null,
   "id": "0fbfdd60-7cdc-4290-b41c-f38219637aae",
   "metadata": {},
   "outputs": [],
   "source": []
  },
  {
   "cell_type": "markdown",
   "id": "6258e239-2195-4a93-8de5-fe251bc6cf7f",
   "metadata": {},
   "source": [
    "---"
   ]
  },
  {
   "cell_type": "markdown",
   "id": "ba73f0db-f6f2-4db0-be83-debf946d9e8b",
   "metadata": {},
   "source": [
    "### Schedule execution"
   ]
  },
  {
   "cell_type": "code",
   "execution_count": null,
   "id": "b8b694e0-2426-4d1d-aa0e-3bc7bf11c32a",
   "metadata": {},
   "outputs": [],
   "source": [
    "import naas\n",
    "\n",
    "naas.scheduler.add()"
   ]
  },
  {
   "cell_type": "markdown",
   "id": "9a5c8f4e-7bba-46c0-b987-3a246e9b5c18",
   "metadata": {},
   "source": [
    "----"
   ]
  }
 ],
 "metadata": {
  "kernelspec": {
   "display_name": "Python 3",
   "language": "python",
   "name": "python3"
  },
  "language_info": {
   "codemirror_mode": {
    "name": "ipython",
    "version": 3
   },
   "file_extension": ".py",
   "mimetype": "text/x-python",
   "name": "python",
   "nbconvert_exporter": "python",
   "pygments_lexer": "ipython3",
   "version": "3.9.6"
  },
  "naas": {
   "notebook_id": "77b7f93a-fb2a-483e-b98b-80735e426a64",
   "notebook_path": "Naas/Naas_Secret_demo.ipynb"
  },
  "papermill": {
   "default_parameters": {},
   "environment_variables": {},
   "parameters": {},
   "version": "2.3.3"
  },
  "toc-autonumbering": false,
  "widgets": {
   "application/vnd.jupyter.widget-state+json": {
    "state": {
     "0149b0badf0b4e2eb8a10df140f953db": {
      "model_module": "@jupyter-widgets/output",
      "model_module_version": "1.0.0",
      "model_name": "OutputModel",
      "state": {
       "layout": "IPY_MODEL_67bbc5acd15a4f58bf758bf7ceba667f"
      }
     },
     "0174176ea7cc4530a1a11b5754f1e7ba": {
      "model_module": "@jupyter-widgets/controls",
      "model_module_version": "1.5.0",
      "model_name": "ButtonModel",
      "state": {
       "description": "Deploy project",
       "layout": "IPY_MODEL_10625c70c37a45cda19ffc4e6f4f977b",
       "style": "IPY_MODEL_8c325f97e6994eb7804b8b2dfe081f6a"
      }
     },
     "01b62f7f273b47b1863d2d40786875b9": {
      "model_module": "@jupyter-widgets/output",
      "model_module_version": "1.0.0",
      "model_name": "OutputModel",
      "state": {
       "layout": "IPY_MODEL_5c9c19dbc63e4361b7a4db89094f0401"
      }
     },
     "0201b7b3191340eda562a7498956fdbc": {
      "model_module": "@jupyter-widgets/base",
      "model_module_version": "1.2.0",
      "model_name": "LayoutModel",
      "state": {}
     },
     "0520a0da25f34ca482445940b3746a44": {
      "model_module": "@jupyter-widgets/controls",
      "model_module_version": "1.5.0",
      "model_name": "ButtonStyleModel",
      "state": {}
     },
     "08ccd3fb61bd46feb431ff0fd2d3845d": {
      "model_module": "@jupyter-widgets/output",
      "model_module_version": "1.0.0",
      "model_name": "OutputModel",
      "state": {
       "layout": "IPY_MODEL_e8ea1801963a4024a06ad1fc249c257a"
      }
     },
     "09dee21f193d4aca895b0f2db4501bc9": {
      "model_module": "@jupyter-widgets/base",
      "model_module_version": "1.2.0",
      "model_name": "LayoutModel",
      "state": {}
     },
     "0c20c301bf5149dfb35bb98ea2cf9565": {
      "model_module": "@jupyter-widgets/base",
      "model_module_version": "1.2.0",
      "model_name": "LayoutModel",
      "state": {}
     },
     "0d378bb8ff4d4db29db73a34800fcee0": {
      "model_module": "@jupyter-widgets/base",
      "model_module_version": "1.2.0",
      "model_name": "LayoutModel",
      "state": {}
     },
     "0f197df6caf74720bf5189d3efd31b06": {
      "model_module": "@jupyter-widgets/base",
      "model_module_version": "1.2.0",
      "model_name": "LayoutModel",
      "state": {}
     },
     "1061ae7fd4f04725aa7cbb25a1b96908": {
      "model_module": "@jupyter-widgets/controls",
      "model_module_version": "1.5.0",
      "model_name": "ButtonModel",
      "state": {
       "button_style": "primary",
       "description": "Copy URL",
       "layout": "IPY_MODEL_8c0d0368f8da4a6084345b52f7817f45",
       "style": "IPY_MODEL_929a5a6ea5b445fb8de7eebb134a6327"
      }
     },
     "10625c70c37a45cda19ffc4e6f4f977b": {
      "model_module": "@jupyter-widgets/base",
      "model_module_version": "1.2.0",
      "model_name": "LayoutModel",
      "state": {}
     },
     "121cb6cab41a4a51b4a2824b45c73094": {
      "model_module": "@jupyter-widgets/output",
      "model_module_version": "1.0.0",
      "model_name": "OutputModel",
      "state": {
       "layout": "IPY_MODEL_2ac8c8e051d44f299199885b83be6bf2"
      }
     },
     "1356af1657634930ba47e82258ad1e37": {
      "model_module": "@jupyter-widgets/controls",
      "model_module_version": "1.5.0",
      "model_name": "ButtonModel",
      "state": {
       "button_style": "primary",
       "description": "Copy URL",
       "layout": "IPY_MODEL_21c7798e932c4c449bdc6ad219ad96e3",
       "style": "IPY_MODEL_3125878bc0374072aa722dc81939d7d4"
      }
     },
     "13871afd07cc4db995cf61d562579ee8": {
      "model_module": "@jupyter-widgets/controls",
      "model_module_version": "1.5.0",
      "model_name": "TextModel",
      "state": {
       "description": "🍪 JSESSIONID:",
       "layout": "IPY_MODEL_ebb137d95a03476f94e3949f87585d7d",
       "style": "IPY_MODEL_21d395b326554dfe9d2821a492fc0365",
       "value": "ajax:6201762920417508197"
      }
     },
     "1537c47aba9943dbacb0feddcd72740e": {
      "model_module": "@jupyter-widgets/base",
      "model_module_version": "1.2.0",
      "model_name": "LayoutModel",
      "state": {}
     },
     "1c8e0376ccb94b13975e8655101757b0": {
      "model_module": "@jupyter-widgets/base",
      "model_module_version": "1.2.0",
      "model_name": "LayoutModel",
      "state": {
       "width": "600px"
      }
     },
     "1cce2695f9b1444ab5107f9a144f4486": {
      "model_module": "@jupyter-widgets/controls",
      "model_module_version": "1.5.0",
      "model_name": "ButtonModel",
      "state": {
       "button_style": "primary",
       "description": "Copy URL",
       "layout": "IPY_MODEL_a752f40627114eb7998ef482dee6b820",
       "style": "IPY_MODEL_e60754c6198c4dd48db6c05cb14eacbc"
      }
     },
     "1cd19fef339d4934b8c365a62e325ac1": {
      "model_module": "@jupyter-widgets/controls",
      "model_module_version": "1.5.0",
      "model_name": "TextModel",
      "state": {
       "description": "🏢 Company URL:",
       "layout": "IPY_MODEL_c1b33bd079b646bbb198721e06926f9d",
       "style": "IPY_MODEL_909d7ea652994ebf9009d53b760fcf88",
       "value": "https://www.linkedin.com/company/mycompanyid/admin"
      }
     },
     "1cf75574e3bd48898748eeadcc24d5b0": {
      "model_module": "@jupyter-widgets/output",
      "model_module_version": "1.0.0",
      "model_name": "OutputModel",
      "state": {
       "layout": "IPY_MODEL_31414df1d0034a2faba23bcdc33eee7d"
      }
     },
     "1d53653bcd8946f6be43275de89767d8": {
      "model_module": "@jupyter-widgets/base",
      "model_module_version": "1.2.0",
      "model_name": "LayoutModel",
      "state": {}
     },
     "21c7798e932c4c449bdc6ad219ad96e3": {
      "model_module": "@jupyter-widgets/base",
      "model_module_version": "1.2.0",
      "model_name": "LayoutModel",
      "state": {}
     },
     "21d395b326554dfe9d2821a492fc0365": {
      "model_module": "@jupyter-widgets/controls",
      "model_module_version": "1.5.0",
      "model_name": "DescriptionStyleModel",
      "state": {
       "description_width": "180px"
      }
     },
     "2565bd4ef1ae4c2b821fe866127e380e": {
      "model_module": "@jupyter-widgets/controls",
      "model_module_version": "1.5.0",
      "model_name": "ButtonStyleModel",
      "state": {}
     },
     "264d4856d55447288d48d2e0906af3e0": {
      "model_module": "@jupyter-widgets/controls",
      "model_module_version": "1.5.0",
      "model_name": "TextModel",
      "state": {
       "description": "🌐 Timezone:",
       "layout": "IPY_MODEL_c4da7169dc5e4c6380454b5734e5589b",
       "style": "IPY_MODEL_93d035cc55c44b8a8a0f1d5e251d4086",
       "value": "Europe/Paris"
      }
     },
     "27a649870a804e569375f2c25ec3ffb8": {
      "model_module": "@jupyter-widgets/base",
      "model_module_version": "1.2.0",
      "model_name": "LayoutModel",
      "state": {}
     },
     "285888c5a1464ced95b34b0c7df0b642": {
      "model_module": "@jupyter-widgets/base",
      "model_module_version": "1.2.0",
      "model_name": "LayoutModel",
      "state": {}
     },
     "28ab6c52a29c4b3aad5d52155bc3397a": {
      "model_module": "@jupyter-widgets/controls",
      "model_module_version": "1.5.0",
      "model_name": "ButtonModel",
      "state": {
       "button_style": "primary",
       "description": "Copy URL",
       "layout": "IPY_MODEL_290bddfe79e3460a9d1867399778515a",
       "style": "IPY_MODEL_b8db73fffed64708ba79e1dff2892a28"
      }
     },
     "290bddfe79e3460a9d1867399778515a": {
      "model_module": "@jupyter-widgets/base",
      "model_module_version": "1.2.0",
      "model_name": "LayoutModel",
      "state": {}
     },
     "2ac8c8e051d44f299199885b83be6bf2": {
      "model_module": "@jupyter-widgets/base",
      "model_module_version": "1.2.0",
      "model_name": "LayoutModel",
      "state": {}
     },
     "2c8e7bec1c204a4284c5e121c5ab148f": {
      "model_module": "@jupyter-widgets/controls",
      "model_module_version": "1.5.0",
      "model_name": "ButtonModel",
      "state": {
       "button_style": "primary",
       "description": "Copy URL",
       "layout": "IPY_MODEL_5d6bea6e567e417fa5caf04b1e9c15c2",
       "style": "IPY_MODEL_7febd36243864beabe1612e707897e59"
      }
     },
     "2cdc67f9b3de4949be462eacb829334e": {
      "model_module": "@jupyter-widgets/controls",
      "model_module_version": "1.5.0",
      "model_name": "ButtonModel",
      "state": {
       "button_style": "primary",
       "description": "Copy URL",
       "layout": "IPY_MODEL_7bca0de4ce334d2f94e59bb79b700686",
       "style": "IPY_MODEL_ef013b3ee7f94d37a4ece6dc98a201f2"
      }
     },
     "2f617f68230f4abc9bddbd02574cdcb7": {
      "model_module": "@jupyter-widgets/controls",
      "model_module_version": "1.5.0",
      "model_name": "ButtonModel",
      "state": {
       "button_style": "primary",
       "description": "Copy URL",
       "layout": "IPY_MODEL_77d552c53bb14040ac48680ef5eaaf85",
       "style": "IPY_MODEL_a8caccc189ac4d778120d13c007d0e66"
      }
     },
     "3125878bc0374072aa722dc81939d7d4": {
      "model_module": "@jupyter-widgets/controls",
      "model_module_version": "1.5.0",
      "model_name": "ButtonStyleModel",
      "state": {}
     },
     "31414df1d0034a2faba23bcdc33eee7d": {
      "model_module": "@jupyter-widgets/base",
      "model_module_version": "1.2.0",
      "model_name": "LayoutModel",
      "state": {}
     },
     "351daeae64724b439d420b7bca1efc25": {
      "model_module": "@jupyter-widgets/base",
      "model_module_version": "1.2.0",
      "model_name": "LayoutModel",
      "state": {}
     },
     "36567cb0db6c4a2e83f11085f7d3265d": {
      "model_module": "@jupyter-widgets/base",
      "model_module_version": "1.2.0",
      "model_name": "LayoutModel",
      "state": {}
     },
     "36815723341f410e9d6cd465b8a827ef": {
      "model_module": "@jupyter-widgets/controls",
      "model_module_version": "1.5.0",
      "model_name": "ButtonModel",
      "state": {
       "button_style": "primary",
       "description": "Copy URL",
       "layout": "IPY_MODEL_9c7925d3b672466f935daedcd895dafd",
       "style": "IPY_MODEL_c64b1d9014194b7b9c0823af33883180"
      }
     },
     "38951c125c224abfb930de512e37965e": {
      "model_module": "@jupyter-widgets/controls",
      "model_module_version": "1.5.0",
      "model_name": "ButtonStyleModel",
      "state": {}
     },
     "3a44ca241a434058a14eac0660357b57": {
      "model_module": "@jupyter-widgets/output",
      "model_module_version": "1.0.0",
      "model_name": "OutputModel",
      "state": {
       "layout": "IPY_MODEL_6c41d03bc7964955a4c8cecbb93dafb3"
      }
     },
     "3a6fadf1f5ad49afb3d20f327ac71c6e": {
      "model_module": "@jupyter-widgets/base",
      "model_module_version": "1.2.0",
      "model_name": "LayoutModel",
      "state": {
       "width": "900px"
      }
     },
     "3a9e2d539ded47c0b66bc5b60b387133": {
      "model_module": "@jupyter-widgets/controls",
      "model_module_version": "1.5.0",
      "model_name": "ButtonModel",
      "state": {
       "button_style": "primary",
       "description": "Copy URL",
       "layout": "IPY_MODEL_da75b77239a2474bb1d1368862822655",
       "style": "IPY_MODEL_dc7c1472df8e4e27a85b69be2a0c2b93"
      }
     },
     "3b057c57a4eb4017bc8cbe0f44c465f5": {
      "model_module": "@jupyter-widgets/base",
      "model_module_version": "1.2.0",
      "model_name": "LayoutModel",
      "state": {}
     },
     "3b292f1ad58347c4b9d9ed03cc3c736c": {
      "model_module": "@jupyter-widgets/controls",
      "model_module_version": "1.5.0",
      "model_name": "TextModel",
      "state": {
       "description": "🔑 Notion integration token:",
       "layout": "IPY_MODEL_3a6fadf1f5ad49afb3d20f327ac71c6e",
       "style": "IPY_MODEL_d56463912af64928bd6f612f560aabc2",
       "value": "secret_HChj6JHeePegALRldeGOwLsoImmHphmlxlA973DrMye"
      }
     },
     "3b96bc42d2e6424581587f71b5d8b7cf": {
      "model_module": "@jupyter-widgets/controls",
      "model_module_version": "1.5.0",
      "model_name": "DescriptionStyleModel",
      "state": {
       "description_width": "230px"
      }
     },
     "3c1541cb841240bc81613812f63dac55": {
      "model_module": "@jupyter-widgets/controls",
      "model_module_version": "1.5.0",
      "model_name": "ButtonModel",
      "state": {
       "button_style": "primary",
       "description": "Copy URL",
       "layout": "IPY_MODEL_3b057c57a4eb4017bc8cbe0f44c465f5",
       "style": "IPY_MODEL_e991ba61bac84155b503f3ae72eba069"
      }
     },
     "3c68ce1692bd48649df2803fbf03c8bf": {
      "model_module": "@jupyter-widgets/output",
      "model_module_version": "1.0.0",
      "model_name": "OutputModel",
      "state": {
       "layout": "IPY_MODEL_b9c74d08599b4fa78803aa181739510f"
      }
     },
     "3cb14c8d71ff41e1a0acdfde7d17be7e": {
      "model_module": "@jupyter-widgets/controls",
      "model_module_version": "1.5.0",
      "model_name": "TextModel",
      "state": {
       "description": "👤 Profile URL:",
       "layout": "IPY_MODEL_ae6987f5963e481eae482adbd95870ec",
       "style": "IPY_MODEL_ae9ae400ac4842c28ad3e01c515bbd34",
       "value": "https://www.linkedin.com/in/jeremyravenel"
      }
     },
     "4086ea26e0d942eba31542c0114d57b2": {
      "model_module": "@jupyter-widgets/controls",
      "model_module_version": "1.5.0",
      "model_name": "TextModel",
      "state": {
       "description": "🗓 Content Calendar:",
       "layout": "IPY_MODEL_a95f7f7a5cc646939ad7d31ae7a977fb",
       "style": "IPY_MODEL_3b96bc42d2e6424581587f71b5d8b7cf",
       "value": "https://www.notion.so/naas-official/fe09e90f322b43168cd93717766bd231?v=c999640e1c7c4ad1b36382c3737580da"
      }
     },
     "418de84d894647bcbb2aa0b42c2ab0c4": {
      "model_module": "@jupyter-widgets/base",
      "model_module_version": "1.2.0",
      "model_name": "LayoutModel",
      "state": {}
     },
     "45159e1a9e1849439e353fb2f043a16e": {
      "model_module": "@jupyter-widgets/base",
      "model_module_version": "1.2.0",
      "model_name": "LayoutModel",
      "state": {}
     },
     "453393fc6be24c9f898897ea9c01637e": {
      "model_module": "@jupyter-widgets/base",
      "model_module_version": "1.2.0",
      "model_name": "LayoutModel",
      "state": {}
     },
     "45958d5e388b44549bc38594878dd264": {
      "model_module": "@jupyter-widgets/controls",
      "model_module_version": "1.5.0",
      "model_name": "ButtonStyleModel",
      "state": {}
     },
     "468acff73ad649aa8e41f37135fdd511": {
      "model_module": "@jupyter-widgets/base",
      "model_module_version": "1.2.0",
      "model_name": "LayoutModel",
      "state": {}
     },
     "4703fbcf332d44879e562e11ed3a57e2": {
      "model_module": "@jupyter-widgets/controls",
      "model_module_version": "1.5.0",
      "model_name": "ButtonStyleModel",
      "state": {}
     },
     "4bbfd488bc28491c8cddc97987670f8a": {
      "model_module": "@jupyter-widgets/controls",
      "model_module_version": "1.5.0",
      "model_name": "TextModel",
      "state": {
       "description": "📊 Reports:",
       "layout": "IPY_MODEL_f7196d265a75484e8d2dfff97ef7c7bb",
       "style": "IPY_MODEL_982ef633f2124b8dac742073afe710b5",
       "value": "https://www.notion.so/naas-official/acece36280f24c17bf9c2523d7e99e0f?v=528948b567704a43a7ade95fafc146b2"
      }
     },
     "4de1d6bcfe3245b09bb7f504746f1ff3": {
      "model_module": "@jupyter-widgets/base",
      "model_module_version": "1.2.0",
      "model_name": "LayoutModel",
      "state": {}
     },
     "4e820d67b9da4ca6a23ec298bd50a711": {
      "model_module": "@jupyter-widgets/base",
      "model_module_version": "1.2.0",
      "model_name": "LayoutModel",
      "state": {}
     },
     "530fb5c5531240c0b02af7b256067ca8": {
      "model_module": "@jupyter-widgets/controls",
      "model_module_version": "1.5.0",
      "model_name": "ButtonStyleModel",
      "state": {}
     },
     "585a0b1d9e684e35b3e992c672d5371e": {
      "model_module": "@jupyter-widgets/controls",
      "model_module_version": "1.5.0",
      "model_name": "ButtonModel",
      "state": {
       "button_style": "primary",
       "description": "Copy URL",
       "layout": "IPY_MODEL_ecf6249e3c19462c935d58e1de837899",
       "style": "IPY_MODEL_d88bb7f7e52b4a43ab2d00464ff5fe06"
      }
     },
     "5892db9ac59e43909f41f0909191c49d": {
      "model_module": "@jupyter-widgets/controls",
      "model_module_version": "1.5.0",
      "model_name": "ButtonModel",
      "state": {
       "button_style": "primary",
       "description": "Copy URL",
       "layout": "IPY_MODEL_bda0a536c61f4a2da68eb1b1a3821c19",
       "style": "IPY_MODEL_e3ad634a6fe3428b8f5806ccd1495b04"
      }
     },
     "58fcf1e448ad434d86b41001d7496e47": {
      "model_module": "@jupyter-widgets/base",
      "model_module_version": "1.2.0",
      "model_name": "LayoutModel",
      "state": {}
     },
     "596ea7a7f4264dd5beb8771f5c72c9a2": {
      "model_module": "@jupyter-widgets/base",
      "model_module_version": "1.2.0",
      "model_name": "LayoutModel",
      "state": {
       "width": "600px"
      }
     },
     "59b38395d5c74c44996677ee1cd41e11": {
      "model_module": "@jupyter-widgets/controls",
      "model_module_version": "1.5.0",
      "model_name": "ButtonStyleModel",
      "state": {}
     },
     "59de962e9f034c7887b7924d9d8d2597": {
      "model_module": "@jupyter-widgets/controls",
      "model_module_version": "1.5.0",
      "model_name": "ButtonModel",
      "state": {
       "button_style": "primary",
       "description": "Copy URL",
       "layout": "IPY_MODEL_5f6fc0a55a9c40cd8b7b1b458486a837",
       "style": "IPY_MODEL_6bdf547ebc5341e199ce55def843dbef"
      }
     },
     "5a755a6be0674fa6bf599b2992673d1f": {
      "model_module": "@jupyter-widgets/controls",
      "model_module_version": "1.5.0",
      "model_name": "ButtonModel",
      "state": {
       "description": "Connect YouTube",
       "layout": "IPY_MODEL_be16b09aa8374c3eb667d8984f68921b",
       "style": "IPY_MODEL_ef5a43d6258f4e7fa6c6006c1d93a492"
      }
     },
     "5c9c19dbc63e4361b7a4db89094f0401": {
      "model_module": "@jupyter-widgets/base",
      "model_module_version": "1.2.0",
      "model_name": "LayoutModel",
      "state": {}
     },
     "5d6bea6e567e417fa5caf04b1e9c15c2": {
      "model_module": "@jupyter-widgets/base",
      "model_module_version": "1.2.0",
      "model_name": "LayoutModel",
      "state": {}
     },
     "5e7c50c33fe84d999cfebdddb913d174": {
      "model_module": "@jupyter-widgets/base",
      "model_module_version": "1.2.0",
      "model_name": "LayoutModel",
      "state": {}
     },
     "5f6fc0a55a9c40cd8b7b1b458486a837": {
      "model_module": "@jupyter-widgets/base",
      "model_module_version": "1.2.0",
      "model_name": "LayoutModel",
      "state": {}
     },
     "60098b2e72a2477d88505287eb7fa506": {
      "model_module": "@jupyter-widgets/output",
      "model_module_version": "1.0.0",
      "model_name": "OutputModel",
      "state": {
       "layout": "IPY_MODEL_612c4aab40e949b1a9ac9b41c48567bf"
      }
     },
     "612c4aab40e949b1a9ac9b41c48567bf": {
      "model_module": "@jupyter-widgets/base",
      "model_module_version": "1.2.0",
      "model_name": "LayoutModel",
      "state": {}
     },
     "6592fe2f5b06437e85682672508d31df": {
      "model_module": "@jupyter-widgets/controls",
      "model_module_version": "1.5.0",
      "model_name": "ButtonModel",
      "state": {
       "description": "Connect Notion",
       "layout": "IPY_MODEL_eb1441c3a9ac40c7af7af746b6c76e1f",
       "style": "IPY_MODEL_59b38395d5c74c44996677ee1cd41e11"
      }
     },
     "67bbc5acd15a4f58bf758bf7ceba667f": {
      "model_module": "@jupyter-widgets/base",
      "model_module_version": "1.2.0",
      "model_name": "LayoutModel",
      "state": {}
     },
     "6970da423bf5475eb2d77aca9461b842": {
      "model_module": "@jupyter-widgets/controls",
      "model_module_version": "1.5.0",
      "model_name": "ButtonModel",
      "state": {
       "button_style": "primary",
       "description": "Copy URL",
       "layout": "IPY_MODEL_89c7a7bd0fd84f93952de62e4dc0f915",
       "style": "IPY_MODEL_530fb5c5531240c0b02af7b256067ca8"
      }
     },
     "69d3e9e5fa124ce39ee10cfe67ccc905": {
      "model_module": "@jupyter-widgets/base",
      "model_module_version": "1.2.0",
      "model_name": "LayoutModel",
      "state": {}
     },
     "69e4893bca104962b5ee3f09f687479a": {
      "model_module": "@jupyter-widgets/base",
      "model_module_version": "1.2.0",
      "model_name": "LayoutModel",
      "state": {}
     },
     "6bdf547ebc5341e199ce55def843dbef": {
      "model_module": "@jupyter-widgets/controls",
      "model_module_version": "1.5.0",
      "model_name": "ButtonStyleModel",
      "state": {}
     },
     "6c41d03bc7964955a4c8cecbb93dafb3": {
      "model_module": "@jupyter-widgets/base",
      "model_module_version": "1.2.0",
      "model_name": "LayoutModel",
      "state": {}
     },
     "6f642ba59d904e598f2106e9db6b5139": {
      "model_module": "@jupyter-widgets/controls",
      "model_module_version": "1.5.0",
      "model_name": "ButtonModel",
      "state": {
       "description": "Connect LinkedIn",
       "layout": "IPY_MODEL_69d3e9e5fa124ce39ee10cfe67ccc905",
       "style": "IPY_MODEL_2565bd4ef1ae4c2b821fe866127e380e"
      }
     },
     "70ac9048fb824abe98dfa581a512492d": {
      "model_module": "@jupyter-widgets/controls",
      "model_module_version": "1.5.0",
      "model_name": "TextModel",
      "state": {
       "description": "🔑 YouTube API Key:",
       "layout": "IPY_MODEL_596ea7a7f4264dd5beb8771f5c72c9a2",
       "style": "IPY_MODEL_b8afaed0808c497ca2016e38cc90c088",
       "value": "AIzaxdsfhuis8xZNP-e-UGQ-xxxxx"
      }
     },
     "71fe7f6cf0774a939c633307ca49438d": {
      "model_module": "@jupyter-widgets/base",
      "model_module_version": "1.2.0",
      "model_name": "LayoutModel",
      "state": {}
     },
     "72651bb2d5f94677964088f571223ffc": {
      "model_module": "@jupyter-widgets/base",
      "model_module_version": "1.2.0",
      "model_name": "LayoutModel",
      "state": {}
     },
     "73298fa229d945fe9a373c657a9b9144": {
      "model_module": "@jupyter-widgets/controls",
      "model_module_version": "1.5.0",
      "model_name": "ButtonModel",
      "state": {
       "button_style": "primary",
       "description": "Copy URL",
       "layout": "IPY_MODEL_71fe7f6cf0774a939c633307ca49438d",
       "style": "IPY_MODEL_4703fbcf332d44879e562e11ed3a57e2"
      }
     },
     "74d9f86f9dd84a4ca9159176d6988315": {
      "model_module": "@jupyter-widgets/output",
      "model_module_version": "1.0.0",
      "model_name": "OutputModel",
      "state": {
       "layout": "IPY_MODEL_4de1d6bcfe3245b09bb7f504746f1ff3"
      }
     },
     "76844b52382f4f12bdc02e0d947d0f7c": {
      "model_module": "@jupyter-widgets/controls",
      "model_module_version": "1.5.0",
      "model_name": "ButtonModel",
      "state": {
       "button_style": "primary",
       "description": "Copy URL",
       "layout": "IPY_MODEL_7ab97ab7592b47e1b85ab19168a13c9f",
       "style": "IPY_MODEL_0520a0da25f34ca482445940b3746a44"
      }
     },
     "77d552c53bb14040ac48680ef5eaaf85": {
      "model_module": "@jupyter-widgets/base",
      "model_module_version": "1.2.0",
      "model_name": "LayoutModel",
      "state": {}
     },
     "7823f8f209a9415eb81cda7b072ae7cb": {
      "model_module": "@jupyter-widgets/controls",
      "model_module_version": "1.5.0",
      "model_name": "ButtonModel",
      "state": {
       "button_style": "primary",
       "description": "Copy URL",
       "layout": "IPY_MODEL_468acff73ad649aa8e41f37135fdd511",
       "style": "IPY_MODEL_a732245d7b1944efaff966bd214cdb55"
      }
     },
     "7a4edf049cba47f5aa802138a02262fd": {
      "model_module": "@jupyter-widgets/output",
      "model_module_version": "1.0.0",
      "model_name": "OutputModel",
      "state": {
       "layout": "IPY_MODEL_69e4893bca104962b5ee3f09f687479a"
      }
     },
     "7ab97ab7592b47e1b85ab19168a13c9f": {
      "model_module": "@jupyter-widgets/base",
      "model_module_version": "1.2.0",
      "model_name": "LayoutModel",
      "state": {}
     },
     "7bca0de4ce334d2f94e59bb79b700686": {
      "model_module": "@jupyter-widgets/base",
      "model_module_version": "1.2.0",
      "model_name": "LayoutModel",
      "state": {}
     },
     "7cead08674bd4014bc4649029dcc263b": {
      "model_module": "@jupyter-widgets/output",
      "model_module_version": "1.0.0",
      "model_name": "OutputModel",
      "state": {
       "layout": "IPY_MODEL_df45e16c855446c59b8f00fabcc0dd5e"
      }
     },
     "7dcace890d88441e908536b4ffe45b9d": {
      "model_module": "@jupyter-widgets/controls",
      "model_module_version": "1.5.0",
      "model_name": "ButtonModel",
      "state": {
       "button_style": "primary",
       "description": "Copy URL",
       "layout": "IPY_MODEL_ef88c1114573495cb660537b6739e26f",
       "style": "IPY_MODEL_a424a958954b4d75aba359f083bc667c"
      }
     },
     "7e7eb219e515459294b83e6f6c8105f2": {
      "model_module": "@jupyter-widgets/controls",
      "model_module_version": "1.5.0",
      "model_name": "DescriptionStyleModel",
      "state": {
       "description_width": "180px"
      }
     },
     "7ef5f0907515435886cbfcf1613af1f4": {
      "model_module": "@jupyter-widgets/controls",
      "model_module_version": "1.5.0",
      "model_name": "TextModel",
      "state": {
       "description": "🍪 li_at:",
       "layout": "IPY_MODEL_e8a8771c3c5e4c7292c304b5a4f0b1cb",
       "style": "IPY_MODEL_8169996f820346a2b0135607320ce43c",
       "value": "AQEDAQJHE7sDjRJUAAABgmqDcQoAAAGCta85LFYAmaao8pClcWT6_yS7kwGnd-JXcK22PfjfgL5HuwmDmVwoHAfUp8PGKzbfytyX4YIlH64yZa2qAcOEdo4LAyxUmchZPWx47wUjFrJnnzkt5ZPP6kvs"
      }
     },
     "7febd36243864beabe1612e707897e59": {
      "model_module": "@jupyter-widgets/controls",
      "model_module_version": "1.5.0",
      "model_name": "ButtonStyleModel",
      "state": {}
     },
     "80cb5023fb82434cafef9f008542b07b": {
      "model_module": "@jupyter-widgets/controls",
      "model_module_version": "1.5.0",
      "model_name": "ButtonModel",
      "state": {
       "button_style": "primary",
       "description": "Copy URL",
       "layout": "IPY_MODEL_af36201b74ae4b34b21c68abd7bb3b9d",
       "style": "IPY_MODEL_a768264371464017bfeda96262072a97"
      }
     },
     "8169996f820346a2b0135607320ce43c": {
      "model_module": "@jupyter-widgets/controls",
      "model_module_version": "1.5.0",
      "model_name": "DescriptionStyleModel",
      "state": {
       "description_width": "180px"
      }
     },
     "89c7a7bd0fd84f93952de62e4dc0f915": {
      "model_module": "@jupyter-widgets/base",
      "model_module_version": "1.2.0",
      "model_name": "LayoutModel",
      "state": {}
     },
     "89d7c93690d54c0bbd6a8aff99a92372": {
      "model_module": "@jupyter-widgets/base",
      "model_module_version": "1.2.0",
      "model_name": "LayoutModel",
      "state": {}
     },
     "8aec7722745144c7b4c453f4f170e7f2": {
      "model_module": "@jupyter-widgets/base",
      "model_module_version": "1.2.0",
      "model_name": "LayoutModel",
      "state": {}
     },
     "8c0d0368f8da4a6084345b52f7817f45": {
      "model_module": "@jupyter-widgets/base",
      "model_module_version": "1.2.0",
      "model_name": "LayoutModel",
      "state": {}
     },
     "8c325f97e6994eb7804b8b2dfe081f6a": {
      "model_module": "@jupyter-widgets/controls",
      "model_module_version": "1.5.0",
      "model_name": "ButtonStyleModel",
      "state": {}
     },
     "8dd2e2f7de574c709198585770cae2c7": {
      "model_module": "@jupyter-widgets/base",
      "model_module_version": "1.2.0",
      "model_name": "LayoutModel",
      "state": {}
     },
     "8e9a77e054ca494682936bf32980082d": {
      "model_module": "@jupyter-widgets/output",
      "model_module_version": "1.0.0",
      "model_name": "OutputModel",
      "state": {
       "layout": "IPY_MODEL_0c20c301bf5149dfb35bb98ea2cf9565"
      }
     },
     "8fba152c26e7471fadff30a1a05c525d": {
      "model_module": "@jupyter-widgets/output",
      "model_module_version": "1.0.0",
      "model_name": "OutputModel",
      "state": {
       "layout": "IPY_MODEL_b4101841dabe47de9c745571d66e8bb8"
      }
     },
     "90247f76ef49408bb4617dc16959ac30": {
      "model_module": "@jupyter-widgets/controls",
      "model_module_version": "1.5.0",
      "model_name": "TextModel",
      "state": {
       "description": "📢 Channel Name:",
       "layout": "IPY_MODEL_cb9ada7473814871a77880ab05029e50",
       "style": "IPY_MODEL_7e7eb219e515459294b83e6f6c8105f2",
       "value": "naas.ai"
      }
     },
     "909d7ea652994ebf9009d53b760fcf88": {
      "model_module": "@jupyter-widgets/controls",
      "model_module_version": "1.5.0",
      "model_name": "DescriptionStyleModel",
      "state": {
       "description_width": "180px"
      }
     },
     "91d9bafcafb34c71b50031d60238e4df": {
      "model_module": "@jupyter-widgets/output",
      "model_module_version": "1.0.0",
      "model_name": "OutputModel",
      "state": {
       "layout": "IPY_MODEL_fed0730f66984da3ad00a37f253d816c"
      }
     },
     "929a5a6ea5b445fb8de7eebb134a6327": {
      "model_module": "@jupyter-widgets/controls",
      "model_module_version": "1.5.0",
      "model_name": "ButtonStyleModel",
      "state": {}
     },
     "93d035cc55c44b8a8a0f1d5e251d4086": {
      "model_module": "@jupyter-widgets/controls",
      "model_module_version": "1.5.0",
      "model_name": "DescriptionStyleModel",
      "state": {
       "description_width": "180px"
      }
     },
     "9759011004814568ad861bcd706eda7a": {
      "model_module": "@jupyter-widgets/output",
      "model_module_version": "1.0.0",
      "model_name": "OutputModel",
      "state": {
       "layout": "IPY_MODEL_45159e1a9e1849439e353fb2f043a16e"
      }
     },
     "97be79c7704843fba6e64baca17df686": {
      "model_module": "@jupyter-widgets/controls",
      "model_module_version": "1.5.0",
      "model_name": "ButtonStyleModel",
      "state": {}
     },
     "982ef633f2124b8dac742073afe710b5": {
      "model_module": "@jupyter-widgets/controls",
      "model_module_version": "1.5.0",
      "model_name": "DescriptionStyleModel",
      "state": {
       "description_width": "230px"
      }
     },
     "984cce34698a40d78cbdb9289c9a7c3f": {
      "model_module": "@jupyter-widgets/controls",
      "model_module_version": "1.5.0",
      "model_name": "ButtonStyleModel",
      "state": {}
     },
     "99385575ef2d4f59b482ce9a30ff5693": {
      "model_module": "@jupyter-widgets/controls",
      "model_module_version": "1.5.0",
      "model_name": "ButtonModel",
      "state": {
       "button_style": "primary",
       "description": "Copy URL",
       "layout": "IPY_MODEL_09dee21f193d4aca895b0f2db4501bc9",
       "style": "IPY_MODEL_a8c693918e964d748286ce48b19e3ccc"
      }
     },
     "9c7925d3b672466f935daedcd895dafd": {
      "model_module": "@jupyter-widgets/base",
      "model_module_version": "1.2.0",
      "model_name": "LayoutModel",
      "state": {}
     },
     "9ca34756f7b1436b8a4674575895c8a9": {
      "model_module": "@jupyter-widgets/output",
      "model_module_version": "1.0.0",
      "model_name": "OutputModel",
      "state": {
       "layout": "IPY_MODEL_351daeae64724b439d420b7bca1efc25"
      }
     },
     "a00f5dea753242e5815876bd47e741c6": {
      "model_module": "@jupyter-widgets/base",
      "model_module_version": "1.2.0",
      "model_name": "LayoutModel",
      "state": {}
     },
     "a424a958954b4d75aba359f083bc667c": {
      "model_module": "@jupyter-widgets/controls",
      "model_module_version": "1.5.0",
      "model_name": "ButtonStyleModel",
      "state": {}
     },
     "a58c8fd263bb4044a8398b6d468d79cc": {
      "model_module": "@jupyter-widgets/output",
      "model_module_version": "1.0.0",
      "model_name": "OutputModel",
      "state": {
       "layout": "IPY_MODEL_1d53653bcd8946f6be43275de89767d8"
      }
     },
     "a67c536413cc4fca87850cc595fbabd7": {
      "model_module": "@jupyter-widgets/controls",
      "model_module_version": "1.5.0",
      "model_name": "ButtonModel",
      "state": {
       "button_style": "primary",
       "description": "Copy URL",
       "layout": "IPY_MODEL_36567cb0db6c4a2e83f11085f7d3265d",
       "style": "IPY_MODEL_b8816e39f52d49d996d9b06c768fc190"
      }
     },
     "a732245d7b1944efaff966bd214cdb55": {
      "model_module": "@jupyter-widgets/controls",
      "model_module_version": "1.5.0",
      "model_name": "ButtonStyleModel",
      "state": {}
     },
     "a752f40627114eb7998ef482dee6b820": {
      "model_module": "@jupyter-widgets/base",
      "model_module_version": "1.2.0",
      "model_name": "LayoutModel",
      "state": {}
     },
     "a768264371464017bfeda96262072a97": {
      "model_module": "@jupyter-widgets/controls",
      "model_module_version": "1.5.0",
      "model_name": "ButtonStyleModel",
      "state": {}
     },
     "a8c693918e964d748286ce48b19e3ccc": {
      "model_module": "@jupyter-widgets/controls",
      "model_module_version": "1.5.0",
      "model_name": "ButtonStyleModel",
      "state": {}
     },
     "a8caccc189ac4d778120d13c007d0e66": {
      "model_module": "@jupyter-widgets/controls",
      "model_module_version": "1.5.0",
      "model_name": "ButtonStyleModel",
      "state": {}
     },
     "a95f7f7a5cc646939ad7d31ae7a977fb": {
      "model_module": "@jupyter-widgets/base",
      "model_module_version": "1.2.0",
      "model_name": "LayoutModel",
      "state": {
       "width": "900px"
      }
     },
     "ac767249ad9c4763b805114abc613114": {
      "model_module": "@jupyter-widgets/output",
      "model_module_version": "1.0.0",
      "model_name": "OutputModel",
      "state": {
       "layout": "IPY_MODEL_5e7c50c33fe84d999cfebdddb913d174"
      }
     },
     "ae6987f5963e481eae482adbd95870ec": {
      "model_module": "@jupyter-widgets/base",
      "model_module_version": "1.2.0",
      "model_name": "LayoutModel",
      "state": {
       "width": "600px"
      }
     },
     "ae9ae400ac4842c28ad3e01c515bbd34": {
      "model_module": "@jupyter-widgets/controls",
      "model_module_version": "1.5.0",
      "model_name": "DescriptionStyleModel",
      "state": {
       "description_width": "180px"
      }
     },
     "aea35b002b4d48edbaae6042d6208f62": {
      "model_module": "@jupyter-widgets/output",
      "model_module_version": "1.0.0",
      "model_name": "OutputModel",
      "state": {
       "layout": "IPY_MODEL_285888c5a1464ced95b34b0c7df0b642"
      }
     },
     "af36201b74ae4b34b21c68abd7bb3b9d": {
      "model_module": "@jupyter-widgets/base",
      "model_module_version": "1.2.0",
      "model_name": "LayoutModel",
      "state": {}
     },
     "afd656042a9840bc927b9944c5de3732": {
      "model_module": "@jupyter-widgets/output",
      "model_module_version": "1.0.0",
      "model_name": "OutputModel",
      "state": {
       "layout": "IPY_MODEL_58fcf1e448ad434d86b41001d7496e47"
      }
     },
     "b06e61556cbc460bb5092edd09f93d32": {
      "model_module": "@jupyter-widgets/base",
      "model_module_version": "1.2.0",
      "model_name": "LayoutModel",
      "state": {}
     },
     "b4101841dabe47de9c745571d66e8bb8": {
      "model_module": "@jupyter-widgets/base",
      "model_module_version": "1.2.0",
      "model_name": "LayoutModel",
      "state": {}
     },
     "b84b3ba0339141aaa63baf04982d6379": {
      "model_module": "@jupyter-widgets/controls",
      "model_module_version": "1.5.0",
      "model_name": "TextModel",
      "state": {
       "description": "▶️ Channel ID:",
       "layout": "IPY_MODEL_1c8e0376ccb94b13975e8655101757b0",
       "style": "IPY_MODEL_eb56aff3262e402abeaadea90cec51a4",
       "value": "UCKKGHHgkdsXXU_rRdHHWQXXXXX"
      }
     },
     "b8816e39f52d49d996d9b06c768fc190": {
      "model_module": "@jupyter-widgets/controls",
      "model_module_version": "1.5.0",
      "model_name": "ButtonStyleModel",
      "state": {}
     },
     "b8afaed0808c497ca2016e38cc90c088": {
      "model_module": "@jupyter-widgets/controls",
      "model_module_version": "1.5.0",
      "model_name": "DescriptionStyleModel",
      "state": {
       "description_width": "180px"
      }
     },
     "b8db73fffed64708ba79e1dff2892a28": {
      "model_module": "@jupyter-widgets/controls",
      "model_module_version": "1.5.0",
      "model_name": "ButtonStyleModel",
      "state": {}
     },
     "b9844dfe70004f4b972e3fe1a9019167": {
      "model_module": "@jupyter-widgets/output",
      "model_module_version": "1.0.0",
      "model_name": "OutputModel",
      "state": {
       "layout": "IPY_MODEL_4e820d67b9da4ca6a23ec298bd50a711"
      }
     },
     "b9c74d08599b4fa78803aa181739510f": {
      "model_module": "@jupyter-widgets/base",
      "model_module_version": "1.2.0",
      "model_name": "LayoutModel",
      "state": {}
     },
     "bc1ecd9c8f774ce39811dcd9312ad883": {
      "model_module": "@jupyter-widgets/output",
      "model_module_version": "1.0.0",
      "model_name": "OutputModel",
      "state": {
       "layout": "IPY_MODEL_89d7c93690d54c0bbd6a8aff99a92372"
      }
     },
     "bda0a536c61f4a2da68eb1b1a3821c19": {
      "model_module": "@jupyter-widgets/base",
      "model_module_version": "1.2.0",
      "model_name": "LayoutModel",
      "state": {}
     },
     "be02e8590ee3488db6872f1a17db7132": {
      "model_module": "@jupyter-widgets/output",
      "model_module_version": "1.0.0",
      "model_name": "OutputModel",
      "state": {
       "layout": "IPY_MODEL_8dd2e2f7de574c709198585770cae2c7"
      }
     },
     "be16b09aa8374c3eb667d8984f68921b": {
      "model_module": "@jupyter-widgets/base",
      "model_module_version": "1.2.0",
      "model_name": "LayoutModel",
      "state": {}
     },
     "beceecf734fd40628a35f2fb530b8969": {
      "model_module": "@jupyter-widgets/base",
      "model_module_version": "1.2.0",
      "model_name": "LayoutModel",
      "state": {}
     },
     "c1b33bd079b646bbb198721e06926f9d": {
      "model_module": "@jupyter-widgets/base",
      "model_module_version": "1.2.0",
      "model_name": "LayoutModel",
      "state": {
       "width": "600px"
      }
     },
     "c4782f980016486c86dbc72bf01315f0": {
      "model_module": "@jupyter-widgets/base",
      "model_module_version": "1.2.0",
      "model_name": "LayoutModel",
      "state": {}
     },
     "c4da7169dc5e4c6380454b5734e5589b": {
      "model_module": "@jupyter-widgets/base",
      "model_module_version": "1.2.0",
      "model_name": "LayoutModel",
      "state": {
       "width": "600px"
      }
     },
     "c5193595899940a2ab03564c79b04698": {
      "model_module": "@jupyter-widgets/output",
      "model_module_version": "1.0.0",
      "model_name": "OutputModel",
      "state": {
       "layout": "IPY_MODEL_0d378bb8ff4d4db29db73a34800fcee0"
      }
     },
     "c64b1d9014194b7b9c0823af33883180": {
      "model_module": "@jupyter-widgets/controls",
      "model_module_version": "1.5.0",
      "model_name": "ButtonStyleModel",
      "state": {}
     },
     "c7c3a3fe4a724ff9970bd7e3717ef505": {
      "model_module": "@jupyter-widgets/output",
      "model_module_version": "1.0.0",
      "model_name": "OutputModel",
      "state": {
       "layout": "IPY_MODEL_b06e61556cbc460bb5092edd09f93d32"
      }
     },
     "c8f0baa5344c4f02a0b84ad7a8da7fdd": {
      "model_module": "@jupyter-widgets/controls",
      "model_module_version": "1.5.0",
      "model_name": "ButtonStyleModel",
      "state": {}
     },
     "cb9ada7473814871a77880ab05029e50": {
      "model_module": "@jupyter-widgets/base",
      "model_module_version": "1.2.0",
      "model_name": "LayoutModel",
      "state": {
       "width": "600px"
      }
     },
     "d1c3a035a2ca4ce38f7a4194e6bd22c0": {
      "model_module": "@jupyter-widgets/controls",
      "model_module_version": "1.5.0",
      "model_name": "ButtonModel",
      "state": {
       "button_style": "primary",
       "description": "Copy URL",
       "layout": "IPY_MODEL_8aec7722745144c7b4c453f4f170e7f2",
       "style": "IPY_MODEL_daec2109eb424b6ab4a0474e5c82a52d"
      }
     },
     "d56463912af64928bd6f612f560aabc2": {
      "model_module": "@jupyter-widgets/controls",
      "model_module_version": "1.5.0",
      "model_name": "DescriptionStyleModel",
      "state": {
       "description_width": "230px"
      }
     },
     "d7a6be2d6ddf41429049c8f29faec197": {
      "model_module": "@jupyter-widgets/controls",
      "model_module_version": "1.5.0",
      "model_name": "ButtonModel",
      "state": {
       "button_style": "primary",
       "description": "Copy URL",
       "layout": "IPY_MODEL_418de84d894647bcbb2aa0b42c2ab0c4",
       "style": "IPY_MODEL_984cce34698a40d78cbdb9289c9a7c3f"
      }
     },
     "d88bb7f7e52b4a43ab2d00464ff5fe06": {
      "model_module": "@jupyter-widgets/controls",
      "model_module_version": "1.5.0",
      "model_name": "ButtonStyleModel",
      "state": {}
     },
     "da75b77239a2474bb1d1368862822655": {
      "model_module": "@jupyter-widgets/base",
      "model_module_version": "1.2.0",
      "model_name": "LayoutModel",
      "state": {}
     },
     "daec2109eb424b6ab4a0474e5c82a52d": {
      "model_module": "@jupyter-widgets/controls",
      "model_module_version": "1.5.0",
      "model_name": "ButtonStyleModel",
      "state": {}
     },
     "db9fca1929314983b921ac13d831d955": {
      "model_module": "@jupyter-widgets/base",
      "model_module_version": "1.2.0",
      "model_name": "LayoutModel",
      "state": {}
     },
     "dc7c1472df8e4e27a85b69be2a0c2b93": {
      "model_module": "@jupyter-widgets/controls",
      "model_module_version": "1.5.0",
      "model_name": "ButtonStyleModel",
      "state": {}
     },
     "dd1c40f816db4b84b615191b1aee6f5a": {
      "model_module": "@jupyter-widgets/output",
      "model_module_version": "1.0.0",
      "model_name": "OutputModel",
      "state": {
       "layout": "IPY_MODEL_0201b7b3191340eda562a7498956fdbc"
      }
     },
     "df45e16c855446c59b8f00fabcc0dd5e": {
      "model_module": "@jupyter-widgets/base",
      "model_module_version": "1.2.0",
      "model_name": "LayoutModel",
      "state": {}
     },
     "e17a18b5264a43acb4296d5335d40d4a": {
      "model_module": "@jupyter-widgets/output",
      "model_module_version": "1.0.0",
      "model_name": "OutputModel",
      "state": {
       "layout": "IPY_MODEL_453393fc6be24c9f898897ea9c01637e"
      }
     },
     "e2ce3f836071453a8c35ea51080dc7db": {
      "model_module": "@jupyter-widgets/controls",
      "model_module_version": "1.5.0",
      "model_name": "ButtonModel",
      "state": {
       "button_style": "primary",
       "description": "Copy URL",
       "layout": "IPY_MODEL_0f197df6caf74720bf5189d3efd31b06",
       "style": "IPY_MODEL_c8f0baa5344c4f02a0b84ad7a8da7fdd"
      }
     },
     "e3ad634a6fe3428b8f5806ccd1495b04": {
      "model_module": "@jupyter-widgets/controls",
      "model_module_version": "1.5.0",
      "model_name": "ButtonStyleModel",
      "state": {}
     },
     "e4152220d97647dc867312d7aaa5ca33": {
      "model_module": "@jupyter-widgets/output",
      "model_module_version": "1.0.0",
      "model_name": "OutputModel",
      "state": {
       "layout": "IPY_MODEL_1537c47aba9943dbacb0feddcd72740e",
       "outputs": [
        {
         "name": "stdout",
         "output_type": "stream",
         "text": "✅ 👤 Successfully connected to your LinkedIn profile: https://www.linkedin.com/in/jeremyravenel.\n➡️ Starting LinkedIn pipeline\n✅ 🧠 LinkedIn pipeline successfully run.\n✅ 🔗 Dependencies successfully push in production.\n✅ ⏰ Pipeline scheduled to production. (cron: 30 8 * * 1-5)\n"
        }
       ]
      }
     },
     "e60754c6198c4dd48db6c05cb14eacbc": {
      "model_module": "@jupyter-widgets/controls",
      "model_module_version": "1.5.0",
      "model_name": "ButtonStyleModel",
      "state": {}
     },
     "e7af708ad73d473f845ee2babcd047a9": {
      "model_module": "@jupyter-widgets/base",
      "model_module_version": "1.2.0",
      "model_name": "LayoutModel",
      "state": {}
     },
     "e8a8771c3c5e4c7292c304b5a4f0b1cb": {
      "model_module": "@jupyter-widgets/base",
      "model_module_version": "1.2.0",
      "model_name": "LayoutModel",
      "state": {
       "width": "1296px"
      }
     },
     "e8ea1801963a4024a06ad1fc249c257a": {
      "model_module": "@jupyter-widgets/base",
      "model_module_version": "1.2.0",
      "model_name": "LayoutModel",
      "state": {}
     },
     "e917fc215190412c9f68b64ea60c902b": {
      "model_module": "@jupyter-widgets/controls",
      "model_module_version": "1.5.0",
      "model_name": "ButtonModel",
      "state": {
       "button_style": "primary",
       "description": "Copy URL",
       "layout": "IPY_MODEL_ebb0be2f3a2a4ef88bc94139367dbd8e",
       "style": "IPY_MODEL_38951c125c224abfb930de512e37965e"
      }
     },
     "e991ba61bac84155b503f3ae72eba069": {
      "model_module": "@jupyter-widgets/controls",
      "model_module_version": "1.5.0",
      "model_name": "ButtonStyleModel",
      "state": {}
     },
     "eb1441c3a9ac40c7af7af746b6c76e1f": {
      "model_module": "@jupyter-widgets/base",
      "model_module_version": "1.2.0",
      "model_name": "LayoutModel",
      "state": {}
     },
     "eb56aff3262e402abeaadea90cec51a4": {
      "model_module": "@jupyter-widgets/controls",
      "model_module_version": "1.5.0",
      "model_name": "DescriptionStyleModel",
      "state": {
       "description_width": "180px"
      }
     },
     "ebb0be2f3a2a4ef88bc94139367dbd8e": {
      "model_module": "@jupyter-widgets/base",
      "model_module_version": "1.2.0",
      "model_name": "LayoutModel",
      "state": {}
     },
     "ebb137d95a03476f94e3949f87585d7d": {
      "model_module": "@jupyter-widgets/base",
      "model_module_version": "1.2.0",
      "model_name": "LayoutModel",
      "state": {
       "width": "600px"
      }
     },
     "ec1750522d4c4104b813762cae01fbef": {
      "model_module": "@jupyter-widgets/output",
      "model_module_version": "1.0.0",
      "model_name": "OutputModel",
      "state": {
       "layout": "IPY_MODEL_e7af708ad73d473f845ee2babcd047a9"
      }
     },
     "ec2df73771b64911bc2aa456c5584ee7": {
      "model_module": "@jupyter-widgets/output",
      "model_module_version": "1.0.0",
      "model_name": "OutputModel",
      "state": {
       "layout": "IPY_MODEL_beceecf734fd40628a35f2fb530b8969"
      }
     },
     "ecf35551d80a44209a1536de25519f29": {
      "model_module": "@jupyter-widgets/output",
      "model_module_version": "1.0.0",
      "model_name": "OutputModel",
      "state": {
       "layout": "IPY_MODEL_27a649870a804e569375f2c25ec3ffb8"
      }
     },
     "ecf6249e3c19462c935d58e1de837899": {
      "model_module": "@jupyter-widgets/base",
      "model_module_version": "1.2.0",
      "model_name": "LayoutModel",
      "state": {}
     },
     "eeb9049f88414ccebe5c76a6cc550637": {
      "model_module": "@jupyter-widgets/controls",
      "model_module_version": "1.5.0",
      "model_name": "ButtonModel",
      "state": {
       "button_style": "primary",
       "description": "Copy URL",
       "layout": "IPY_MODEL_a00f5dea753242e5815876bd47e741c6",
       "style": "IPY_MODEL_45958d5e388b44549bc38594878dd264"
      }
     },
     "ef013b3ee7f94d37a4ece6dc98a201f2": {
      "model_module": "@jupyter-widgets/controls",
      "model_module_version": "1.5.0",
      "model_name": "ButtonStyleModel",
      "state": {}
     },
     "ef5a43d6258f4e7fa6c6006c1d93a492": {
      "model_module": "@jupyter-widgets/controls",
      "model_module_version": "1.5.0",
      "model_name": "ButtonStyleModel",
      "state": {}
     },
     "ef88c1114573495cb660537b6739e26f": {
      "model_module": "@jupyter-widgets/base",
      "model_module_version": "1.2.0",
      "model_name": "LayoutModel",
      "state": {}
     },
     "f42d84a90cad4e3389bdeb8a50398e83": {
      "model_module": "@jupyter-widgets/controls",
      "model_module_version": "1.5.0",
      "model_name": "ButtonModel",
      "state": {
       "button_style": "primary",
       "description": "Copy URL",
       "layout": "IPY_MODEL_72651bb2d5f94677964088f571223ffc",
       "style": "IPY_MODEL_97be79c7704843fba6e64baca17df686"
      }
     },
     "f7196d265a75484e8d2dfff97ef7c7bb": {
      "model_module": "@jupyter-widgets/base",
      "model_module_version": "1.2.0",
      "model_name": "LayoutModel",
      "state": {
       "width": "900px"
      }
     },
     "f8c5eade97ce4ab3b5f11e1451fa289a": {
      "model_module": "@jupyter-widgets/output",
      "model_module_version": "1.0.0",
      "model_name": "OutputModel",
      "state": {
       "layout": "IPY_MODEL_c4782f980016486c86dbc72bf01315f0"
      }
     },
     "fcc063066673429db7de092c617a453e": {
      "model_module": "@jupyter-widgets/controls",
      "model_module_version": "1.5.0",
      "model_name": "ButtonStyleModel",
      "state": {}
     },
     "fe33e1f722e548739476002ed6c0ac5c": {
      "model_module": "@jupyter-widgets/controls",
      "model_module_version": "1.5.0",
      "model_name": "ButtonModel",
      "state": {
       "button_style": "primary",
       "description": "Copy URL",
       "layout": "IPY_MODEL_db9fca1929314983b921ac13d831d955",
       "style": "IPY_MODEL_fcc063066673429db7de092c617a453e"
      }
     },
     "fed0730f66984da3ad00a37f253d816c": {
      "model_module": "@jupyter-widgets/base",
      "model_module_version": "1.2.0",
      "model_name": "LayoutModel",
      "state": {}
     }
    },
    "version_major": 2,
    "version_minor": 0
   }
  }
 },
 "nbformat": 4,
 "nbformat_minor": 5
}
