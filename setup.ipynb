{
 "cells": [
  {
   "cell_type": "markdown",
   "id": "injured-evolution",
   "metadata": {
    "papermill": {},
    "tags": []
   },
   "source": [
    "<img width=\"10%\" alt=\"Naas\" src=\"https://landen.imgix.net/jtci2pxwjczr/assets/5ice39g4.png?w=160\"/>"
   ]
  },
  {
   "cell_type": "markdown",
   "id": "substantial-decline",
   "metadata": {
    "papermill": {},
    "tags": []
   },
   "source": [
    "# Settings"
   ]
  },
  {
   "cell_type": "markdown",
   "id": "d288008a-adf4-47e8-acf5-55a0d2f9ae4e",
   "metadata": {},
   "source": [
    "<div class=\"alert alert-success\" role=\"info\">\n",
    "    <p><b>Note:</b> this data product framework is developed by Naas open source community. You can <a href=\"https://github.com/sponsors/jupyter-naas\" target=\"_blank\">sponsor us</a> if you find it usefull.\n",
    "</p>\n",
    "</div>"
   ]
  },
  {
   "cell_type": "markdown",
   "id": "dd3d4d6a-f15d-47f9-83ac-4208edf13bf9",
   "metadata": {
    "tags": []
   },
   "source": [
    "This notebook allows you to configure and run your data product on your Naas server. *Create an account on [Naas.ai](https://www.naas.ai/free-forever) if you don't already have one.*\n",
    "\n",
    "Please follow the step below to setup this data product."
   ]
  },
  {
   "cell_type": "markdown",
   "id": "80056fe3-734f-41fe-8709-6838316e2f89",
   "metadata": {},
   "source": [
    "## Input"
   ]
  },
  {
   "cell_type": "markdown",
   "id": "4df006e1-c200-4a11-9b37-473864001e67",
   "metadata": {},
   "source": [
    "### Install requirements\n",
    "Install the packages required to run the product."
   ]
  },
  {
   "cell_type": "code",
   "execution_count": null,
   "id": "d7e9b5d5-36ff-4ba2-bce8-253367a73949",
   "metadata": {
    "tags": []
   },
   "outputs": [],
   "source": [
    "!pip install --user --upgrade -r \"requirements.txt\""
   ]
  },
  {
   "cell_type": "markdown",
   "id": "d3bba624-afe5-484b-a5d3-0d4bf7dd019c",
   "metadata": {},
   "source": [
    "### Import libraries"
   ]
  },
  {
   "cell_type": "code",
   "execution_count": null,
   "id": "21d997a6-cfee-468d-8009-53657d604ae7",
   "metadata": {
    "tags": []
   },
   "outputs": [],
   "source": [
    "import naas\n",
    "import glob\n",
    "from naas_data_product import *"
   ]
  },
  {
   "cell_type": "markdown",
   "id": "7e4860ba-61b0-4dc7-b290-3ba30b328b6b",
   "metadata": {},
   "source": [
    "### Setup Variables\n",
    "- `pipeline_path`: pipeline path\n",
    "- `cron`: cron params for naas scheduler\n",
    "- `force_update`: Enforce update of all your secrets\n",
    "- `list_secrets_name`: List all secrets name used in your data product"
   ]
  },
  {
   "cell_type": "code",
   "execution_count": null,
   "id": "6ef71640-f789-4331-bba1-b5def9d6920c",
   "metadata": {
    "tags": []
   },
   "outputs": [],
   "source": [
    "pipeline_path = f\"{MODELS_PATH}/basic/__pipeline__.ipynb\"\n",
    "cron = \"0 8 * * *\"\n",
    "force_update = False\n",
    "list_secrets_name = []"
   ]
  },
  {
   "cell_type": "markdown",
   "id": "2ebb82c4-a40a-496e-a1fd-2c04e39455bd",
   "metadata": {},
   "source": [
    "## Model"
   ]
  },
  {
   "cell_type": "markdown",
   "id": "1a030436-1334-4773-8351-43d2d00b0660",
   "metadata": {},
   "source": [
    "### Setup Naas secrets"
   ]
  },
  {
   "cell_type": "code",
   "execution_count": null,
   "id": "b50b2693-4e72-47eb-ac41-8d2d49cdc038",
   "metadata": {
    "tags": []
   },
   "outputs": [],
   "source": [
    "setup_secrets_from_list(list_secrets_name, force_update)"
   ]
  },
  {
   "cell_type": "markdown",
   "id": "2822520d-34c5-4016-9dad-85ea5b2844c2",
   "metadata": {},
   "source": [
    "### Run pipeline"
   ]
  },
  {
   "cell_type": "code",
   "execution_count": null,
   "id": "3da49d84-b5fa-4a31-8c9b-177e91474460",
   "metadata": {},
   "outputs": [],
   "source": [
    "# %run $pipeline_path"
   ]
  },
  {
   "cell_type": "markdown",
   "id": "486ca79e-21af-47c8-ae9a-1c4d1d7cf310",
   "metadata": {},
   "source": [
    "## Output"
   ]
  },
  {
   "cell_type": "markdown",
   "id": "5bc270c0-60e5-479b-97fc-06e11feaadcb",
   "metadata": {},
   "source": [
    "### Send dependencies to production"
   ]
  },
  {
   "cell_type": "code",
   "execution_count": null,
   "id": "ea9dfb8a-675c-4fc2-973b-f1b6fcbb9f04",
   "metadata": {
    "tags": []
   },
   "outputs": [],
   "source": [
    "# utils = glob.glob(f\"{UTILS_PATH}/*.ipynb\", recursive=True)\n",
    "# models = glob.glob(f\"{MODELS_PATH}/basic/*.ipynb\", recursive=True)\n",
    "# dependencies = utils + models\n",
    "# for dependency in dependencies:\n",
    "#     naas.dependency.add(dependency)"
   ]
  },
  {
   "cell_type": "markdown",
   "id": "2373f75e-9c82-4a1d-a0df-3bc5cf3788e8",
   "metadata": {},
   "source": [
    "### Schedule notebook"
   ]
  },
  {
   "cell_type": "code",
   "execution_count": null,
   "id": "db6ac468-b33e-499f-a87b-16827d0a5beb",
   "metadata": {
    "tags": []
   },
   "outputs": [],
   "source": [
    "# naas.scheduler.add(pipeline_path, cron=cron)"
   ]
  }
 ],
 "metadata": {
  "kernelspec": {
   "display_name": "Python 3",
   "language": "python",
   "name": "python3"
  },
  "language_info": {
   "codemirror_mode": {
    "name": "ipython",
    "version": 3
   },
   "file_extension": ".py",
   "mimetype": "text/x-python",
   "name": "python",
   "nbconvert_exporter": "python",
   "pygments_lexer": "ipython3",
   "version": "3.9.6"
  },
  "naas": {
   "notebook_id": "77b7f93a-fb2a-483e-b98b-80735e426a64",
   "notebook_path": "Naas/Naas_Secret_demo.ipynb"
  },
  "papermill": {
   "default_parameters": {},
   "environment_variables": {},
   "parameters": {},
   "version": "2.3.3"
  },
  "toc-autonumbering": false,
  "widgets": {
   "application/vnd.jupyter.widget-state+json": {
    "state": {},
    "version_major": 2,
    "version_minor": 0
   }
  }
 },
 "nbformat": 4,
 "nbformat_minor": 5
}
